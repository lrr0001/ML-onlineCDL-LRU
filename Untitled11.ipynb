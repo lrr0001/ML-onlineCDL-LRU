{
 "cells": [
  {
   "cell_type": "code",
   "execution_count": 1,
   "metadata": {
    "collapsed": true
   },
   "outputs": [],
   "source": [
    "import tensorflow as tf"
   ]
  },
  {
   "cell_type": "code",
   "execution_count": 2,
   "metadata": {},
   "outputs": [],
   "source": [
    "x = tf.random.uniform(shape=(3,4,6,1),minval=0.,maxval=1.0)\n",
    "A = tf.random.uniform(shape=(1,4,2,6),minval=0.,maxval=1.0)\n",
    "\n",
    "Ax = tf.linalg.matmul(A,x)"
   ]
  },
  {
   "cell_type": "code",
   "execution_count": 5,
   "metadata": {},
   "outputs": [],
   "source": [
    "x = tf.random.uniform(shape=(3,4,6,1),minval=0.,maxval=1.0)\n",
    "A = tf.random.uniform(shape=(1,4,6,2),minval=0.,maxval=1.0)\n",
    "\n",
    "Ax = tf.linalg.matmul(A,x,adjoint_a=True)"
   ]
  },
  {
   "cell_type": "code",
   "execution_count": null,
   "metadata": {
    "collapsed": true
   },
   "outputs": [],
   "source": []
  }
 ],
 "metadata": {
  "kernelspec": {
   "display_name": "Python 3",
   "language": "python",
   "name": "python3"
  },
  "language_info": {
   "codemirror_mode": {
    "name": "ipython",
    "version": 3
   },
   "file_extension": ".py",
   "mimetype": "text/x-python",
   "name": "python",
   "nbconvert_exporter": "python",
   "pygments_lexer": "ipython3",
   "version": "3.6.1"
  }
 },
 "nbformat": 4,
 "nbformat_minor": 2
}
