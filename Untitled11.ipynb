{
 "cells": [
  {
   "cell_type": "code",
   "execution_count": 1,
   "metadata": {
    "collapsed": true
   },
   "outputs": [],
   "source": [
    "import tensorflow as tf\n",
    "import jpeg_related_functions as jrf\n",
    "import ML_ADMM_2d as mlcsc\n",
    "import pickle as pkl\n",
    "import numpy as np"
   ]
  },
  {
   "cell_type": "code",
   "execution_count": 2,
   "metadata": {
    "collapsed": true
   },
   "outputs": [],
   "source": [
    "batch_size = 1"
   ]
  },
  {
   "cell_type": "code",
   "execution_count": 3,
   "metadata": {},
   "outputs": [],
   "source": [
    "modelname = 'ML_LRA_'\n",
    "#databasename = 'BSDS500/'\n",
    "databasename = 'simpleTest/'\n",
    "experimentname = 'experiment1/'\n",
    "experimentpath = 'data/experiment/' + databasename + experimentname\n",
    "fid = open(experimentpath + 'problem_param.pckl','rb')\n",
    "problem_param = pkl.load(fid)\n",
    "fid.close()\n",
    "data_param = problem_param['data_param']\n",
    "targetSz = data_param['target_size']\n",
    "qY = data_param['qY']\n",
    "strides = problem_param['stride']\n",
    "fltrSz = problem_param['fltrSz']\n",
    "real_dtype = data_param['dtype']\n",
    "padding = data_param['padding']\n",
    "\n",
    "datapath = problem_param['datapath']\n",
    "trainfile = problem_param['trainfile']\n"
   ]
  },
  {
   "cell_type": "code",
   "execution_count": 4,
   "metadata": {},
   "outputs": [
    {
     "name": "stdout",
     "output_type": "stream",
     "text": [
      "((8, 7), (8, 7))\n"
     ]
    }
   ],
   "source": [
    "cropAndMerge = mlcsc.CropPadObject(targetSz,strides,[np.asarray(ks) for ks in fltrSz],real_dtype)\n",
    "paddingTuple = cropAndMerge.paddingTuple\n",
    "fftSz = cropAndMerge.get_fft_size(targetSz,strides)\n",
    "paddingDiff = ((padding[0][0] - paddingTuple[0][0],padding[0][1] - paddingTuple[0][1]),(padding[1][0] - paddingTuple[1][0],padding[1][1] - paddingTuple[1][1]))\n",
    "assert(paddingDiff[0][0] >= 0)\n",
    "assert(paddingDiff[0][1] >= 0)\n",
    "assert(paddingDiff[1][0] >= 0)\n",
    "assert(paddingDiff[1][1] >= 0)\n",
    "print(paddingDiff)\n",
    "\n",
    "#   ******** SETUP LOADING TFRECORD ********\n",
    "startr = paddingDiff[0][0]\n",
    "startc = paddingDiff[1][0]\n",
    "endr = targetSz[0] + padding[0][0] + padding[0][1] - paddingDiff[0][1]\n",
    "endc = targetSz[1] + padding[1][0] + padding[1][1] - paddingDiff[1][1]\n"
   ]
  },
  {
   "cell_type": "code",
   "execution_count": 5,
   "metadata": {},
   "outputs": [],
   "source": [
    "example_structure = {'highpass': tf.io.FixedLenFeature([], tf.string), 'lowpass': tf.io.FixedLenFeature([], tf.string), 'compressed': tf.io.FixedLenFeature([], tf.string),'raw': tf.io.FixedLenFeature([], tf.string)}\n",
    "\n",
    "def restore_double(x):\n",
    "    return tf.io.parse_tensor(x,real_dtype)\n",
    "\n",
    "class RGB2Y(tf.keras.layers.Layer):\n",
    "    def __init__(self,*args,**kwargs):\n",
    "        super().__init__(*args,**kwargs)\n",
    "        self.rgb2yuv = jrf.RGB2YUV(dtype = self.dtype)\n",
    "    def call(self,inputs):\n",
    "        s_YUV = self.rgb2yuv(inputs)\n",
    "        return s_YUV[slice(None),slice(None),slice(0,1)]\n",
    "\n",
    "rgb2y = RGB2Y(dtype=real_dtype)\n",
    "\n",
    "def _parse_image_function(example_proto):\n",
    "    x = tf.io.parse_single_example(example_proto, example_structure)\n",
    "    highpass = restore_double(x['highpass'])\n",
    "    lowpass = restore_double(x['lowpass'])\n",
    "    return ((highpass[slice(startr,endr),slice(startc,endc),slice(None)],lowpass[slice(startr,endr),slice(startc,endc),slice(None)],restore_double(x['compressed'])),rgb2y(restore_double(x['raw'])))\n",
    "\n",
    "raw_dataset = tf.data.TFRecordDataset([datapath + trainfile])\n",
    "dataset = raw_dataset.map(_parse_image_function)\n",
    "dataset_batch = dataset.batch(batch_size)\n",
    "#dataset_batch = dataset_batch.repeat()\n"
   ]
  },
  {
   "cell_type": "code",
   "execution_count": 6,
   "metadata": {},
   "outputs": [],
   "source": [
    "mse_patch = []\n",
    "ii = 0\n",
    "for x in dataset_batch:\n",
    "    highpass = x[0][0]\n",
    "    lowpass = x[0][1]\n",
    "    cmprssed = x[0][2]\n",
    "    raw = x[1]\n",
    "    mse_patch.append(tf.reduce_mean(cropAndMerge.crop(highpass)**2))\n",
    "    ii += 1"
   ]
  },
  {
   "cell_type": "code",
   "execution_count": 7,
   "metadata": {},
   "outputs": [
    {
     "name": "stdout",
     "output_type": "stream",
     "text": [
      "1008\n"
     ]
    }
   ],
   "source": [
    "print(ii)"
   ]
  },
  {
   "cell_type": "code",
   "execution_count": 8,
   "metadata": {
    "collapsed": true
   },
   "outputs": [],
   "source": [
    "hist,bin_edges = np.histogram(mse_patch)"
   ]
  },
  {
   "cell_type": "code",
   "execution_count": 9,
   "metadata": {},
   "outputs": [
    {
     "name": "stdout",
     "output_type": "stream",
     "text": [
      "[714 148  73  47  13   3   8   0   0   2]\n",
      "[5.68026060e-20 1.28122733e-03 2.56245467e-03 3.84368200e-03\n",
      " 5.12490934e-03 6.40613667e-03 7.68736401e-03 8.96859134e-03\n",
      " 1.02498187e-02 1.15310460e-02 1.28122733e-02]\n"
     ]
    }
   ],
   "source": [
    "print(hist)\n",
    "print(bin_edges)"
   ]
  },
  {
   "cell_type": "code",
   "execution_count": 14,
   "metadata": {},
   "outputs": [
    {
     "data": {
      "text/plain": [
       "648"
      ]
     },
     "execution_count": 14,
     "metadata": {},
     "output_type": "execute_result"
    }
   ],
   "source": [
    "sum(np.asarray(mse_patch) < 1e-3)"
   ]
  },
  {
   "cell_type": "code",
   "execution_count": null,
   "metadata": {
    "collapsed": true
   },
   "outputs": [],
   "source": []
  }
 ],
 "metadata": {
  "kernelspec": {
   "display_name": "Python 3",
   "language": "python",
   "name": "python3"
  },
  "language_info": {
   "codemirror_mode": {
    "name": "ipython",
    "version": 3
   },
   "file_extension": ".py",
   "mimetype": "text/x-python",
   "name": "python",
   "nbconvert_exporter": "python",
   "pygments_lexer": "ipython3",
   "version": "3.6.1"
  }
 },
 "nbformat": 4,
 "nbformat_minor": 2
}
