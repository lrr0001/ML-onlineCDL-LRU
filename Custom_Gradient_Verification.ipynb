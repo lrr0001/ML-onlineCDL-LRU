{
 "cells": [
  {
   "cell_type": "markdown",
   "metadata": {
    "collapsed": true
   },
   "source": [
    "This Python Notebook demonstrates a verification process for custom gradients, if a corresponding gradient can be accurately computed through automatic differentiation."
   ]
  },
  {
   "cell_type": "markdown",
   "metadata": {},
   "source": [
    "This next code cell defines the operation with the custom gradient. The sign of the gradient is flipped."
   ]
  },
  {
   "cell_type": "code",
   "execution_count": 1,
   "metadata": {
    "collapsed": true
   },
   "outputs": [],
   "source": [
    "import tensorflow as tf\n",
    "class FlipGrad(tf.keras.layers.Layer):\n",
    "    def __init__(self,*args,**kwargs):\n",
    "        @tf.custom_gradient\n",
    "        def flip_grad2(x):\n",
    "            def grad(dy):\n",
    "                return -dy\n",
    "            return tf.identity(x), grad\n",
    "        super().__init__(*args,**kwargs)\n",
    "        self.f = lambda x: flip_grad2(x)\n",
    "    def call(self,inputs):\n",
    "        return self.f(inputs)"
   ]
  },
  {
   "cell_type": "code",
   "execution_count": 2,
   "metadata": {},
   "outputs": [
    {
     "name": "stdout",
     "output_type": "stream",
     "text": [
      "Epoch 1/8\n",
      "100/100 [==============================] - 1s 7ms/step - loss: 6.0770 - val_loss: 0.5198\n",
      "Epoch 2/8\n",
      "100/100 [==============================] - 1s 9ms/step - loss: 0.1295 - val_loss: 0.0115\n",
      "Epoch 3/8\n",
      "100/100 [==============================] - 1s 11ms/step - loss: 0.0029 - val_loss: 2.6357e-04\n",
      "Epoch 4/8\n",
      "100/100 [==============================] - 1s 14ms/step - loss: 6.4605e-05 - val_loss: 6.1728e-06\n",
      "Epoch 5/8\n",
      "100/100 [==============================] - 2s 16ms/step - loss: 1.5006e-06 - val_loss: 1.4728e-07\n",
      "Epoch 6/8\n",
      "100/100 [==============================] - 2s 19ms/step - loss: 3.5436e-08 - val_loss: 3.5031e-09\n",
      "Epoch 7/8\n",
      "100/100 [==============================] - 2s 22ms/step - loss: 8.3153e-10 - val_loss: 8.1582e-11\n",
      "Epoch 8/8\n",
      "100/100 [==============================] - 2s 23ms/step - loss: 2.6998e-11 - val_loss: 1.2566e-11\n",
      "Epoch 1/16\n",
      "100/100 [==============================] - 4s 44ms/step - loss: 8.5552 - val_loss: 17.6910\n",
      "Epoch 2/16\n",
      "100/100 [==============================] - 5s 47ms/step - loss: 20.5574 - val_loss: 23.2099\n",
      "Epoch 3/16\n",
      "100/100 [==============================] - 5s 51ms/step - loss: 23.0332 - val_loss: 24.0832\n",
      "Epoch 4/16\n",
      "100/100 [==============================] - 5s 51ms/step - loss: 23.4109 - val_loss: 24.2138\n",
      "Epoch 5/16\n",
      "100/100 [==============================] - 6s 57ms/step - loss: 23.4669 - val_loss: 24.2333\n",
      "Epoch 6/16\n",
      "100/100 [==============================] - 6s 59ms/step - loss: 23.4752 - val_loss: 24.2362\n",
      "Epoch 7/16\n",
      "100/100 [==============================] - 6s 63ms/step - loss: 23.4764 - val_loss: 24.2367\n",
      "Epoch 8/16\n",
      "100/100 [==============================] - 6s 65ms/step - loss: 23.4766 - val_loss: 24.2367\n",
      "Epoch 9/16\n",
      "100/100 [==============================] - 7s 66ms/step - loss: 6.0770 - val_loss: 0.5198\n",
      "Epoch 10/16\n",
      "100/100 [==============================] - 7s 69ms/step - loss: 0.1295 - val_loss: 0.0115\n",
      "Epoch 11/16\n",
      "100/100 [==============================] - 7s 71ms/step - loss: 0.0029 - val_loss: 2.6360e-04\n",
      "Epoch 12/16\n",
      "100/100 [==============================] - 7s 74ms/step - loss: 6.4620e-05 - val_loss: 6.1781e-06\n",
      "Epoch 13/16\n",
      "100/100 [==============================] - 7s 75ms/step - loss: 1.5028e-06 - val_loss: 1.4794e-07\n",
      "Epoch 14/16\n",
      "100/100 [==============================] - 8s 77ms/step - loss: 3.5726e-08 - val_loss: 3.6080e-09\n",
      "Epoch 15/16\n",
      "100/100 [==============================] - 8s 80ms/step - loss: 8.7460e-10 - val_loss: 9.6585e-11\n",
      "Epoch 16/16\n",
      "100/100 [==============================] - 8s 82ms/step - loss: 3.7314e-11 - val_loss: 2.1124e-11\n",
      "tf.Tensor([[4.9613096e-09]], shape=(1, 1), dtype=float32)\n"
     ]
    }
   ],
   "source": [
    "import numpy as np\n",
    "import post_process_grad as ppg\n",
    "inputs = tf.keras.layers.Input(shape=(1,))\n",
    "output1 = tf.keras.layers.Dense(units=1,use_bias=True)(inputs)\n",
    "output2 = FlipGrad()(output1)\n",
    "model1 = ppg.Model_record_grad(inputs,output1)\n",
    "model1.compile(loss = tf.keras.losses.MSE,run_eagerly=True,optimizer=tf.keras.optimizers.SGD())\n",
    "x = np.random.randn(1000,1)\n",
    "y = -2*x + 4\n",
    "xval = np.random.randn(100,1)\n",
    "yval = -2*xval + 4\n",
    "model1.fit(x=x,y=y,batch_size=10,epochs=8,shuffle=False,validation_data = (xval,yval))\n",
    "\n",
    "gradients = []\n",
    "for grad in model1.gradient_record:\n",
    "    gradients.append([-elem for elem in grad])\n",
    "for grad in model1.gradient_record:\n",
    "    gradients.append(grad)\n",
    "\n",
    "model2 = ppg.Model_passenger(gradients,inputs,output2)\n",
    "model2.compile(loss = tf.keras.losses.MSE,run_eagerly=True,optimizer=tf.keras.optimizers.SGD())\n",
    "model2.fit(x=x,y=y,batch_size=10,epochs=16,shuffle=False,validation_data = (xval,yval))\n",
    "\n",
    "sumError = 0\n",
    "for grad1,grad2 in zip(model1.gradient_record,model2.gradient_record[800:]):\n",
    "    for gradval1,gradval2 in zip(grad1,grad2):\n",
    "        sumError += (gradval1 + gradval2)**2\n",
    "print(sumError)"
   ]
  },
  {
   "cell_type": "code",
   "execution_count": null,
   "metadata": {
    "collapsed": true
   },
   "outputs": [],
   "source": []
  }
 ],
 "metadata": {
  "kernelspec": {
   "display_name": "Python 3",
   "language": "python",
   "name": "python3"
  },
  "language_info": {
   "codemirror_mode": {
    "name": "ipython",
    "version": 3
   },
   "file_extension": ".py",
   "mimetype": "text/x-python",
   "name": "python",
   "nbconvert_exporter": "python",
   "pygments_lexer": "ipython3",
   "version": "3.6.1"
  }
 },
 "nbformat": 4,
 "nbformat_minor": 2
}
