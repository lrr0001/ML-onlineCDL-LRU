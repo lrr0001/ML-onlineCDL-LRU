{
 "cells": [
  {
   "cell_type": "code",
   "execution_count": 1,
   "metadata": {
    "collapsed": true
   },
   "outputs": [],
   "source": [
    "import PIL\n",
    "import PIL.Image"
   ]
  },
  {
   "cell_type": "code",
   "execution_count": 2,
   "metadata": {},
   "outputs": [],
   "source": [
    "im = PIL.Image.open('20190728_matthewdruincom_SLE_0033.jpg')"
   ]
  },
  {
   "cell_type": "code",
   "execution_count": 5,
   "metadata": {},
   "outputs": [
    {
     "data": {
      "text/plain": [
       "{0: array('B', [2, 2, 2, 3, 2, 3, 4, 2, 2, 4, 5, 4, 3, 4, 5, 6, 5, 5, 5, 5, 6, 8, 7, 7, 7, 7, 7, 8, 11, 9, 9, 9, 9, 9, 9, 11, 11, 11, 11, 11, 11, 11, 11, 12, 12, 12, 12, 12, 12, 12, 12, 12, 12, 12, 12, 12, 12, 12, 12, 12, 12, 12, 12, 12]),\n",
       " 1: array('B', [3, 3, 3, 7, 4, 7, 13, 7, 7, 13, 15, 13, 13, 13, 15, 15, 14, 14, 14, 14, 15, 15, 12, 12, 12, 12, 12, 15, 15, 12, 12, 12, 12, 12, 12, 15, 12, 12, 12, 12, 12, 12, 12, 12, 12, 12, 12, 12, 12, 12, 12, 12, 12, 12, 12, 12, 12, 12, 12, 12, 12, 12, 12, 12])}"
      ]
     },
     "execution_count": 5,
     "metadata": {},
     "output_type": "execute_result"
    }
   ],
   "source": [
    "im.quantization"
   ]
  },
  {
   "cell_type": "code",
   "execution_count": 3,
   "metadata": {
    "collapsed": true
   },
   "outputs": [],
   "source": [
    "import tensorflow as tf\n",
    "import numpy as np"
   ]
  },
  {
   "cell_type": "code",
   "execution_count": 4,
   "metadata": {},
   "outputs": [],
   "source": [
    "image = PIL.Image.open(\"20190728_matthewdruincom_SLE_0033.jpg\")\n",
    "s = np.asarray(image)\n",
    "s = s[slice(1006,1038),slice(1352,1384),slice(None)]\n",
    "croppedImage = PIL.Image.fromarray(s,'RGB')\n",
    "#croppedImage.show()\n",
    "#print(s.shape)"
   ]
  },
  {
   "cell_type": "code",
   "execution_count": 5,
   "metadata": {},
   "outputs": [],
   "source": [
    "image2 = tf.image.encode_jpeg(s,quality=25)\n",
    "tf.io.write_file('jpeg25.jpg',image2)\n",
    "im25 = PIL.Image.open('jpeg25.jpg')\n"
   ]
  },
  {
   "cell_type": "code",
   "execution_count": 15,
   "metadata": {},
   "outputs": [
    {
     "name": "stdout",
     "output_type": "stream",
     "text": [
      "[[ 32  22  24  28  24  20  32  28]\n",
      " [ 26  28  36  34  32  38  48  80]\n",
      " [ 52  48  44  44  48  98  70  74]\n",
      " [ 58  80 116 102 122 120 114 102]\n",
      " [112 110 128 144 184 156 128 136]\n",
      " [174 138 110 112 160 218 162 174]\n",
      " [190 196 206 208 206 124 154 226]\n",
      " [242 224 200 240 184 202 206 198]]\n",
      "[[ 34  36  36  48  42  48  94  52]\n",
      " [ 52  94 198 132 112 132 198 198]\n",
      " [198 198 198 198 198 198 198 198]\n",
      " [198 198 198 198 198 198 198 198]\n",
      " [198 198 198 198 198 198 198 198]\n",
      " [198 198 198 198 198 198 198 198]\n",
      " [198 198 198 198 198 198 198 198]\n",
      " [198 198 198 198 198 198 198 198]]\n"
     ]
    }
   ],
   "source": [
    "im25 = PIL.Image.open('jpeg25.jpg')\n",
    "#print(im25.quantization)\n",
    "a = np.reshape(range(64),(8,8))\n",
    "qY = np.asarray(im25.quantization[0]).astype('uint8')\n",
    "qUV = np.asarray(im25.quantization[1]).astype('uint8')\n",
    "\n",
    "a = np.concatenate([np.diagonal(a[::-1,:], k)[::(2*(k % 2)-1)] for k in range(1-a.shape[0], a.shape[0])])\n",
    "#qY = qY[a]\n",
    "#qUV = qUV[a]\n",
    "print(np.reshape(qY,(8,8)))\n",
    "print(np.reshape(qUV,(8,8)))"
   ]
  },
  {
   "cell_type": "code",
   "execution_count": 21,
   "metadata": {
    "collapsed": true
   },
   "outputs": [],
   "source": [
    "croppedImage.save('jpeg25.jpg',quality=1)"
   ]
  },
  {
   "cell_type": "code",
   "execution_count": null,
   "metadata": {
    "collapsed": true
   },
   "outputs": [],
   "source": []
  }
 ],
 "metadata": {
  "kernelspec": {
   "display_name": "Python 3",
   "language": "python",
   "name": "python3"
  },
  "language_info": {
   "codemirror_mode": {
    "name": "ipython",
    "version": 3
   },
   "file_extension": ".py",
   "mimetype": "text/x-python",
   "name": "python",
   "nbconvert_exporter": "python",
   "pygments_lexer": "ipython3",
   "version": "3.6.1"
  }
 },
 "nbformat": 4,
 "nbformat_minor": 2
}
