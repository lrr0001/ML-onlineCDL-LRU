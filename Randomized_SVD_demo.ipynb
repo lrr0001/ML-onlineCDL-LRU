{
 "cells": [
  {
   "cell_type": "code",
   "execution_count": 19,
   "metadata": {},
   "outputs": [],
   "source": [
    "import tensorflow as tf\n",
    "import sklearn_modified_complex_svd_tf as rsvd\n",
    "Uact = tf.random.normal(shape=(16,8))\n",
    "Uact = Uact/tf.math.sqrt(tf.math.reduce_sum(Uact**2,axis=0,keepdims=True))\n",
    "Sact = tf.linalg.diag([10*.1**ii for ii in range(8)])\n",
    "Vtact = tf.random.normal(shape=(8,32))\n",
    "Vtact = Vtact/tf.math.sqrt(tf.math.reduce_sum(Vtact**2,axis=1,keepdims=True))\n",
    "\n",
    "U,S,Vt = rsvd.randomized_svd(Uact @ Sact @ Vtact,n_components=2,n_oversamples=6,n_iter=1,power_iteration_normalizer='auto',transpose='auto')"
   ]
  },
  {
   "cell_type": "code",
   "execution_count": 20,
   "metadata": {},
   "outputs": [
    {
     "name": "stdout",
     "output_type": "stream",
     "text": [
      "tf.Tensor([10.061117    0.91256034], shape=(2,), dtype=float32)\n"
     ]
    }
   ],
   "source": [
    "print(S)"
   ]
  },
  {
   "cell_type": "code",
   "execution_count": null,
   "metadata": {
    "collapsed": true
   },
   "outputs": [],
   "source": []
  }
 ],
 "metadata": {
  "kernelspec": {
   "display_name": "Python 3",
   "language": "python",
   "name": "python3"
  },
  "language_info": {
   "codemirror_mode": {
    "name": "ipython",
    "version": 3
   },
   "file_extension": ".py",
   "mimetype": "text/x-python",
   "name": "python",
   "nbconvert_exporter": "python",
   "pygments_lexer": "ipython3",
   "version": "3.6.1"
  }
 },
 "nbformat": 4,
 "nbformat_minor": 2
}
