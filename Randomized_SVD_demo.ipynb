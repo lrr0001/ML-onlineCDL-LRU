{
 "cells": [
  {
   "cell_type": "markdown",
   "metadata": {},
   "source": [
    "This notebook demontrates the function randomized_svd in the matrix decompositions module functions as intended for real and complex inputs and under all three power-iteration-normalizer settings."
   ]
  },
  {
   "cell_type": "code",
   "execution_count": 1,
   "metadata": {
    "collapsed": true
   },
   "outputs": [],
   "source": [
    "import tensorflow as tf\n",
    "import matrix_decompositions_tf as md\n",
    "Uact = tf.random.normal(shape=(16,8))\n",
    "Uact = Uact/tf.math.sqrt(tf.math.reduce_sum(Uact**2,axis=0,keepdims=True))\n",
    "Sact = tf.linalg.diag([10*.1**ii for ii in range(8)])\n",
    "Vtact = tf.random.normal(shape=(8,32))\n",
    "Vtact = Vtact/tf.math.sqrt(tf.math.reduce_sum(Vtact**2,axis=1,keepdims=True))\n",
    "\n",
    "U,S,V = md.randomized_svd(Uact @ Sact @ Vtact,n_components=2,n_oversamples=6,n_iter=1,power_iteration_normalizer='auto',transpose='auto')\n"
   ]
  },
  {
   "cell_type": "code",
   "execution_count": 2,
   "metadata": {},
   "outputs": [
    {
     "name": "stdout",
     "output_type": "stream",
     "text": [
      "tf.Tensor([9.9827    0.9897159], shape=(2,), dtype=float32)\n"
     ]
    }
   ],
   "source": [
    "print(S)"
   ]
  },
  {
   "cell_type": "code",
   "execution_count": 3,
   "metadata": {},
   "outputs": [
    {
     "name": "stdout",
     "output_type": "stream",
     "text": [
      "tf.Tensor(0.0028198343, shape=(), dtype=float32)\n"
     ]
    }
   ],
   "source": [
    "print(tf.math.reduce_mean(tf.abs(Uact @ Sact @ Vtact - U @ tf.linalg.diag(S) @ tf.transpose(V,conjugate=True))))"
   ]
  },
  {
   "cell_type": "code",
   "execution_count": 1,
   "metadata": {
    "collapsed": true
   },
   "outputs": [],
   "source": [
    "import tensorflow as tf\n",
    "import matrix_decompositions_tf as md\n",
    "Uact = tf.complex(tf.random.normal(shape=(16,8)),tf.random.normal(shape=(16,8)))\n",
    "Uact = Uact/tf.math.sqrt(tf.math.reduce_sum(Uact*tf.math.conj(Uact),axis=0,keepdims=True))\n",
    "Sact = tf.complex(tf.linalg.diag([10*.1**ii for ii in range(8)]),0.)\n",
    "Vtact = tf.complex(tf.random.normal(shape=(8,32)),tf.random.normal(shape=(8,32)))\n",
    "Vtact = Vtact/tf.math.sqrt(tf.math.reduce_sum(Vtact*tf.math.conj(Vtact),axis=1,keepdims=True))\n",
    "\n",
    "U,S,V = md.randomized_svd(Uact @ Sact @ Vtact,n_components=2,n_oversamples=6,n_iter=1,power_iteration_normalizer='auto',transpose='auto')\n"
   ]
  },
  {
   "cell_type": "code",
   "execution_count": 2,
   "metadata": {},
   "outputs": [
    {
     "name": "stdout",
     "output_type": "stream",
     "text": [
      "tf.Tensor([10.026868   0.9299902], shape=(2,), dtype=float32)\n"
     ]
    }
   ],
   "source": [
    "print(S)"
   ]
  },
  {
   "cell_type": "code",
   "execution_count": 3,
   "metadata": {},
   "outputs": [
    {
     "name": "stdout",
     "output_type": "stream",
     "text": [
      "tf.Tensor(0.0030117724, shape=(), dtype=float32)\n"
     ]
    }
   ],
   "source": [
    "print(tf.math.reduce_mean(tf.abs(Uact @ Sact @ Vtact - U @ tf.complex(tf.linalg.diag(S),0.) @ tf.transpose(V,conjugate=True))))"
   ]
  },
  {
   "cell_type": "code",
   "execution_count": 1,
   "metadata": {
    "collapsed": true
   },
   "outputs": [],
   "source": [
    "import tensorflow as tf\n",
    "import matrix_decompositions_tf as md\n",
    "Uact = tf.random.normal(shape=(32,8))\n",
    "Uact = Uact/tf.math.sqrt(tf.math.reduce_sum(Uact**2,axis=0,keepdims=True))\n",
    "Sact = tf.linalg.diag([10*.1**ii for ii in range(8)])\n",
    "Vtact = tf.random.normal(shape=(8,16))\n",
    "Vtact = Vtact/tf.math.sqrt(tf.math.reduce_sum(Vtact**2,axis=1,keepdims=True))\n",
    "\n",
    "U,S,V = md.randomized_svd(Uact @ Sact @ Vtact,n_components=2,n_oversamples=6,n_iter=1,power_iteration_normalizer='auto',transpose='auto')\n"
   ]
  },
  {
   "cell_type": "code",
   "execution_count": 2,
   "metadata": {},
   "outputs": [
    {
     "name": "stdout",
     "output_type": "stream",
     "text": [
      "tf.Tensor([10.061655   0.8846772], shape=(2,), dtype=float32)\n"
     ]
    }
   ],
   "source": [
    "print(S)"
   ]
  },
  {
   "cell_type": "code",
   "execution_count": 3,
   "metadata": {},
   "outputs": [
    {
     "name": "stdout",
     "output_type": "stream",
     "text": [
      "tf.Tensor(0.0022821962, shape=(), dtype=float32)\n"
     ]
    }
   ],
   "source": [
    "print(tf.math.reduce_mean(tf.abs(Uact @ Sact @ Vtact - U @ tf.linalg.diag(S) @ tf.transpose(V,conjugate=True))))"
   ]
  },
  {
   "cell_type": "code",
   "execution_count": 1,
   "metadata": {
    "collapsed": true
   },
   "outputs": [],
   "source": [
    "import tensorflow as tf\n",
    "import matrix_decompositions_tf as md\n",
    "Uact = tf.complex(tf.random.normal(shape=(32,8)),tf.random.normal(shape=(32,8)))\n",
    "Uact = Uact/tf.math.sqrt(tf.math.reduce_sum(Uact*tf.math.conj(Uact),axis=0,keepdims=True))\n",
    "Sact = tf.complex(tf.linalg.diag([10*.1**ii for ii in range(8)]),0.)\n",
    "Vtact = tf.complex(tf.random.normal(shape=(8,16)),tf.random.normal(shape=(8,16)))\n",
    "Vtact = Vtact/tf.math.sqrt(tf.math.reduce_sum(Vtact*tf.math.conj(Vtact),axis=1,keepdims=True))\n",
    "\n",
    "U,S,V = md.randomized_svd(Uact @ Sact @ Vtact,n_components=2,n_oversamples=6,n_iter=1,power_iteration_normalizer='auto',transpose='auto')\n"
   ]
  },
  {
   "cell_type": "code",
   "execution_count": 2,
   "metadata": {},
   "outputs": [
    {
     "name": "stdout",
     "output_type": "stream",
     "text": [
      "tf.Tensor([9.987166  0.9770856], shape=(2,), dtype=float32)\n"
     ]
    }
   ],
   "source": [
    "print(S)"
   ]
  },
  {
   "cell_type": "code",
   "execution_count": 3,
   "metadata": {},
   "outputs": [
    {
     "name": "stdout",
     "output_type": "stream",
     "text": [
      "tf.Tensor(0.0035840534, shape=(), dtype=float32)\n"
     ]
    }
   ],
   "source": [
    "print(tf.math.reduce_mean(tf.abs(Uact @ Sact @ Vtact - U @ tf.complex(tf.linalg.diag(S),0.) @ tf.transpose(V,conjugate=True))))"
   ]
  },
  {
   "cell_type": "code",
   "execution_count": 1,
   "metadata": {
    "collapsed": true
   },
   "outputs": [],
   "source": [
    "import tensorflow as tf\n",
    "import matrix_decompositions_tf as md\n",
    "Uact = tf.complex(tf.random.normal(shape=(32,8),dtype=tf.float64),tf.random.normal(shape=(32,8),dtype=tf.float64))\n",
    "Uact = Uact/tf.math.sqrt(tf.math.reduce_sum(Uact*tf.math.conj(Uact),axis=0,keepdims=True))\n",
    "Sact = tf.cast(tf.linalg.diag([10*.1**ii for ii in range(8)]),dtype=tf.complex128)\n",
    "Vtact = tf.complex(tf.random.normal(shape=(8,16),dtype=tf.float64),tf.random.normal(shape=(8,16),dtype=tf.float64))\n",
    "Vtact = Vtact/tf.math.sqrt(tf.math.reduce_sum(Vtact*tf.math.conj(Vtact),axis=1,keepdims=True))\n",
    "\n",
    "U,S,V = md.randomized_svd(Uact @ Sact @ Vtact,n_components=2,n_oversamples=6,n_iter=1,power_iteration_normalizer='auto',transpose='auto')\n"
   ]
  },
  {
   "cell_type": "code",
   "execution_count": 2,
   "metadata": {},
   "outputs": [
    {
     "name": "stdout",
     "output_type": "stream",
     "text": [
      "tf.Tensor([10.00439178  0.98041097], shape=(2,), dtype=float64)\n"
     ]
    }
   ],
   "source": [
    "print(S)"
   ]
  },
  {
   "cell_type": "code",
   "execution_count": 3,
   "metadata": {},
   "outputs": [
    {
     "name": "stdout",
     "output_type": "stream",
     "text": [
      "tf.Tensor(0.0031955218421522423, shape=(), dtype=float64)\n"
     ]
    }
   ],
   "source": [
    "print(tf.math.reduce_mean(tf.abs(Uact @ Sact @ Vtact - U @ tf.cast(tf.linalg.diag(S),tf.complex128) @ tf.transpose(V,conjugate=True))))"
   ]
  },
  {
   "cell_type": "code",
   "execution_count": 1,
   "metadata": {
    "collapsed": true
   },
   "outputs": [],
   "source": [
    "import tensorflow as tf\n",
    "import matrix_decompositions_tf as md\n",
    "Uact = tf.complex(tf.random.normal(shape=(32,8),dtype=tf.float64),tf.random.normal(shape=(32,8),dtype=tf.float64))\n",
    "Uact = Uact/tf.math.sqrt(tf.math.reduce_sum(Uact*tf.math.conj(Uact),axis=0,keepdims=True))\n",
    "Sact = tf.cast(tf.linalg.diag([10*.1**ii for ii in range(8)]),dtype=tf.complex128)\n",
    "Vtact = tf.complex(tf.random.normal(shape=(8,16),dtype=tf.float64),tf.random.normal(shape=(8,16),dtype=tf.float64))\n",
    "Vtact = Vtact/tf.math.sqrt(tf.math.reduce_sum(Vtact*tf.math.conj(Vtact),axis=1,keepdims=True))\n",
    "\n",
    "U,S,V = md.randomized_svd(Uact @ Sact @ Vtact,n_components=2,n_oversamples=6,n_iter=1,power_iteration_normalizer='none',transpose='auto')\n"
   ]
  },
  {
   "cell_type": "code",
   "execution_count": 2,
   "metadata": {},
   "outputs": [
    {
     "name": "stdout",
     "output_type": "stream",
     "text": [
      "tf.Tensor([9.97833372 0.95050313], shape=(2,), dtype=float64)\n"
     ]
    }
   ],
   "source": [
    "print(S)"
   ]
  },
  {
   "cell_type": "code",
   "execution_count": 3,
   "metadata": {},
   "outputs": [
    {
     "name": "stdout",
     "output_type": "stream",
     "text": [
      "tf.Tensor(0.003068196376354348, shape=(), dtype=float64)\n"
     ]
    }
   ],
   "source": [
    "print(tf.math.reduce_mean(tf.abs(Uact @ Sact @ Vtact - U @ tf.cast(tf.linalg.diag(S),tf.complex128) @ tf.transpose(V,conjugate=True))))"
   ]
  },
  {
   "cell_type": "code",
   "execution_count": 1,
   "metadata": {
    "collapsed": true
   },
   "outputs": [],
   "source": [
    "import tensorflow as tf\n",
    "import matrix_decompositions_tf as md\n",
    "Uact = tf.complex(tf.random.normal(shape=(32,8),dtype=tf.float64),tf.random.normal(shape=(32,8),dtype=tf.float64))\n",
    "Uact = Uact/tf.math.sqrt(tf.math.reduce_sum(Uact*tf.math.conj(Uact),axis=0,keepdims=True))\n",
    "Sact = tf.cast(tf.linalg.diag([10*.1**ii for ii in range(8)]),dtype=tf.complex128)\n",
    "Vtact = tf.complex(tf.random.normal(shape=(8,16),dtype=tf.float64),tf.random.normal(shape=(8,16),dtype=tf.float64))\n",
    "Vtact = Vtact/tf.math.sqrt(tf.math.reduce_sum(Vtact*tf.math.conj(Vtact),axis=1,keepdims=True))\n",
    "\n",
    "U,S,V = md.randomized_svd(Uact @ Sact @ Vtact,n_components=2,n_oversamples=6,n_iter=1,power_iteration_normalizer='LU',transpose='auto')\n"
   ]
  },
  {
   "cell_type": "code",
   "execution_count": 2,
   "metadata": {},
   "outputs": [
    {
     "name": "stdout",
     "output_type": "stream",
     "text": [
      "tf.Tensor([10.02179125  0.88416489], shape=(2,), dtype=float64)\n"
     ]
    }
   ],
   "source": [
    "print(S)"
   ]
  },
  {
   "cell_type": "code",
   "execution_count": 3,
   "metadata": {},
   "outputs": [
    {
     "name": "stdout",
     "output_type": "stream",
     "text": [
      "tf.Tensor(0.003150608912667343, shape=(), dtype=float64)\n"
     ]
    }
   ],
   "source": [
    "print(tf.math.reduce_mean(tf.abs(Uact @ Sact @ Vtact - U @ tf.cast(tf.linalg.diag(S),tf.complex128) @ tf.transpose(V,conjugate=True))))"
   ]
  },
  {
   "cell_type": "code",
   "execution_count": 1,
   "metadata": {
    "collapsed": true
   },
   "outputs": [],
   "source": [
    "import tensorflow as tf\n",
    "import matrix_decompositions_tf as md\n",
    "Uact = tf.complex(tf.random.normal(shape=(32,8),dtype=tf.float64),tf.random.normal(shape=(32,8),dtype=tf.float64))\n",
    "Uact = Uact/tf.math.sqrt(tf.math.reduce_sum(Uact*tf.math.conj(Uact),axis=0,keepdims=True))\n",
    "Sact = tf.cast(tf.linalg.diag([10*.1**ii for ii in range(8)]),dtype=tf.complex128)\n",
    "Vtact = tf.complex(tf.random.normal(shape=(8,16),dtype=tf.float64),tf.random.normal(shape=(8,16),dtype=tf.float64))\n",
    "Vtact = Vtact/tf.math.sqrt(tf.math.reduce_sum(Vtact*tf.math.conj(Vtact),axis=1,keepdims=True))\n",
    "\n",
    "U,S,V = md.randomized_svd(Uact @ Sact @ Vtact,n_components=2,n_oversamples=6,n_iter=1,power_iteration_normalizer='QR',transpose='auto')\n"
   ]
  },
  {
   "cell_type": "code",
   "execution_count": 2,
   "metadata": {},
   "outputs": [
    {
     "name": "stdout",
     "output_type": "stream",
     "text": [
      "tf.Tensor([10.0518619   0.93597391], shape=(2,), dtype=float64)\n"
     ]
    }
   ],
   "source": [
    "print(S)"
   ]
  },
  {
   "cell_type": "code",
   "execution_count": 3,
   "metadata": {},
   "outputs": [
    {
     "name": "stdout",
     "output_type": "stream",
     "text": [
      "tf.Tensor(0.0033327637192265276, shape=(), dtype=float64)\n"
     ]
    }
   ],
   "source": [
    "print(tf.math.reduce_mean(tf.abs(Uact @ Sact @ Vtact - U @ tf.cast(tf.linalg.diag(S),tf.complex128) @ tf.transpose(V,conjugate=True))))"
   ]
  },
  {
   "cell_type": "code",
   "execution_count": 1,
   "metadata": {
    "collapsed": true
   },
   "outputs": [],
   "source": [
    "import tensorflow as tf\n",
    "import matrix_decompositions_tf as md\n",
    "Uact = tf.complex(tf.random.normal(shape=(32,8),dtype=tf.float64),tf.random.normal(shape=(32,8),dtype=tf.float64))\n",
    "Uact = Uact/tf.math.sqrt(tf.math.reduce_sum(Uact*tf.math.conj(Uact),axis=0,keepdims=True))\n",
    "Sact = tf.cast(tf.linalg.diag([10*.1**ii for ii in range(8)]),dtype=tf.complex128)\n",
    "Vtact = tf.complex(tf.random.normal(shape=(8,16),dtype=tf.float64),tf.random.normal(shape=(8,16),dtype=tf.float64))\n",
    "Vtact = Vtact/tf.math.sqrt(tf.math.reduce_sum(Vtact*tf.math.conj(Vtact),axis=1,keepdims=True))\n",
    "\n",
    "U,V,approx = md.get_lowrank_approx(Uact @ Sact @ Vtact,n_components=2,n_oversamples=6,n_iter=1,powerIterationNormalizer='QR',transpose='auto')\n"
   ]
  },
  {
   "cell_type": "code",
   "execution_count": 2,
   "metadata": {},
   "outputs": [
    {
     "name": "stdout",
     "output_type": "stream",
     "text": [
      "tf.Tensor(0.0032713302716452066, shape=(), dtype=float64)\n"
     ]
    }
   ],
   "source": [
    "print(tf.math.reduce_mean(tf.abs(Uact @ Sact @ Vtact - approx)))"
   ]
  },
  {
   "cell_type": "code",
   "execution_count": 1,
   "metadata": {},
   "outputs": [],
   "source": [
    "import tensorflow as tf\n",
    "import matrix_decompositions_tf as md\n",
    "Uact = tf.complex(tf.random.normal(shape=(1,1,1,16,8),dtype=tf.float64),tf.random.normal(shape=(1,1,1,16,8),dtype=tf.float64))\n",
    "Uact = Uact/tf.math.sqrt(tf.math.reduce_sum(Uact*tf.math.conj(Uact),axis=3,keepdims=True))\n",
    "Sact = tf.reshape(tf.cast(tf.linalg.diag([10*.1**ii for ii in range(8)]),dtype=tf.complex128),(1,1,1,8,8))\n",
    "Vtact = tf.complex(tf.random.normal(shape=(2,3,4,8,32),dtype=tf.float64),tf.random.normal(shape=(2,3,4,8,32),dtype=tf.float64))\n",
    "Vtact = Vtact/tf.math.sqrt(tf.math.reduce_sum(Vtact*tf.math.conj(Vtact),axis=4,keepdims=True))\n",
    "\n",
    "U,V,approx = md.stack_svd(Uact @ Sact @ Vtact,n_components=2,n_oversamples=6,n_iter=1,powerIterationNormalizer='QR',transpose='auto')\n"
   ]
  },
  {
   "cell_type": "code",
   "execution_count": 2,
   "metadata": {},
   "outputs": [
    {
     "name": "stdout",
     "output_type": "stream",
     "text": [
      "tf.Tensor(0.003063818445950334, shape=(), dtype=float64)\n"
     ]
    }
   ],
   "source": [
    "print(tf.math.reduce_mean(tf.abs(Uact @ Sact @ Vtact - approx)))"
   ]
  },
  {
   "cell_type": "code",
   "execution_count": 3,
   "metadata": {},
   "outputs": [
    {
     "name": "stdout",
     "output_type": "stream",
     "text": [
      "tf.Tensor(0.0, shape=(), dtype=float64)\n"
     ]
    }
   ],
   "source": [
    "print(tf.math.reduce_mean(tf.abs(approx - tf.linalg.matmul(U,V,adjoint_b=True))))"
   ]
  },
  {
   "cell_type": "code",
   "execution_count": null,
   "metadata": {
    "collapsed": true
   },
   "outputs": [],
   "source": []
  }
 ],
 "metadata": {
  "kernelspec": {
   "display_name": "Python 3",
   "language": "python",
   "name": "python3"
  },
  "language_info": {
   "codemirror_mode": {
    "name": "ipython",
    "version": 3
   },
   "file_extension": ".py",
   "mimetype": "text/x-python",
   "name": "python",
   "nbconvert_exporter": "python",
   "pygments_lexer": "ipython3",
   "version": "3.6.1"
  }
 },
 "nbformat": 4,
 "nbformat_minor": 2
}
