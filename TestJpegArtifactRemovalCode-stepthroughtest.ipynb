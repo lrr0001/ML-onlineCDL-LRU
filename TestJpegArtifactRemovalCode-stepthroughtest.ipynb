{
 "cells": [
  {
   "cell_type": "code",
   "execution_count": 1,
   "metadata": {},
   "outputs": [],
   "source": [
    "import tensorflow as tf\n",
    "import jpeg_related_functions as jrf\n",
    "import multilayerCSC_ADMM as mlcsc\n",
    "import numpy as np\n",
    "import pickle as pkl\n",
    "import datetime"
   ]
  },
  {
   "cell_type": "code",
   "execution_count": 2,
   "metadata": {
    "collapsed": true
   },
   "outputs": [],
   "source": [
    "rho = 1.\n",
    "alpha_init = 1.\n",
    "mu_init = 1.\n",
    "b_init = 0.\n",
    "lraParam = {'n_components': 3}\n",
    "cmplxdtype = tf.complex128 # This should really be elsewhere.\n",
    "batch_size = 8\n",
    "noe_per_save = 1\n",
    "num_of_saves = 2\n",
    "step_size = 0.1"
   ]
  },
  {
   "cell_type": "code",
   "execution_count": 3,
   "metadata": {
    "collapsed": true
   },
   "outputs": [],
   "source": [
    "experimentpath = 'data/experiment/simpleTest/experiment1/'\n",
    "def checkpointfilename(ii):\n",
    "    return 'checkpoint_epoch' + str(ii) + '.ckpt'\n",
    "modelfilename = 'initial_model.ckpt'\n",
    "fid = open(experimentpath + 'problem_param.pckl','rb')\n",
    "problem_param = pkl.load(fid)\n",
    "fid.close()\n",
    "data_param = problem_param['data_param']\n",
    "targetSz = data_param['target_size']\n",
    "qY = data_param['qY']\n",
    "qUV = data_param['qUV']\n",
    "strides = problem_param['stride']\n",
    "fltrSz = problem_param['fltrSz']\n",
    "real_dtype = data_param['dtype']\n",
    "noi = problem_param['noi']\n",
    "noL = problem_param['noL']\n",
    "noc = problem_param['noc']\n",
    "datapath = problem_param['datapath']\n",
    "trainfile = problem_param['trainfile']\n",
    "padding = data_param['padding']\n"
   ]
  },
  {
   "cell_type": "code",
   "execution_count": 4,
   "metadata": {},
   "outputs": [
    {
     "name": "stdout",
     "output_type": "stream",
     "text": [
      "((8, 7), (8, 7))\n"
     ]
    }
   ],
   "source": [
    "cropAndMerge = mlcsc.CropPadObject(targetSz,strides,[np.asarray(ks) for ks in fltrSz],real_dtype)\n",
    "paddingTuple = cropAndMerge.paddingTuple\n",
    "fftSz = cropAndMerge.get_fft_size(targetSz,strides)\n",
    "paddingDiff = ((padding[0][0] - paddingTuple[0][0],padding[0][1] - paddingTuple[0][1]),(padding[1][0] - paddingTuple[1][0],padding[1][1] - paddingTuple[1][1]))\n",
    "assert(paddingDiff[0][0] >= 0)\n",
    "assert(paddingDiff[0][1] >= 0)\n",
    "assert(paddingDiff[1][0] >= 0)\n",
    "assert(paddingDiff[1][1] >= 0)\n",
    "print(paddingDiff)\n"
   ]
  },
  {
   "cell_type": "code",
   "execution_count": 5,
   "metadata": {
    "collapsed": true
   },
   "outputs": [],
   "source": [
    "startr = paddingDiff[0][0]\n",
    "startc = paddingDiff[1][0]\n",
    "endr = targetSz[0] + padding[0][0] + padding[0][1] - paddingDiff[0][1]\n",
    "endc = targetSz[1] + padding[1][0] + padding[1][1] - paddingDiff[1][1]\n",
    "example_structure = {'highpass': tf.io.FixedLenFeature([], tf.string), 'lowpass': tf.io.FixedLenFeature([], tf.string), 'compressed': tf.io.FixedLenFeature([], tf.string),'raw': tf.io.FixedLenFeature([], tf.string)}\n",
    "\n",
    "def restore_double(x):\n",
    "    return tf.io.parse_tensor(x,real_dtype)\n",
    "\n",
    "def _parse_image_function(example_proto):\n",
    "    x = tf.io.parse_single_example(example_proto, example_structure)\n",
    "    highpass = restore_double(x['highpass'])\n",
    "    lowpass = restore_double(x['lowpass'])\n",
    "    return ((highpass[slice(startr,endr),slice(startc,endc),slice(None)],lowpass[slice(startr,endr),slice(startc,endc),slice(None)],restore_double(x['compressed'])),restore_double(x['raw']))\n",
    "\n",
    "raw_dataset = tf.data.TFRecordDataset([datapath + trainfile])\n",
    "dataset = raw_dataset.map(_parse_image_function)\n",
    "dataset_batch = dataset.batch(batch_size)\n"
   ]
  },
  {
   "cell_type": "code",
   "execution_count": 6,
   "metadata": {},
   "outputs": [
    {
     "name": "stdout",
     "output_type": "stream",
     "text": [
      "(8, 59, 59, 3)\n",
      "(8, 59, 59, 3)\n",
      "(8, 48, 48, 3)\n",
      "(8, 48, 48, 3)\n",
      "tf.Tensor(2.7755575615628914e-17, shape=(), dtype=float64)\n",
      "(8, 48, 48, 3)\n",
      "(8, 48, 48, 3)\n",
      "(8, 48, 48, 3)\n",
      "tf.Tensor(2.7755575615628914e-17, shape=(), dtype=float64)\n",
      "tf.Tensor(1.125205629055991, shape=(), dtype=float64)\n",
      "tf.Tensor(-0.06353589012926698, shape=(), dtype=float64)\n"
     ]
    }
   ],
   "source": [
    "for (x,y) in dataset_batch:\n",
    "    print(x[0].shape)\n",
    "    print(x[1].shape)\n",
    "    print(x[2].shape)\n",
    "    print(y.shape)\n",
    "    print(tf.reduce_max(tf.abs(cropAndMerge.crop(x[0]) + cropAndMerge.crop(x[1]) - x[2])))\n",
    "    croppedHighpass = x[0][slice(None),slice(paddingTuple[0][0], paddingTuple[0][0] + targetSz[0]),slice(paddingTuple[1][0],paddingTuple[1][0] + targetSz[1]),slice(None)]\n",
    "    croppedLowpass = x[1][slice(None),slice(paddingTuple[0][0],paddingTuple[0][0] + targetSz[0]),slice(paddingTuple[1][0],paddingTuple[1][0] + targetSz[1]),slice(None)]\n",
    "    print(croppedHighpass.shape)\n",
    "    print(croppedLowpass.shape)\n",
    "    print(x[2].shape)\n",
    "    print(tf.reduce_max(tf.abs(croppedHighpass + croppedLowpass - x[2])))\n",
    "    print(tf.reduce_max(x[2]))\n",
    "    print(tf.reduce_min(x[2]))\n",
    "    break"
   ]
  },
  {
   "cell_type": "code",
   "execution_count": 7,
   "metadata": {
    "collapsed": true
   },
   "outputs": [],
   "source": [
    "CSC = mlcsc.MultiLayerCSC(rho,alpha_init,mu_init,b_init,qY,qUV,cropAndMerge,fftSz,strides,problem_param['D'],lraParam,noi,noL,cmplxdtype,name='CSC')"
   ]
  },
  {
   "cell_type": "code",
   "execution_count": 8,
   "metadata": {},
   "outputs": [],
   "source": [
    "highpassShape = (targetSz[0] + paddingTuple[0][0] + paddingTuple[0][1],targetSz[1] + paddingTuple[1][0] + paddingTuple[1][1],noc)\n",
    "highpass = tf.keras.Input(shape=highpassShape,dtype=real_dtype)\n",
    "lowpass = tf.keras.Input(shape = highpassShape,dtype = real_dtype)\n",
    "compressed = tf.keras.Input(shape = (targetSz[0],targetSz[1],noc),dtype= real_dtype)\n",
    "inputs = (highpass,lowpass,compressed)\n",
    "\n",
    "reconstruction,itstats = CSC(inputs)\n",
    "import post_process_grad as ppg\n",
    "model = ppg.Model_PostProcess(inputs,reconstruction)"
   ]
  },
  {
   "cell_type": "code",
   "execution_count": 9,
   "metadata": {
    "collapsed": true
   },
   "outputs": [],
   "source": [
    "for (x,y) in dataset_batch:\n",
    "    x_input = x\n",
    "    x_output = y\n",
    "    break\n",
    "\n"
   ]
  },
  {
   "cell_type": "code",
   "execution_count": 10,
   "metadata": {},
   "outputs": [
    {
     "name": "stdout",
     "output_type": "stream",
     "text": [
      "tf.Tensor(2.2779588907044452, shape=(), dtype=float64)\n",
      "tf.Tensor(-1.175358769328457, shape=(), dtype=float64)\n",
      "tf.Tensor(0.4275127709742915, shape=(), dtype=float64)\n"
     ]
    }
   ],
   "source": [
    "recon,itstats = CSC(x_input)\n",
    "print(tf.reduce_max(recon))\n",
    "print(tf.reduce_min(recon))\n",
    "print(tf.reduce_mean(recon))"
   ]
  },
  {
   "cell_type": "code",
   "execution_count": 11,
   "metadata": {
    "collapsed": true
   },
   "outputs": [],
   "source": [
    "prevs,improvements,errs = itstats\n",
    "x_improvements,y_improvements = improvements\n",
    "v_improvements,vplusz_improvements = y_improvements\n",
    "recon_err,cmprssd_recon_err,primal_err,cnstrnt_err = errs"
   ]
  },
  {
   "cell_type": "code",
   "execution_count": 12,
   "metadata": {},
   "outputs": [
    {
     "data": {
      "text/plain": [
       "<matplotlib.text.Text at 0x7f44af452c50>"
      ]
     },
     "execution_count": 12,
     "metadata": {},
     "output_type": "execute_result"
    },
    {
     "data": {
      "image/png": "[encoded data removed]",
      "text/plain": [
       "<matplotlib.figure.Figure at 0x7f44af722320>"
      ]
     },
     "metadata": {},
     "output_type": "display_data"
    }
   ],
   "source": [
    "from matplotlib import pyplot as plot\n",
    "%matplotlib inline\n",
    "fig = plot.figure()\n",
    "ax = fig.add_axes([0,0,1,1])\n",
    "x_incrments = np.arange(0,len(x_improvements))\n",
    "y_plot = np.asarray(x_improvements)\n",
    "ax.plot(x_incrments,y_plot)\n",
    "ax.set_title('x improvements')"
   ]
  },
  {
   "cell_type": "code",
   "execution_count": 13,
   "metadata": {},
   "outputs": [
    {
     "data": {
      "text/plain": [
       "<matplotlib.text.Text at 0x7f44aab2dc88>"
      ]
     },
     "execution_count": 13,
     "metadata": {},
     "output_type": "execute_result"
    },
    {
     "data": {
      "image/png": "[encoded data removed]",
      "text/plain": [
       "<matplotlib.figure.Figure at 0x7f44b106c128>"
      ]
     },
     "metadata": {},
     "output_type": "display_data"
    }
   ],
   "source": [
    "fig2 = plot.figure()\n",
    "ax2 = fig2.add_axes([0,0,1,1])\n",
    "x_incrments = np.arange(0,len(vplusz_improvements))\n",
    "y_plot = np.asarray(vplusz_improvements)\n",
    "ax2.plot(x_incrments,y_plot)\n",
    "ax2.set_title('y improvements')"
   ]
  },
  {
   "cell_type": "code",
   "execution_count": 14,
   "metadata": {},
   "outputs": [
    {
     "data": {
      "text/plain": [
       "<matplotlib.text.Text at 0x7f44aaacbba8>"
      ]
     },
     "execution_count": 14,
     "metadata": {},
     "output_type": "execute_result"
    },
    {
     "data": {
      "image/png": "[encoded data removed]",
      "text/plain": [
       "<matplotlib.figure.Figure at 0x7f44aaadf7f0>"
      ]
     },
     "metadata": {},
     "output_type": "display_data"
    }
   ],
   "source": [
    "fig3 = plot.figure()\n",
    "ax3 = fig3.add_axes([0,0,1,1])\n",
    "x_incrments = np.arange(0,len(v_improvements))\n",
    "y_plot = np.asarray(v_improvements)\n",
    "ax3.plot(x_incrments,y_plot)\n",
    "ax3.set_title('v improvements')"
   ]
  },
  {
   "cell_type": "code",
   "execution_count": 15,
   "metadata": {},
   "outputs": [
    {
     "data": {
      "text/plain": [
       "<matplotlib.text.Text at 0x7f44aa9e8be0>"
      ]
     },
     "execution_count": 15,
     "metadata": {},
     "output_type": "execute_result"
    },
    {
     "data": {
      "image/png": "[encoded data removed]",
      "text/plain": [
       "<matplotlib.figure.Figure at 0x7f44aaa39630>"
      ]
     },
     "metadata": {},
     "output_type": "display_data"
    }
   ],
   "source": [
    "fig4 = plot.figure()\n",
    "ax4 = fig4.add_axes([0,0,1,1])\n",
    "x_incrments = np.arange(0,len(recon_err))\n",
    "y_plot = np.asarray(recon_err)\n",
    "ax4.plot(x_incrments,y_plot)\n",
    "ax4.set_title('Objective Reconstruction Error')"
   ]
  },
  {
   "cell_type": "code",
   "execution_count": 16,
   "metadata": {},
   "outputs": [
    {
     "data": {
      "text/plain": [
       "<matplotlib.text.Text at 0x7f44aa976518>"
      ]
     },
     "execution_count": 16,
     "metadata": {},
     "output_type": "execute_result"
    },
    {
     "data": {
      "image/png": "[encoded data removed]",
      "text/plain": [
       "<matplotlib.figure.Figure at 0x7f44aa9cceb8>"
      ]
     },
     "metadata": {},
     "output_type": "display_data"
    }
   ],
   "source": [
    "fig5 = plot.figure()\n",
    "ax5 = fig5.add_axes([0,0,1,1])\n",
    "x_incrments = np.arange(0,len(cmprssd_recon_err))\n",
    "y_plot = np.asarray(cmprssd_recon_err)\n",
    "ax5.plot(x_incrments,y_plot)\n",
    "ax5.set_title('Compressed Image Reconstruction Error')"
   ]
  },
  {
   "cell_type": "code",
   "execution_count": 17,
   "metadata": {},
   "outputs": [
    {
     "data": {
      "text/plain": [
       "<matplotlib.text.Text at 0x7f44aa9089e8>"
      ]
     },
     "execution_count": 17,
     "metadata": {},
     "output_type": "execute_result"
    },
    {
     "data": {
      "image/png": "[encoded data removed]",
      "text/plain": [
       "<matplotlib.figure.Figure at 0x7f44aa955da0>"
      ]
     },
     "metadata": {},
     "output_type": "display_data"
    }
   ],
   "source": [
    "fig6 = plot.figure()\n",
    "ax6 = fig6.add_axes([0,0,1,1])\n",
    "x_incrments = np.arange(0,len(primal_err))\n",
    "y_plot = np.asarray(primal_err)\n",
    "ax6.plot(x_incrments,y_plot)\n",
    "ax6.set_title('Primal Error')"
   ]
  },
  {
   "cell_type": "code",
   "execution_count": 18,
   "metadata": {},
   "outputs": [
    {
     "data": {
      "text/plain": [
       "<matplotlib.text.Text at 0x7f44aa81fda0>"
      ]
     },
     "execution_count": 18,
     "metadata": {},
     "output_type": "execute_result"
    },
    {
     "data": {
      "image/png": "[encoded data removed]",
      "text/plain": [
       "<matplotlib.figure.Figure at 0x7f44aa867278>"
      ]
     },
     "metadata": {},
     "output_type": "display_data"
    }
   ],
   "source": [
    "fig7 = plot.figure()\n",
    "ax7 = fig7.add_axes([0,0,1,1])\n",
    "x_incrments = np.arange(0,len(cnstrnt_err))\n",
    "y_plot = np.asarray(cnstrnt_err)\n",
    "ax7.plot(x_incrments,y_plot)\n",
    "ax7.set_title('Constraint Error')"
   ]
  },
  {
   "cell_type": "code",
   "execution_count": 83,
   "metadata": {},
   "outputs": [
    {
     "name": "stdout",
     "output_type": "stream",
     "text": [
      "tf.Tensor(0.44676498581946467, shape=(), dtype=float64)\n",
      "tf.Tensor(-0.43713007100573065, shape=(), dtype=float64)\n",
      "tf.Tensor(0.9576848929109221, shape=(), dtype=float64)\n",
      "tf.Tensor(-0.003449462903720394, shape=(), dtype=float64)\n",
      "tf.Tensor(1.125205629055991, shape=(), dtype=float64)\n",
      "tf.Tensor(-0.06353589012926698, shape=(), dtype=float64)\n"
     ]
    }
   ],
   "source": [
    "print(tf.reduce_max(x_input[0]))\n",
    "print(tf.reduce_min(x_input[0]))\n",
    "print(tf.reduce_max(x_input[1]))\n",
    "print(tf.reduce_min(x_input[1]))\n",
    "print(tf.reduce_max(x_input[2]))\n",
    "print(tf.reduce_min(x_input[2]))"
   ]
  },
  {
   "cell_type": "code",
   "execution_count": null,
   "metadata": {
    "collapsed": true
   },
   "outputs": [],
   "source": []
  },
  {
   "cell_type": "code",
   "execution_count": 10,
   "metadata": {
    "collapsed": true
   },
   "outputs": [],
   "source": [
    "s = CSC.preprocess(x_input)\n",
    "y,u,By,negC,itstats = CSC.init_vars(s)\n"
   ]
  },
  {
   "cell_type": "code",
   "execution_count": 29,
   "metadata": {
    "collapsed": true
   },
   "outputs": [],
   "source": [
    "y,u,By,itstats = CSC.solvestep(y,u,By,negC,itstats)"
   ]
  },
  {
   "cell_type": "code",
   "execution_count": 30,
   "metadata": {},
   "outputs": [
    {
     "name": "stdout",
     "output_type": "stream",
     "text": [
      "tf.Tensor(1.7192615527320552, shape=(), dtype=float64)\n",
      "tf.Tensor(-1.310095666279717, shape=(), dtype=float64)\n",
      "tf.Tensor(0.00030146542486767923, shape=(), dtype=float64)\n"
     ]
    }
   ],
   "source": [
    "v,z = y\n",
    "recon = CSC.cropAndMerge.crop(CSC.IFFT[0](v))\n",
    "print(tf.reduce_max(recon))\n",
    "print(tf.reduce_min(recon))\n",
    "print(tf.reduce_mean(recon))"
   ]
  },
  {
   "cell_type": "code",
   "execution_count": null,
   "metadata": {
    "collapsed": true
   },
   "outputs": [],
   "source": []
  },
  {
   "cell_type": "code",
   "execution_count": null,
   "metadata": {
    "collapsed": true
   },
   "outputs": [],
   "source": []
  },
  {
   "cell_type": "code",
   "execution_count": null,
   "metadata": {
    "collapsed": true
   },
   "outputs": [],
   "source": []
  },
  {
   "cell_type": "code",
   "execution_count": 10,
   "metadata": {
    "collapsed": true
   },
   "outputs": [],
   "source": [
    "s = CSC.preprocess(x_input)\n",
    "y,u,By,negC,itstats = CSC.init_vars(s)\n"
   ]
  },
  {
   "cell_type": "code",
   "execution_count": 21,
   "metadata": {
    "collapsed": true
   },
   "outputs": [],
   "source": [
    "x,Ax = CSC.xstep(y,u,By,negC)\n",
    "Ax_relaxed = CSC.relax(Ax,By,negC)"
   ]
  },
  {
   "cell_type": "code",
   "execution_count": 22,
   "metadata": {
    "collapsed": true
   },
   "outputs": [],
   "source": [
    "rho = CSC.rho\n",
    "#if CSC.strides[0] == 2:\n",
    "#    mu = CSC.updateZ[0][0].mu\n",
    "#else:\n",
    "mu = CSC.updateZ_lastlayer.mu\n",
    "Azero,Ax = Ax_relaxed\n",
    "v,z = y\n",
    "Bv,Bz = By\n",
    "eta,gamma = u\n",
    "Dx = CSC.IFFT[0](CSC.dictObj[0].dmul(x[0]))\n",
    "augLangbefore = mu/2*CSC.reconstructionTerm(CSC.IFFT[0](v),Dx) + CSC.jpegConstraint_relaxed(eta,Azero,Bv)"
   ]
  },
  {
   "cell_type": "code",
   "execution_count": 23,
   "metadata": {
    "collapsed": true
   },
   "outputs": [],
   "source": [
    "y,By = CSC.ystep(x,u,Ax_relaxed,negC)"
   ]
  },
  {
   "cell_type": "code",
   "execution_count": 24,
   "metadata": {},
   "outputs": [
    {
     "name": "stdout",
     "output_type": "stream",
     "text": [
      "tf.Tensor(8872.723529993324, shape=(), dtype=float64)\n"
     ]
    }
   ],
   "source": [
    "v,z = y\n",
    "Bv,Bz = By\n",
    "\n",
    "augLangafter = mu/2*CSC.reconstructionTerm(CSC.IFFT[0](v),Dx) + CSC.jpegConstraint_relaxed(eta,Azero,Bv)\n",
    "\n",
    "print(augLangbefore - augLangafter)"
   ]
  },
  {
   "cell_type": "code",
   "execution_count": 25,
   "metadata": {
    "collapsed": true
   },
   "outputs": [],
   "source": [
    "u = CSC.ustep(u,Ax_relaxed,By,negC)"
   ]
  },
  {
   "cell_type": "code",
   "execution_count": 151,
   "metadata": {},
   "outputs": [
    {
     "data": {
      "text/plain": [
       "<tf.Tensor: shape=(), dtype=float64, numpy=1.8861385026584094e-11>"
      ]
     },
     "execution_count": 151,
     "metadata": {},
     "output_type": "execute_result"
    }
   ],
   "source": [
    "tf.reduce_max(tf.math.abs(x[0] - z[0]))"
   ]
  },
  {
   "cell_type": "code",
   "execution_count": null,
   "metadata": {
    "collapsed": true
   },
   "outputs": [],
   "source": []
  },
  {
   "cell_type": "code",
   "execution_count": null,
   "metadata": {
    "collapsed": true
   },
   "outputs": [],
   "source": []
  },
  {
   "cell_type": "code",
   "execution_count": null,
   "metadata": {
    "collapsed": true
   },
   "outputs": [],
   "source": []
  },
  {
   "cell_type": "code",
   "execution_count": null,
   "metadata": {
    "collapsed": true
   },
   "outputs": [],
   "source": []
  },
  {
   "cell_type": "code",
   "execution_count": 10,
   "metadata": {
    "collapsed": true
   },
   "outputs": [],
   "source": [
    "s = CSC.preprocess(x_input)\n",
    "y,u,By,negC,itstats = CSC.init_vars(s)\n"
   ]
  },
  {
   "cell_type": "code",
   "execution_count": 77,
   "metadata": {
    "collapsed": true
   },
   "outputs": [],
   "source": [
    "x,Ax = CSC.xstep(y,u,By,negC)\n",
    "Ax_relaxed = CSC.relax(Ax,By,negC)"
   ]
  },
  {
   "cell_type": "code",
   "execution_count": 78,
   "metadata": {
    "collapsed": true
   },
   "outputs": [],
   "source": [
    "rho = CSC.rho\n",
    "#if CSC.strides[0] == 2:\n",
    "#    mu = CSC.updateZ[0][0].mu\n",
    "#else:\n",
    "mu = CSC.updateZ_lastlayer.mu\n",
    "Azero,Ax = Ax_relaxed\n",
    "v,z = y\n",
    "Bv,Bz = By\n",
    "eta,gamma = u\n",
    "Dx = CSC.IFFT[0](CSC.dictObj[0].dmul(x[0]))\n",
    "augLangbefore = mu/2*CSC.reconstructionTerm(CSC.IFFT[0](v),Dx) + CSC.jpegConstraint_relaxed(eta,Bv,negC)"
   ]
  },
  {
   "cell_type": "code",
   "execution_count": 79,
   "metadata": {},
   "outputs": [
    {
     "name": "stdout",
     "output_type": "stream",
     "text": [
      "tf.Tensor(110.98279148314543, shape=(), dtype=float64)\n"
     ]
    }
   ],
   "source": [
    "import util\n",
    "vplus_LF,Bv = CSC.updatev((CSC.cropAndMerge.crop(tf.squeeze(Dx,axis=-1)) + CSC.cropAndMerge.crop(x_input[1]),eta,negC[1]))\n",
    "v_small = vplus_LF - CSC.cropAndMerge.crop(x_input[1])\n",
    "v = CSC.cropAndMerge.merge((v_small,tf.squeeze(Dx,axis=-1)))\n",
    "augLangafter = mu/2*CSC.reconstructionTerm(v,tf.squeeze(Dx,axis=-1)) + CSC.jpegConstraint_relaxed(eta,Bv,negC)\n",
    "print(augLangbefore - augLangafter)\n",
    "y = (CSC.FFT[0](util.addDim(v)),z)\n",
    "By = (Bv,Bz)"
   ]
  },
  {
   "cell_type": "code",
   "execution_count": 80,
   "metadata": {
    "collapsed": true
   },
   "outputs": [],
   "source": [
    "u = CSC.ustep(u,Ax_relaxed,By,negC)"
   ]
  },
  {
   "cell_type": "code",
   "execution_count": 23,
   "metadata": {},
   "outputs": [
    {
     "name": "stdout",
     "output_type": "stream",
     "text": [
      "tf.Tensor(1.0, shape=(), dtype=float64)\n",
      "tf.Tensor(1.0, shape=(), dtype=float64)\n",
      "<tf.Variable 'Variable:0' shape=() dtype=float64, numpy=1.0>\n",
      "<tf.Variable 'Variable:0' shape=() dtype=float64, numpy=1.0>\n"
     ]
    }
   ],
   "source": [
    "print(rho)\n",
    "print(CSC.updatev.rho)\n",
    "print(CSC.updatev.mu)\n",
    "print(mu)"
   ]
  },
  {
   "cell_type": "code",
   "execution_count": null,
   "metadata": {
    "collapsed": true
   },
   "outputs": [],
   "source": []
  },
  {
   "cell_type": "code",
   "execution_count": null,
   "metadata": {
    "collapsed": true
   },
   "outputs": [],
   "source": []
  },
  {
   "cell_type": "code",
   "execution_count": null,
   "metadata": {
    "collapsed": true
   },
   "outputs": [],
   "source": []
  },
  {
   "cell_type": "code",
   "execution_count": null,
   "metadata": {
    "collapsed": true
   },
   "outputs": [],
   "source": []
  },
  {
   "cell_type": "code",
   "execution_count": null,
   "metadata": {
    "collapsed": true
   },
   "outputs": [],
   "source": []
  },
  {
   "cell_type": "code",
   "execution_count": 11,
   "metadata": {
    "collapsed": true
   },
   "outputs": [],
   "source": [
    "s = CSC.preprocess(x_input)\n",
    "y,u,By,negC,itstats = CSC.init_vars(s)\n"
   ]
  },
  {
   "cell_type": "code",
   "execution_count": 12,
   "metadata": {
    "collapsed": true
   },
   "outputs": [],
   "source": [
    "x,Ax = CSC.xstep(y,u,By,negC)"
   ]
  },
  {
   "cell_type": "code",
   "execution_count": 43,
   "metadata": {
    "collapsed": true
   },
   "outputs": [],
   "source": [
    "Ax_relaxed = CSC.relax(Ax,By,negC)"
   ]
  },
  {
   "cell_type": "code",
   "execution_count": 44,
   "metadata": {},
   "outputs": [
    {
     "name": "stdout",
     "output_type": "stream",
     "text": [
      "y-step improvement:  tf.Tensor(132.39678583763612, shape=(), dtype=float64)\n"
     ]
    }
   ],
   "source": [
    "beforeyupdate = CSC.evaluateRelaxedLagrangian(x,y,u,Ax_relaxed,By,negC)\n",
    "#beforeyupdate = CSC.evaluateLagrangian(x,y,u,By,negC)\n",
    "y,By = CSC.ystep(x,u,Ax_relaxed,negC)\n",
    "#afteryupdate = CSC.evaluateLagrangian(x,y,u,By,negC)\n",
    "afteryupdate = CSC.evaluateRelaxedLagrangian(x,y,u,Ax_relaxed,By,negC)\n",
    "\n",
    "print('y-step improvement: ',beforeyupdate - afteryupdate)"
   ]
  },
  {
   "cell_type": "code",
   "execution_count": 45,
   "metadata": {
    "collapsed": true
   },
   "outputs": [],
   "source": [
    "\n",
    "u = CSC.ustep(u,Ax_relaxed,By,negC)"
   ]
  },
  {
   "cell_type": "code",
   "execution_count": 46,
   "metadata": {},
   "outputs": [
    {
     "name": "stdout",
     "output_type": "stream",
     "text": [
      "x-step improvement:  tf.Tensor(153.9968656518622, shape=(), dtype=float64)\n"
     ]
    }
   ],
   "source": [
    "beforexupdate = CSC.evaluateLagrangian(x,y,u,By,negC)\n",
    "#print('u-step ascent: ',beforexupdate - afteryupdate)\n",
    "x,Ax = CSC.xstep(y,u,By,negC)\n",
    "afterxupdate = CSC.evaluateLagrangian(x,y,u,By,negC)\n",
    "\n",
    "print('x-step improvement: ',beforexupdate - afterxupdate)"
   ]
  },
  {
   "cell_type": "code",
   "execution_count": 47,
   "metadata": {},
   "outputs": [
    {
     "name": "stdout",
     "output_type": "stream",
     "text": [
      "tf.Tensor(1.499960972546149, shape=(), dtype=float64)\n",
      "tf.Tensor(-1.0223701895955746, shape=(), dtype=float64)\n",
      "tf.Tensor(-0.00026397253758130663, shape=(), dtype=float64)\n"
     ]
    }
   ],
   "source": [
    "v,z = y\n",
    "recon = CSC.cropAndMerge.crop(CSC.IFFT[0](v))\n",
    "print(tf.reduce_max(recon))\n",
    "print(tf.reduce_min(recon))\n",
    "print(tf.reduce_mean(recon))"
   ]
  },
  {
   "cell_type": "code",
   "execution_count": 18,
   "metadata": {
    "collapsed": true
   },
   "outputs": [],
   "source": [
    "xprev = x[0]"
   ]
  },
  {
   "cell_type": "code",
   "execution_count": 24,
   "metadata": {},
   "outputs": [
    {
     "name": "stdout",
     "output_type": "stream",
     "text": [
      "tf.Tensor(78.00138303332352, shape=(), dtype=float64)\n"
     ]
    }
   ],
   "source": [
    "print(tf.reduce_max(tf.abs(x[0] - xprev)))"
   ]
  },
  {
   "cell_type": "code",
   "execution_count": 82,
   "metadata": {},
   "outputs": [
    {
     "name": "stdout",
     "output_type": "stream",
     "text": [
      "tf.Tensor(1.7186674165345042, shape=(), dtype=float64)\n",
      "tf.Tensor(-1.891466022264373, shape=(), dtype=float64)\n",
      "tf.Tensor(0.00015348225783739947, shape=(), dtype=float64)\n"
     ]
    }
   ],
   "source": [
    "recon2 = CSC.cropAndMerge.crop(CSC.IFFT[0](CSC.dictObj[0].dmul(x[0])))\n",
    "print(tf.reduce_max(recon2))\n",
    "print(tf.reduce_min(recon2))\n",
    "print(tf.reduce_mean(recon2))"
   ]
  },
  {
   "cell_type": "code",
   "execution_count": null,
   "metadata": {
    "collapsed": true
   },
   "outputs": [],
   "source": []
  },
  {
   "cell_type": "code",
   "execution_count": null,
   "metadata": {
    "collapsed": true
   },
   "outputs": [],
   "source": []
  },
  {
   "cell_type": "code",
   "execution_count": 10,
   "metadata": {
    "collapsed": true
   },
   "outputs": [],
   "source": [
    "s = CSC.preprocess(x_input)\n",
    "y,u,By,negC,itstats = CSC.init_vars(s)"
   ]
  },
  {
   "cell_type": "code",
   "execution_count": 11,
   "metadata": {
    "collapsed": true
   },
   "outputs": [],
   "source": [
    "\n",
    "x,Ax = CSC.xstep(y,u,By,negC)\n"
   ]
  },
  {
   "cell_type": "code",
   "execution_count": 68,
   "metadata": {
    "collapsed": true
   },
   "outputs": [],
   "source": [
    "Ax_relaxed = CSC.relax(Ax,By,negC)"
   ]
  },
  {
   "cell_type": "code",
   "execution_count": 69,
   "metadata": {},
   "outputs": [
    {
     "name": "stdout",
     "output_type": "stream",
     "text": [
      "y-update improvement:  tf.Tensor(4075.768058284011, shape=(), dtype=float64)\n"
     ]
    }
   ],
   "source": [
    "beforeyupdate = CSC.evaluateLagrangian(x,y,u,By,negC)\n",
    "y,By = CSC.ystep(x,u,Ax_relaxed,negC)\n",
    "afteryupdate = CSC.evaluateLagrangian(x,y,u,By,negC)\n",
    "print('y-update improvement: ',beforeyupdate - afteryupdate)"
   ]
  },
  {
   "cell_type": "code",
   "execution_count": 70,
   "metadata": {},
   "outputs": [
    {
     "name": "stdout",
     "output_type": "stream",
     "text": [
      "layer[0] gamma ascent:  tf.Tensor(0.00321943627204746, shape=(), dtype=float64)\n",
      "eta ascent:  tf.Tensor(-1284.5795792535064, shape=(), dtype=float64)\n"
     ]
    }
   ],
   "source": [
    "lagrangbefore = CSC.evaluateLagrangian(x,y,u,By,negC)\n",
    "eta,gamma = u\n",
    "AzeroplusC,Ax_layers = Ax_relaxed\n",
    "Bv,z = By\n",
    "for ii in range(CSC.noL):\n",
    "    gamma[ii] = CSC.updateGamma(gamma[ii],z[ii],Ax_layers[ii],ii)\n",
    "    u = (eta,gamma)\n",
    "    lagrangafter = CSC.evaluateLagrangian(x,y,u,By,negC)\n",
    "    print('layer[' + str(ii) + '] gamma ascent: ', lagrangafter - lagrangbefore)\n",
    "    lagrangbefore = lagrangafter\n",
    "eta = CSC.updateEta(eta,AzeroplusC,Bv)\n",
    "u = (eta,gamma)\n",
    "lagrangafter = CSC.evaluateLagrangian(x,y,u,By,negC)\n",
    "print('eta ascent: ',lagrangafter - lagrangbefore)"
   ]
  },
  {
   "cell_type": "code",
   "execution_count": 67,
   "metadata": {},
   "outputs": [
    {
     "name": "stdout",
     "output_type": "stream",
     "text": [
      "x-update improvement:  tf.Tensor(1413.5530663121026, shape=(), dtype=float64)\n"
     ]
    }
   ],
   "source": [
    "beforexupdate = CSC.evaluateLagrangian(x,y,u,By,negC)\n",
    "x,Ax = CSC.xstep(y,u,By,negC)\n",
    "afterxupdate = CSC.evaluateLagrangian(x,y,u,By,negC)\n",
    "print('x-update improvement: ',beforexupdate - afterxupdate)"
   ]
  },
  {
   "cell_type": "code",
   "execution_count": null,
   "metadata": {
    "collapsed": true
   },
   "outputs": [],
   "source": []
  },
  {
   "cell_type": "code",
   "execution_count": null,
   "metadata": {
    "collapsed": true
   },
   "outputs": [],
   "source": []
  },
  {
   "cell_type": "code",
   "execution_count": null,
   "metadata": {
    "collapsed": true
   },
   "outputs": [],
   "source": []
  },
  {
   "cell_type": "code",
   "execution_count": 21,
   "metadata": {},
   "outputs": [
    {
     "name": "stdout",
     "output_type": "stream",
     "text": [
      "tf.Tensor(0.0, shape=(), dtype=float64)\n"
     ]
    }
   ],
   "source": [
    "print(tf.reduce_max(x_input[2] - CSC.cropAndMerge.crop(CSC.cropAndMerge.merge((x_input[2],x_input[0])))))"
   ]
  },
  {
   "cell_type": "code",
   "execution_count": 22,
   "metadata": {},
   "outputs": [
    {
     "name": "stdout",
     "output_type": "stream",
     "text": [
      "tf.Tensor(0.03007777523421025, shape=(), dtype=float64)\n"
     ]
    }
   ],
   "source": [
    "print(tf.reduce_max(x_input[0] - CSC.cropAndMerge.merge((x_input[2],x_input[0]))))"
   ]
  },
  {
   "cell_type": "code",
   "execution_count": 23,
   "metadata": {},
   "outputs": [
    {
     "name": "stdout",
     "output_type": "stream",
     "text": [
      "tf.Tensor(0.3684579105100836, shape=(), dtype=float64)\n"
     ]
    }
   ],
   "source": [
    "print(tf.reduce_max(x_input[1] - CSC.cropAndMerge.merge((x_input[2],x_input[1]))))"
   ]
  },
  {
   "cell_type": "code",
   "execution_count": 26,
   "metadata": {},
   "outputs": [
    {
     "name": "stdout",
     "output_type": "stream",
     "text": [
      "tf.Tensor(2.7755575615628914e-17, shape=(), dtype=float64)\n"
     ]
    }
   ],
   "source": [
    "print(tf.reduce_max(CSC.cropAndMerge.crop(x_input[0]) + CSC.cropAndMerge.crop(x_input[1]) - x_input[2]))"
   ]
  },
  {
   "cell_type": "code",
   "execution_count": null,
   "metadata": {
    "collapsed": true
   },
   "outputs": [],
   "source": []
  }
 ],
 "metadata": {
  "kernelspec": {
   "display_name": "Python 3",
   "language": "python",
   "name": "python3"
  },
  "language_info": {
   "codemirror_mode": {
    "name": "ipython",
    "version": 3
   },
   "file_extension": ".py",
   "mimetype": "text/x-python",
   "name": "python",
   "nbconvert_exporter": "python",
   "pygments_lexer": "ipython3",
   "version": "3.6.1"
  }
 },
 "nbformat": 4,
 "nbformat_minor": 2
}
