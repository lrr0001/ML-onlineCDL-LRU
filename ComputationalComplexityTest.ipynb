{
 "cells": [
  {
   "cell_type": "code",
   "execution_count": 1,
   "metadata": {
    "collapsed": true
   },
   "outputs": [],
   "source": [
    "import tensorflow as tf\n",
    "import matrix_decompositions_tf as fctr"
   ]
  },
  {
   "cell_type": "code",
   "execution_count": null,
   "metadata": {
    "collapsed": true
   },
   "outputs": [],
   "source": [
    "R = 4\n",
    "Khat = 256\n",
    "K = 25\n",
    "rho = tf.cast(1.,tf.float64)"
   ]
  },
  {
   "cell_type": "code",
   "execution_count": null,
   "metadata": {
    "collapsed": true
   },
   "outputs": [],
   "source": [
    "class FFT(tf.keras.layers.Layer):\n",
    "    def __init__(self,fft_length,*args,**kwargs):\n",
    "        self.fft_length = fft_length\n",
    "        super().__init__(*args,**kwargs)\n",
    "    def fft(self,inputs):\n",
    "        return tf.signal.rfft(input_tensor=inputs,fft_length=(self.fft_length,))\n",
    "    def call(self,inputs):\n",
    "        return self.fft(inputs)\n",
    "    def get_config(self):\n",
    "        return {'fft_length': self.fft_length}\n",
    "class IFFT(fft):\n",
    "    def fft(self,inputs):\n",
    "        return tf.signal.irfft(input_tensor=inputs,fft_length=(self.fft_length,))\n",
    "\n",
    "class Trunc(tf.keras.layers.Layer):\n",
    "    def __init__(self,truncate_length,axis,*args,**kwargs):\n",
    "        self.truncate_length = truncate_length\n",
    "        self.axis = axis\n",
    "        super().__init__(*args,**kwargs)\n",
    "    def call(inputs):\n",
    "        slices = (slice(None),)*axis + (slice(0,self.truncate_length),)\n",
    "        return inputs[slices[:]]\n",
    "    def get_config(self):\n",
    "        return {'truncate_length': self.truncate_length, 'axis': self.axis}\n",
    "def get_lowrank_approx(A,*args,**kwargs):\n",
    "    U,s,V = fctr.randomized_svd(A,*args,**kwargs)\n",
    "    if A.shape[1] > A.shape[0]:\n",
    "        U = U*tf.cast(tf.reshape(s,(1,-1)),U.dtype)\n",
    "    else:\n",
    "        V = V*tf.cast(tf.reshape(s,(1,-1)),V.dtype)\n",
    "    return (U,V)\n",
    "def stack_svd(A,*args,**kwargs):\n",
    "    Ashape = A.shape\n",
    "    U,V = get_lowrank_approx(tf.reshape(A,(A.shape[0],-1)),*args,**kwargs)\n",
    "    R = U.shape[1]\n",
    "    U = tf.reshape(U,(Ashape[0],R,1,))\n",
    "    Vt = tf.reshape(tf.transpose(V,perm=(1,0)),(R,) + Ashape[1:])\n",
    "    return U,Vt"
   ]
  },
  {
   "cell_type": "code",
   "execution_count": null,
   "metadata": {
    "collapsed": true
   },
   "outputs": [],
   "source": [
    "fft = FFT(fft_length = Khat,dtype=tf.float64)\n",
    "ifft = IFFT(fft_length = Khat,dtype = tf.complex128)\n",
    "trunc = Trunc(truncate_length = K,axis = 2,dtype = tf.float64)\n"
   ]
  },
  {
   "cell_type": "code",
   "execution_count": null,
   "metadata": {
    "collapsed": true
   },
   "outputs": [],
   "source": [
    "C = 64\n",
    "M = C"
   ]
  },
  {
   "cell_type": "code",
   "execution_count": null,
   "metadata": {
    "collapsed": true
   },
   "outputs": [],
   "source": [
    "D = tf.random.normal(shape=(C,M,Khat))\n",
    "Dupdate = 0. #need some sort of scewed distribution here.\n",
    "Dhat = fft(D)\n",
    "def update_cholesky(L,Dupdate,Dhat,R)\n",
    "    # low rank approximation in spatial domain\n",
    "    U,Vt = stack_svd(Dupdate,n_components=R,n_oversamples=10)\n",
    "\n",
    "    # Convert to frequency domain\n",
    "    Uhat = tf.cast(U,tf.complex128)\n",
    "    VhatH = fft(V)\n",
    "\n",
    "    # Get Rank-1 Updates\n",
    "    UtU = tf.reduce_sum(U*U,axis=0,keepdims = False)\n",
    "    Vhat = tf.transpose(VhatH,perm=(1,0,2),conjugate=True)\n",
    "\n",
    "    # Get Rank-2 Updates\n",
    "    Dhu = tf.transpose(tf.linalg.matmul(tf.transpose(Dhat,perm=(2,0,1)),tf.transpose(Uhat,perm=(2,0,1)),adjoint_a = True),perm=(1,2,0))\n",
    "    eta_u = tf.reduce_sum(tf.math.conj(Dhu)*Dhu,axis = 0,keepdims = True)\n",
    "    eta_v = tf.reduce_sum(tf.math.conj(Vhat)*Vhat,axis = 0,keepdims = True)\n",
    "    eta_uv = tf.reduce_sum(tf.math.conj(Dhu)*Vhat,axis = 0,keepdims = True)\n",
    "\n",
    "    radicand = tf.math.sqrt(eta_u*eta_v - tf.math.imag(eta_uv)**2)\n",
    "    eig_vecs_plus = eta_u*Vhat + (-1j*tf.math.imag(eta_uv) + radicand)*Dhu\n",
    "    eig_vecs_minus = eta_u*Vhat - (1j*tf.math.imag(eta_uv) + radicand)*Dhu\n",
    "    eig_vals_plus = tf.squeeze(tf.math.real(eta_uv) + radicand,axis = 0)\n",
    "    eig_vals_minus = tf.squeeze(tf.math.real(eta_uv) - radicand,axis = 0)\n",
    "\n",
    "    # permute\n",
    "    Vhat = tf.transpose(Vhat,perm=(2,0,1))\n",
    "    eig_vecs_plus = tf.transpose(eig_vecs_plus,perm = (2,0,1))\n",
    "\n",
    "    for val,vec in zip(tf.unstack(UtU,axis=0),tf.unstack(Vhat,axis = 2)):\n",
    "        L = tfr.cholesky_update(L,vec,val)\n",
    "\n",
    "    for vecs,vals in zip(((eig_vals_plus,eig_vals_minus),(eig_vecs_plus,eig_vecs_minus))):\n",
    "        for val,vec in zip(tf.unstack(vals,axis=0),tf.unstack(vecs,axis=2)):\n",
    "            L = tfr.cholesky_update(L,vec,val)\n",
    "    return L\n",
    "\n"
   ]
  },
  {
   "cell_type": "code",
   "execution_count": 9,
   "metadata": {},
   "outputs": [
    {
     "name": "stdout",
     "output_type": "stream",
     "text": [
      "(25, 129)\n"
     ]
    }
   ],
   "source": [
    "x = tf.random.normal(shape=(25,256))\n",
    "y = tf.signal.rfft(input_tensor=x,fft_length=(256,))\n",
    "print(y.shape)"
   ]
  },
  {
   "cell_type": "code",
   "execution_count": null,
   "metadata": {
    "collapsed": true
   },
   "outputs": [],
   "source": [
    "idMat = tf.linalg.eye(num_rows = self.nof,batch_shape = (1,1,1),dtype=tf.complex128)\n",
    "L = tf.linalg.cholesky(tf.cast(self.rho,tf.complex128)*idMat + tf.linalg.matmul(a = Dfprev,b = Dfprev,adjoint_a = True))"
   ]
  }
 ],
 "metadata": {
  "kernelspec": {
   "display_name": "Python 3",
   "language": "python",
   "name": "python3"
  },
  "language_info": {
   "codemirror_mode": {
    "name": "ipython",
    "version": 3
   },
   "file_extension": ".py",
   "mimetype": "text/x-python",
   "name": "python",
   "nbconvert_exporter": "python",
   "pygments_lexer": "ipython3",
   "version": "3.6.1"
  }
 },
 "nbformat": 4,
 "nbformat_minor": 2
}
