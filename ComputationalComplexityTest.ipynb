{
 "cells": [
  {
   "cell_type": "code",
   "execution_count": 1,
   "metadata": {},
   "outputs": [],
   "source": [
    "import tensorflow as tf\n",
    "import matrix_decompositions_tf as fctr\n",
    "import tf_rewrites as tfr"
   ]
  },
  {
   "cell_type": "code",
   "execution_count": 2,
   "metadata": {
    "collapsed": true
   },
   "outputs": [],
   "source": [
    "R = 1\n",
    "Khat = 64\n",
    "K = 5\n",
    "rho = tf.cast(100.,tf.complex128)"
   ]
  },
  {
   "cell_type": "code",
   "execution_count": 3,
   "metadata": {},
   "outputs": [],
   "source": [
    "class FFT(tf.keras.layers.Layer):\n",
    "    def __init__(self,fft_length,*args,**kwargs):\n",
    "        self.fft_length = fft_length\n",
    "        super().__init__(*args,**kwargs)\n",
    "    def fft(self,inputs):\n",
    "        return tf.signal.rfft(input_tensor=inputs,fft_length=(self.fft_length,))\n",
    "    def call(self,inputs):\n",
    "        return self.fft(inputs)\n",
    "    def get_config(self):\n",
    "        return {'fft_length': self.fft_length}\n",
    "class IFFT(FFT):\n",
    "    def fft(self,inputs):\n",
    "        return tf.signal.irfft(input_tensor=inputs,fft_length=(self.fft_length,))\n",
    "\n",
    "class Trunc(tf.keras.layers.Layer):\n",
    "    def __init__(self,truncate_length,axis,*args,**kwargs):\n",
    "        self.truncate_length = truncate_length\n",
    "        self.axis = axis\n",
    "        super().__init__(*args,**kwargs)\n",
    "    def call(inputs):\n",
    "        slices = (slice(None),)*axis + (slice(0,self.truncate_length),)\n",
    "        return inputs[slices[:]]\n",
    "    def get_config(self):\n",
    "        return {'truncate_length': self.truncate_length, 'axis': self.axis}\n",
    "def get_lowrank_approx(A,*args,**kwargs):\n",
    "    U,s,V = fctr.randomized_svd(A,*args,**kwargs)\n",
    "    if A.shape[1] > A.shape[0]:\n",
    "        U = U*tf.cast(tf.reshape(s,(1,-1)),U.dtype)\n",
    "    else:\n",
    "        V = V*tf.cast(tf.reshape(s,(1,-1)),V.dtype)\n",
    "    return (U,V)\n",
    "def stack_svd(A,*args,**kwargs):\n",
    "    Ashape = A.shape\n",
    "    U,V = get_lowrank_approx(tf.reshape(A,(A.shape[0],-1)),*args,**kwargs)\n",
    "    R = U.shape[1]\n",
    "    U = tf.reshape(U,(Ashape[0],R,1,))\n",
    "    Vt = tf.reshape(tf.transpose(V,perm=(1,0)),(R,) + Ashape[1:])\n",
    "    return U,Vt"
   ]
  },
  {
   "cell_type": "code",
   "execution_count": 4,
   "metadata": {
    "collapsed": true
   },
   "outputs": [],
   "source": [
    "fft = FFT(fft_length = Khat,dtype=tf.float64)\n",
    "ifft = IFFT(fft_length = Khat,dtype = tf.complex128)\n",
    "trunc = Trunc(truncate_length = K,axis = 2,dtype = tf.float64)\n"
   ]
  },
  {
   "cell_type": "code",
   "execution_count": 5,
   "metadata": {
    "collapsed": true
   },
   "outputs": [],
   "source": [
    "C = 2000\n",
    "M = C"
   ]
  },
  {
   "cell_type": "code",
   "execution_count": 6,
   "metadata": {},
   "outputs": [],
   "source": [
    "def update_Cholesky(L,Dupdate,Dhat,R):\n",
    "    # low rank approximation in spatial domain\n",
    "    U,Vt = stack_svd(Dupdate,n_components=R,n_oversamples=10)\n",
    "\n",
    "    # Convert to frequency domain\n",
    "    Uhat = tf.cast(U,tf.complex128)\n",
    "    VhatH = fft(Vt)\n",
    "\n",
    "    # Get Rank-1 Updates\n",
    "    UtU = tf.cast(tf.reduce_sum(U*U,axis=0,keepdims = False),tf.complex128)\n",
    "    Vhat = tf.transpose(VhatH,perm=(1,0,2),conjugate=True)\n",
    "\n",
    "    # Get Rank-2 Updates\n",
    "    Dhu = tf.transpose(tf.linalg.matmul(tf.transpose(Dhat,perm=(2,0,1)),tf.transpose(Uhat,perm=(2,0,1)),adjoint_a = True),perm=(1,2,0))\n",
    "    eta_u = tf.cast(tf.reduce_sum(tf.math.conj(Dhu)*Dhu,axis = 0,keepdims = True),tf.float64)\n",
    "    eta_v = tf.cast(tf.reduce_sum(tf.math.conj(Vhat)*Vhat,axis = 0,keepdims = True),tf.float64)\n",
    "    eta_uv = tf.reduce_sum(tf.math.conj(Dhu)*Vhat,axis = 0,keepdims = True)\n",
    "\n",
    "    radicand = tf.math.sqrt(eta_u*eta_v - tf.math.imag(eta_uv)**2)\n",
    "    eig_vecs_plus = tf.cast(eta_u,tf.complex128)*Vhat + (-1j*tf.cast(tf.math.imag(eta_uv),tf.complex128) + tf.cast(radicand,tf.complex128))*Dhu\n",
    "    eig_vecs_minus = tf.cast(eta_u,tf.complex128)*Vhat - (1j*tf.cast(tf.math.imag(eta_uv),tf.complex128) + tf.cast(radicand,tf.complex128))*Dhu\n",
    "    eig_vals_plus = tf.cast(tf.squeeze(tf.math.real(eta_uv) + radicand,axis = 0),tf.complex128)\n",
    "    eig_vals_minus = tf.cast(tf.squeeze(tf.math.real(eta_uv) - radicand,axis = 0),tf.complex128)\n",
    "\n",
    "    # permute\n",
    "    Vhat = tf.transpose(Vhat,perm=(2,0,1))\n",
    "    eig_vecs_plus = tf.transpose(eig_vecs_plus,perm = (2,0,1))\n",
    "    eig_vecs_minus = tf.transpose(eig_vecs_minus,perm = (2,0,1))\n",
    "    for val,vec in zip(tf.unstack(UtU,axis=0),tf.unstack(Vhat,axis = -1)):\n",
    "        L = tfr.cholesky_update(L,vec,val)\n",
    "\n",
    "    for vals,vecs in zip((eig_vals_plus,eig_vals_minus),(eig_vecs_plus,eig_vecs_minus)):\n",
    "        for val,vec in zip(tf.unstack(vals,axis=0),tf.unstack(vecs,axis=-1)):\n",
    "            L = tfr.cholesky_update(L,vec,val)\n",
    "    return L\n"
   ]
  },
  {
   "cell_type": "code",
   "execution_count": 7,
   "metadata": {},
   "outputs": [],
   "source": [
    "def generate_D_update(C,M,K,R,a = 1.,bminusa = 4.,noisefloor = 0.1,rescale=32):\n",
    "    U = tf.random.normal(shape=(K,C,R),dtype=tf.float64)\n",
    "    V = tf.random.normal(shape=(K,M,R),dtype=tf.float64)\n",
    "    S = bminusa*tf.random.uniform(shape=(1,1,R),dtype=tf.float64) + a\n",
    "    Dupdate = tf.linalg.matmul(U*S,V,transpose_b = True) + noisefloor*tf.random.normal(shape=(K,C,M),dtype=tf.float64)\n",
    "    return tf.transpose(Dupdate,perm=(1,2,0))/rescale"
   ]
  },
  {
   "cell_type": "code",
   "execution_count": 8,
   "metadata": {
    "collapsed": true
   },
   "outputs": [],
   "source": [
    "def compute_Cholesky(rho,Dhat):\n",
    "    M = Dhat.shape[1]\n",
    "    Dhat_t = tf.transpose(Dhat,perm=(2,0,1))\n",
    "    idMat = tf.linalg.eye(num_rows = M,batch_shape = (1,),dtype=tf.complex128)\n",
    "    DhD = tf.linalg.matmul(Dhat_t,Dhat_t,adjoint_a=True)\n",
    "    return tf.linalg.cholesky(rho*idMat + DhD)"
   ]
  },
  {
   "cell_type": "code",
   "execution_count": 9,
   "metadata": {},
   "outputs": [],
   "source": [
    "D = tf.random.normal(shape=(C,M,Khat),dtype=tf.float64)\n",
    "Dupdate = generate_D_update(C,M,K,R)\n",
    "Dhat = fft(D)\n",
    "Dupdatehat = fft(Dupdate)\n",
    "L = compute_Cholesky(rho,Dhat)\n"
   ]
  },
  {
   "cell_type": "code",
   "execution_count": 10,
   "metadata": {},
   "outputs": [
    {
     "name": "stdout",
     "output_type": "stream",
     "text": [
      "CPU times: user 6min 14s, sys: 11.6 s, total: 6min 25s\n",
      "Wall time: 54.5 s\n"
     ]
    }
   ],
   "source": [
    "%time Lnew = compute_Cholesky(rho,Dhat + Dupdatehat)\n"
   ]
  },
  {
   "cell_type": "code",
   "execution_count": 11,
   "metadata": {},
   "outputs": [
    {
     "name": "stdout",
     "output_type": "stream",
     "text": [
      "CPU times: user 2min, sys: 27.2 s, total: 2min 27s\n",
      "Wall time: 49.9 s\n"
     ]
    }
   ],
   "source": [
    "%time Lnewapprox = update_Cholesky(L,Dupdate,Dhat,R)"
   ]
  },
  {
   "cell_type": "code",
   "execution_count": null,
   "metadata": {
    "collapsed": true
   },
   "outputs": [],
   "source": []
  },
  {
   "cell_type": "code",
   "execution_count": null,
   "metadata": {
    "collapsed": true
   },
   "outputs": [],
   "source": []
  },
  {
   "cell_type": "code",
   "execution_count": null,
   "metadata": {
    "collapsed": true
   },
   "outputs": [],
   "source": []
  }
 ],
 "metadata": {
  "kernelspec": {
   "display_name": "Python 3",
   "language": "python",
   "name": "python3"
  },
  "language_info": {
   "codemirror_mode": {
    "name": "ipython",
    "version": 3
   },
   "file_extension": ".py",
   "mimetype": "text/x-python",
   "name": "python",
   "nbconvert_exporter": "python",
   "pygments_lexer": "ipython3",
   "version": "3.6.1"
  }
 },
 "nbformat": 4,
 "nbformat_minor": 2
}
