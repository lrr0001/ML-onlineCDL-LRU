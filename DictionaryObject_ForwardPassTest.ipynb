{
 "cells": [
  {
   "cell_type": "markdown",
   "metadata": {},
   "source": [
    "This test demonstrates the methods inside the dictionary object function as intended. The first test uses 64-bit complex numbers and the Woodbury form."
   ]
  },
  {
   "cell_type": "code",
   "execution_count": 1,
   "metadata": {},
   "outputs": [
    {
     "name": "stdout",
     "output_type": "stream",
     "text": [
      "tf.Tensor(0.00030145765, shape=(), dtype=float32)\n"
     ]
    }
   ],
   "source": [
    "import tensorflow as tf\n",
    "import numpy as np\n",
    "import matrix_decompositions_tf as fctr\n",
    "\n",
    "\n",
    "fltrSz = (3,3)\n",
    "fftSz = (8,8)\n",
    "noc = 3\n",
    "nof = 8\n",
    "rho = 1.0\n",
    "dtype = tf.complex64\n",
    "\n",
    "AInv = fctr.dictionary_object2D(fltrSz=fltrSz,fftSz=fftSz,noc = noc,nof = nof,rho = rho,dtype=dtype)\n",
    "\n",
    "#x = tf.keras.layers.Input(shape=fftSz + (noc,1))\n",
    "# This throws error because the fft exploits symmetry, and this input is not in the same form.\n",
    "w = tf.complex(tf.random.normal((100,) + fftSz + (noc,1),dtype=tf.float32),tf.random.normal((100,) + fftSz + (noc,1),dtype = tf.float32))\n",
    "w = w + tf.math.conj(tf.reverse(w,axis=(2,3)))\n",
    "w = w[slice(None),slice(None),slice(0,5,1),slice(None),slice(None)]\n",
    "\n",
    "x = AInv.dhmul(w)\n",
    "\n",
    "y = rho*x + AInv.dhmul(AInv.dmul(x))\n",
    "z = AInv.qinv(y)\n",
    "print(tf.math.reduce_max(tf.math.abs(x - z)))"
   ]
  },
  {
   "cell_type": "markdown",
   "metadata": {},
   "source": [
    "The second test uses 128-bit complex numbers and the Woodbury form.  Note the rounding error is substantially improved (by approximately 8 orders of magnitude)."
   ]
  },
  {
   "cell_type": "code",
   "execution_count": 1,
   "metadata": {},
   "outputs": [
    {
     "name": "stdout",
     "output_type": "stream",
     "text": [
      "tf.Tensor(5.639955694025304e-13, shape=(), dtype=float64)\n"
     ]
    }
   ],
   "source": [
    "import tensorflow as tf\n",
    "import numpy as np\n",
    "import matrix_decompositions_tf as fctr\n",
    "\n",
    "\n",
    "fltrSz = (3,3)\n",
    "fftSz = (8,8)\n",
    "noc = 3\n",
    "nof = 8\n",
    "rho = 1.0\n",
    "dtype = tf.complex128\n",
    "\n",
    "AInv = fctr.dictionary_object2D(fltrSz=fltrSz,fftSz=fftSz,noc = noc,nof = nof,rho = rho,dtype=dtype)\n",
    "\n",
    "#x = tf.keras.layers.Input(shape=fftSz + (noc,1))\n",
    "# This throws error because the fft exploits symmetry, and this input is not in the same form.\n",
    "w = tf.complex(tf.random.normal((100,) + fftSz + (noc,1),dtype=tf.float64),tf.random.normal((100,) + fftSz + (noc,1),dtype = tf.float64))\n",
    "w = w + tf.math.conj(tf.reverse(w,axis=(2,3)))\n",
    "w = w[slice(None),slice(None),slice(0,5,1),slice(None),slice(None)]\n",
    "\n",
    "x = AInv.dhmul(w)\n",
    "\n",
    "y = rho*x + AInv.dhmul(AInv.dmul(x))\n",
    "z = AInv.qinv(y)\n",
    "print(tf.math.reduce_max(tf.math.abs(x - z)))"
   ]
  },
  {
   "cell_type": "markdown",
   "metadata": {
    "collapsed": true
   },
   "source": [
    "This test uses 64-bit complex numbers with standard formulation (no Woodbury)."
   ]
  },
  {
   "cell_type": "code",
   "execution_count": 1,
   "metadata": {},
   "outputs": [
    {
     "name": "stdout",
     "output_type": "stream",
     "text": [
      "tf.Tensor(2.4055478e-05, shape=(), dtype=float32)\n"
     ]
    }
   ],
   "source": [
    "import tensorflow as tf\n",
    "import numpy as np\n",
    "import matrix_decompositions_tf as fctr\n",
    "\n",
    "\n",
    "fltrSz = (3,3)\n",
    "fftSz = (8,8)\n",
    "noc = 8\n",
    "nof = 3\n",
    "rho = 1.0\n",
    "dtype = tf.complex64\n",
    "\n",
    "AInv = fctr.dictionary_object2D(fltrSz=fltrSz,fftSz=fftSz,noc = noc,nof = nof,rho = rho,dtype=dtype)\n",
    "\n",
    "#x = tf.keras.layers.Input(shape=fftSz + (noc,1))\n",
    "# This throws error because the fft exploits symmetry, and this input is not in the same form.\n",
    "w = tf.complex(tf.random.normal((100,) + fftSz + (noc,1),dtype=tf.float32),tf.random.normal((100,) + fftSz + (noc,1),dtype = tf.float32))\n",
    "w = w + tf.math.conj(tf.reverse(w,axis=(2,3)))\n",
    "w = w[slice(None),slice(None),slice(0,5,1),slice(None),slice(None)]\n",
    "\n",
    "x = AInv.dhmul(w)\n",
    "\n",
    "y = rho*x + AInv.dhmul(AInv.dmul(x))\n",
    "z = AInv.qinv(y)\n",
    "print(tf.math.reduce_max(tf.math.abs(x - z)))"
   ]
  },
  {
   "cell_type": "markdown",
   "metadata": {},
   "source": [
    "This final test uses 128-bit complex numbers with standard formulation (no woodbury)."
   ]
  },
  {
   "cell_type": "code",
   "execution_count": 1,
   "metadata": {},
   "outputs": [
    {
     "name": "stdout",
     "output_type": "stream",
     "text": [
      "tf.Tensor(1.1065665902270342e-13, shape=(), dtype=float64)\n"
     ]
    }
   ],
   "source": [
    "import tensorflow as tf\n",
    "import numpy as np\n",
    "import matrix_decompositions_tf as fctr\n",
    "\n",
    "\n",
    "fltrSz = (3,3)\n",
    "fftSz = (8,8)\n",
    "noc = 8\n",
    "nof = 3\n",
    "rho = 1.0\n",
    "dtype = tf.complex128\n",
    "\n",
    "AInv = fctr.dictionary_object2D(fltrSz=fltrSz,fftSz=fftSz,noc = noc,nof = nof,rho = rho,dtype=dtype)\n",
    "\n",
    "#x = tf.keras.layers.Input(shape=fftSz + (noc,1))\n",
    "# This throws error because the fft exploits symmetry, and this input is not in the same form.\n",
    "w = tf.complex(tf.random.normal((100,) + fftSz + (noc,1),dtype=tf.float64),tf.random.normal((100,) + fftSz + (noc,1),dtype = tf.float64))\n",
    "w = w + tf.math.conj(tf.reverse(w,axis=(2,3)))\n",
    "w = w[slice(None),slice(None),slice(0,5,1),slice(None),slice(None)]\n",
    "\n",
    "x = AInv.dhmul(w)\n",
    "\n",
    "y = rho*x + AInv.dhmul(AInv.dmul(x))\n",
    "z = AInv.qinv(y)\n",
    "print(tf.math.reduce_max(tf.math.abs(x - z)))"
   ]
  },
  {
   "cell_type": "code",
   "execution_count": null,
   "metadata": {
    "collapsed": true
   },
   "outputs": [],
   "source": []
  }
 ],
 "metadata": {
  "kernelspec": {
   "display_name": "Python 3",
   "language": "python",
   "name": "python3"
  },
  "language_info": {
   "codemirror_mode": {
    "name": "ipython",
    "version": 3
   },
   "file_extension": ".py",
   "mimetype": "text/x-python",
   "name": "python",
   "nbconvert_exporter": "python",
   "pygments_lexer": "ipython3",
   "version": "3.6.1"
  }
 },
 "nbformat": 4,
 "nbformat_minor": 2
}
