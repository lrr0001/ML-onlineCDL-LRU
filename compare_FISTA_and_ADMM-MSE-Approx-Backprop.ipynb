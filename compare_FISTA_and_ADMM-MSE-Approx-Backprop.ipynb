{
 "cells": [
  {
   "cell_type": "code",
   "execution_count": 1,
   "metadata": {
    "collapsed": true
   },
   "outputs": [],
   "source": [
    "import pickle as pkl\n",
    "import tensorflow as tf\n",
    "outputs_csc_fista = []\n",
    "output_jpeg_art_removal_fista = []\n",
    "fista_csc_times = []\n",
    "checkpointfilename = 'ML_FISTA_checkpoint_epoch_{ii:02d}'\n",
    "for ii in range(1,97):\n",
    "    fid = open('data/experiment/BSDS500/experiment1/times/' + checkpointfilename.format(ii = ii) + '.pklML_FISTA_lpstz64.0_iter48_times.pkl','rb')\n",
    "    outputs_csc_fista.append(pkl.load(fid))\n",
    "    output_jpeg_art_removal_fista.append(pkl.load(fid))\n",
    "    fista_csc_times.append(pkl.load(fid))\n",
    "fid.close()"
   ]
  },
  {
   "cell_type": "code",
   "execution_count": 2,
   "metadata": {
    "collapsed": true
   },
   "outputs": [],
   "source": [
    "outputs_csc_admm = []\n",
    "output_jpeg_art_removal_admm = []\n",
    "admm_csc_times = []\n",
    "checkpointfilename = 'ML_LRA_checkpoint_epoch_{epoch:02d}'\n",
    "for ii in range(1,97):\n",
    "    fid = open('data/experiment/BSDS500/experiment1/times/' + checkpointfilename.format(epoch=ii) + '.ckpt.pklML_ADMM_rho1_iter16_times.pkl','rb')\n",
    "    outputs_csc_admm.append(pkl.load(fid))\n",
    "    output_jpeg_art_removal_admm.append(pkl.load(fid))\n",
    "    admm_csc_times.append(pkl.load(fid))\n",
    "fid.close()"
   ]
  },
  {
   "cell_type": "code",
   "execution_count": 4,
   "metadata": {
    "collapsed": true
   },
   "outputs": [],
   "source": [
    "fid = open('data/experiment/BSDS500/experiment1/ML_FISTA_times.pkl','rb')\n",
    "drift_output_fista = pkl.load(fid)\n",
    "FISTA_train_times = pkl.load(fid)\n",
    "fid.close()\n",
    "\n",
    "fid = open('data/experiment/BSDS500/experiment1/ML_LRA_times.pkl','rb')\n",
    "drift_output_admm = pkl.load(fid)\n",
    "ADMM_train_times = pkl.load(fid)\n",
    "fid.close()"
   ]
  },
  {
   "cell_type": "code",
   "execution_count": 5,
   "metadata": {},
   "outputs": [
    {
     "name": "stdout",
     "output_type": "stream",
     "text": [
      "160\n",
      "128\n"
     ]
    }
   ],
   "source": [
    "print(len(ADMM_train_times))\n",
    "print(len(FISTA_train_times))"
   ]
  },
  {
   "cell_type": "code",
   "execution_count": 11,
   "metadata": {},
   "outputs": [
    {
     "name": "stdout",
     "output_type": "stream",
     "text": [
      "0.002533234655857086\n",
      "0.005601933225989342\n"
     ]
    }
   ],
   "source": [
    "print(output_jpeg_art_removal_fista[0])\n",
    "print(output_jpeg_art_removal_admm[95])"
   ]
  },
  {
   "cell_type": "code",
   "execution_count": 15,
   "metadata": {},
   "outputs": [
    {
     "data": {
      "image/png": "[encoded data removed]",
      "text/plain": [
       "<matplotlib.figure.Figure at 0x7f46bc4fde48>"
      ]
     },
     "metadata": {},
     "output_type": "display_data"
    }
   ],
   "source": [
    "import matplotlib.pyplot as plt\n",
    "import numpy as np\n",
    "%matplotlib inline\n",
    "plt.plot(np.cumsum(np.array(ADMM_train_times[0:32])),np.array(output_jpeg_art_removal_admm[0:32]))\n",
    "plt.plot(np.cumsum(np.array(FISTA_train_times[0:32])),np.array(output_jpeg_art_removal_fista[0:32]))\n",
    "plt.show()"
   ]
  },
  {
   "cell_type": "code",
   "execution_count": 1,
   "metadata": {},
   "outputs": [
    {
     "name": "stdout",
     "output_type": "stream",
     "text": [
      "0.0657309889793396\n",
      "0.0657309889793396\n"
     ]
    }
   ],
   "source": [
    "import tensorflow as tf\n",
    "import pickle as pkl\n",
    "checkpointfilename = 'ML_FISTA_checkpoint_epoch_{ii:02d}'\n",
    "fid = open('data/experiment/BSDS500/experiment1/times/' + checkpointfilename.format(ii = 98) + '.pklML_FISTA_lpstz64.0_iter48_times.pkl','rb')\n",
    "outputs_csc_fista98 = pkl.load(fid)\n",
    "output_jpeg_art_removal_fista98 = pkl.load(fid)\n",
    "fid.close()\n",
    "\n",
    "fid = open('data/experiment/BSDS500/experiment1/times/' + checkpointfilename.format(ii = 99) + '.pklML_FISTA_lpstz64.0_iter48_times.pkl','rb')\n",
    "outputs_csc_fista99 = pkl.load(fid)\n",
    "output_jpeg_art_removal_fista99 = pkl.load(fid)\n",
    "fid.close()\n",
    "\n",
    "print(output_jpeg_art_removal_fista98)\n",
    "print(output_jpeg_art_removal_fista99)"
   ]
  },
  {
   "cell_type": "code",
   "execution_count": null,
   "metadata": {
    "collapsed": true
   },
   "outputs": [],
   "source": []
  }
 ],
 "metadata": {
  "kernelspec": {
   "display_name": "Python 3",
   "language": "python",
   "name": "python3"
  },
  "language_info": {
   "codemirror_mode": {
    "name": "ipython",
    "version": 3
   },
   "file_extension": ".py",
   "mimetype": "text/x-python",
   "name": "python",
   "nbconvert_exporter": "python",
   "pygments_lexer": "ipython3",
   "version": "3.6.1"
  }
 },
 "nbformat": 4,
 "nbformat_minor": 2
}
