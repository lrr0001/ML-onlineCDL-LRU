{
 "cells": [
  {
   "cell_type": "code",
   "execution_count": 1,
   "metadata": {
    "collapsed": true
   },
   "outputs": [],
   "source": [
    "import tensorflow as tf\n",
    "import jpeg_related_functions as jrf\n",
    "import ML_ADMM_2d as mlcsc\n",
    "import numpy as np\n",
    "import pickle as pkl\n",
    "import datetime\n",
    "import util"
   ]
  },
  {
   "cell_type": "code",
   "execution_count": 2,
   "metadata": {
    "collapsed": true
   },
   "outputs": [],
   "source": [
    "rho = 1.\n",
    "alpha_init = 1.5\n",
    "mu_init = 1.\n",
    "b_init = 0.\n",
    "lraParam = {'n_components': 4}\n",
    "cmplxdtype = tf.complex128 # This should really be elsewhere.\n",
    "batch_size = 1\n",
    "noe_per_save = 1\n",
    "num_of_saves = 2\n",
    "step_size = 0.1"
   ]
  },
  {
   "cell_type": "code",
   "execution_count": 3,
   "metadata": {
    "collapsed": true
   },
   "outputs": [],
   "source": [
    "databasename = 'simpleTest/'\n",
    "experimentpath = 'data/experiment/' + databasename + 'experiment1/'\n",
    "def checkpointfilename(ii):\n",
    "    return 'checkpoint_epoch' + str(ii) + '.ckpt'\n",
    "modelfilename = 'initial_model.ckpt'\n",
    "fid = open(experimentpath + 'problem_param.pckl','rb')\n",
    "problem_param = pkl.load(fid)\n",
    "fid.close()\n",
    "data_param = problem_param['data_param']\n",
    "#targetSz = data_param['target_size']\n",
    "targetSz = (32,32)\n",
    "qY = data_param['qY']\n",
    "qUV = data_param['qUV']\n",
    "strides = problem_param['stride']\n",
    "fltrSz = problem_param['fltrSz']\n",
    "real_dtype = data_param['dtype']\n",
    "noi = problem_param['noi']\n",
    "noL = problem_param['noL']\n",
    "noc = problem_param['noc']\n",
    "datapath = problem_param['datapath']\n",
    "trainfile = problem_param['trainfile']\n",
    "#padding = data_param['padding']\n",
    "padding = ((13,13),(13,13))\n"
   ]
  },
  {
   "cell_type": "code",
   "execution_count": 4,
   "metadata": {},
   "outputs": [
    {
     "name": "stdout",
     "output_type": "stream",
     "text": [
      "((8, 7), (8, 7))\n"
     ]
    }
   ],
   "source": [
    "cropAndMerge = mlcsc.CropPadObject(targetSz,strides,[np.asarray(ks) for ks in fltrSz],real_dtype)\n",
    "paddingTuple = cropAndMerge.paddingTuple\n",
    "fftSz = cropAndMerge.get_fft_size(targetSz,strides)\n",
    "paddingDiff = ((padding[0][0] - paddingTuple[0][0],padding[0][1] - paddingTuple[0][1]),(padding[1][0] - paddingTuple[1][0],padding[1][1] - paddingTuple[1][1]))\n",
    "assert(paddingDiff[0][0] >= 0)\n",
    "assert(paddingDiff[0][1] >= 0)\n",
    "assert(paddingDiff[1][0] >= 0)\n",
    "assert(paddingDiff[1][1] >= 0)\n",
    "print(paddingDiff)\n"
   ]
  },
  {
   "cell_type": "code",
   "execution_count": 5,
   "metadata": {
    "collapsed": true
   },
   "outputs": [],
   "source": [
    "startr = paddingDiff[0][0]\n",
    "startc = paddingDiff[1][0]\n",
    "endr = targetSz[0] + padding[0][0] + padding[0][1] - paddingDiff[0][1]\n",
    "endc = targetSz[1] + padding[1][0] + padding[1][1] - paddingDiff[1][1]\n",
    "example_structure = {'highpass': tf.io.FixedLenFeature([], tf.string), 'lowpass': tf.io.FixedLenFeature([], tf.string), 'compressed': tf.io.FixedLenFeature([], tf.string),'raw': tf.io.FixedLenFeature([], tf.string)}\n",
    "\n",
    "def restore_double(x):\n",
    "    return tf.io.parse_tensor(x,real_dtype)\n",
    "\n",
    "def _parse_image_function(example_proto):\n",
    "    x = tf.io.parse_single_example(example_proto, example_structure)\n",
    "    highpass = restore_double(x['highpass'])\n",
    "    lowpass = restore_double(x['lowpass'])\n",
    "    return ((highpass[slice(startr,endr),slice(startc,endc),slice(None)],lowpass[slice(startr,endr),slice(startc,endc),slice(None)],restore_double(x['compressed'])),restore_double(x['raw']))\n",
    "\n",
    "raw_dataset = tf.data.TFRecordDataset([datapath + trainfile])\n",
    "dataset = raw_dataset.map(_parse_image_function)\n",
    "dataset_batch = dataset.batch(batch_size)\n"
   ]
  },
  {
   "cell_type": "code",
   "execution_count": 6,
   "metadata": {},
   "outputs": [
    {
     "name": "stdout",
     "output_type": "stream",
     "text": [
      "(1, 43, 43, 1)\n",
      "(1, 43, 43, 1)\n",
      "(1, 32, 32, 1)\n",
      "(1, 32, 32, 3)\n",
      "tf.Tensor(0.0, shape=(), dtype=float64)\n",
      "(1, 32, 32, 1)\n",
      "(1, 32, 32, 1)\n",
      "(1, 32, 32, 1)\n",
      "tf.Tensor(0.0, shape=(), dtype=float64)\n",
      "tf.Tensor(0.8356980392156863, shape=(), dtype=float64)\n",
      "tf.Tensor(0.3130117647058823, shape=(), dtype=float64)\n"
     ]
    }
   ],
   "source": [
    "for (x,y) in dataset_batch:\n",
    "    print(x[0].shape)\n",
    "    print(x[1].shape)\n",
    "    print(x[2].shape)\n",
    "    print(y.shape)\n",
    "    print(tf.reduce_max(tf.abs(cropAndMerge.crop(x[0]) + cropAndMerge.crop(x[1]) - x[2])))\n",
    "    croppedHighpass = x[0][slice(None),slice(paddingTuple[0][0], paddingTuple[0][0] + targetSz[0]),slice(paddingTuple[1][0],paddingTuple[1][0] + targetSz[1]),slice(None)]\n",
    "    croppedLowpass = x[1][slice(None),slice(paddingTuple[0][0],paddingTuple[0][0] + targetSz[0]),slice(paddingTuple[1][0],paddingTuple[1][0] + targetSz[1]),slice(None)]\n",
    "    print(croppedHighpass.shape)\n",
    "    print(croppedLowpass.shape)\n",
    "    print(x[2].shape)\n",
    "    print(tf.reduce_max(tf.abs(croppedHighpass + croppedLowpass - x[2])))\n",
    "    print(tf.reduce_max(x[2]))\n",
    "    print(tf.reduce_min(x[2]))\n",
    "    break"
   ]
  },
  {
   "cell_type": "code",
   "execution_count": 7,
   "metadata": {},
   "outputs": [],
   "source": [
    "#   ******** BUILD MODEL ********\n",
    "CSC = mlcsc.MultiLayerCSC(rho,alpha_init,mu_init,b_init,cropAndMerge,fftSz,strides,problem_param['D'],lraParam,noi,noL,cmplxdtype)"
   ]
  },
  {
   "cell_type": "code",
   "execution_count": 8,
   "metadata": {},
   "outputs": [],
   "source": [
    "highpassShape = (targetSz[0] + paddingTuple[0][0] + paddingTuple[0][1],targetSz[1] + paddingTuple[1][0] + paddingTuple[1][1],noc)\n",
    "highpass = tf.keras.Input(shape=highpassShape,dtype=real_dtype)\n",
    "lowpass = tf.keras.Input(shape = highpassShape,dtype = real_dtype)\n",
    "compressed = tf.keras.Input(shape = (targetSz[0],targetSz[1],noc),dtype= real_dtype)\n",
    "inputs = (highpass,lowpass,compressed)\n",
    "\n",
    "reconstruction,itstats = CSC(inputs)\n",
    "#rgb_reconstruction = jrf.YUV2RGB(dtype=real_dtype)(reconstruction)\n",
    "#clipped_reconstruction = util.clip(a = 0.,b = 1.,dtype=real_dtype)(rgb_reconstruction)\n",
    "import post_process_grad as ppg\n",
    "model = ppg.Model_PostProcess(inputs,reconstruction)"
   ]
  },
  {
   "cell_type": "code",
   "execution_count": 9,
   "metadata": {
    "collapsed": true
   },
   "outputs": [],
   "source": [
    "for (x,y) in dataset_batch:\n",
    "    x_input = x\n",
    "    x_output = y\n",
    "    break\n",
    "\n"
   ]
  },
  {
   "cell_type": "code",
   "execution_count": null,
   "metadata": {
    "collapsed": true
   },
   "outputs": [],
   "source": []
  },
  {
   "cell_type": "code",
   "execution_count": 10,
   "metadata": {
    "collapsed": true
   },
   "outputs": [],
   "source": [
    "s = CSC.preprocess(x_input)\n",
    "#y,u,By,negC,itstats = CSC.init_vars(s)\n"
   ]
  },
  {
   "cell_type": "code",
   "execution_count": 11,
   "metadata": {},
   "outputs": [
    {
     "name": "stdout",
     "output_type": "stream",
     "text": [
      "negC_shape:  (1, 32, 32, 1)\n",
      "s_HP_shape:  (1, 43, 43, 1)\n",
      "x[0]_shape:  (1, 43, 43, 64, 1)\n",
      "Ax_layer[0]_shape:  (1, 43, 43, 64, 1)\n",
      "v_shape:  (1, 43, 43, 1, 1)\n",
      "z[0]_shape (1, 43, 43, 64, 1)\n",
      "eta_shape:  (1, 32, 32, 1)\n",
      "gamma[0]_shape:  (1, 43, 43, 64, 1)\n"
     ]
    }
   ],
   "source": [
    "negC = CSC.get_negative_C(s)\n",
    "temp,s_crop = negC\n",
    "print('negC_shape: ',s_crop.shape)\n",
    "x,Ax = CSC.init_x(s,negC)\n",
    "s_HP,s_LP,cmprssd = s\n",
    "print('s_HP_shape: ',s_HP.shape)\n",
    "print('x[0]_shape: ',x[0].shape)\n",
    "print('Ax_layer[0]_shape: ',Ax[1][0].shape)\n",
    "y,By = CSC.init_y(s,x,Ax,negC)\n",
    "v,z = y\n",
    "print('v_shape: ',v.shape)\n",
    "print('z[0]_shape',z[0].shape)\n",
    "u = CSC.init_u(s,Ax,By,negC)\n",
    "eta,gamma = u\n",
    "print('eta_shape: ',eta.shape)\n",
    "print('gamma[0]_shape: ',gamma[0].shape)\n",
    "itstats = CSC.init_itstats(s)"
   ]
  },
  {
   "cell_type": "code",
   "execution_count": null,
   "metadata": {
    "collapsed": true
   },
   "outputs": [],
   "source": []
  },
  {
   "cell_type": "code",
   "execution_count": 12,
   "metadata": {
    "collapsed": true
   },
   "outputs": [],
   "source": [
    "v,z = y\n",
    "eta,gamma = u\n",
    "Bzero,Bz = By\n"
   ]
  },
  {
   "cell_type": "markdown",
   "metadata": {},
   "source": [
    "Currently, eta is the only variable with the correct shape.  Need to figure out what went wrong in initialization."
   ]
  },
  {
   "cell_type": "code",
   "execution_count": 13,
   "metadata": {},
   "outputs": [
    {
     "name": "stdout",
     "output_type": "stream",
     "text": [
      "v_shape:  (1, 43, 43, 1, 1)\n",
      "z[0]_shape:  (1, 43, 43, 64, 1)\n",
      "eta_shape:  (1, 32, 32, 1)\n",
      "Bz[0].shape:  (1, 43, 43, 64, 1)\n"
     ]
    }
   ],
   "source": [
    "print('v_shape: ',v.shape)\n",
    "print('z[0]_shape: ',z[0].shape)\n",
    "#print('z[1].shape: ',z[1].shape)\n",
    "print('eta_shape: ',eta.shape)\n",
    "print('Bz[0].shape: ',Bz[0].shape)\n",
    "#print('Bz[1].shape: ',Bz[1].shape)"
   ]
  },
  {
   "cell_type": "code",
   "execution_count": 14,
   "metadata": {},
   "outputs": [
    {
     "name": "stdout",
     "output_type": "stream",
     "text": [
      "representation error:  tf.Tensor(2547.8064191911635, shape=(), dtype=float64)\n",
      "coefficient_penalty:  tf.Tensor(0.0, shape=(), dtype=float64)\n",
      "constraint penalty:  tf.Tensor(0.0, shape=(), dtype=float64)\n",
      "u correction:  tf.Tensor(0.0, shape=(), dtype=float64)\n",
      "representation error:  tf.Tensor(0.5797596597731528, shape=(), dtype=float64)\n",
      "coefficient_penalty:  tf.Tensor(0.0, shape=(), dtype=float64)\n",
      "constraint penalty:  tf.Tensor(37.59628552326879, shape=(), dtype=float64)\n",
      "u correction:  tf.Tensor(0.0, shape=(), dtype=float64)\n",
      "x-step improvement:  tf.Tensor(2509.6303740081216, shape=(), dtype=float64)\n"
     ]
    }
   ],
   "source": [
    "prevLrho = CSC.evaluateLagrangian(s,x,y,u,Ax,By,negC)\n",
    "x,Ax = CSC.xstep(y,u,By,negC)\n",
    "postLrho = CSC.evaluateLagrangian(s,x,y,u,Ax,By,negC)\n",
    "print('x-step improvement: ',prevLrho - postLrho)"
   ]
  },
  {
   "cell_type": "code",
   "execution_count": 15,
   "metadata": {},
   "outputs": [
    {
     "name": "stdout",
     "output_type": "stream",
     "text": [
      "z_prevlayer_shape:  (1, 43, 43, 1, 1)\n",
      "z_over_R_shape:  (1, 43, 43, 64, 1)\n",
      "gamma_scaled:  (1, 43, 43, 64, 1)\n",
      "x[0]_shape:  (1, 43, 43, 64, 1)\n",
      "Ax_layers[0]_shape:  (1, 43, 43, 64, 1)\n"
     ]
    }
   ],
   "source": [
    "\n",
    "x,Ax = CSC.xstep(y,u,By,negC)\n",
    "print('x[0]_shape: ',x[0].shape)\n",
    "temp,Ax_layers = Ax\n",
    "print('Ax_layers[0]_shape: ',Ax_layers[0].shape)\n",
    "#uhalf = CSC.relax(u,Ax,By,negC)"
   ]
  },
  {
   "cell_type": "code",
   "execution_count": 16,
   "metadata": {},
   "outputs": [
    {
     "name": "stdout",
     "output_type": "stream",
     "text": [
      "z_over_R shape:  (1, 43, 43, 64, 1)\n"
     ]
    }
   ],
   "source": [
    "uhalf = CSC.relax(u,Ax,By,negC)"
   ]
  },
  {
   "cell_type": "code",
   "execution_count": null,
   "metadata": {
    "collapsed": true
   },
   "outputs": [],
   "source": []
  },
  {
   "cell_type": "code",
   "execution_count": 17,
   "metadata": {},
   "outputs": [
    {
     "name": "stdout",
     "output_type": "stream",
     "text": [
      "x_0_shape:  (1, 43, 43, 64, 1)\n",
      "Dx_shape:  (1, 43, 43, 1, 1)\n"
     ]
    }
   ],
   "source": [
    "y,By = CSC.ystep(x,uhalf,Ax,negC)"
   ]
  },
  {
   "cell_type": "code",
   "execution_count": 18,
   "metadata": {},
   "outputs": [
    {
     "name": "stdout",
     "output_type": "stream",
     "text": [
      "v_shape:  (1, 43, 43, 1, 1)\n",
      "z[0]_shape:  (1, 43, 43, 64, 1)\n",
      "Bzero:  (1, 32, 32, 1)\n",
      "Bz[0]_shape:  (1, 43, 43, 64, 1)\n"
     ]
    }
   ],
   "source": [
    "v,z = y\n",
    "print('v_shape: ',v.shape)\n",
    "print('z[0]_shape: ',z[0].shape)\n",
    "Bzero,Bz = By\n",
    "print('Bzero: ',Bzero.shape)\n",
    "print('Bz[0]_shape: ',Bz[0].shape)"
   ]
  },
  {
   "cell_type": "code",
   "execution_count": 19,
   "metadata": {},
   "outputs": [
    {
     "name": "stdout",
     "output_type": "stream",
     "text": [
      "z_over_R shape:  (1, 43, 43, 64, 1)\n"
     ]
    }
   ],
   "source": [
    "u = CSC.ustep(uhalf,Ax,By,negC)"
   ]
  },
  {
   "cell_type": "code",
   "execution_count": 20,
   "metadata": {},
   "outputs": [
    {
     "name": "stdout",
     "output_type": "stream",
     "text": [
      "eta:  (1, 32, 32, 1)\n",
      "gamma[0]:  (1, 43, 43, 64, 1)\n"
     ]
    }
   ],
   "source": [
    "eta,gamma = u\n",
    "print('eta: ',eta.shape)\n",
    "print('gamma[0]: ',gamma[0].shape)"
   ]
  },
  {
   "cell_type": "code",
   "execution_count": 44,
   "metadata": {},
   "outputs": [
    {
     "name": "stdout",
     "output_type": "stream",
     "text": [
      "representation error:  tf.Tensor(0.020492074534204673, shape=(), dtype=float64)\n",
      "coefficient_penalty:  tf.Tensor(0.0, shape=(), dtype=float64)\n",
      "constraint penalty:  tf.Tensor(0.01560936235301518, shape=(), dtype=float64)\n",
      "u correction:  tf.Tensor(0.02049207453420467, shape=(), dtype=float64)\n",
      "representation error:  tf.Tensor(0.009185449357758637, shape=(), dtype=float64)\n",
      "coefficient_penalty:  tf.Tensor(0.0, shape=(), dtype=float64)\n",
      "constraint penalty:  tf.Tensor(0.014750875584470219, shape=(), dtype=float64)\n",
      "u correction:  tf.Tensor(0.02049207453420467, shape=(), dtype=float64)\n",
      "x-step improvement:  tf.Tensor(0.012165111944990998, shape=(), dtype=float64)\n"
     ]
    }
   ],
   "source": [
    "prevLrho = CSC.evaluateLagrangian(s,x,y,u,Ax,By,negC)\n",
    "x,Ax = CSC.xstep(y,u,By,negC)\n",
    "postLrho = CSC.evaluateLagrangian(s,x,y,u,Ax,By,negC)\n",
    "print('x-step improvement: ',prevLrho - postLrho)"
   ]
  },
  {
   "cell_type": "code",
   "execution_count": 45,
   "metadata": {},
   "outputs": [
    {
     "name": "stdout",
     "output_type": "stream",
     "text": [
      "representation error:  tf.Tensor(0.009185449357758637, shape=(), dtype=float64)\n",
      "coefficient_penalty:  tf.Tensor(0.0, shape=(), dtype=float64)\n",
      "constraint penalty:  tf.Tensor(0.014750875584470219, shape=(), dtype=float64)\n",
      "u correction:  tf.Tensor(0.02049207453420467, shape=(), dtype=float64)\n",
      "representation error:  tf.Tensor(0.009185449357758637, shape=(), dtype=float64)\n",
      "coefficient_penalty:  tf.Tensor(0.0, shape=(), dtype=float64)\n",
      "constraint penalty:  tf.Tensor(0.01462838413797657, shape=(), dtype=float64)\n",
      "u correction:  tf.Tensor(0.016005097378995598, shape=(), dtype=float64)\n",
      "relax-step ascent:  tf.Tensor(0.004364485708715424, shape=(), dtype=float64)\n"
     ]
    }
   ],
   "source": [
    "prevLrho = CSC.evaluateLagrangian(s,x,y,u,Ax,By,negC)\n",
    "uhalf = CSC.relax(u,Ax,By,negC)\n",
    "postLrho = CSC.evaluateLagrangian(s,x,y,u,Ax,By,negC)\n",
    "print('relax-step ascent: ',postLrho - prevLrho)"
   ]
  },
  {
   "cell_type": "code",
   "execution_count": 46,
   "metadata": {},
   "outputs": [
    {
     "name": "stdout",
     "output_type": "stream",
     "text": [
      "representation error:  tf.Tensor(0.009185449357758637, shape=(), dtype=float64)\n",
      "coefficient_penalty:  tf.Tensor(0.0, shape=(), dtype=float64)\n",
      "constraint penalty:  tf.Tensor(0.016728446037090776, shape=(), dtype=float64)\n",
      "u correction:  tf.Tensor(0.016005418416841517, shape=(), dtype=float64)\n",
      "representation error:  tf.Tensor(0.008175248874814448, shape=(), dtype=float64)\n",
      "coefficient_penalty:  tf.Tensor(0.0, shape=(), dtype=float64)\n",
      "constraint penalty:  tf.Tensor(0.008175248874814446, shape=(), dtype=float64)\n",
      "u correction:  tf.Tensor(0.016005418416841517, shape=(), dtype=float64)\n",
      "y-step improvement:  tf.Tensor(0.00956339764522052, shape=(), dtype=float64)\n"
     ]
    }
   ],
   "source": [
    "prevLrho = CSC.evaluateLagrangian(s,x,y,uhalf,Ax,By,negC)\n",
    "y,By = CSC.ystep(x,uhalf,Ax,negC)\n",
    "postLrho = CSC.evaluateLagrangian(s,x,y,uhalf,Ax,By,negC)\n",
    "print('y-step improvement: ',prevLrho - postLrho)"
   ]
  },
  {
   "cell_type": "code",
   "execution_count": 47,
   "metadata": {},
   "outputs": [
    {
     "name": "stdout",
     "output_type": "stream",
     "text": [
      "representation error:  tf.Tensor(0.008175248874814448, shape=(), dtype=float64)\n",
      "coefficient_penalty:  tf.Tensor(0.0, shape=(), dtype=float64)\n",
      "constraint penalty:  tf.Tensor(0.008175248874814446, shape=(), dtype=float64)\n",
      "u correction:  tf.Tensor(0.016005418416841517, shape=(), dtype=float64)\n",
      "representation error:  tf.Tensor(0.008175248874814448, shape=(), dtype=float64)\n",
      "coefficient_penalty:  tf.Tensor(0.0, shape=(), dtype=float64)\n",
      "constraint penalty:  tf.Tensor(0.005131736323885744, shape=(), dtype=float64)\n",
      "u correction:  tf.Tensor(0.008175248874814446, shape=(), dtype=float64)\n",
      "u-step ascent:  tf.Tensor(0.00478665699109837, shape=(), dtype=float64)\n"
     ]
    }
   ],
   "source": [
    "prevLrho = CSC.evaluateLagrangian(s,x,y,uhalf,Ax,By,negC)\n",
    "u = CSC.ustep(uhalf,Ax,By,negC)\n",
    "postLrho = CSC.evaluateLagrangian(s,x,y,u,Ax,By,negC)\n",
    "print('u-step ascent: ',postLrho - prevLrho)"
   ]
  },
  {
   "cell_type": "code",
   "execution_count": 25,
   "metadata": {},
   "outputs": [
    {
     "name": "stdout",
     "output_type": "stream",
     "text": [
      "z_prevlayer_shape:  (1, 43, 43, 1, 1)\n",
      "z_over_R_shape:  (1, 43, 43, 64, 1)\n",
      "gamma_scaled:  (1, 43, 43, 64, 1)\n"
     ]
    }
   ],
   "source": [
    "recon,itstats = CSC.get_output(s,y,u,By,negC,itstats)"
   ]
  },
  {
   "cell_type": "code",
   "execution_count": null,
   "metadata": {
    "collapsed": true
   },
   "outputs": [],
   "source": []
  },
  {
   "cell_type": "code",
   "execution_count": 26,
   "metadata": {},
   "outputs": [
    {
     "name": "stdout",
     "output_type": "stream",
     "text": [
      "reconstruction shape:  (1, 32, 32, 1)\n"
     ]
    }
   ],
   "source": [
    "print('reconstruction shape: ',recon.shape)"
   ]
  },
  {
   "cell_type": "code",
   "execution_count": 28,
   "metadata": {},
   "outputs": [
    {
     "name": "stdout",
     "output_type": "stream",
     "text": [
      "tf.Tensor(\n",
      "[[ 0.00490738 -0.00079559 -0.00415624 ... -0.00111578  0.00632462\n",
      "  -0.00028782]\n",
      " [ 0.00072433  0.00372026 -0.00019936 ... -0.00295287  0.00408502\n",
      "   0.00251622]\n",
      " [-0.00468046  0.00226176  0.00451841 ... -0.00278403  0.00437679\n",
      "   0.00306845]\n",
      " ...\n",
      " [ 0.01366035 -0.02009781 -0.04009321 ...  0.01051766  0.03056033\n",
      "   0.00250439]\n",
      " [ 0.0241707  -0.02778589 -0.05770399 ...  0.00513901  0.01316197\n",
      "   0.00043285]\n",
      " [-0.00786007 -0.00377695 -0.02170688 ...  0.04112047  0.0645502\n",
      "   0.01402913]], shape=(32, 32), dtype=float64)\n"
     ]
    }
   ],
   "source": [
    "print(tf.reshape(recon,(32,32)))"
   ]
  },
  {
   "cell_type": "code",
   "execution_count": 23,
   "metadata": {},
   "outputs": [
    {
     "name": "stdout",
     "output_type": "stream",
     "text": [
      "tf.Tensor(39227.8656928235, shape=(), dtype=float64)\n"
     ]
    }
   ],
   "source": [
    "v,z = y\n",
    "Bv,Bz = By\n",
    "\n",
    "augLangafter = mu/2*CSC.reconstructionTerm(CSC.IFFT[0](v),Dx) + CSC.jpegConstraint_relaxed(eta,Azero,Bv)\n",
    "\n",
    "print(augLangbefore - augLangafter)"
   ]
  },
  {
   "cell_type": "code",
   "execution_count": 24,
   "metadata": {
    "collapsed": true
   },
   "outputs": [],
   "source": [
    "u = CSC.ustep(u,Ax_relaxed,By,negC)"
   ]
  },
  {
   "cell_type": "code",
   "execution_count": null,
   "metadata": {
    "collapsed": true
   },
   "outputs": [],
   "source": []
  },
  {
   "cell_type": "code",
   "execution_count": null,
   "metadata": {
    "collapsed": true
   },
   "outputs": [],
   "source": []
  },
  {
   "cell_type": "code",
   "execution_count": 10,
   "metadata": {
    "collapsed": true
   },
   "outputs": [],
   "source": [
    "s = CSC.preprocess(x_input)\n",
    "y,u,By,negC,itstats = CSC.init_vars(s)\n"
   ]
  },
  {
   "cell_type": "code",
   "execution_count": 11,
   "metadata": {
    "collapsed": true
   },
   "outputs": [],
   "source": [
    "x,Ax = CSC.xstep(y,u,By,negC)\n",
    "Ax_relaxed = CSC.relax(Ax,By,negC)"
   ]
  },
  {
   "cell_type": "code",
   "execution_count": 12,
   "metadata": {
    "collapsed": true
   },
   "outputs": [],
   "source": [
    "rho = CSC.rho\n",
    "#if CSC.strides[0] == 2:\n",
    "#    mu = CSC.updateZ[0][0].mu\n",
    "#else:\n",
    "mu = CSC.updateZ_lastlayer.mu\n",
    "Azero,Ax = Ax_relaxed\n",
    "v,z = y\n",
    "Bv,Bz = By\n",
    "eta,gamma = u\n",
    "Dx = CSC.IFFT[0](CSC.dictObj[0].dmul(x[0]))\n",
    "augLangbefore = mu/2*CSC.reconstructionTerm(CSC.IFFT[0](v),Dx) + CSC.jpegConstraint_relaxed(eta,Azero,Bv)"
   ]
  },
  {
   "cell_type": "code",
   "execution_count": 13,
   "metadata": {},
   "outputs": [
    {
     "name": "stdout",
     "output_type": "stream",
     "text": [
      "tf.Tensor(161593.26288551564, shape=(), dtype=float64)\n"
     ]
    }
   ],
   "source": [
    "import util\n",
    "vplus_LF,Bv = CSC.updatev((CSC.cropAndMerge.crop(tf.squeeze(Dx,axis=-1)) + CSC.cropAndMerge.crop(x_input[1]),Azero,eta))\n",
    "v_small = vplus_LF - CSC.cropAndMerge.crop(x_input[1])\n",
    "v = CSC.cropAndMerge.merge((v_small,tf.squeeze(Dx,axis=-1)))\n",
    "augLangafter = mu/2*CSC.reconstructionTerm(v,tf.squeeze(Dx,axis=-1)) + CSC.jpegConstraint_relaxed(eta,Azero,Bv)\n",
    "print(augLangbefore - augLangafter)\n",
    "y = (CSC.FFT[0](util.addDim(v)),Bv)"
   ]
  },
  {
   "cell_type": "code",
   "execution_count": null,
   "metadata": {
    "collapsed": true
   },
   "outputs": [],
   "source": [
    "u = CSC.ustep(u,Ax_relaxed,By,negC)"
   ]
  },
  {
   "cell_type": "code",
   "execution_count": 23,
   "metadata": {},
   "outputs": [
    {
     "name": "stdout",
     "output_type": "stream",
     "text": [
      "tf.Tensor(1.0, shape=(), dtype=float64)\n",
      "tf.Tensor(1.0, shape=(), dtype=float64)\n",
      "<tf.Variable 'Variable:0' shape=() dtype=float64, numpy=1.0>\n",
      "<tf.Variable 'Variable:0' shape=() dtype=float64, numpy=1.0>\n"
     ]
    }
   ],
   "source": [
    "print(rho)\n",
    "print(CSC.updatev.rho)\n",
    "print(CSC.updatev.mu)\n",
    "print(mu)"
   ]
  },
  {
   "cell_type": "code",
   "execution_count": null,
   "metadata": {
    "collapsed": true
   },
   "outputs": [],
   "source": []
  },
  {
   "cell_type": "code",
   "execution_count": null,
   "metadata": {
    "collapsed": true
   },
   "outputs": [],
   "source": []
  },
  {
   "cell_type": "code",
   "execution_count": null,
   "metadata": {
    "collapsed": true
   },
   "outputs": [],
   "source": []
  },
  {
   "cell_type": "code",
   "execution_count": null,
   "metadata": {
    "collapsed": true
   },
   "outputs": [],
   "source": []
  },
  {
   "cell_type": "code",
   "execution_count": null,
   "metadata": {
    "collapsed": true
   },
   "outputs": [],
   "source": []
  },
  {
   "cell_type": "code",
   "execution_count": 10,
   "metadata": {
    "collapsed": true
   },
   "outputs": [],
   "source": [
    "s = CSC.preprocess(x_input)\n",
    "y,u,By,negC,itstats = CSC.init_vars(s)\n"
   ]
  },
  {
   "cell_type": "code",
   "execution_count": 15,
   "metadata": {
    "collapsed": true
   },
   "outputs": [],
   "source": [
    "x,Ax = CSC.xstep(y,u,By,negC)"
   ]
  },
  {
   "cell_type": "code",
   "execution_count": 16,
   "metadata": {
    "collapsed": true
   },
   "outputs": [],
   "source": [
    "Ax_relaxed = CSC.relax(Ax,By,negC)"
   ]
  },
  {
   "cell_type": "code",
   "execution_count": 17,
   "metadata": {},
   "outputs": [
    {
     "name": "stdout",
     "output_type": "stream",
     "text": [
      "y-step improvement:  tf.Tensor(9243.85075034016, shape=(), dtype=float64)\n"
     ]
    }
   ],
   "source": [
    "beforeyupdate = CSC.evaluateRelaxedLagrangian(x,y,u,Ax_relaxed,By,negC)\n",
    "#beforeyupdate = CSC.evaluateLagrangian(x,y,u,By,negC)\n",
    "y,By = CSC.ystep(x,u,Ax_relaxed,negC)\n",
    "#afteryupdate = CSC.evaluateLagrangian(x,y,u,By,negC)\n",
    "afteryupdate = CSC.evaluateRelaxedLagrangian(x,y,u,Ax_relaxed,By,negC)\n",
    "\n",
    "print('y-step improvement: ',beforeyupdate - afteryupdate)"
   ]
  },
  {
   "cell_type": "code",
   "execution_count": 18,
   "metadata": {
    "collapsed": true
   },
   "outputs": [],
   "source": [
    "u = CSC.ustep(u,Ax_relaxed,By,negC)"
   ]
  },
  {
   "cell_type": "code",
   "execution_count": 19,
   "metadata": {},
   "outputs": [
    {
     "name": "stdout",
     "output_type": "stream",
     "text": [
      "x-step improvement:  tf.Tensor(10208.252650545322, shape=(), dtype=float64)\n"
     ]
    }
   ],
   "source": [
    "beforexupdate = CSC.evaluateLagrangian(x,y,u,By,negC)\n",
    "x,Ax = CSC.xstep(y,u,By,negC)\n",
    "afterxupdate = CSC.evaluateLagrangian(x,y,u,By,negC)\n",
    "\n",
    "print('x-step improvement: ',beforexupdate - afterxupdate)"
   ]
  },
  {
   "cell_type": "code",
   "execution_count": null,
   "metadata": {
    "collapsed": true
   },
   "outputs": [],
   "source": []
  },
  {
   "cell_type": "code",
   "execution_count": null,
   "metadata": {
    "collapsed": true
   },
   "outputs": [],
   "source": []
  },
  {
   "cell_type": "code",
   "execution_count": null,
   "metadata": {
    "collapsed": true
   },
   "outputs": [],
   "source": []
  },
  {
   "cell_type": "code",
   "execution_count": 21,
   "metadata": {},
   "outputs": [
    {
     "name": "stdout",
     "output_type": "stream",
     "text": [
      "tf.Tensor(0.0, shape=(), dtype=float64)\n"
     ]
    }
   ],
   "source": [
    "print(tf.reduce_max(x_input[2] - CSC.cropAndMerge.crop(CSC.cropAndMerge.merge((x_input[2],x_input[0])))))"
   ]
  },
  {
   "cell_type": "code",
   "execution_count": 22,
   "metadata": {},
   "outputs": [
    {
     "name": "stdout",
     "output_type": "stream",
     "text": [
      "tf.Tensor(0.03007777523421025, shape=(), dtype=float64)\n"
     ]
    }
   ],
   "source": [
    "print(tf.reduce_max(x_input[0] - CSC.cropAndMerge.merge((x_input[2],x_input[0]))))"
   ]
  },
  {
   "cell_type": "code",
   "execution_count": 23,
   "metadata": {},
   "outputs": [
    {
     "name": "stdout",
     "output_type": "stream",
     "text": [
      "tf.Tensor(0.3684579105100836, shape=(), dtype=float64)\n"
     ]
    }
   ],
   "source": [
    "print(tf.reduce_max(x_input[1] - CSC.cropAndMerge.merge((x_input[2],x_input[1]))))"
   ]
  },
  {
   "cell_type": "code",
   "execution_count": 26,
   "metadata": {},
   "outputs": [
    {
     "name": "stdout",
     "output_type": "stream",
     "text": [
      "tf.Tensor(2.7755575615628914e-17, shape=(), dtype=float64)\n"
     ]
    }
   ],
   "source": [
    "print(tf.reduce_max(CSC.cropAndMerge.crop(x_input[0]) + CSC.cropAndMerge.crop(x_input[1]) - x_input[2]))"
   ]
  },
  {
   "cell_type": "code",
   "execution_count": null,
   "metadata": {
    "collapsed": true
   },
   "outputs": [],
   "source": []
  }
 ],
 "metadata": {
  "kernelspec": {
   "display_name": "Python 3",
   "language": "python",
   "name": "python3"
  },
  "language_info": {
   "codemirror_mode": {
    "name": "ipython",
    "version": 3
   },
   "file_extension": ".py",
   "mimetype": "text/x-python",
   "name": "python",
   "nbconvert_exporter": "python",
   "pygments_lexer": "ipython3",
   "version": "3.6.1"
  }
 },
 "nbformat": 4,
 "nbformat_minor": 2
}
