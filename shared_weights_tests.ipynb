{
 "cells": [
  {
   "cell_type": "code",
   "execution_count": 1,
   "metadata": {},
   "outputs": [
    {
     "name": "stdout",
     "output_type": "stream",
     "text": [
      "Epoch 1/8\n",
      "100/100 [==============================] - 0s 2ms/step - loss: 0.6585 - val_loss: 4.4214e-13\n",
      "Epoch 2/8\n",
      "100/100 [==============================] - 0s 769us/step - loss: 3.9980e-13 - val_loss: 4.4214e-13\n",
      "Epoch 3/8\n",
      "100/100 [==============================] - 0s 740us/step - loss: 3.9980e-13 - val_loss: 4.4214e-13\n",
      "Epoch 4/8\n",
      "100/100 [==============================] - 0s 720us/step - loss: 3.9980e-13 - val_loss: 4.4214e-13\n",
      "Epoch 5/8\n",
      "100/100 [==============================] - 0s 798us/step - loss: 3.9980e-13 - val_loss: 4.4214e-13\n",
      "Epoch 6/8\n",
      "100/100 [==============================] - 0s 849us/step - loss: 3.9980e-13 - val_loss: 4.4214e-13\n",
      "Epoch 7/8\n",
      "100/100 [==============================] - 0s 775us/step - loss: 3.9980e-13 - val_loss: 4.4214e-13\n",
      "Epoch 8/8\n",
      "100/100 [==============================] - 0s 707us/step - loss: 3.9980e-13 - val_loss: 4.4214e-13\n"
     ]
    },
    {
     "data": {
      "text/plain": [
       "<tensorflow.python.keras.callbacks.History at 0x7fe0f040bba8>"
      ]
     },
     "execution_count": 1,
     "metadata": {},
     "output_type": "execute_result"
    }
   ],
   "source": [
    "import tensorflow as tf\n",
    "import numpy as np\n",
    "import coupledLayers as cL\n",
    "inputs = tf.keras.layers.Input(shape=(1,))\n",
    "mm = cL.mastermindLayer(-1.)\n",
    "hench = cL.henchmanLayer(mm)\n",
    "x1 = mm(inputs)\n",
    "outputs = hench(x1)\n",
    "model = tf.keras.Model(inputs,outputs)\n",
    "model.compile(optimizer=tf.keras.optimizers.SGD(0.005),loss=tf.keras.losses.MeanSquaredError())\n",
    "x = np.random.randn(1000,1)\n",
    "y = -2*x + 4\n",
    "xval = np.random.randn(100,1)\n",
    "yval = -2*xval + 4\n",
    "model.fit(x=x,y=y,batch_size=10,epochs=8,validation_data=(xval,yval))"
   ]
  },
  {
   "cell_type": "code",
   "execution_count": 1,
   "metadata": {},
   "outputs": [
    {
     "name": "stdout",
     "output_type": "stream",
     "text": [
      "Epoch 1/8\n",
      "100/100 [==============================] - 0s 2ms/step - loss: 0.6550 - val_loss: 9.9634e-13\n",
      "Epoch 2/8\n",
      "100/100 [==============================] - 0s 767us/step - loss: 9.7744e-13 - val_loss: 9.9634e-13\n",
      "Epoch 3/8\n",
      "100/100 [==============================] - 0s 759us/step - loss: 6.7591e-13 - val_loss: 4.4843e-13\n",
      "Epoch 4/8\n",
      "100/100 [==============================] - 0s 818us/step - loss: 4.2294e-13 - val_loss: 4.4843e-13\n",
      "Epoch 5/8\n",
      "100/100 [==============================] - 0s 799us/step - loss: 4.2294e-13 - val_loss: 4.4843e-13\n",
      "Epoch 6/8\n",
      "100/100 [==============================] - 0s 812us/step - loss: 4.2294e-13 - val_loss: 4.4843e-13\n",
      "Epoch 7/8\n",
      "100/100 [==============================] - 0s 834us/step - loss: 4.2294e-13 - val_loss: 4.4843e-13\n",
      "Epoch 8/8\n",
      "100/100 [==============================] - 0s 869us/step - loss: 4.2294e-13 - val_loss: 4.4843e-13\n"
     ]
    },
    {
     "data": {
      "text/plain": [
       "<tensorflow.python.keras.callbacks.History at 0x7f8d70288c18>"
      ]
     },
     "execution_count": 1,
     "metadata": {},
     "output_type": "execute_result"
    }
   ],
   "source": [
    "import tensorflow as tf\n",
    "import numpy as np\n",
    "import coupledLayers as cL\n",
    "inputs = tf.keras.layers.Input(shape=(1,))\n",
    "LL = cL.landlordLayer(-1.)\n",
    "tenant = cL.tenantLayer(LL.var_a)\n",
    "x1 = LL(inputs)\n",
    "outputs = tenant(x1)\n",
    "model = tf.keras.Model(inputs,outputs)\n",
    "model.compile(optimizer=tf.keras.optimizers.SGD(0.005),loss=tf.keras.losses.MeanSquaredError())\n",
    "x = np.random.randn(1000,1)\n",
    "y = -2*x + 4\n",
    "xval = np.random.randn(100,1)\n",
    "yval = -2*xval + 4\n",
    "model.fit(x=x,y=y,batch_size=10,epochs=8,validation_data=(xval,yval))"
   ]
  },
  {
   "cell_type": "code",
   "execution_count": 1,
   "metadata": {},
   "outputs": [
    {
     "name": "stdout",
     "output_type": "stream",
     "text": [
      "Epoch 1/8\n",
      "100/100 [==============================] - 0s 2ms/step - loss: 0.0529 - val_loss: 1.7074e-09\n",
      "Epoch 2/8\n",
      "100/100 [==============================] - 0s 849us/step - loss: 8.1639e-11 - val_loss: 5.7482e-14\n",
      "Epoch 3/8\n",
      "100/100 [==============================] - 0s 852us/step - loss: 5.2996e-14 - val_loss: 5.7482e-14\n",
      "Epoch 4/8\n",
      "100/100 [==============================] - 0s 766us/step - loss: 5.2996e-14 - val_loss: 5.7482e-14\n",
      "Epoch 5/8\n",
      "100/100 [==============================] - 0s 753us/step - loss: 5.2996e-14 - val_loss: 5.7482e-14\n",
      "Epoch 6/8\n",
      "100/100 [==============================] - 0s 786us/step - loss: 5.2996e-14 - val_loss: 5.7482e-14\n",
      "Epoch 7/8\n",
      "100/100 [==============================] - 0s 740us/step - loss: 5.2996e-14 - val_loss: 5.7482e-14\n",
      "Epoch 8/8\n",
      "100/100 [==============================] - 0s 837us/step - loss: 5.2996e-14 - val_loss: 5.7482e-14\n"
     ]
    },
    {
     "data": {
      "text/plain": [
       "<tensorflow.python.keras.callbacks.History at 0x7fd3903ba668>"
      ]
     },
     "execution_count": 1,
     "metadata": {},
     "output_type": "execute_result"
    }
   ],
   "source": [
    "import tensorflow as tf\n",
    "import numpy as np\n",
    "import coupledLayers as cL\n",
    "inputs = tf.keras.layers.Input(shape=(1,))\n",
    "LL = cL.landlordLayer(-1.)\n",
    "tenant = cL.tenantLayer(LL.var_a)\n",
    "outputs = tenant(inputs)\n",
    "model = tf.keras.Model(inputs,outputs)\n",
    "model.compile(optimizer=tf.keras.optimizers.SGD(0.05),loss=tf.keras.losses.MeanSquaredError())\n",
    "x = np.random.randn(1000,1)\n",
    "y = -2*x\n",
    "xval = np.random.randn(100,1)\n",
    "yval = -2*xval\n",
    "model.fit(x=x,y=y,batch_size=10,epochs=8,validation_data=(xval,yval))"
   ]
  },
  {
   "cell_type": "code",
   "execution_count": null,
   "metadata": {
    "collapsed": true
   },
   "outputs": [],
   "source": []
  }
 ],
 "metadata": {
  "kernelspec": {
   "display_name": "Python 3",
   "language": "python",
   "name": "python3"
  },
  "language_info": {
   "codemirror_mode": {
    "name": "ipython",
    "version": 3
   },
   "file_extension": ".py",
   "mimetype": "text/x-python",
   "name": "python",
   "nbconvert_exporter": "python",
   "pygments_lexer": "ipython3",
   "version": "3.6.1"
  }
 },
 "nbformat": 4,
 "nbformat_minor": 2
}
