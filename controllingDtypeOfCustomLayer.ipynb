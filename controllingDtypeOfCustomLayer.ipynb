{
 "cells": [
  {
   "cell_type": "code",
   "execution_count": 6,
   "metadata": {},
   "outputs": [],
   "source": [
    "import tensorflow as tf\n",
    "class AddVar(tf.keras.layers.Layer):\n",
    "    def __init__(self,b,*args,**kwargs):\n",
    "        tf.keras.layers.Layer.__init__(self,*args,**kwargs)\n",
    "        self.b = b\n",
    "    def build(self,input_shape):\n",
    "        self.bias = tf.Variable(initial_value=self.b,trainable=True,dtype=self.dtype)\n",
    "    def call(self,inputs):\n",
    "        return inputs + self.bias\n"
   ]
  },
  {
   "cell_type": "code",
   "execution_count": 7,
   "metadata": {},
   "outputs": [
    {
     "name": "stdout",
     "output_type": "stream",
     "text": [
      "Epoch 1/16\n",
      "100/100 [==============================] - 0s 2ms/step - loss: 0.0000e+00 - val_loss: 0.0000e+00\n",
      "Epoch 2/16\n",
      "100/100 [==============================] - 0s 890us/step - loss: 0.0000e+00 - val_loss: 0.0000e+00\n",
      "Epoch 3/16\n",
      "100/100 [==============================] - 0s 865us/step - loss: 0.0000e+00 - val_loss: 0.0000e+00\n",
      "Epoch 4/16\n",
      "100/100 [==============================] - 0s 853us/step - loss: 0.0000e+00 - val_loss: 0.0000e+00\n",
      "Epoch 5/16\n",
      "100/100 [==============================] - 0s 828us/step - loss: 0.0000e+00 - val_loss: 0.0000e+00\n",
      "Epoch 6/16\n",
      "100/100 [==============================] - 0s 852us/step - loss: 0.0000e+00 - val_loss: 0.0000e+00\n",
      "Epoch 7/16\n",
      "100/100 [==============================] - 0s 846us/step - loss: 0.0000e+00 - val_loss: 0.0000e+00\n",
      "Epoch 8/16\n",
      "100/100 [==============================] - 0s 820us/step - loss: 0.0000e+00 - val_loss: 0.0000e+00\n",
      "Epoch 9/16\n",
      "100/100 [==============================] - 0s 849us/step - loss: 0.0000e+00 - val_loss: 0.0000e+00\n",
      "Epoch 10/16\n",
      "100/100 [==============================] - 0s 901us/step - loss: 0.0000e+00 - val_loss: 0.0000e+00\n",
      "Epoch 11/16\n",
      "100/100 [==============================] - 0s 872us/step - loss: 0.0000e+00 - val_loss: 0.0000e+00\n",
      "Epoch 12/16\n",
      "100/100 [==============================] - 0s 737us/step - loss: 0.0000e+00 - val_loss: 0.0000e+00\n",
      "Epoch 13/16\n",
      "100/100 [==============================] - 0s 786us/step - loss: 0.0000e+00 - val_loss: 0.0000e+00\n",
      "Epoch 14/16\n",
      "100/100 [==============================] - 0s 800us/step - loss: 0.0000e+00 - val_loss: 0.0000e+00\n",
      "Epoch 15/16\n",
      "100/100 [==============================] - 0s 812us/step - loss: 0.0000e+00 - val_loss: 0.0000e+00\n",
      "Epoch 16/16\n",
      "100/100 [==============================] - 0s 848us/step - loss: 0.0000e+00 - val_loss: 0.0000e+00\n"
     ]
    },
    {
     "data": {
      "text/plain": [
       "[<tf.Variable 'add_var/Variable:0' shape=(1,) dtype=float64, numpy=array([0.])>]"
      ]
     },
     "execution_count": 7,
     "metadata": {},
     "output_type": "execute_result"
    }
   ],
   "source": [
    "import numpy as np\n",
    "b = np.zeros(1).astype('float64')\n",
    "inputs = tf.keras.layers.Input(shape=(1,),dtype='float64')\n",
    "plus = AddVar(b,dtype='float64')\n",
    "outputs = plus(inputs)\n",
    "model = tf.keras.Model(inputs,outputs)\n",
    "model.compile(loss=tf.keras.losses.MSE)\n",
    "x = np.random.randn(1000,1).astype('float64')\n",
    "y = x\n",
    "xval = np.random.randn(100,1).astype('float64')\n",
    "yval = xval\n",
    "model.fit(x=x,y=y,batch_size=10,epochs=16,validation_data = (xval,yval))\n",
    "model.trainable_variables"
   ]
  },
  {
   "cell_type": "code",
   "execution_count": 14,
   "metadata": {},
   "outputs": [
    {
     "data": {
      "text/plain": [
       "'float64'"
      ]
     },
     "execution_count": 14,
     "metadata": {},
     "output_type": "execute_result"
    }
   ],
   "source": [
    "plus.dtype"
   ]
  },
  {
   "cell_type": "code",
   "execution_count": null,
   "metadata": {
    "collapsed": true
   },
   "outputs": [],
   "source": []
  }
 ],
 "metadata": {
  "kernelspec": {
   "display_name": "Python 3",
   "language": "python",
   "name": "python3"
  },
  "language_info": {
   "codemirror_mode": {
    "name": "ipython",
    "version": 3
   },
   "file_extension": ".py",
   "mimetype": "text/x-python",
   "name": "python",
   "nbconvert_exporter": "python",
   "pygments_lexer": "ipython3",
   "version": "3.6.1"
  }
 },
 "nbformat": 4,
 "nbformat_minor": 2
}
