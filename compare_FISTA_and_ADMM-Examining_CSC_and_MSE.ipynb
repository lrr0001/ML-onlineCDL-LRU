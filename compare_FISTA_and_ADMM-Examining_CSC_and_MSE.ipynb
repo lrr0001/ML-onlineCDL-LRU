{
 "cells": [
  {
   "cell_type": "markdown",
   "metadata": {},
   "source": [
    "This was tested on train, not val.  We're looking at initialization though, so that's kind of irrelevant. Noting mainly to explain discrepancy with another notebook. This is for 16 iterations."
   ]
  },
  {
   "cell_type": "code",
   "execution_count": 4,
   "metadata": {},
   "outputs": [
    {
     "name": "stdout",
     "output_type": "stream",
     "text": [
      "128\n",
      "69.24353168598314\n",
      "0.003111183177679777\n",
      "128\n"
     ]
    }
   ],
   "source": [
    "import pickle as pkl\n",
    "import tensorflow as tf\n",
    "fid = open('data/experiment/BSDS500/experiment1/times/ML_FISTA_initial_model.ckpt.pklML_FISTA_lpstz64.0_iter16_times.pkl','rb')\n",
    "outputs_csc = pkl.load(fid)\n",
    "outputs_jpeg_art_removal = pkl.load(fid)\n",
    "times_fista = pkl.load(fid)\n",
    "fid.close()\n",
    "print(len(outputs_csc))\n",
    "print(sum(outputs_csc[1:])/len(outputs_csc[1:]))\n",
    "print(outputs_jpeg_art_removal)\n",
    "print(len(times_fista))"
   ]
  },
  {
   "cell_type": "markdown",
   "metadata": {},
   "source": [
    "This was tested on val.  We're looking at initialization though, so that's kind of irrelevant. Noting mainly to explain discrepancy with another notebook. The result is similar to those from train, but it matches the result in python notebook \"FISTA_outperforms_ADMM.\" This is for 16 iterations."
   ]
  },
  {
   "cell_type": "code",
   "execution_count": 1,
   "metadata": {},
   "outputs": [
    {
     "name": "stdout",
     "output_type": "stream",
     "text": [
      "128\n",
      "74.72487349536287\n",
      "0.0033563983161002398\n",
      "128\n"
     ]
    }
   ],
   "source": [
    "import pickle as pkl\n",
    "import tensorflow as tf\n",
    "fid = open('data/experiment/BSDS500/experiment1/times/ML_FISTA_initial_model.ckpt.pklML_FISTA_lpstz64.0_iter16_times.pkl','rb')\n",
    "outputs_csc = pkl.load(fid)\n",
    "outputs_jpeg_art_removal = pkl.load(fid)\n",
    "times_fista = pkl.load(fid)\n",
    "fid.close()\n",
    "print(len(outputs_csc))\n",
    "print(sum(outputs_csc[1:])/len(outputs_csc[1:]))\n",
    "print(outputs_jpeg_art_removal)\n",
    "print(len(times_fista))"
   ]
  },
  {
   "cell_type": "markdown",
   "metadata": {},
   "source": [
    "This was tested on train, not val.  We're looking at initialization though, so that's kind of irrelevant. Noting mainly to explain discrepancy with another notebook. This is for 48 iterations."
   ]
  },
  {
   "cell_type": "code",
   "execution_count": 5,
   "metadata": {},
   "outputs": [
    {
     "name": "stdout",
     "output_type": "stream",
     "text": [
      "3.220995873482759\n",
      "0.0031826531048864126\n",
      "128\n"
     ]
    }
   ],
   "source": [
    "import pickle as pkl\n",
    "import tensorflow as tf\n",
    "fid = open('data/experiment/BSDS500/experiment1/times/ML_FISTA_initial_model.ckpt.pklML_FISTA_lpstz64.0_iter48_times.pkl','rb')\n",
    "outputs_csc = pkl.load(fid)\n",
    "outputs_jpeg_art_removal = pkl.load(fid)\n",
    "times_fista = pkl.load(fid)\n",
    "fid.close()\n",
    "print(sum(outputs_csc[1:])/len(outputs_csc[1:]))\n",
    "print(outputs_jpeg_art_removal)\n",
    "print(len(times_fista))"
   ]
  },
  {
   "cell_type": "markdown",
   "metadata": {},
   "source": [
    "This was tested on val.  We're looking at initialization though, so that's kind of irrelevant. Note that despite the improvement in convolutional sparse coding, performance decreases in comparison to fewer iterations. This result is for 48 iterations."
   ]
  },
  {
   "cell_type": "code",
   "execution_count": 2,
   "metadata": {},
   "outputs": [
    {
     "name": "stdout",
     "output_type": "stream",
     "text": [
      "3.4726740905451305\n",
      "0.0034254721831530333\n",
      "128\n"
     ]
    }
   ],
   "source": [
    "import pickle as pkl\n",
    "import tensorflow as tf\n",
    "fid = open('data/experiment/BSDS500/experiment1/times/ML_FISTA_initial_model.ckpt.pklML_FISTA_lpstz64.0_iter48_times.pkl','rb')\n",
    "outputs_csc = pkl.load(fid)\n",
    "outputs_jpeg_art_removal = pkl.load(fid)\n",
    "times_fista = pkl.load(fid)\n",
    "fid.close()\n",
    "print(sum(outputs_csc[1:])/len(outputs_csc[1:]))\n",
    "print(outputs_jpeg_art_removal)\n",
    "print(len(times_fista))"
   ]
  },
  {
   "cell_type": "code",
   "execution_count": 1,
   "metadata": {},
   "outputs": [
    {
     "name": "stdout",
     "output_type": "stream",
     "text": [
      "128\n",
      "0.000731076327072415\n",
      "0.011113272979855537\n",
      "128\n"
     ]
    }
   ],
   "source": [
    "import pickle as pkl\n",
    "import tensorflow as tf\n",
    "fid = open('data/experiment/BSDS500/experiment1/times/ML_FISTA_initial_model.ckpt.pklML_ADMM_rho1_iter16_times.pkl','rb')\n",
    "outputs_csc = pkl.load(fid)\n",
    "outputs_jpeg_art_removal = pkl.load(fid)\n",
    "times_admm = pkl.load(fid)\n",
    "fid.close()\n",
    "print(len(outputs_csc))\n",
    "print(sum(outputs_csc[1:])/len(outputs_csc[1:]))\n",
    "print(outputs_jpeg_art_removal)\n",
    "print(len(times_admm))"
   ]
  },
  {
   "cell_type": "code",
   "execution_count": 2,
   "metadata": {},
   "outputs": [
    {
     "name": "stdout",
     "output_type": "stream",
     "text": [
      "4.419357941327605e-11\n",
      "0.011112640611827374\n",
      "128\n"
     ]
    }
   ],
   "source": [
    "import pickle as pkl\n",
    "import tensorflow as tf\n",
    "fid = open('data/experiment/BSDS500/experiment1/times/ML_FISTA_initial_model.ckpt.pklML_ADMM_rho1_iter48_times.pkl','rb')\n",
    "outputs_csc = pkl.load(fid)\n",
    "outputs_jpeg_art_removal = pkl.load(fid)\n",
    "times_fista = pkl.load(fid)\n",
    "fid.close()\n",
    "print(sum(outputs_csc[1:])/len(outputs_csc[1:]))\n",
    "print(outputs_jpeg_art_removal)\n",
    "print(len(times_fista))"
   ]
  },
  {
   "cell_type": "code",
   "execution_count": null,
   "metadata": {
    "collapsed": true
   },
   "outputs": [],
   "source": []
  }
 ],
 "metadata": {
  "kernelspec": {
   "display_name": "Python 3",
   "language": "python",
   "name": "python3"
  },
  "language_info": {
   "codemirror_mode": {
    "name": "ipython",
    "version": 3
   },
   "file_extension": ".py",
   "mimetype": "text/x-python",
   "name": "python",
   "nbconvert_exporter": "python",
   "pygments_lexer": "ipython3",
   "version": "3.6.1"
  }
 },
 "nbformat": 4,
 "nbformat_minor": 2
}
