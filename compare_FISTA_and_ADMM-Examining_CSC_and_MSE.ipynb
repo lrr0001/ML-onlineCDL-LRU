{
 "cells": [
  {
   "cell_type": "markdown",
   "metadata": {},
   "source": [
    "This was tested on train, not val.  We're looking at initialization though, so that's kind of irrelevant. Noting mainly to explain discrepancy with another notebook. This is for 16 iterations."
   ]
  },
  {
   "cell_type": "code",
   "execution_count": 4,
   "metadata": {},
   "outputs": [
    {
     "name": "stdout",
     "output_type": "stream",
     "text": [
      "128\n",
      "69.24353168598314\n",
      "0.003111183177679777\n",
      "128\n"
     ]
    }
   ],
   "source": [
    "import pickle as pkl\n",
    "import tensorflow as tf\n",
    "fid = open('data/experiment/BSDS500/experiment1/times/ML_FISTA_initial_model.ckpt.pklML_FISTA_lpstz64.0_iter16_times.pkl','rb')\n",
    "outputs_csc = pkl.load(fid)\n",
    "outputs_jpeg_art_removal = pkl.load(fid)\n",
    "times_fista = pkl.load(fid)\n",
    "fid.close()\n",
    "print(len(outputs_csc))\n",
    "print(sum(outputs_csc[1:])/len(outputs_csc[1:]))\n",
    "print(outputs_jpeg_art_removal)\n",
    "print(len(times_fista))"
   ]
  },
  {
   "cell_type": "markdown",
   "metadata": {},
   "source": [
    "This was tested on val.  We're looking at initialization though, so that's kind of irrelevant. Noting mainly to explain discrepancy with another notebook. The result is similar to those from train, but it matches the result in python notebook \"FISTA_outperforms_ADMM.\" This is for 16 iterations."
   ]
  },
  {
   "cell_type": "code",
   "execution_count": 1,
   "metadata": {},
   "outputs": [
    {
     "name": "stdout",
     "output_type": "stream",
     "text": [
      "128\n",
      "74.72487349536287\n",
      "0.0033563983161002398\n",
      "128\n"
     ]
    }
   ],
   "source": [
    "import pickle as pkl\n",
    "import tensorflow as tf\n",
    "fid = open('data/experiment/BSDS500/experiment1/times/ML_FISTA_initial_model.ckpt.pklML_FISTA_lpstz64.0_iter16_times.pkl','rb')\n",
    "outputs_csc = pkl.load(fid)\n",
    "outputs_jpeg_art_removal = pkl.load(fid)\n",
    "times_fista = pkl.load(fid)\n",
    "fid.close()\n",
    "print(len(outputs_csc))\n",
    "print(sum(outputs_csc[1:])/len(outputs_csc[1:]))\n",
    "print(outputs_jpeg_art_removal)\n",
    "print(len(times_fista))"
   ]
  },
  {
   "cell_type": "markdown",
   "metadata": {},
   "source": [
    "This was tested on train, not val.  We're looking at initialization though, so that's kind of irrelevant. Noting mainly to explain discrepancy with another notebook. This is for 48 iterations."
   ]
  },
  {
   "cell_type": "code",
   "execution_count": 5,
   "metadata": {},
   "outputs": [
    {
     "name": "stdout",
     "output_type": "stream",
     "text": [
      "3.220995873482759\n",
      "0.0031826531048864126\n",
      "128\n"
     ]
    }
   ],
   "source": [
    "import pickle as pkl\n",
    "import tensorflow as tf\n",
    "fid = open('data/experiment/BSDS500/experiment1/times/ML_FISTA_initial_model.ckpt.pklML_FISTA_lpstz64.0_iter48_times.pkl','rb')\n",
    "outputs_csc = pkl.load(fid)\n",
    "outputs_jpeg_art_removal = pkl.load(fid)\n",
    "times_fista = pkl.load(fid)\n",
    "fid.close()\n",
    "print(sum(outputs_csc[1:])/len(outputs_csc[1:]))\n",
    "print(outputs_jpeg_art_removal)\n",
    "print(len(times_fista))"
   ]
  },
  {
   "cell_type": "markdown",
   "metadata": {},
   "source": [
    "This was tested on val.  We're looking at initialization though, so that's kind of irrelevant. Note that despite the improvement in convolutional sparse coding, performance decreases in comparison to fewer iterations. This result is for 48 iterations."
   ]
  },
  {
   "cell_type": "code",
   "execution_count": 2,
   "metadata": {},
   "outputs": [
    {
     "name": "stdout",
     "output_type": "stream",
     "text": [
      "3.4726740905451305\n",
      "0.0034254721831530333\n",
      "128\n"
     ]
    }
   ],
   "source": [
    "import pickle as pkl\n",
    "import tensorflow as tf\n",
    "fid = open('data/experiment/BSDS500/experiment1/times/ML_FISTA_initial_model.ckpt.pklML_FISTA_lpstz64.0_iter48_times.pkl','rb')\n",
    "outputs_csc = pkl.load(fid)\n",
    "outputs_jpeg_art_removal = pkl.load(fid)\n",
    "times_fista = pkl.load(fid)\n",
    "fid.close()\n",
    "print(sum(outputs_csc[1:])/len(outputs_csc[1:]))\n",
    "print(outputs_jpeg_art_removal)\n",
    "print(len(times_fista))"
   ]
  },
  {
   "cell_type": "code",
   "execution_count": 1,
   "metadata": {},
   "outputs": [
    {
     "name": "stdout",
     "output_type": "stream",
     "text": [
      "128\n",
      "0.000731076327072415\n",
      "0.011113272979855537\n",
      "128\n"
     ]
    }
   ],
   "source": [
    "import pickle as pkl\n",
    "import tensorflow as tf\n",
    "fid = open('data/experiment/BSDS500/experiment1/times/ML_FISTA_initial_model.ckpt.pklML_ADMM_rho1_iter16_times.pkl','rb')\n",
    "outputs_csc = pkl.load(fid)\n",
    "outputs_jpeg_art_removal = pkl.load(fid)\n",
    "times_admm = pkl.load(fid)\n",
    "fid.close()\n",
    "print(len(outputs_csc))\n",
    "print(sum(outputs_csc[1:])/len(outputs_csc[1:]))\n",
    "print(outputs_jpeg_art_removal)\n",
    "print(len(times_admm))"
   ]
  },
  {
   "cell_type": "code",
   "execution_count": 2,
   "metadata": {},
   "outputs": [
    {
     "name": "stdout",
     "output_type": "stream",
     "text": [
      "4.419357941327605e-11\n",
      "0.011112640611827374\n",
      "128\n"
     ]
    }
   ],
   "source": [
    "import pickle as pkl\n",
    "import tensorflow as tf\n",
    "fid = open('data/experiment/BSDS500/experiment1/times/ML_FISTA_initial_model.ckpt.pklML_ADMM_rho1_iter48_times.pkl','rb')\n",
    "outputs_csc = pkl.load(fid)\n",
    "outputs_jpeg_art_removal = pkl.load(fid)\n",
    "times_fista = pkl.load(fid)\n",
    "fid.close()\n",
    "print(sum(outputs_csc[1:])/len(outputs_csc[1:]))\n",
    "print(outputs_jpeg_art_removal)\n",
    "print(len(times_fista))"
   ]
  },
  {
   "cell_type": "code",
   "execution_count": 1,
   "metadata": {},
   "outputs": [],
   "source": [
    "import pickle as pkl\n",
    "import numpy as np\n",
    "f_admm = []\n",
    "t_admm = []\n",
    "f_fista = []\n",
    "t_fista = []\n",
    "for ii in range(10,97,1):\n",
    "    fid = open('data/experiment/BSDS500/experiment1/times/ML_LRA_checkpoint_epoch_' + str(ii) + '.ckpt.pkl' + 'ML_ADMM_rho' + str(1) + '_iter' + str(16) + '_times.pkl','rb')\n",
    "    csc_eval = pkl.load\n",
    "    obj_admm = pkl.load(fid)\n",
    "    times_admm = 32*pkl.load(fid)\n",
    "    fid.close()\n",
    "    f_admm.append(np.mean(obj_admm))\n",
    "    t_admm.append(times_admm)\n",
    "    fid = open('data/experiment/BSDS500/experiment1/times/ML_FISTA_checkpoint_epoch_' + str(ii) + '.pkl' + 'ML_FISTA_lpstz' + str(64.0) + '_iter' + str(16) + '_times.pkl','rb')\n",
    "    csc_eval = pkl.load\n",
    "    obj_fista = pkl.load(fid)\n",
    "    times_fista = 32*pkl.load(fid)\n",
    "    fid.close()\n",
    "    f_fista.append(np.mean(obj_fista))\n",
    "    t_fista.append(times_fista)"
   ]
  },
  {
   "cell_type": "code",
   "execution_count": 2,
   "metadata": {},
   "outputs": [
    {
     "data": {
      "image/png": "[encoded data removed]",
      "text/plain": [
       "<matplotlib.figure.Figure at 0x7f6c6a7db9b0>"
      ]
     },
     "metadata": {},
     "output_type": "display_data"
    }
   ],
   "source": [
    "import matplotlib.pyplot as plt\n",
    "import numpy as np\n",
    "%matplotlib inline\n",
    "plt.plot(np.cumsum(np.array(t_admm)), np.array(f_admm))\n",
    "plt.plot(np.cumsum(np.array(t_fista)),np.array(f_fista))\n",
    "plt.yscale('log')\n",
    "plt.show()"
   ]
  },
  {
   "cell_type": "code",
   "execution_count": 5,
   "metadata": {},
   "outputs": [
    {
     "data": {
      "text/plain": [
       "array([0.00987021, 0.01980453, 0.02990096, 0.04005111, 0.05003365,\n",
       "       0.05968491, 0.06946016, 0.07904861, 0.08849241, 0.0980708 ,\n",
       "       0.10743787, 0.11696442, 0.1262313 , 0.13571819, 0.14498549,\n",
       "       0.15455191, 0.16410303, 0.17359795, 0.1828    , 0.19216222,\n",
       "       0.20166058, 0.21114826, 0.2205868 , 0.23004018, 0.23943078,\n",
       "       0.24868849, 0.25823445, 0.26784848, 0.27741694, 0.28731085,\n",
       "       0.29711829, 0.30667086, 0.31629322, 0.32577574, 0.33509736,\n",
       "       0.34464695, 0.35375187, 0.36296724, 0.37225324, 0.38160447,\n",
       "       0.39118137, 0.40055167, 0.40994033, 0.41946173, 0.42916897,\n",
       "       0.4385958 , 0.44794397, 0.45729179, 0.46688099, 0.47620624,\n",
       "       0.48562896, 0.49485138, 0.5041323 , 0.51354263, 0.52295661,\n",
       "       0.53231801, 0.54175007, 0.55116178, 0.56033807, 0.5697277 ,\n",
       "       0.5792214 , 0.58864779, 0.59837695, 0.60813849, 0.61794101,\n",
       "       0.62750409, 0.63706256, 0.64696803, 0.65657318, 0.66610081,\n",
       "       0.67569678, 0.68498474, 0.69428728, 0.70382029, 0.71335873,\n",
       "       0.72280287, 0.73222727, 0.74177104, 0.75133647, 0.76069816,\n",
       "       0.76995592, 0.77941853, 0.78905783, 0.7986818 , 0.80805011,\n",
       "       0.81759293, 0.82686247])"
      ]
     },
     "execution_count": 5,
     "metadata": {},
     "output_type": "execute_result"
    }
   ],
   "source": [
    "np.cumsum(np.array(t_admm))"
   ]
  },
  {
   "cell_type": "code",
   "execution_count": 7,
   "metadata": {},
   "outputs": [
    {
     "data": {
      "text/plain": [
       "87"
      ]
     },
     "execution_count": 7,
     "metadata": {},
     "output_type": "execute_result"
    }
   ],
   "source": [
    "len(f_admm)"
   ]
  },
  {
   "cell_type": "code",
   "execution_count": 3,
   "metadata": {},
   "outputs": [
    {
     "data": {
      "text/plain": [
       "[6609.732336091689,\n",
       " 6573.165363011427,\n",
       " 6484.35169425357,\n",
       " 6457.392613587886,\n",
       " 6552.64438340764,\n",
       " 6730.959581188903,\n",
       " 6666.981824843312,\n",
       " 6762.618946316212,\n",
       " 6833.3391932486975,\n",
       " 6767.565120614744,\n",
       " 6865.725827265545,\n",
       " 6790.623955317301,\n",
       " 6904.820821738115,\n",
       " 6806.531224743436,\n",
       " 6897.108006397622,\n",
       " 6770.575464669858,\n",
       " 6776.367901231903,\n",
       " 6800.025270173887,\n",
       " 6911.999973915132,\n",
       " 6848.810780406986,\n",
       " 6795.355805952006,\n",
       " 6797.856504883812,\n",
       " 6814.849828421038,\n",
       " 6808.020818509217,\n",
       " 6830.56602928955,\n",
       " 6874.87018269648,\n",
       " 6773.47390592937,\n",
       " 6749.151695269288,\n",
       " 6765.273427318791,\n",
       " 6649.814761282943,\n",
       " 6682.299979219999,\n",
       " 6774.135430059334,\n",
       " 6748.132398975844,\n",
       " 6797.366153313124,\n",
       " 6850.237835943608,\n",
       " 6774.626830299057,\n",
       " 6914.555766053363,\n",
       " 6877.071733423784,\n",
       " 6852.731947115455,\n",
       " 6830.133286496259,\n",
       " 6757.309501443276,\n",
       " 6820.301069416475,\n",
       " 6812.872419706464,\n",
       " 6770.077514540555,\n",
       " 6712.231549688653,\n",
       " 6797.441877156976,\n",
       " 6818.842809614142,\n",
       " 6816.624450112913,\n",
       " 6744.877661568737,\n",
       " 6815.829276530283,\n",
       " 6786.255227172725,\n",
       " 6834.910631457515,\n",
       " 6818.545858578006,\n",
       " 6781.507855991245,\n",
       " 6778.818519735295,\n",
       " 6788.862776886518,\n",
       " 6766.06412661871,\n",
       " 6767.952834461705,\n",
       " 6819.965419269889,\n",
       " 6765.240416856157,\n",
       " 6739.270806270608,\n",
       " 6753.787447443235,\n",
       " 6676.624791411405,\n",
       " 6666.741768579116,\n",
       " 6655.8300373302045,\n",
       " 6715.447258357757,\n",
       " 6713.178856121225,\n",
       " 6624.137507919345,\n",
       " 6701.142636585533,\n",
       " 6719.06430463612,\n",
       " 6701.157511906158,\n",
       " 6769.061587209076,\n",
       " 6765.7143234428095,\n",
       " 6714.22703031667,\n",
       " 6709.6200384503145,\n",
       " 6727.158509706045,\n",
       " 6731.055868393236,\n",
       " 6703.366549964213,\n",
       " 6697.006319804477,\n",
       " 6739.967412622392,\n",
       " 6754.6739339333535,\n",
       " 6708.549772677425,\n",
       " 6667.52337742715,\n",
       " 6669.412776521518,\n",
       " 6718.976182160035,\n",
       " 6679.16919546821,\n",
       " 6729.445245104863]"
      ]
     },
     "execution_count": 3,
     "metadata": {},
     "output_type": "execute_result"
    }
   ],
   "source": [
    "f_admm"
   ]
  },
  {
   "cell_type": "code",
   "execution_count": 4,
   "metadata": {},
   "outputs": [
    {
     "data": {
      "text/plain": [
       "[6313.889136409653,\n",
       " 6313.889136409661,\n",
       " 6313.889136409674,\n",
       " 6313.8891364096835,\n",
       " 6313.889136409696,\n",
       " 6313.889136409711,\n",
       " 6313.8891364097235,\n",
       " 6313.88913640974,\n",
       " 6313.889136409751,\n",
       " 6313.889136409762,\n",
       " 6313.889136409769,\n",
       " 6313.889136409781,\n",
       " 6313.889136409785,\n",
       " 6313.889136409795,\n",
       " 6313.889136409798,\n",
       " 6313.889136409805,\n",
       " 6313.889136409811,\n",
       " 6313.889136409819,\n",
       " 6313.889136409829,\n",
       " 6313.889136409845,\n",
       " 6313.889136409858,\n",
       " 6313.889136409865,\n",
       " 6313.889136409878,\n",
       " 6313.889136409896,\n",
       " 6313.889136409909,\n",
       " 6313.889136409916,\n",
       " 6313.889136409933,\n",
       " 6313.889129127878,\n",
       " 6313.889129127885,\n",
       " 6313.8891291279,\n",
       " 6313.889129127912,\n",
       " 6313.889129127923,\n",
       " 6313.889129127932,\n",
       " 6313.889129127943,\n",
       " 6313.889129127948,\n",
       " 6313.889129127957,\n",
       " 6313.889129127965,\n",
       " 6313.889129127975,\n",
       " 6313.88912912798,\n",
       " 6313.889129127991,\n",
       " 6313.889129128005,\n",
       " 6343.7743235346115,\n",
       " 6343.774323534623,\n",
       " 6343.7743235346425,\n",
       " 6343.7743235346525,\n",
       " 6343.774323534658,\n",
       " 6343.774323534672,\n",
       " 6343.774323534677,\n",
       " 6343.774323534684,\n",
       " 6343.774323534692,\n",
       " 6343.774323534708,\n",
       " 6343.774323534717,\n",
       " 6343.77432353473,\n",
       " 6343.774323534739,\n",
       " 6343.7743235347525,\n",
       " 6343.774323534763,\n",
       " 6343.774323534777,\n",
       " 6343.774323534786,\n",
       " 6343.774323534801,\n",
       " 6343.774323534819,\n",
       " 6343.774323534831,\n",
       " 6343.774323534847,\n",
       " 6343.774323534859,\n",
       " 6343.7743235348735,\n",
       " 6343.774323534886,\n",
       " 6343.774323534903,\n",
       " 6343.774323534911,\n",
       " 6343.774323534919,\n",
       " 6343.774316353909,\n",
       " 6343.774316353914,\n",
       " 6343.774310984945,\n",
       " 6343.774310984954,\n",
       " 6343.774310984965,\n",
       " 6343.774310984976,\n",
       " 6343.774310984984,\n",
       " 6343.774310984996,\n",
       " 6343.77431098501,\n",
       " 6343.774310985022,\n",
       " 6343.774310985033,\n",
       " 6343.774310985044,\n",
       " 6343.7743109850535,\n",
       " 6343.774310985061,\n",
       " 6343.774310985073,\n",
       " 6343.774310985089,\n",
       " 6343.774310985097,\n",
       " 6343.774310985104,\n",
       " 6343.774310985114]"
      ]
     },
     "execution_count": 4,
     "metadata": {},
     "output_type": "execute_result"
    }
   ],
   "source": [
    "f_fista"
   ]
  },
  {
   "cell_type": "code",
   "execution_count": null,
   "metadata": {
    "collapsed": true
   },
   "outputs": [],
   "source": []
  }
 ],
 "metadata": {
  "kernelspec": {
   "display_name": "Python 3",
   "language": "python",
   "name": "python3"
  },
  "language_info": {
   "codemirror_mode": {
    "name": "ipython",
    "version": 3
   },
   "file_extension": ".py",
   "mimetype": "text/x-python",
   "name": "python",
   "nbconvert_exporter": "python",
   "pygments_lexer": "ipython3",
   "version": "3.6.1"
  }
 },
 "nbformat": 4,
 "nbformat_minor": 2
}
