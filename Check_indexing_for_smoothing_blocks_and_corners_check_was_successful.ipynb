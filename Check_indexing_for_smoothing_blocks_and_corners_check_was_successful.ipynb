{
 "cells": [
  {
   "cell_type": "code",
   "execution_count": 1,
   "metadata": {},
   "outputs": [],
   "source": [
    "import tensorflow as tf\n",
    "import jpeg_related_functions as jrf"
   ]
  },
  {
   "cell_type": "code",
   "execution_count": 2,
   "metadata": {
    "scrolled": true
   },
   "outputs": [],
   "source": [
    "x = tf.random.uniform(shape=(4,32,30,3),dtype='float32')\n",
    "y = jrf.smooth_blk_edges(x=x,a=1.,blkSz=(4,3),dtype='float32')"
   ]
  },
  {
   "cell_type": "code",
   "execution_count": 3,
   "metadata": {},
   "outputs": [
    {
     "name": "stdout",
     "output_type": "stream",
     "text": [
      "tf.Tensor(\n",
      "[[0.        0.        0.        0.        0.        0.       ]\n",
      " [0.        0.        0.        0.        0.        0.       ]\n",
      " [0.        0.        0.        0.        0.        0.       ]\n",
      " [0.        0.        1.        3.        0.        1.       ]\n",
      " [0.        0.        2.        4.        0.        2.       ]\n",
      " [0.        0.        0.        0.        0.        0.       ]\n",
      " [0.        0.        0.        0.        0.        0.       ]\n",
      " [0.        0.        1.        3.        0.        1.       ]\n",
      " [0.        0.        2.        3.9999998 0.        1.9999999]\n",
      " [0.        0.        0.        0.        0.        0.       ]\n",
      " [0.        0.        0.        0.        0.        0.       ]\n",
      " [0.        0.        1.        3.        0.        1.       ]], shape=(12, 6), dtype=float32)\n"
     ]
    }
   ],
   "source": [
    "a1 = 0\n",
    "a2 = 0\n",
    "print(tf.reshape(y[slice(a1,a1 + 1),slice(0,12),slice(0,6),slice(a2,a2 +  1)] - x[slice(a1,a1 + 1),slice(0,12),slice(0,6),slice(a2,a2 +  1)],(12,6)))"
   ]
  },
  {
   "cell_type": "code",
   "execution_count": null,
   "metadata": {
    "collapsed": true
   },
   "outputs": [],
   "source": []
  }
 ],
 "metadata": {
  "kernelspec": {
   "display_name": "Python 3",
   "language": "python",
   "name": "python3"
  },
  "language_info": {
   "codemirror_mode": {
    "name": "ipython",
    "version": 3
   },
   "file_extension": ".py",
   "mimetype": "text/x-python",
   "name": "python",
   "nbconvert_exporter": "python",
   "pygments_lexer": "ipython3",
   "version": "3.6.1"
  }
 },
 "nbformat": 4,
 "nbformat_minor": 2
}
