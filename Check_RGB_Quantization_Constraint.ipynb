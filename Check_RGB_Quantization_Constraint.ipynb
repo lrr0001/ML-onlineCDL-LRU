{
 "cells": [
  {
   "cell_type": "code",
   "execution_count": 1,
   "metadata": {
    "collapsed": true
   },
   "outputs": [],
   "source": [
    "import tensorflow as tf\n",
    "import jpeg_related_functions as jrf\n",
    "import numpy as np\n"
   ]
  },
  {
   "cell_type": "code",
   "execution_count": 2,
   "metadata": {
    "collapsed": true
   },
   "outputs": [],
   "source": [
    "# Set parameters\n",
    "jpeg_quality = 20\n",
    "rho = 1.\n",
    "alpha = 1.5\n",
    "noi = 20\n",
    "lmbda = 0.1\n",
    "dtype = 'float64'\n",
    "img_ind = 4\n",
    "YUV2RGB = jrf.YUV2RGB(dtype= tf.as_dtype(dtype))\n",
    "def yuv2rgb(yuv_tensor):\n",
    "    rgb_tensor = tf.squeeze(YUV2RGB(yuv_tensor),axis = 0)\n",
    "    rgb_tensor = tf.where(rgb_tensor > 1.,1.,rgb_tensor)\n",
    "    rgb_tensor = tf.where(rgb_tensor < 0.,0.,rgb_tensor)\n",
    "    return (255*np.asarray(rgb_tensor)).astype('uint8')\n",
    "def clip(rgb_tensor):\n",
    "    rgb_tensor = tf.squeeze(rgb_tensor,axis=0)\n",
    "    rgb_tensor = tf.where(rgb_tensor > 1.,1.,rgb_tensor)\n",
    "    rgb_tensor = tf.where(rgb_tensor < 0.,0.,rgb_tensor)\n",
    "    return (255*np.asarray(rgb_tensor)).astype('uint8')"
   ]
  },
  {
   "cell_type": "code",
   "execution_count": null,
   "metadata": {
    "collapsed": true
   },
   "outputs": [],
   "source": []
  },
  {
   "cell_type": "code",
   "execution_count": 3,
   "metadata": {
    "collapsed": true
   },
   "outputs": [],
   "source": [
    "# Obtain quantization matrices from chosen quality factor\n",
    "import PIL\n",
    "import PIL.Image\n",
    "randImgPath = 'data/scratchwork/example/randImg.jpeg'\n",
    "randimg = np.random.randint(0,256,size=(32,32,3))\n",
    "encoded_jpeg = tf.image.encode_jpeg(randimg,quality = jpeg_quality)\n",
    "tf.io.write_file(randImgPath,encoded_jpeg)\n",
    "loadedRandImg = PIL.Image.open(randImgPath)\n",
    "qY = np.asarray(loadedRandImg.quantization[0]).astype('uint8')\n",
    "qUV = np.asarray(loadedRandImg.quantization[1]).astype('uint8')\n",
    "qY = qY.astype(dtype)/255.\n",
    "qUV = qUV.astype(dtype)/255.\n",
    "import os\n",
    "os.remove(randImgPath)"
   ]
  },
  {
   "cell_type": "code",
   "execution_count": 4,
   "metadata": {},
   "outputs": [
    {
     "name": "stdout",
     "output_type": "stream",
     "text": [
      "tf.Tensor(3.8786826120229008, shape=(), dtype=float64)\n",
      "tf.Tensor(1.1464162952279366e-12, shape=(), dtype=float64)\n",
      "tf.Tensor(4.440892098500626e-16, shape=(), dtype=float64)\n"
     ]
    }
   ],
   "source": [
    "img1 = tf.random.normal((1,480,320,3))\n",
    "img1 = tf.cast(img1,'float64')\n",
    "img2 = tf.random.normal((1,480,320,3))\n",
    "img2 = tf.cast(img2,'float64')\n",
    "W = jrf.RGB2JPEG_Coef(dtype=dtype)\n",
    "Wt = jrf.JPEG_Coef2RGB(dtype=dtype)\n",
    "nearest_feasible = jrf.ZUpdate_JPEG_Implicit(qY,qUV,W,Wt,dtype = dtype)\n",
    "feasible_img1 = nearest_feasible((img1,W(img2)))\n",
    "print(tf.reduce_max(tf.math.abs(img1 - feasible_img1)))\n",
    "double_feasible_img1 = nearest_feasible((feasible_img1,W(img2)))\n",
    "print(tf.reduce_max(tf.math.abs(feasible_img1 - double_feasible_img1)))\n",
    "triple_feasible_img1 = nearest_feasible((double_feasible_img1,W(img2)))\n",
    "print(tf.reduce_max(tf.math.abs(double_feasible_img1 - triple_feasible_img1)))"
   ]
  },
  {
   "cell_type": "code",
   "execution_count": 4,
   "metadata": {
    "collapsed": true
   },
   "outputs": [],
   "source": [
    "fftSz1 = (480,320)\n",
    "fftSz2 = (320,480)\n",
    "smooth_jpeg1 = jrf.Smooth_JPEG(rho,alpha,noi,qY,qUV,lmbda,fftSz1,dtype=dtype)\n",
    "smooth_jpeg2 = jrf.Smooth_JPEG(rho,alpha,noi,qY,qUV,lmbda,fftSz2,dtype=dtype)\n",
    "Yoffset = tf.one_hot([[[0]]],64,tf.cast(32.,dtype = dtype),tf.cast(0.,dtype= dtype))"
   ]
  },
  {
   "cell_type": "code",
   "execution_count": 5,
   "metadata": {
    "collapsed": true
   },
   "outputs": [],
   "source": [
    "dataPath = 'data/original/simpleTest/'"
   ]
  },
  {
   "cell_type": "code",
   "execution_count": 6,
   "metadata": {
    "collapsed": true
   },
   "outputs": [],
   "source": [
    "datatype = 'train/'\n",
    "filelist = os.listdir(dataPath + datatype)\n",
    "ii = 0\n",
    "for filename in filelist:\n",
    "    if ii == img_ind:\n",
    "        break\n",
    "    ii += 1\n",
    "loadedPILImg = PIL.Image.open(dataPath + datatype + filename)\n",
    "loadedImg = np.asarray(loadedPILImg).astype(dtype)/255.\n",
    "loadedImgShape = loadedImg.shape\n",
    "# crop out a row and a column\n",
    "loadedImg = loadedImg[slice(0,loadedImgShape[0] - (loadedImgShape[0] % 8)),slice(0,loadedImgShape[1] - (loadedImgShape[1] % 8)),slice(None)]\n",
    "if loadedImgShape[0] - (loadedImgShape[0] % 8) == 480 and loadedImgShape[1] - (loadedImgShape[1] % 8) == 320:\n",
    "    # compressedImg = smooth_jpeg1.Wt(jrf.threeChannelQuantize(smooth_jpeg1.W(tf.reshape(loadedImg,(1,) + loadedImg.shape)),qY,qUV,Yoffset))\n",
    "    lowpass,compressedImg = smooth_jpeg1(tf.reshape(loadedImg,(1,) + loadedImg.shape))\n",
    "elif loadedImgShape[0] - (loadedImgShape[0] % 8) == 320 and loadedImgShape[1] - (loadedImgShape[1] % 8) == 480:\n",
    "    #compressedImg = smooth_jpeg2.Wt(jrf.threeChannelQuantize(smooth_jpeg2.W(tf.reshape(loadedImg,(1,) + loadedImg.shape)),qY,qUV,Yoffset))\n",
    "    lowpass,compressedImg = smooth_jpeg2(tf.reshape(loadedImg,(1,) + loadedImg.shape))\n",
    "else:\n",
    "    raise ValueError('Unexpected Shape!')\n",
    "\n"
   ]
  },
  {
   "cell_type": "code",
   "execution_count": 7,
   "metadata": {},
   "outputs": [
    {
     "data": {
      "text/plain": [
       "<matplotlib.image.AxesImage at 0x7fd5b00c4710>"
      ]
     },
     "execution_count": 7,
     "metadata": {},
     "output_type": "execute_result"
    },
    {
     "data": {
      "image/png": "[encoded data removed]",
      "text/plain": [
       "<matplotlib.figure.Figure at 0x7fd60b5893c8>"
      ]
     },
     "metadata": {},
     "output_type": "display_data"
    }
   ],
   "source": [
    "import matplotlib.pyplot as plt\n",
    "%matplotlib inline\n",
    "np_img = np.asarray(loadedPILImg).astype('uint8')\n",
    "plt.imshow(np_img[120:152,140:172,:])\n",
    "#Yoffset = tf.one_hot([[[0]]],64,tf.cast(32.,tf.as_dtype('float64')),tf.cast(0.,tf.as_dtype('float64')))\n",
    "#print(np.amax(np_img))\n",
    "#print(np.amin(np_img))\n",
    "#np_img_float = np_img.astype('float64')/255.\n",
    "#tf_img_float = tf.expand_dims(np_img_float,axis=0)\n",
    "#yuv_img = jrf.RGB2YUV(dtype=tf.as_dtype('float64'))(tf_img_float)\n",
    "#rgb_img = jrf.YUV2RGB(dtype=tf.as_dtype('float64'))(smooth_jpeg2.Wt(smooth_jpeg2.W(yuv_img)))\n",
    "#np_img = np.asarray(255.*tf.squeeze(rgb_img,axis=0)).astype('uint8')\n",
    "#plt.imshow(np_img)\n",
    "#quantized_img = jrf.threeChannelQuantize(smooth_jpeg2.W(yuv_img),qY,qUV,Yoffset)\n",
    "#rgb_img = jrf.YUV2RGB(dtype=tf.as_dtype('float64'))(smooth_jpeg2.Wt(quantized_img))\n",
    "#np_img = np.asarray(255.*tf.squeeze(rgb_img,axis=0)).astype('uint8')\n",
    "#plt.imshow(np_img)\n",
    "#quantized_yuv_img = smooth_jpeg2.Wt(quantized_img)\n",
    "#plt.imshow(yuv2rgb(quantized_yuv_img))\n",
    "#quantized_img = jrf.threeChannelQuantize(smooth_jpeg2.W(tf.expand_dims(jrf.RGB2YUV()(np.asarray(loadedPILImg).astype('float64')),axis=0)),qY,qUV,Yoffset)\n",
    "#plt.imshow(np.asarray(jrf.YUV2RGB()(tf.squeeze(smooth_jpeg2.Wt(quantized_img),axis=0))).astype('uint8'))"
   ]
  },
  {
   "cell_type": "code",
   "execution_count": 8,
   "metadata": {},
   "outputs": [
    {
     "name": "stdout",
     "output_type": "stream",
     "text": [
      "(480, 320, 3)\n",
      "255\n",
      "0\n"
     ]
    },
    {
     "data": {
      "image/png": "[encoded data removed]",
      "text/plain": [
       "<matplotlib.figure.Figure at 0x7fd5b002a978>"
      ]
     },
     "metadata": {},
     "output_type": "display_data"
    }
   ],
   "source": [
    "#ci = yuv2rgb(compressedImg)\n",
    "ci = clip(compressedImg)\n",
    "plt.imshow(ci[120:152,140:172,:])\n",
    "print(ci.shape)\n",
    "print(np.amax(ci))\n",
    "print(np.amin(ci))"
   ]
  },
  {
   "cell_type": "code",
   "execution_count": 9,
   "metadata": {},
   "outputs": [
    {
     "data": {
      "text/plain": [
       "<matplotlib.image.AxesImage at 0x7fd594258eb8>"
      ]
     },
     "execution_count": 9,
     "metadata": {},
     "output_type": "execute_result"
    },
    {
     "data": {
      "image/png": "[encoded data removed]",
      "text/plain": [
       "<matplotlib.figure.Figure at 0x7fd5b00bb240>"
      ]
     },
     "metadata": {},
     "output_type": "display_data"
    }
   ],
   "source": [
    "#lp = yuv2rgb(lowpass)\n",
    "lp = clip(lowpass)\n",
    "plt.imshow(lp[120:152,140:172,:])"
   ]
  },
  {
   "cell_type": "code",
   "execution_count": 10,
   "metadata": {},
   "outputs": [
    {
     "name": "stdout",
     "output_type": "stream",
     "text": [
      "tf.Tensor(3.8167978929044254e-05, shape=(), dtype=float64)\n",
      "tf.Tensor(3.8167978929044254e-05, shape=(), dtype=float64)\n"
     ]
    }
   ],
   "source": [
    "#my_raw = jrf.RGB2YUV(dtype='float64')(tf.expand_dims(tf.cast(yuv2rgb(tf.expand_dims(loadedImg,axis=0)),'float64')/255,axis=0))\n",
    "my_raw = tf.expand_dims(tf.cast(clip(tf.expand_dims(loadedImg,axis=0)),'float64')/255,axis=0)\n",
    "#my_lp = jrf.RGB2YUV(dtype='float64')(tf.expand_dims(tf.cast(yuv2rgb(lowpass),'float64')/255,axis=0))\n",
    "my_lp = tf.expand_dims(tf.cast(clip(lowpass),'float64')/255,axis=0)\n",
    "my_cmprss = tf.expand_dims(tf.cast(clip(compressedImg),'float64')/255,axis=0)\n",
    "#my_cmprss = jrf.RGB2YUV(dtype='float64')(tf.expand_dims(tf.cast(yuv2rgb(compressedImg),'float64')/255,axis=0))\n",
    "print(tf.reduce_mean(tf.keras.losses.mean_squared_error(my_raw,my_lp)))\n",
    "print(tf.reduce_mean(tf.keras.losses.mean_squared_error(my_raw,my_cmprss)))\n"
   ]
  },
  {
   "cell_type": "code",
   "execution_count": 26,
   "metadata": {
    "collapsed": true
   },
   "outputs": [],
   "source": [
    "import tensorflow as tf\n",
    "import jpeg_related_functions as jrf\n",
    "from PIL import Image"
   ]
  },
  {
   "cell_type": "code",
   "execution_count": 2,
   "metadata": {
    "collapsed": true
   },
   "outputs": [],
   "source": [
    "import numpy as np\n",
    "qY = np.array([[16, 11, 10, 16, 24, 40, 51, 61],\n",
    "              [12, 12, 14, 19, 26, 58, 60, 55],\n",
    "              [14, 13, 16, 24, 40, 57, 69, 56],\n",
    "              [14, 17, 22, 29, 51, 87, 80, 62],\n",
    "              [18, 22, 37, 56, 68, 109, 103, 77],\n",
    "              [24, 35, 55, 64, 81, 104, 113, 92],\n",
    "              [49, 64, 78, 87, 103, 121, 120, 101],\n",
    "              [72, 92, 95, 98, 112, 100, 103, 99]])\n",
    "qY = qY.astype('float64')/255.\n",
    "qUV = qY"
   ]
  },
  {
   "cell_type": "code",
   "execution_count": 3,
   "metadata": {
    "collapsed": true
   },
   "outputs": [],
   "source": [
    "\n",
    "lmbda = 4.\n",
    "rho = 0.1\n",
    "alpha = 1.\n",
    "noi = 10\n",
    "image = Image.open(\"20190728_matthewdruincom_SLE_0033.jpg\")\n",
    "s = np.asarray(image).astype('float64')/255.\n",
    "s = s[slice(0,1600),slice(0,2800),slice(None)]\n",
    "s = np.reshape(s,(1,) + s.shape)\n",
    "fftSz = s.shape[1:3]\n",
    "smooth_jpeg = jrf.Smooth_JPEG(rho,alpha,noi,qY,qUV,lmbda,fftSz,dtype=tf.float64)\n",
    "#y,u,By,negC = smooth_jpeg.init_vars(s)\n",
    "#outputs = smooth_jpeg(s)\n"
   ]
  },
  {
   "cell_type": "code",
   "execution_count": 4,
   "metadata": {
    "collapsed": true
   },
   "outputs": [],
   "source": [
    "outputs = smooth_jpeg(s)"
   ]
  },
  {
   "cell_type": "code",
   "execution_count": 5,
   "metadata": {
    "collapsed": true
   },
   "outputs": [],
   "source": [
    "highpass,lowpass = outputs"
   ]
  },
  {
   "cell_type": "code",
   "execution_count": 5,
   "metadata": {
    "collapsed": true
   },
   "outputs": [],
   "source": [
    "x,y,u = outputs"
   ]
  },
  {
   "cell_type": "code",
   "execution_count": 6,
   "metadata": {},
   "outputs": [
    {
     "name": "stdout",
     "output_type": "stream",
     "text": [
      "tf.Tensor(2.039646333059423, shape=(), dtype=float64)\n",
      "tf.Tensor(2.1151680018556487, shape=(), dtype=float64)\n",
      "tf.Tensor(0.8840874549355658, shape=(), dtype=float64)\n",
      "tf.Tensor(0.8297288644681492, shape=(), dtype=float64)\n",
      "tf.Tensor(1.3342601848054017, shape=(), dtype=float64)\n",
      "tf.Tensor(1.3342601848058462, shape=(), dtype=float64)\n"
     ]
    }
   ],
   "source": [
    "print(tf.math.reduce_max(x))\n",
    "print(tf.math.reduce_max(y))\n",
    "print(tf.math.reduce_min(x))\n",
    "print(tf.math.reduce_min(y))\n",
    "print(tf.math.reduce_mean(x))\n",
    "print(tf.math.reduce_mean(y))"
   ]
  },
  {
   "cell_type": "code",
   "execution_count": 4,
   "metadata": {
    "collapsed": true
   },
   "outputs": [],
   "source": [
    "y_init,u_init,By_init,negC,itstats = smooth_jpeg.init_vars(s)"
   ]
  },
  {
   "cell_type": "code",
   "execution_count": 5,
   "metadata": {},
   "outputs": [
    {
     "name": "stdout",
     "output_type": "stream",
     "text": [
      "tf.Tensor(1.1837382249200323, shape=(), dtype=float64)\n",
      "tf.Tensor(-0.21214950634511898, shape=(), dtype=float64)\n",
      "tf.Tensor(0.3588879588149992, shape=(), dtype=float64)\n"
     ]
    }
   ],
   "source": [
    "print(tf.reduce_max(y_init))\n",
    "print(tf.reduce_min(y_init))\n",
    "print(tf.reduce_mean(y_init))"
   ]
  },
  {
   "cell_type": "code",
   "execution_count": 6,
   "metadata": {},
   "outputs": [
    {
     "name": "stdout",
     "output_type": "stream",
     "text": [
      "tf.Tensor(1.1837382249200323, shape=(), dtype=float64)\n",
      "tf.Tensor(-0.21214950634511898, shape=(), dtype=float64)\n",
      "tf.Tensor(0.3588879588149992, shape=(), dtype=float64)\n"
     ]
    }
   ],
   "source": [
    "print(tf.reduce_max(smooth_jpeg.Wt(negC)))\n",
    "print(tf.reduce_min(smooth_jpeg.Wt(negC)))\n",
    "print(tf.reduce_mean(smooth_jpeg.Wt(negC)))"
   ]
  },
  {
   "cell_type": "code",
   "execution_count": 7,
   "metadata": {},
   "outputs": [
    {
     "name": "stdout",
     "output_type": "stream",
     "text": [
      "tf.Tensor(1.1837382249200323, shape=(), dtype=float64)\n",
      "tf.Tensor(-0.21214950634511898, shape=(), dtype=float64)\n",
      "tf.Tensor(0.3588879588149992, shape=(), dtype=float64)\n"
     ]
    }
   ],
   "source": [
    "print(tf.reduce_max(smooth_jpeg.Wt(By_init)))\n",
    "print(tf.reduce_min(smooth_jpeg.Wt(By_init)))\n",
    "print(tf.reduce_mean(smooth_jpeg.Wt(By_init)))"
   ]
  },
  {
   "cell_type": "code",
   "execution_count": 8,
   "metadata": {
    "collapsed": true
   },
   "outputs": [],
   "source": [
    "x,Ax = smooth_jpeg.xstep(y_init,u_init,By_init)"
   ]
  },
  {
   "cell_type": "code",
   "execution_count": 49,
   "metadata": {},
   "outputs": [
    {
     "name": "stdout",
     "output_type": "stream",
     "text": [
      "tf.Tensor(1.0390829950833103, shape=(), dtype=float64)\n",
      "tf.Tensor(-0.03794457125802076, shape=(), dtype=float64)\n",
      "tf.Tensor(0.3596462283896552, shape=(), dtype=float64)\n"
     ]
    }
   ],
   "source": [
    "print(tf.reduce_max(x))\n",
    "print(tf.reduce_min(x))\n",
    "print(tf.reduce_mean(x))"
   ]
  },
  {
   "cell_type": "code",
   "execution_count": 10,
   "metadata": {
    "collapsed": true
   },
   "outputs": [],
   "source": [
    "AxplusC = smooth_jpeg.relax(Ax,By_init,negC)"
   ]
  },
  {
   "cell_type": "code",
   "execution_count": 11,
   "metadata": {},
   "outputs": [
    {
     "name": "stdout",
     "output_type": "stream",
     "text": [
      "tf.Tensor(0.0, shape=(), dtype=float64)\n",
      "tf.Tensor(0.0, shape=(), dtype=float64)\n",
      "tf.Tensor(0.0, shape=(), dtype=float64)\n",
      "tf.Tensor(0.0, shape=(), dtype=float64)\n"
     ]
    }
   ],
   "source": [
    "print(tf.reduce_max(AxplusC[0] + negC[0]))\n",
    "print(tf.reduce_min(AxplusC[0] + negC[0]))\n",
    "print(tf.reduce_max(AxplusC[1] + negC[1]))\n",
    "print(tf.reduce_min(AxplusC[1] + negC[1]))"
   ]
  },
  {
   "cell_type": "code",
   "execution_count": 12,
   "metadata": {
    "collapsed": true
   },
   "outputs": [],
   "source": [
    "y,By = smooth_jpeg.ystep(x,u_init,AxplusC)"
   ]
  },
  {
   "cell_type": "code",
   "execution_count": 50,
   "metadata": {},
   "outputs": [
    {
     "name": "stdout",
     "output_type": "stream",
     "text": [
      "tf.Tensor(1.095376683391678, shape=(), dtype=float64)\n",
      "tf.Tensor(1.1340443007804173, shape=(), dtype=float64)\n",
      "tf.Tensor(-0.07691133243708641, shape=(), dtype=float64)\n",
      "tf.Tensor(-0.11176080134176089, shape=(), dtype=float64)\n",
      "tf.Tensor(0.3598486538373756, shape=(), dtype=float64)\n",
      "tf.Tensor(0.3601107598790794, shape=(), dtype=float64)\n"
     ]
    }
   ],
   "source": [
    "print(tf.reduce_max(y))\n",
    "print(tf.reduce_max(smooth_jpeg.Wt(By)))\n",
    "print(tf.reduce_min(y))\n",
    "print(tf.reduce_min(smooth_jpeg.Wt(By)))\n",
    "print(tf.reduce_mean(y))\n",
    "print(tf.reduce_mean(smooth_jpeg.Wt(By)))"
   ]
  },
  {
   "cell_type": "code",
   "execution_count": 14,
   "metadata": {
    "collapsed": true
   },
   "outputs": [],
   "source": [
    "u = smooth_jpeg.ustep(u_init,AxplusC,By)"
   ]
  },
  {
   "cell_type": "code",
   "execution_count": 45,
   "metadata": {
    "collapsed": true
   },
   "outputs": [],
   "source": [
    "x,Ax = smooth_jpeg.xstep(y,u,By)"
   ]
  },
  {
   "cell_type": "code",
   "execution_count": 46,
   "metadata": {
    "collapsed": true
   },
   "outputs": [],
   "source": [
    "AxplusC = smooth_jpeg.relax(Ax,By,negC)"
   ]
  },
  {
   "cell_type": "code",
   "execution_count": 47,
   "metadata": {
    "collapsed": true
   },
   "outputs": [],
   "source": [
    "y,By = smooth_jpeg.ystep(x,u,AxplusC)"
   ]
  },
  {
   "cell_type": "code",
   "execution_count": 48,
   "metadata": {
    "collapsed": true
   },
   "outputs": [],
   "source": [
    "u = smooth_jpeg.ustep(u,AxplusC,By)"
   ]
  },
  {
   "cell_type": "code",
   "execution_count": null,
   "metadata": {
    "collapsed": true
   },
   "outputs": [],
   "source": []
  },
  {
   "cell_type": "code",
   "execution_count": 11,
   "metadata": {
    "collapsed": true
   },
   "outputs": [],
   "source": [
    "x,Ax = smooth_jpeg.xstep(s,u_init,By_init)"
   ]
  },
  {
   "cell_type": "code",
   "execution_count": 15,
   "metadata": {},
   "outputs": [
    {
     "name": "stdout",
     "output_type": "stream",
     "text": [
      "(1, 1600, 2800, 3)\n",
      "(1, 1600, 2800, 3)\n",
      "tf.Tensor(1.0, shape=(), dtype=float64)\n",
      "tf.Tensor(1.0000000000006473, shape=(), dtype=float64)\n",
      "tf.Tensor(0.0, shape=(), dtype=float64)\n",
      "tf.Tensor(-4.956660487039716e-13, shape=(), dtype=float64)\n",
      "tf.Tensor(0.3588261461251168, shape=(), dtype=float64)\n",
      "tf.Tensor(0.3588261461249889, shape=(), dtype=float64)\n"
     ]
    }
   ],
   "source": [
    "import transforms as transf\n",
    "fft = transf.fft2d_multichannel(s.shape[1:3])\n",
    "ifft = transf.ifft2d_multichannel(s.shape[1:3])\n",
    "s_still = ifft(fft(s))\n",
    "print(s.shape)\n",
    "print(s_still.shape)\n",
    "\n",
    "print(tf.reduce_max(s))\n",
    "print(tf.reduce_max(s_still))\n",
    "print(tf.reduce_min(s))\n",
    "print(tf.reduce_min(s_still))\n",
    "print(tf.reduce_mean(s))\n",
    "print(tf.reduce_mean(s_still))"
   ]
  },
  {
   "cell_type": "code",
   "execution_count": 6,
   "metadata": {
    "collapsed": true
   },
   "outputs": [],
   "source": [
    "x_new = tf.where(x < 0,0.,x)\n",
    "x_new = tf.where(x_new > 1.0,1.0,x_new)\n",
    "smoothImage = Image.fromarray((255.*np.asarray(tf.reshape(x_new,x_new.shape[1:]))).astype('uint8'),'RGB')\n",
    "smoothImage.show()"
   ]
  },
  {
   "cell_type": "code",
   "execution_count": 9,
   "metadata": {
    "collapsed": true
   },
   "outputs": [],
   "source": [
    "y_new = tf.where(highpass < 0.,0.,highpass)\n",
    "y_new = tf.where(y_new > 1.0,1.0,y_new)\n",
    "smoothImage = Image.fromarray((255.*np.asarray(tf.reshape(y_new,y_new.shape[1:]))).astype('uint8'),'RGB')\n",
    "smoothImage.show()"
   ]
  },
  {
   "cell_type": "code",
   "execution_count": 8,
   "metadata": {},
   "outputs": [
    {
     "data": {
      "text/plain": [
       "3"
      ]
     },
     "execution_count": 8,
     "metadata": {},
     "output_type": "execute_result"
    }
   ],
   "source": [
    "len(lowpass)"
   ]
  },
  {
   "cell_type": "code",
   "execution_count": 4,
   "metadata": {},
   "outputs": [
    {
     "name": "stdout",
     "output_type": "stream",
     "text": [
      "tf.Tensor(0.2570130949512816, shape=(), dtype=float64)\n",
      "tf.Tensor(0.2570130949512816, shape=(), dtype=float64)\n",
      "tf.Tensor(0.04323715026838358, shape=(), dtype=float64)\n",
      "tf.Tensor(0.04323715026838358, shape=(), dtype=float64)\n",
      "tf.Tensor(0.07887996586296282, shape=(), dtype=float64)\n",
      "tf.Tensor(0.07887996586296282, shape=(), dtype=float64)\n",
      "tf.Tensor(-0.03274309150125233, shape=(), dtype=float64)\n",
      "tf.Tensor(-0.03274309150125233, shape=(), dtype=float64)\n",
      "tf.Tensor(-0.033754955995817404, shape=(), dtype=float64)\n",
      "tf.Tensor(-0.033754955995817404, shape=(), dtype=float64)\n",
      "tf.Tensor(-0.05825989553795034, shape=(), dtype=float64)\n",
      "tf.Tensor(-0.05825989553795034, shape=(), dtype=float64)\n",
      "tf.Tensor(0.06513041623543925, shape=(), dtype=float64)\n",
      "tf.Tensor(0.06513041623543925, shape=(), dtype=float64)\n",
      "tf.Tensor(-0.0011787114132774982, shape=(), dtype=float64)\n",
      "tf.Tensor(-0.0011787114132774982, shape=(), dtype=float64)\n",
      "tf.Tensor(0.007870027512006482, shape=(), dtype=float64)\n",
      "tf.Tensor(0.007870027512006482, shape=(), dtype=float64)\n"
     ]
    }
   ],
   "source": [
    "wtBy_yuv = tf.image.rgb_to_yuv(wtBy)\n",
    "wtBY_y,wtBY_u,wtBY_v = tf.split(wtBy_yuv,axis=3,num_or_size_splits=3)\n",
    "\n",
    "wtqwy = smooth_jpeg.Wt([smooth_jpeg.q*tf.math.round(smooth_jpeg.W(y)[channel]/smooth_jpeg.q) for channel in range(3)])\n",
    "wtqwy_yuv = tf.image.rgb_to_yuv(wtqwy)\n",
    "wtqwy_y,wtqwy_u,wtqwy_v = tf.split(wtqwy_yuv,axis=3,num_or_size_splits=3)\n",
    "\n",
    "print(tf.math.reduce_max(wtBY_y))\n",
    "print(tf.math.reduce_max(wtqwy_y))\n",
    "print(tf.math.reduce_max(wtBY_u))\n",
    "print(tf.math.reduce_max(wtqwy_u))\n",
    "print(tf.math.reduce_max(wtBY_v))\n",
    "print(tf.math.reduce_max(wtBY_v))\n",
    "print(tf.math.reduce_min(wtBY_y))\n",
    "print(tf.math.reduce_min(wtqwy_y))\n",
    "print(tf.math.reduce_min(wtBY_u))\n",
    "print(tf.math.reduce_min(wtqwy_u))\n",
    "print(tf.math.reduce_min(wtBY_v))\n",
    "print(tf.math.reduce_min(wtBY_v))\n",
    "print(tf.math.reduce_mean(wtBY_y))\n",
    "print(tf.math.reduce_mean(wtqwy_y))\n",
    "print(tf.math.reduce_mean(wtBY_u))\n",
    "print(tf.math.reduce_mean(wtqwy_u))\n",
    "print(tf.math.reduce_mean(wtBY_v))\n",
    "print(tf.math.reduce_mean(wtBY_v))\n"
   ]
  },
  {
   "cell_type": "code",
   "execution_count": 4,
   "metadata": {},
   "outputs": [
    {
     "data": {
      "text/plain": [
       "1"
      ]
     },
     "execution_count": 4,
     "metadata": {},
     "output_type": "execute_result"
    }
   ],
   "source": [
    "len(lowpass)"
   ]
  },
  {
   "cell_type": "code",
   "execution_count": 4,
   "metadata": {
    "collapsed": true
   },
   "outputs": [],
   "source": [
    "x = tf.cast(lowpass,tf.float32)\n",
    "x_small = x[slice(None),slice(0,256),slice(0,256),slice(None)]\n",
    "smoothImage = Image.fromarray(np.asarray(tf.reshape(x_small,x_small.shape[1:])),'RGB')\n",
    "smoothImage.show()"
   ]
  },
  {
   "cell_type": "code",
   "execution_count": 5,
   "metadata": {},
   "outputs": [
    {
     "data": {
      "text/plain": [
       "<tf.Tensor: shape=(), dtype=float32, numpy=0.92229486>"
      ]
     },
     "execution_count": 5,
     "metadata": {},
     "output_type": "execute_result"
    }
   ],
   "source": [
    "tf.reduce_max(x_small)"
   ]
  },
  {
   "cell_type": "code",
   "execution_count": 6,
   "metadata": {},
   "outputs": [
    {
     "data": {
      "text/plain": [
       "<tf.Tensor: shape=(), dtype=float32, numpy=0.8896151>"
      ]
     },
     "execution_count": 6,
     "metadata": {},
     "output_type": "execute_result"
    }
   ],
   "source": [
    "tf.reduce_min(x_small)"
   ]
  },
  {
   "cell_type": "code",
   "execution_count": 7,
   "metadata": {},
   "outputs": [
    {
     "data": {
      "text/plain": [
       "<tf.Tensor: shape=(), dtype=float64, numpy=1.0>"
      ]
     },
     "execution_count": 7,
     "metadata": {},
     "output_type": "execute_result"
    }
   ],
   "source": [
    "tf.reduce_max(s)"
   ]
  },
  {
   "cell_type": "code",
   "execution_count": 8,
   "metadata": {
    "scrolled": true
   },
   "outputs": [
    {
     "data": {
      "text/plain": [
       "<tf.Tensor: shape=(), dtype=float64, numpy=0.0>"
      ]
     },
     "execution_count": 8,
     "metadata": {},
     "output_type": "execute_result"
    }
   ],
   "source": [
    "tf.reduce_min(s)"
   ]
  },
  {
   "cell_type": "code",
   "execution_count": 9,
   "metadata": {
    "collapsed": true
   },
   "outputs": [],
   "source": [
    "x_new,Ax_new = smooth_jpeg.xstep(s)"
   ]
  },
  {
   "cell_type": "code",
   "execution_count": 10,
   "metadata": {},
   "outputs": [
    {
     "data": {
      "text/plain": [
       "<tf.Tensor: shape=(), dtype=float64, numpy=0.9259259259265392>"
      ]
     },
     "execution_count": 10,
     "metadata": {},
     "output_type": "execute_result"
    }
   ],
   "source": [
    "tf.reduce_max(x_new)"
   ]
  },
  {
   "cell_type": "code",
   "execution_count": 11,
   "metadata": {},
   "outputs": [
    {
     "data": {
      "text/plain": [
       "<tf.Tensor: shape=(), dtype=float64, numpy=-4.566629576338341e-13>"
      ]
     },
     "execution_count": 11,
     "metadata": {},
     "output_type": "execute_result"
    }
   ],
   "source": [
    "tf.reduce_min(x_new)"
   ]
  },
  {
   "cell_type": "code",
   "execution_count": 4,
   "metadata": {
    "collapsed": true
   },
   "outputs": [],
   "source": [
    "lowpass = y"
   ]
  },
  {
   "cell_type": "code",
   "execution_count": 6,
   "metadata": {
    "collapsed": true
   },
   "outputs": [],
   "source": [
    "lowpass = wtBy"
   ]
  },
  {
   "cell_type": "code",
   "execution_count": 4,
   "metadata": {
    "collapsed": true
   },
   "outputs": [],
   "source": [
    "x_new = tf.where(lowpass < 0,0.,lowpass)\n",
    "x_new = tf.where(x_new > 1.0,1.0,x_new)\n",
    "smoothImage = Image.fromarray((255.*np.asarray(tf.reshape(x_new,x_new.shape[1:]))).astype('uint8'),'RGB')\n",
    "smoothImage.show()"
   ]
  },
  {
   "cell_type": "code",
   "execution_count": 4,
   "metadata": {},
   "outputs": [
    {
     "name": "stdout",
     "output_type": "stream",
     "text": [
      "tf.Tensor(0.025259007677445326, shape=(), dtype=float64)\n",
      "tf.Tensor(-0.004116784037421037, shape=(), dtype=float64)\n",
      "tf.Tensor(0.007235759263040731, shape=(), dtype=float64)\n"
     ]
    }
   ],
   "source": [
    "print(tf.reduce_max(lowpass))\n",
    "print(tf.reduce_min(lowpass))\n",
    "print(tf.reduce_mean(lowpass))"
   ]
  },
  {
   "cell_type": "code",
   "execution_count": 5,
   "metadata": {},
   "outputs": [
    {
     "data": {
      "text/plain": [
       "<tf.Tensor: shape=(), dtype=float64, numpy=0.5130693627046149>"
      ]
     },
     "execution_count": 5,
     "metadata": {},
     "output_type": "execute_result"
    }
   ],
   "source": [
    "tf.reduce_min(y)"
   ]
  },
  {
   "cell_type": "code",
   "execution_count": 6,
   "metadata": {},
   "outputs": [
    {
     "data": {
      "text/plain": [
       "<tf.Tensor: shape=(), dtype=float64, numpy=0.6106675396815834>"
      ]
     },
     "execution_count": 6,
     "metadata": {},
     "output_type": "execute_result"
    }
   ],
   "source": [
    "tf.reduce_mean(y)"
   ]
  },
  {
   "cell_type": "code",
   "execution_count": 4,
   "metadata": {},
   "outputs": [
    {
     "data": {
      "text/plain": [
       "<tf.Tensor: shape=(), dtype=float64, numpy=0.7188945327525801>"
      ]
     },
     "execution_count": 4,
     "metadata": {},
     "output_type": "execute_result"
    }
   ],
   "source": [
    "tf.reduce_max(wtBy)"
   ]
  },
  {
   "cell_type": "code",
   "execution_count": 5,
   "metadata": {},
   "outputs": [
    {
     "data": {
      "text/plain": [
       "<tf.Tensor: shape=(), dtype=float64, numpy=0.4095120582383085>"
      ]
     },
     "execution_count": 5,
     "metadata": {},
     "output_type": "execute_result"
    }
   ],
   "source": [
    "tf.reduce_min(wtBy)"
   ]
  },
  {
   "cell_type": "code",
   "execution_count": 6,
   "metadata": {},
   "outputs": [
    {
     "data": {
      "text/plain": [
       "<tf.Tensor: shape=(), dtype=float64, numpy=0.5205163330596897>"
      ]
     },
     "execution_count": 6,
     "metadata": {},
     "output_type": "execute_result"
    }
   ],
   "source": [
    "tf.reduce_mean(wtBy)"
   ]
  },
  {
   "cell_type": "code",
   "execution_count": 6,
   "metadata": {},
   "outputs": [
    {
     "data": {
      "text/plain": [
       "TensorShape([1, 200, 350, 64])"
      ]
     },
     "execution_count": 6,
     "metadata": {},
     "output_type": "execute_result"
    }
   ],
   "source": [
    "smooth_jpeg.W(wtBy)[0].shape"
   ]
  },
  {
   "cell_type": "code",
   "execution_count": 10,
   "metadata": {},
   "outputs": [
    {
     "data": {
      "text/plain": [
       "<tf.Tensor: shape=(), dtype=float64, numpy=0.613012462000272>"
      ]
     },
     "execution_count": 10,
     "metadata": {},
     "output_type": "execute_result"
    }
   ],
   "source": [
    "tf.reduce_mean(smooth_jpeg.Wt([smooth_jpeg.q*tf.math.round(smooth_jpeg.W(y)[channel]/smooth_jpeg.q) for channel in range(3)]))"
   ]
  },
  {
   "cell_type": "code",
   "execution_count": 5,
   "metadata": {},
   "outputs": [
    {
     "data": {
      "text/plain": [
       "<tf.Tensor: shape=(), dtype=float64, numpy=0.09169928799980395>"
      ]
     },
     "execution_count": 5,
     "metadata": {},
     "output_type": "execute_result"
    }
   ],
   "source": [
    "tf.reduce_max(x_new)"
   ]
  },
  {
   "cell_type": "code",
   "execution_count": 6,
   "metadata": {},
   "outputs": [
    {
     "data": {
      "text/plain": [
       "<tf.Tensor: shape=(), dtype=float64, numpy=0.05429964236971775>"
      ]
     },
     "execution_count": 6,
     "metadata": {},
     "output_type": "execute_result"
    }
   ],
   "source": [
    "tf.reduce_min(x_new)"
   ]
  },
  {
   "cell_type": "code",
   "execution_count": 16,
   "metadata": {},
   "outputs": [
    {
     "data": {
      "text/plain": [
       "TensorShape([1, 1600, 2800, 3])"
      ]
     },
     "execution_count": 16,
     "metadata": {},
     "output_type": "execute_result"
    }
   ],
   "source": [
    "x_new.shape"
   ]
  },
  {
   "cell_type": "code",
   "execution_count": null,
   "metadata": {
    "collapsed": true
   },
   "outputs": [],
   "source": [
    "smoothImage = Image.fromarray(np.asarray(tf.reshape(x_new,x_new.shape[1:]))*255)"
   ]
  },
  {
   "cell_type": "code",
   "execution_count": 3,
   "metadata": {
    "collapsed": true
   },
   "outputs": [],
   "source": [
    "from PIL import Image\n",
    "image = Image.open(\"20190728_matthewdruincom_SLE_0033.jpg\")\n",
    "#image = Image.open(\"20200202_matthewdruincom_SLW_0085.jpg\")\n",
    "#image.show()\n",
    "import numpy as np\n",
    "x_orig = np.asarray(image).astype('float64')\n",
    "\n",
    "x_batch = np.reshape(x_orig.astype('float64')/255.,(1,)+x_orig.shape)\n",
    "x_batch = x_batch[slice(None),slice(0,1600),slice(0,2800),slice(None)]\n",
    "x = (np.reshape(x_batch,x_batch.shape[1:])*255.).astype('uint8')\n",
    "x_orig = Image.fromarray(x)\n",
    "x_cmprss = tf.image.adjust_jpeg_quality(x,25)\n",
    "image_cmprss = Image.fromarray(np.asarray(x_cmprss),'RGB')\n",
    "image_cmprss.show()\n",
    "x_cmprss_batch = np.reshape(np.asarray(x_cmprss).astype('float64')/255.,(1,)+x_cmprss.shape)\n",
    "#x_cmprss_apprx = jrf.Linear_JPEG_Compression_Approx(x_cmprss_batch)(x_batch)\n",
    "#image_cmprss_apprx = Image.fromarray(np.asarray(x_cmprss_apprx*255).astype('uint8'),'RGB')\n",
    "#image_cmprss_apprx.show\n",
    "\n",
    "#y = jpeg_coef2rgb(rgb2jpeg_coef(x))\n",
    "#z = jpeg_coef2rgb(rgb2jpeg_coef(x))"
   ]
  },
  {
   "cell_type": "code",
   "execution_count": 4,
   "metadata": {},
   "outputs": [
    {
     "name": "stdout",
     "output_type": "stream",
     "text": [
      "(1, 1600, 2800, 3)\n",
      "(1, 1600, 2800, 3)\n"
     ]
    }
   ],
   "source": [
    "print(x_batch.shape)\n",
    "print(x_cmprss_batch.shape)"
   ]
  },
  {
   "cell_type": "code",
   "execution_count": 4,
   "metadata": {},
   "outputs": [
    {
     "name": "stdout",
     "output_type": "stream",
     "text": [
      "WARNING:tensorflow:Layer rg_b2jpeg__coef_1 is casting an input tensor from dtype float64 to the layer's dtype of float32, which is new behavior in TensorFlow 2.  The layer has dtype float32 because its dtype defaults to floatx.\n",
      "\n",
      "If you intended to run this layer in float32, you can safely ignore this warning. If in doubt, this warning is likely only an issue if you are porting a TensorFlow 1.X model to TensorFlow 2.\n",
      "\n",
      "To change all layers to have dtype float64 by default, call `tf.keras.backend.set_floatx('float64')`. To change just this layer, pass dtype='float64' to the layer constructor. If you are the author of this layer, you can disable autocasting by passing autocast=False to the base Layer constructor.\n",
      "\n",
      "WARNING:tensorflow:Layer linear_jpeg__compression__approx is casting an input tensor from dtype float64 to the layer's dtype of float32, which is new behavior in TensorFlow 2.  The layer has dtype float32 because its dtype defaults to floatx.\n",
      "\n",
      "If you intended to run this layer in float32, you can safely ignore this warning. If in doubt, this warning is likely only an issue if you are porting a TensorFlow 1.X model to TensorFlow 2.\n",
      "\n",
      "To change all layers to have dtype float64 by default, call `tf.keras.backend.set_floatx('float64')`. To change just this layer, pass dtype='float64' to the layer constructor. If you are the author of this layer, you can disable autocasting by passing autocast=False to the base Layer constructor.\n",
      "\n"
     ]
    }
   ],
   "source": [
    "x_cmprss_apprx = jrf.Linear_JPEG_Compression_Approx(x_cmprss_batch,epsilon=1e-3)(x_batch)\n",
    "#print(tf.math.reduce_min(tf.where(jrf.Linear_JPEG_Compression_Approx(x_cmprss_batch).masky,1.0,0.0)))"
   ]
  },
  {
   "cell_type": "code",
   "execution_count": 5,
   "metadata": {
    "collapsed": true
   },
   "outputs": [],
   "source": [
    "image_cmprss_apprx = Image.fromarray(np.asarray(tf.reshape(x_cmprss_apprx,x_cmprss_apprx.shape[1:])*255).astype('uint8'),'RGB')\n",
    "image_cmprss_apprx.show()"
   ]
  },
  {
   "cell_type": "code",
   "execution_count": 6,
   "metadata": {},
   "outputs": [
    {
     "name": "stdout",
     "output_type": "stream",
     "text": [
      "tf.Tensor(1.0698118, shape=(), dtype=float32)\n"
     ]
    }
   ],
   "source": [
    "print(tf.math.reduce_max(x_cmprss_apprx))"
   ]
  },
  {
   "cell_type": "code",
   "execution_count": 7,
   "metadata": {},
   "outputs": [
    {
     "data": {
      "text/plain": [
       "<tf.Tensor: shape=(), dtype=float64, numpy=0.0>"
      ]
     },
     "execution_count": 7,
     "metadata": {},
     "output_type": "execute_result"
    }
   ],
   "source": [
    "tf.math.reduce_min(y)"
   ]
  },
  {
   "cell_type": "code",
   "execution_count": 4,
   "metadata": {},
   "outputs": [
    {
     "name": "stdout",
     "output_type": "stream",
     "text": [
      "tf.Tensor(0.21713108, shape=(), dtype=float32)\n",
      "tf.Tensor(0.0, shape=(), dtype=float32)\n"
     ]
    }
   ],
   "source": [
    "print(tf.math.reduce_max(tf.math.abs(x - y)))\n",
    "print(tf.math.reduce_max(tf.math.abs(z - y)))"
   ]
  },
  {
   "cell_type": "code",
   "execution_count": 5,
   "metadata": {},
   "outputs": [
    {
     "data": {
      "text/plain": [
       "TensorShape([5, 128, 128, 3])"
      ]
     },
     "execution_count": 5,
     "metadata": {},
     "output_type": "execute_result"
    }
   ],
   "source": [
    "x.shape"
   ]
  },
  {
   "cell_type": "code",
   "execution_count": 5,
   "metadata": {},
   "outputs": [
    {
     "data": {
      "text/plain": [
       "<tf.Tensor: shape=(), dtype=float32, numpy=0.22571766>"
      ]
     },
     "execution_count": 5,
     "metadata": {},
     "output_type": "execute_result"
    }
   ],
   "source": [
    "x[0,0,0,0]"
   ]
  },
  {
   "cell_type": "code",
   "execution_count": 6,
   "metadata": {},
   "outputs": [
    {
     "data": {
      "text/plain": [
       "<tf.Tensor: shape=(), dtype=float32, numpy=0.4955484>"
      ]
     },
     "execution_count": 6,
     "metadata": {},
     "output_type": "execute_result"
    }
   ],
   "source": [
    "y[0,0,0,0]"
   ]
  },
  {
   "cell_type": "code",
   "execution_count": 7,
   "metadata": {
    "collapsed": true
   },
   "outputs": [],
   "source": [
    "x = tf.one_hot(indices=[[[0]]],depth=64,on_value=2.,dtype=tf.float64)"
   ]
  },
  {
   "cell_type": "code",
   "execution_count": 8,
   "metadata": {},
   "outputs": [
    {
     "data": {
      "text/plain": [
       "TensorShape([1, 1, 1, 64])"
      ]
     },
     "execution_count": 8,
     "metadata": {},
     "output_type": "execute_result"
    }
   ],
   "source": [
    "x.shape"
   ]
  },
  {
   "cell_type": "code",
   "execution_count": 9,
   "metadata": {},
   "outputs": [
    {
     "data": {
      "text/plain": [
       "<tf.Tensor: shape=(), dtype=float64, numpy=2.0>"
      ]
     },
     "execution_count": 9,
     "metadata": {},
     "output_type": "execute_result"
    }
   ],
   "source": [
    "x[0,0,0,0]"
   ]
  },
  {
   "cell_type": "code",
   "execution_count": null,
   "metadata": {
    "collapsed": true
   },
   "outputs": [],
   "source": []
  }
 ],
 "metadata": {
  "kernelspec": {
   "display_name": "Python 3",
   "language": "python",
   "name": "python3"
  },
  "language_info": {
   "codemirror_mode": {
    "name": "ipython",
    "version": 3
   },
   "file_extension": ".py",
   "mimetype": "text/x-python",
   "name": "python",
   "nbconvert_exporter": "python",
   "pygments_lexer": "ipython3",
   "version": "3.6.1"
  }
 },
 "nbformat": 4,
 "nbformat_minor": 2
}
