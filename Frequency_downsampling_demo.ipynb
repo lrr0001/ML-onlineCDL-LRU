{
 "cells": [
  {
   "cell_type": "code",
   "execution_count": 1,
   "metadata": {},
   "outputs": [
    {
     "name": "stdout",
     "output_type": "stream",
     "text": [
      "tf.Tensor(\n",
      "[[[ 1.  2.  3.  4.  5.  6.  7.  8.]\n",
      "  [ 5.  6.  7.  8.  9. 10. 11. 12.]\n",
      "  [ 9. 10. 11. 12. 13. 14. 15. 16.]\n",
      "  [13. 14. 15. 16. 17. 18. 19. 20.]\n",
      "  [17. 18. 19. 20. 21. 22. 23. 24.]\n",
      "  [21. 22. 23. 24. 25. 26. 27. 28.]]], shape=(1, 6, 8), dtype=float32)\n"
     ]
    }
   ],
   "source": [
    "import tensorflow as tf\n",
    "import util\n",
    "\n",
    "x = tf.convert_to_tensor([[[1.,2.,3.,4.,5.,6.,7.,8.],[5.,6.,7.,8.,9.,10.,11.,12.],[9.,10.,11.,12.,13.,14.,15.,16.],[13.,14.,15.,16.,17,18.,19.,20.],[17.,18.,19.,20.,21.,22.,23.,24.],[21.,22.,23.,24.,25.,26,27.,28.]]])\n",
    "print(x)\n",
    "#,[17,18,19,20],[21,22,23,24],[25,26,27,28]]])"
   ]
  },
  {
   "cell_type": "code",
   "execution_count": 2,
   "metadata": {},
   "outputs": [],
   "source": [
    "import transforms as transf\n",
    "xf = transf.fft2d_inner((6,8))(tf.reshape(x,(1,6,8,1,1)))"
   ]
  },
  {
   "cell_type": "code",
   "execution_count": 3,
   "metadata": {},
   "outputs": [
    {
     "data": {
      "text/plain": [
       "TensorShape([1, 6, 5, 1, 1])"
      ]
     },
     "execution_count": 3,
     "metadata": {},
     "output_type": "execute_result"
    }
   ],
   "source": [
    "xf.shape"
   ]
  },
  {
   "cell_type": "code",
   "execution_count": 6,
   "metadata": {},
   "outputs": [],
   "source": [
    "x_downsample = transf.ifft2d_inner((3,4))(util.freq_downsample(xf))"
   ]
  },
  {
   "cell_type": "code",
   "execution_count": 5,
   "metadata": {},
   "outputs": [
    {
     "name": "stdout",
     "output_type": "stream",
     "text": [
      "tf.Tensor(\n",
      "[[[[[ 50.666668]]\n",
      "\n",
      "   [[ 53.091274]]\n",
      "\n",
      "   [[ 64.24206 ]]]\n",
      "\n",
      "\n",
      "  [[[ 72.      ]]\n",
      "\n",
      "   [[ 74.42461 ]]\n",
      "\n",
      "   [[ 85.57539 ]]]\n",
      "\n",
      "\n",
      "  [[[ 93.33334 ]]\n",
      "\n",
      "   [[ 95.75796 ]]\n",
      "\n",
      "   [[106.90874 ]]]]], shape=(1, 3, 3, 1, 1), dtype=float32)\n"
     ]
    }
   ],
   "source": [
    "print(x_downsample)"
   ]
  },
  {
   "cell_type": "code",
   "execution_count": 7,
   "metadata": {},
   "outputs": [
    {
     "name": "stdout",
     "output_type": "stream",
     "text": [
      "tf.Tensor(\n",
      "[[[ 1.0000012  3.0000005  5.000001   7.0000014]\n",
      "  [ 9.000001  10.999999  12.999999  15.000001 ]\n",
      "  [17.        19.        21.        23.       ]]], shape=(1, 3, 4), dtype=float32)\n"
     ]
    }
   ],
   "source": [
    "print(tf.squeeze(x_downsample,axis=[-2,-1]))"
   ]
  },
  {
   "cell_type": "code",
   "execution_count": null,
   "metadata": {
    "collapsed": true
   },
   "outputs": [],
   "source": []
  }
 ],
 "metadata": {
  "kernelspec": {
   "display_name": "Python 3",
   "language": "python",
   "name": "python3"
  },
  "language_info": {
   "codemirror_mode": {
    "name": "ipython",
    "version": 3
   },
   "file_extension": ".py",
   "mimetype": "text/x-python",
   "name": "python",
   "nbconvert_exporter": "python",
   "pygments_lexer": "ipython3",
   "version": "3.6.1"
  }
 },
 "nbformat": 4,
 "nbformat_minor": 2
}
