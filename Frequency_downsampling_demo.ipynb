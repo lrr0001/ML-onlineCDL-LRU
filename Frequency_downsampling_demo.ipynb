{
 "cells": [
  {
   "cell_type": "code",
   "execution_count": 1,
   "metadata": {},
   "outputs": [
    {
     "name": "stdout",
     "output_type": "stream",
     "text": [
      "tf.Tensor(\n",
      "[[[ 1.  2.  3.  4.  5.  6.  7.  8.]\n",
      "  [ 5.  6.  7.  8.  9. 10. 11. 12.]\n",
      "  [ 9. 10. 11. 12. 13. 14. 15. 16.]\n",
      "  [13. 14. 15. 16. 17. 18. 19. 20.]\n",
      "  [17. 18. 19. 20. 21. 22. 23. 24.]\n",
      "  [21. 22. 23. 24. 25. 26. 27. 28.]]], shape=(1, 6, 8), dtype=float32)\n"
     ]
    }
   ],
   "source": [
    "import tensorflow as tf\n",
    "import util\n",
    "\n",
    "x = tf.convert_to_tensor([[[1.,2.,3.,4.,5.,6.,7.,8.],[5.,6.,7.,8.,9.,10.,11.,12.],[9.,10.,11.,12.,13.,14.,15.,16.],[13.,14.,15.,16.,17,18.,19.,20.],[17.,18.,19.,20.,21.,22.,23.,24.],[21.,22.,23.,24.,25.,26,27.,28.]]])\n",
    "print(x)\n",
    "#,[17,18,19,20],[21,22,23,24],[25,26,27,28]]])"
   ]
  },
  {
   "cell_type": "code",
   "execution_count": 2,
   "metadata": {
    "collapsed": true
   },
   "outputs": [],
   "source": [
    "import transforms as transf\n",
    "xf = transf.fft2d_inner((6,8),dtype='float64')(tf.reshape(x,(1,6,8,1,1)))"
   ]
  },
  {
   "cell_type": "code",
   "execution_count": 3,
   "metadata": {},
   "outputs": [
    {
     "data": {
      "text/plain": [
       "TensorShape([1, 6, 5, 1, 1])"
      ]
     },
     "execution_count": 3,
     "metadata": {},
     "output_type": "execute_result"
    }
   ],
   "source": [
    "xf.shape"
   ]
  },
  {
   "cell_type": "code",
   "execution_count": 4,
   "metadata": {
    "collapsed": true
   },
   "outputs": [],
   "source": [
    "x_downsample = transf.ifft2d_inner((3,4))(util.freq_downsample(xf))\n",
    "x_shift_downsample = transf.ifft2d_inner((3,4))(util.freq_shift_downsample(xf))\n",
    "x_col_downsample = transf.ifft2d_inner((6,4))(util.freq_col_downsample(xf))\n",
    "x_col_shift_downsample = transf.ifft2d_inner((6,4))(util.freq_col_shift_downsample(xf))"
   ]
  },
  {
   "cell_type": "code",
   "execution_count": 5,
   "metadata": {},
   "outputs": [
    {
     "name": "stdout",
     "output_type": "stream",
     "text": [
      "tf.Tensor(1.4305115e-06, shape=(), dtype=float32)\n"
     ]
    }
   ],
   "source": [
    "#print(tf.squeeze(x_downsample,axis=[-2,-1]))\n",
    "#print(tf.strided_slice(x,begin=[0,0,0],end =[0,6,8],strides=[1,2,2],end_mask=1))\n",
    "\n",
    "\n",
    "print(tf.reduce_max(tf.abs(tf.squeeze(x_downsample,axis=[-2,-1]) - tf.strided_slice(x,begin=[0,0,0],end =[0,6,8],strides=[1,2,2],end_mask=1))))"
   ]
  },
  {
   "cell_type": "code",
   "execution_count": 6,
   "metadata": {},
   "outputs": [
    {
     "name": "stdout",
     "output_type": "stream",
     "text": [
      "tf.Tensor(\n",
      "[[[ 5.000005  7.000002  9.000001 11.000004]\n",
      "  [12.999999 14.999998 16.999998 18.999998]\n",
      "  [20.999998 22.999996 24.999998 27.      ]]], shape=(1, 3, 4), dtype=float32)\n",
      "tf.Tensor(4.7683716e-06, shape=(), dtype=float32)\n"
     ]
    }
   ],
   "source": [
    "print(tf.squeeze(x_shift_downsample,axis=[-2,-1]))\n",
    "print(tf.reduce_max(tf.abs(tf.squeeze(x_shift_downsample,axis=[-2,-1]) - tf.strided_slice(x,begin=[0,1,0],end =[0,6,8],strides=[1,2,2],end_mask=1))))"
   ]
  },
  {
   "cell_type": "code",
   "execution_count": 7,
   "metadata": {},
   "outputs": [
    {
     "name": "stdout",
     "output_type": "stream",
     "text": [
      "tf.Tensor(\n",
      "[[[ 1.0000014  3.0000014  5.0000014  7.0000014]\n",
      "  [ 5.0000052  7.0000033  9.000002  11.000004 ]\n",
      "  [ 9.000003  11.000001  13.000001  15.000003 ]\n",
      "  [12.999998  14.999998  16.999998  18.999998 ]\n",
      "  [17.        19.        21.        23.       ]\n",
      "  [20.999996  22.999994  24.999996  26.999998 ]]], shape=(1, 6, 4), dtype=float32)\n",
      "tf.Tensor(5.722046e-06, shape=(), dtype=float32)\n"
     ]
    }
   ],
   "source": [
    "print(tf.squeeze(x_col_downsample,axis=[-2,-1]))\n",
    "print(tf.reduce_max(tf.abs(tf.squeeze(x_col_downsample,axis=[-2,-1]) - tf.strided_slice(x,begin=[0,0,0],end =[0,6,8],strides=[1,1,2],end_mask=1))))"
   ]
  },
  {
   "cell_type": "code",
   "execution_count": 8,
   "metadata": {},
   "outputs": [
    {
     "name": "stdout",
     "output_type": "stream",
     "text": [
      "tf.Tensor(\n",
      "[[[ 2.0000017  4.0000033  6.000002   8.000002 ]\n",
      "  [ 6.000003   8.000007  10.000003  12.000003 ]\n",
      "  [10.        12.000001  13.999998  16.       ]\n",
      "  [13.999998  15.999998  18.        19.999998 ]\n",
      "  [18.        19.999996  22.        23.999996 ]\n",
      "  [21.999998  23.999996  25.999994  27.999996 ]]], shape=(1, 6, 4), dtype=float32)\n",
      "tf.Tensor(6.67572e-06, shape=(), dtype=float32)\n"
     ]
    }
   ],
   "source": [
    "print(tf.squeeze(x_col_shift_downsample,axis = [-2,-1]))\n",
    "print(tf.reduce_max(tf.abs(tf.squeeze(x_col_shift_downsample,axis=[-2,-1]) - tf.strided_slice(x,begin=[0,0,1],end =[0,6,8],strides=[1,1,2],end_mask=1))))"
   ]
  },
  {
   "cell_type": "code",
   "execution_count": 9,
   "metadata": {
    "collapsed": true
   },
   "outputs": [],
   "source": [
    "shift_concat = util.AlternateConcat(shape=x_downsample.shape[1:],num_of_items=2,axis=1,dtype = tf.as_dtype('float32'))\n",
    "cols_concat = util.AlternateConcat(x_col_downsample.shape[1:],num_of_items=2,axis=2,dtype = tf.as_dtype('float32'))"
   ]
  },
  {
   "cell_type": "code",
   "execution_count": 10,
   "metadata": {},
   "outputs": [
    {
     "name": "stdout",
     "output_type": "stream",
     "text": [
      "tf.Tensor(\n",
      "[[[ 1.0000012  3.0000005  5.000001   7.0000014]\n",
      "  [ 5.000005   7.000002   9.000001  11.000004 ]\n",
      "  [ 9.000001  10.999999  12.999999  15.000001 ]\n",
      "  [12.999999  14.999998  16.999998  18.999998 ]\n",
      "  [17.        19.        21.        23.       ]\n",
      "  [20.999998  22.999996  24.999998  27.       ]]], shape=(1, 6, 4), dtype=float32)\n",
      "tf.Tensor(\n",
      "[[[ 1.0000012  2.0000017  3.0000005  4.0000033  5.000001   6.000002\n",
      "    7.0000014  8.000002 ]\n",
      "  [ 5.000005   6.000003   7.000002   8.000007   9.000001  10.000003\n",
      "   11.000004  12.000003 ]\n",
      "  [ 9.000001  10.        10.999999  12.000001  12.999999  13.999998\n",
      "   15.000001  16.       ]\n",
      "  [12.999999  13.999998  14.999998  15.999998  16.999998  18.\n",
      "   18.999998  19.999998 ]\n",
      "  [17.        18.        19.        19.999996  21.        22.\n",
      "   23.        23.999996 ]\n",
      "  [20.999998  21.999998  22.999996  23.999996  24.999998  25.999994\n",
      "   27.        27.999996 ]]], shape=(1, 6, 8), dtype=float32)\n",
      "tf.Tensor(6.67572e-06, shape=(), dtype=float32)\n"
     ]
    }
   ],
   "source": [
    "col_downsample_recon = shift_concat((x_downsample,x_shift_downsample))\n",
    "print(tf.squeeze(col_downsample_recon,axis=[-1,-2]))\n",
    "x_recon = cols_concat((col_downsample_recon,x_col_shift_downsample))\n",
    "print(tf.squeeze(x_recon,axis=[-1,-2]))\n",
    "print(tf.reduce_max(tf.abs(tf.squeeze(x_recon,axis=[-1,-2]) - x)))"
   ]
  },
  {
   "cell_type": "code",
   "execution_count": 9,
   "metadata": {
    "collapsed": true
   },
   "outputs": [],
   "source": [
    "x2 = tf.random.normal((8,66,66,32,1))"
   ]
  },
  {
   "cell_type": "code",
   "execution_count": 10,
   "metadata": {
    "collapsed": true
   },
   "outputs": [],
   "source": [
    "xf2 = transf.fft2d_inner((66,66),dtype='float64')(x2)"
   ]
  },
  {
   "cell_type": "code",
   "execution_count": 11,
   "metadata": {
    "collapsed": true
   },
   "outputs": [],
   "source": [
    "x_col_downsample_freq = util.freq_col_downsample(xf2)"
   ]
  },
  {
   "cell_type": "code",
   "execution_count": 12,
   "metadata": {},
   "outputs": [
    {
     "data": {
      "text/plain": [
       "TensorShape([8, 66, 17, 32, 1])"
      ]
     },
     "execution_count": 12,
     "metadata": {},
     "output_type": "execute_result"
    }
   ],
   "source": [
    "x_col_downsample_freq.shape"
   ]
  },
  {
   "cell_type": "code",
   "execution_count": 13,
   "metadata": {
    "collapsed": true
   },
   "outputs": [],
   "source": [
    "x_col_downsample = transf.ifft2d_inner((66,33))(x_col_downsample_freq)"
   ]
  },
  {
   "cell_type": "code",
   "execution_count": 14,
   "metadata": {},
   "outputs": [
    {
     "data": {
      "text/plain": [
       "TensorShape([8, 66, 33, 32, 1])"
      ]
     },
     "execution_count": 14,
     "metadata": {},
     "output_type": "execute_result"
    }
   ],
   "source": [
    "x_col_downsample.shape"
   ]
  },
  {
   "cell_type": "code",
   "execution_count": null,
   "metadata": {
    "collapsed": true
   },
   "outputs": [],
   "source": []
  }
 ],
 "metadata": {
  "kernelspec": {
   "display_name": "Python 3",
   "language": "python",
   "name": "python3"
  },
  "language_info": {
   "codemirror_mode": {
    "name": "ipython",
    "version": 3
   },
   "file_extension": ".py",
   "mimetype": "text/x-python",
   "name": "python",
   "nbconvert_exporter": "python",
   "pygments_lexer": "ipython3",
   "version": "3.6.1"
  }
 },
 "nbformat": 4,
 "nbformat_minor": 2
}
