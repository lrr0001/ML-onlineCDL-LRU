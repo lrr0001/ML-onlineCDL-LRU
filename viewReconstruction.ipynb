{
 "cells": [
  {
   "cell_type": "code",
   "execution_count": 1,
   "metadata": {
    "collapsed": true
   },
   "outputs": [],
   "source": [
    "import ML_ADMM_jpeg_corner_smoothing as mlcsc"
   ]
  },
  {
   "cell_type": "code",
   "execution_count": 2,
   "metadata": {
    "collapsed": true
   },
   "outputs": [],
   "source": [
    "import tensorflow as tf\n",
    "import pickle as pkl\n",
    "import jpeg_related_functions as jrf\n",
    "import numpy as np"
   ]
  },
  {
   "cell_type": "code",
   "execution_count": 3,
   "metadata": {
    "collapsed": true
   },
   "outputs": [],
   "source": [
    "rho = 1.\n",
    "noi = 32\n",
    "alpha_init = 1.5\n",
    "blkSmthCoef = 1.0\n",
    "pklfile = 'ML_LRA_checkpoint_epoch_128.ckpt.pkl'\n",
    "num_of_epochs = 1\n",
    "#steps_per_epoch = 0"
   ]
  },
  {
   "cell_type": "code",
   "execution_count": 4,
   "metadata": {
    "collapsed": true
   },
   "outputs": [],
   "source": [
    "rho = 1.\n",
    "noi = 32\n",
    "alpha_init = 1.5\n",
    "blkSmthCoef = 1.0\n",
    "n_components = 4\n",
    "cmplxdtype = tf.complex128 # This should really be elsewhere.\n",
    "batch_size = 1\n",
    "#steps_per_epoch = 4\n",
    "step_size = 0.01\n",
    "#num_of_epochs = 2\n",
    "\n",
    "#   ******** BASE NAMES AND DIRECTORIES  ********\n",
    "modelname = 'ML_ADMM_'\n",
    "databasename = 'BSDS500/'\n",
    "#databasename = 'simpleTest/'\n",
    "experimentname = 'experiment1/'\n",
    "\n",
    "#   ******** DEPENDENT NAMES AND DIRECTORIES\n",
    "experimentpath = 'data/experiment/' + databasename + experimentname\n",
    "checkpointfilename = modelname + 'checkpoint_epoch_{epoch:02d}.ckpt'\n",
    "timesname = 'times/' + modelname + 'rho' + str(rho) + '_iter' + str(noi) + '_times.pkl'\n",
    "modelfilename = modelname + 'initial_model.ckpt'\n",
    "\n",
    "#   ******** DATA AND EXPERIMENT PARAMETERS ********\n",
    "fid = open(experimentpath + 'problem_param.pckl','rb')\n",
    "problem_param = pkl.load(fid)\n",
    "fid.close()\n",
    "data_param = problem_param['data_param']\n",
    "targetSz = data_param['target_size']\n",
    "qY = data_param['qY']\n",
    "qUV = data_param['qUV']\n",
    "strides = problem_param['stride']\n",
    "fltrSz = problem_param['fltrSz']\n",
    "real_dtype = data_param['dtype']\n",
    "#noi = problem_param['noi']\n",
    "noL = problem_param['noL']\n",
    "noc = problem_param['noc']\n",
    "datapath = problem_param['datapath']\n",
    "trainfile = problem_param['trainfile']\n",
    "valfile = problem_param['valfile']\n",
    "padding = data_param['padding']\n",
    "fid = open(experimentpath + pklfile,'rb')\n",
    "mu_init = pkl.load(fid)\n",
    "D = pkl.load(fid)\n",
    "b_init = pkl.load(fid)\n",
    "fid.close()\n",
    "\n",
    "#   ******** CROPPING AND PADDING ********\n",
    "cropAndMerge = mlcsc.CropPadObject(targetSz,strides,[np.asarray(ks) for ks in fltrSz],real_dtype,blkSz = (8,8))\n",
    "paddingTuple = cropAndMerge.paddingTuple\n",
    "fftSz = cropAndMerge.get_fft_size(targetSz,strides)\n",
    "paddingDiff = ((padding[0][0] - paddingTuple[0][0],padding[0][1] - paddingTuple[0][1]),(padding[1][0] - paddingTuple[1][0],padding[1][1] -  paddingTuple[1][1]))\n",
    "assert(paddingDiff[0][0] >= 0)\n",
    "assert(paddingDiff[0][1] >= 0)\n",
    "assert(paddingDiff[1][0] >= 0)\n",
    "assert(paddingDiff[1][1] >= 0)\n",
    "    \n",
    "#   ******** SETUP LOADING TFRECORD ********\n",
    "startr = paddingDiff[0][0]\n",
    "startc = paddingDiff[1][0]\n",
    "endr = targetSz[0] + padding[0][0] + padding[0][1] - paddingDiff[0][1]\n",
    "endc = targetSz[1] + padding[1][0] + padding[1][1] - paddingDiff[1][1]\n",
    "example_structure = {'highpass': tf.io.FixedLenFeature([], tf.string), 'lowpass': tf.io.FixedLenFeature([], tf.string), 'compressed': tf.io.FixedLenFeature([], tf.string),'raw': tf.io.FixedLenFeature([], tf.string)}\n",
    "\n",
    "def restore_double(x):\n",
    "    return tf.io.parse_tensor(x,real_dtype)\n",
    "\n",
    "class RGB2Y(tf.keras.layers.Layer):\n",
    "    def __init__(self,*args,**kwargs):\n",
    "        super().__init__(*args,**kwargs)\n",
    "        self.rgb2yuv = jrf.RGB2YUV(dtype = self.dtype)\n",
    "    def call(self,inputs):\n",
    "        s_YUV = self.rgb2yuv(inputs)\n",
    "        return s_YUV[slice(None),slice(None),slice(0,1)]\n",
    "\n",
    "rgb2y = RGB2Y(dtype=real_dtype)\n",
    "\n",
    "def _parse_image_function(example_proto):\n",
    "    x = tf.io.parse_single_example(example_proto, example_structure)\n",
    "    highpass = restore_double(x['highpass'])\n",
    "    lowpass = restore_double(x['lowpass'])\n",
    "    #return ((highpass[slice(startr,endr),slice(startc,endc),slice(None)],lowpass[slice(startr,endr),slice(startc,endc),slice(None)],restore_double(x['compressed'])),rgb2y(restore_double(x['raw'])))\n",
    "    return ((highpass[slice(startr,endr),slice(startc,endc),slice(None)],lowpass[slice(startr,endr),slice(startc,endc),slice(None)],restore_double(x['compressed'])),restore_double(x['raw']))\n",
    "\n",
    "raw_dataset = tf.data.TFRecordDataset([datapath + valfile])\n",
    "dataset = raw_dataset.map(_parse_image_function)\n",
    "dataset_batch = dataset.batch(batch_size)\n",
    "\n"
   ]
  },
  {
   "cell_type": "code",
   "execution_count": 5,
   "metadata": {},
   "outputs": [
    {
     "name": "stdout",
     "output_type": "stream",
     "text": [
      "(7, 7, 1, 48)\n",
      "(5, 5, 48, 64)\n",
      "(1, 7, 7, 1, 48)\n",
      "(1, 5, 5, 48, 64)\n"
     ]
    }
   ],
   "source": [
    "print(D[0].shape)\n",
    "print(D[1].shape)\n",
    "print(problem_param['D'][0].shape)\n",
    "print(problem_param['D'][1].shape)"
   ]
  },
  {
   "cell_type": "code",
   "execution_count": 6,
   "metadata": {
    "collapsed": true
   },
   "outputs": [],
   "source": [
    "#   ******** BUILD MODEL ********\n",
    "CSC = mlcsc.MultiLayerCSC_JPEGY(rho,alpha_init,mu_init,b_init,blkSmthCoef,qY,cropAndMerge,fftSz,strides,[tf.expand_dims(D_temp,axis=0) for D_temp in D],n_components,noi,noL,cmplxdtype)\n"
   ]
  },
  {
   "cell_type": "code",
   "execution_count": 7,
   "metadata": {
    "collapsed": true
   },
   "outputs": [],
   "source": [
    "#CSC = mlcsc.MultiLayerCSC_JPEG(rho,alpha_init,mu_init,b_init,blkSmthCoef,qY,qUV,cropAndMerge,fftSz,strides,D,n_components,noi,noL,cmplxdtype)\n"
   ]
  },
  {
   "cell_type": "code",
   "execution_count": 8,
   "metadata": {
    "collapsed": true
   },
   "outputs": [],
   "source": [
    "highpassShape = (targetSz[0] + paddingTuple[0][0] + paddingTuple[0][1],targetSz[1] + paddingTuple[1][0] + paddingTuple[1][1],noc)\n",
    "highpass = tf.keras.Input(shape=highpassShape,dtype=real_dtype)\n",
    "lowpass = tf.keras.Input(shape = highpassShape,dtype = real_dtype)\n",
    "compressed = tf.keras.Input(shape = (targetSz[0],targetSz[1],noc),dtype= real_dtype)\n",
    "inputs = (highpass,lowpass,compressed)\n",
    "reconstruction1,reconstruction2,itstats = CSC(inputs)\n",
    "model = tf.keras.Model(inputs,reconstruction1)\n",
    "model2 = tf.keras.Model(inputs,reconstruction2)\n",
    "model.compile(optimizer = tf.keras.optimizers.SGD(step_size),loss = tf.keras.losses.MSE,run_eagerly=False)\n",
    "model2.compile(optimizer = tf.keras.optimizers.SGD(step_size),loss = tf.keras.losses.MSE,run_eagerly=False)"
   ]
  },
  {
   "cell_type": "code",
   "execution_count": 9,
   "metadata": {
    "collapsed": true
   },
   "outputs": [],
   "source": [
    "rgb2jpeg_coef = jrf.RGB2JPEG_Coef(dtype=tf.float64)\n",
    "jpeg_coef2rgb = jrf.JPEG_Coef2RGB(dtype=tf.float64)\n",
    "y2jpeg_coef = jrf.Y2JPEG_Coef(dtype=tf.float64)\n",
    "import util\n",
    "clip_rgb = util.clip(a=0.,b=1.,dtype=tf.float64)"
   ]
  },
  {
   "cell_type": "code",
   "execution_count": 10,
   "metadata": {},
   "outputs": [
    {
     "name": "stdout",
     "output_type": "stream",
     "text": [
      "(1, 4, 4, 64)\n",
      "(1, 2, 2, 64)\n",
      "(1, 2, 2, 64)\n"
     ]
    }
   ],
   "source": [
    "ii = 0\n",
    "img_num = 0\n",
    "for x,y in dataset_batch:\n",
    "    if ii == img_num:\n",
    "        jpeg_coef_raw = rgb2jpeg_coef(y)\n",
    "        print(jpeg_coef_raw[0].shape)\n",
    "        print(jpeg_coef_raw[1].shape)\n",
    "        print(jpeg_coef_raw[2].shape)\n",
    "        break"
   ]
  },
  {
   "cell_type": "code",
   "execution_count": 365,
   "metadata": {
    "collapsed": true
   },
   "outputs": [],
   "source": [
    "ii = 0\n",
    "img_num = 61\n",
    "for x,y in dataset_batch:\n",
    "    if ii == img_num:\n",
    "        recon1,recon2,itstats = CSC(x)\n",
    "        jpeg_coef_raw = rgb2jpeg_coef(y)\n",
    "        YU_dsV_ds = jrf.threeChannelQuantize(jpeg_coef_raw,qY,qUV,Yoffset = None)\n",
    "        #recon1_clr = clip_rgb(jpeg_coef2rgb([y2jpeg_coef(recon1),YU_dsV_ds[1],YU_dsV_ds[2]])) \n",
    "        #recon2_clr = clip_rgb(jpeg_coef2rgb([y2jpeg_coef(recon2),YU_dsV_ds[1],YU_dsV_ds[2]]))\n",
    "        recon1_clr = clip_rgb(jpeg_coef2rgb([y2jpeg_coef(clip_rgb(recon1)),YU_dsV_ds[1],YU_dsV_ds[2]]))\n",
    "        recon2_clr = clip_rgb(jpeg_coef2rgb([y2jpeg_coef(clip_rgb(recon2)),YU_dsV_ds[1],YU_dsV_ds[2]]))\n",
    "        cmprssd_clr = clip_rgb(jpeg_coef2rgb([y2jpeg_coef(x[2]),YU_dsV_ds[1],YU_dsV_ds[2]]))\n",
    "        lowpass_clr = clip_rgb(jpeg_coef2rgb([y2jpeg_coef(cropAndMerge.crop(x[1])),YU_dsV_ds[1],YU_dsV_ds[2]]))\n",
    "        break\n",
    "    ii += 1"
   ]
  },
  {
   "cell_type": "code",
   "execution_count": 366,
   "metadata": {},
   "outputs": [
    {
     "name": "stdout",
     "output_type": "stream",
     "text": [
      "tf.Tensor(0.4223802562525993, shape=(), dtype=float64)\n",
      "tf.Tensor(0.019560694125297897, shape=(), dtype=float64)\n"
     ]
    }
   ],
   "source": [
    "print(tf.reduce_max(recon1))\n",
    "print(tf.reduce_min(recon1))"
   ]
  },
  {
   "cell_type": "code",
   "execution_count": 367,
   "metadata": {},
   "outputs": [
    {
     "data": {
      "text/plain": [
       "<matplotlib.image.AxesImage at 0x7f0bd7f93898>"
      ]
     },
     "execution_count": 367,
     "metadata": {},
     "output_type": "execute_result"
    },
    {
     "data": {
      "image/png": "[encoded data removed]",
      "text/plain": [
       "<matplotlib.figure.Figure at 0x7f0bd846e470>"
      ]
     },
     "metadata": {},
     "output_type": "display_data"
    }
   ],
   "source": [
    "import numpy as np\n",
    "import matplotlib.pyplot as plt\n",
    "%matplotlib inline\n",
    "np_img = np.asarray(tf.math.round(tf.squeeze(recon1_clr,axis=0)*255)).astype('uint8')\n",
    "plt.imshow(np_img)\n",
    "#print(np_img[7,7,0])\n",
    "#print(np_img[7,8,0])\n",
    "#print(np_img[8,7,0])\n",
    "#print(np_img[8,8,0])"
   ]
  },
  {
   "cell_type": "code",
   "execution_count": 368,
   "metadata": {},
   "outputs": [
    {
     "data": {
      "text/plain": [
       "<matplotlib.image.AxesImage at 0x7f0bd7f29ba8>"
      ]
     },
     "execution_count": 368,
     "metadata": {},
     "output_type": "execute_result"
    },
    {
     "data": {
      "image/png": "[encoded data removed]",
      "text/plain": [
       "<matplotlib.figure.Figure at 0x7f0bd801abe0>"
      ]
     },
     "metadata": {},
     "output_type": "display_data"
    }
   ],
   "source": [
    "np_img2 = np.asarray(tf.math.round(tf.squeeze(recon2_clr,axis=0)*255)).astype('uint8')\n",
    "plt.imshow(np_img2)"
   ]
  },
  {
   "cell_type": "code",
   "execution_count": 369,
   "metadata": {},
   "outputs": [
    {
     "data": {
      "text/plain": [
       "<matplotlib.image.AxesImage at 0x7f0bd7e4a160>"
      ]
     },
     "execution_count": 369,
     "metadata": {},
     "output_type": "execute_result"
    },
    {
     "data": {
      "image/png": "[encoded data removed]",
      "text/plain": [
       "<matplotlib.figure.Figure at 0x7f0bd7ec3d30>"
      ]
     },
     "metadata": {},
     "output_type": "display_data"
    }
   ],
   "source": [
    "np_img_lp = np.asarray(tf.math.round(tf.squeeze(lowpass_clr,axis=0)*255)).astype('uint8')\n",
    "plt.imshow(np_img_lp)"
   ]
  },
  {
   "cell_type": "code",
   "execution_count": 370,
   "metadata": {},
   "outputs": [
    {
     "data": {
      "text/plain": [
       "<matplotlib.image.AxesImage at 0x7f0bd7ddf860>"
      ]
     },
     "execution_count": 370,
     "metadata": {},
     "output_type": "execute_result"
    },
    {
     "data": {
      "image/png": "[encoded data removed]",
      "text/plain": [
       "<matplotlib.figure.Figure at 0x7f0bd7e6df60>"
      ]
     },
     "metadata": {},
     "output_type": "display_data"
    }
   ],
   "source": [
    "np_img_cmprssd = np.asarray(tf.math.round(tf.squeeze(cmprssd_clr,axis=0)*255)).astype('uint8')\n",
    "plt.imshow(np_img_cmprssd)"
   ]
  },
  {
   "cell_type": "code",
   "execution_count": 371,
   "metadata": {},
   "outputs": [
    {
     "data": {
      "text/plain": [
       "<matplotlib.image.AxesImage at 0x7f0bd7d76e48>"
      ]
     },
     "execution_count": 371,
     "metadata": {},
     "output_type": "execute_result"
    },
    {
     "data": {
      "image/png": "[encoded data removed]",
      "text/plain": [
       "<matplotlib.figure.Figure at 0x7f0bd7ec9518>"
      ]
     },
     "metadata": {},
     "output_type": "display_data"
    }
   ],
   "source": [
    "np_img_raw = np.asarray(tf.math.round(tf.squeeze(y,axis=0)*255)).astype('uint8')\n",
    "plt.imshow(np_img_raw)"
   ]
  },
  {
   "cell_type": "code",
   "execution_count": 326,
   "metadata": {
    "collapsed": true
   },
   "outputs": [],
   "source": [
    "ii = 0\n",
    "img_num = 64\n",
    "for x,y in dataset_batch:\n",
    "    if ii == img_num:\n",
    "        #recon1,recon2,itstats = CSC(x)\n",
    "        jpeg_coef_raw = rgb2jpeg_coef(y)\n",
    "        YU_dsV_ds = jrf.threeChannelQuantize(jpeg_coef_raw,qY,qUV,Yoffset = None)\n",
    "        #recon1_clr = clip_rgb(jpeg_coef2rgb([y2jpeg_coef(recon1),YU_dsV_ds[1],YU_dsV_ds[2]])) \n",
    "        #recon2_clr = clip_rgb(jpeg_coef2rgb([y2jpeg_coef(recon2),YU_dsV_ds[1],YU_dsV_ds[2]]))\n",
    "        #recon1_clr = clip_rgb(jpeg_coef2rgb([y2jpeg_coef(clip_rgb(recon1)),YU_dsV_ds[1],YU_dsV_ds[2]]))\n",
    "        #recon2_clr = clip_rgb(jpeg_coef2rgb([y2jpeg_coef(clip_rgb(recon2)),YU_dsV_ds[1],YU_dsV_ds[2]]))\n",
    "        cmprssd_clr = clip_rgb(jpeg_coef2rgb([y2jpeg_coef(x[2]),YU_dsV_ds[1],YU_dsV_ds[2]]))\n",
    "        lowpass_clr = clip_rgb(jpeg_coef2rgb([y2jpeg_coef(cropAndMerge.crop(x[1])),YU_dsV_ds[1],YU_dsV_ds[2]]))\n",
    "        break\n",
    "    ii += 1"
   ]
  },
  {
   "cell_type": "code",
   "execution_count": 327,
   "metadata": {},
   "outputs": [
    {
     "data": {
      "text/plain": [
       "<matplotlib.image.AxesImage at 0x7f0bd90b1898>"
      ]
     },
     "execution_count": 327,
     "metadata": {},
     "output_type": "execute_result"
    },
    {
     "data": {
      "image/png": "[encoded data removed]",
      "text/plain": [
       "<matplotlib.figure.Figure at 0x7f0bd92f9f28>"
      ]
     },
     "metadata": {},
     "output_type": "display_data"
    }
   ],
   "source": [
    "np_img_lp = np.asarray(tf.math.round(tf.squeeze(lowpass_clr,axis=0)*255)).astype('uint8')\n",
    "plt.imshow(np_img_lp)"
   ]
  },
  {
   "cell_type": "code",
   "execution_count": 328,
   "metadata": {},
   "outputs": [
    {
     "data": {
      "text/plain": [
       "<matplotlib.image.AxesImage at 0x7f0bd903ff28>"
      ]
     },
     "execution_count": 328,
     "metadata": {},
     "output_type": "execute_result"
    },
    {
     "data": {
      "image/png": "[encoded data removed]",
      "text/plain": [
       "<matplotlib.figure.Figure at 0x7f0bd904eba8>"
      ]
     },
     "metadata": {},
     "output_type": "display_data"
    }
   ],
   "source": [
    "np_img_cmprssd = np.asarray(tf.math.round(tf.squeeze(cmprssd_clr,axis=0)*255)).astype('uint8')\n",
    "plt.imshow(np_img_cmprssd)"
   ]
  },
  {
   "cell_type": "code",
   "execution_count": 329,
   "metadata": {},
   "outputs": [
    {
     "data": {
      "text/plain": [
       "<matplotlib.image.AxesImage at 0x7f0bd8f5f668>"
      ]
     },
     "execution_count": 329,
     "metadata": {},
     "output_type": "execute_result"
    },
    {
     "data": {
      "image/png": "[encoded data removed]",
      "text/plain": [
       "<matplotlib.figure.Figure at 0x7f0bd8fedda0>"
      ]
     },
     "metadata": {},
     "output_type": "display_data"
    }
   ],
   "source": [
    "np_img_raw = np.asarray(tf.math.round(tf.squeeze(y,axis=0)*255)).astype('uint8')\n",
    "plt.imshow(np_img_raw)"
   ]
  },
  {
   "cell_type": "code",
   "execution_count": null,
   "metadata": {
    "collapsed": true
   },
   "outputs": [],
   "source": []
  },
  {
   "cell_type": "code",
   "execution_count": null,
   "metadata": {
    "collapsed": true
   },
   "outputs": [],
   "source": []
  }
 ],
 "metadata": {
  "kernelspec": {
   "display_name": "Python 3",
   "language": "python",
   "name": "python3"
  },
  "language_info": {
   "codemirror_mode": {
    "name": "ipython",
    "version": 3
   },
   "file_extension": ".py",
   "mimetype": "text/x-python",
   "name": "python",
   "nbconvert_exporter": "python",
   "pygments_lexer": "ipython3",
   "version": "3.6.1"
  }
 },
 "nbformat": 4,
 "nbformat_minor": 2
}
