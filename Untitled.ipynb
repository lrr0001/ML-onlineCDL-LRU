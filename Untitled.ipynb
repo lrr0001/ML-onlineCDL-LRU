{
 "cells": [
  {
   "cell_type": "code",
   "execution_count": 1,
   "metadata": {
    "collapsed": true
   },
   "outputs": [],
   "source": [
    "import pickle as pkl\n",
    "import tensorflow as tf\n",
    "databasename = 'BSDS500/'\n",
    "experimentname = 'experiment1/'\n",
    "experimentpath = 'data/experiment/' + databasename + experimentname\n",
    "fid = open(experimentpath + 'ML_FISTA_checkpoint_epoch_08.ckpt.pkl','rb')\n",
    "mu = pkl.load(fid)\n",
    "D = pkl.load(fid)\n",
    "lambd = pkl.load(fid)\n",
    "fid.close()"
   ]
  },
  {
   "cell_type": "code",
   "execution_count": 2,
   "metadata": {},
   "outputs": [
    {
     "name": "stdout",
     "output_type": "stream",
     "text": [
      "[<tf.Tensor: shape=(1,), dtype=float64, numpy=array([4.20143403])>, <tf.Tensor: shape=(1,), dtype=float64, numpy=array([0.34129767])>]\n"
     ]
    }
   ],
   "source": [
    "print(lambd)"
   ]
  },
  {
   "cell_type": "code",
   "execution_count": null,
   "metadata": {
    "collapsed": true
   },
   "outputs": [],
   "source": []
  }
 ],
 "metadata": {
  "kernelspec": {
   "display_name": "Python 3",
   "language": "python",
   "name": "python3"
  },
  "language_info": {
   "codemirror_mode": {
    "name": "ipython",
    "version": 3
   },
   "file_extension": ".py",
   "mimetype": "text/x-python",
   "name": "python",
   "nbconvert_exporter": "python",
   "pygments_lexer": "ipython3",
   "version": "3.6.1"
  }
 },
 "nbformat": 4,
 "nbformat_minor": 2
}
