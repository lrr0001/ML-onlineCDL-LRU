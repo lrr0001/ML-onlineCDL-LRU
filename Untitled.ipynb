{
 "cells": [
  {
   "cell_type": "code",
   "execution_count": 1,
   "metadata": {},
   "outputs": [
    {
     "name": "stdout",
     "output_type": "stream",
     "text": [
      "Epoch 1/16\n",
      "10/10 [==============================] - 1s 104ms/step - loss: 63000.8750\n",
      "Epoch 2/16\n",
      "10/10 [==============================] - 1s 106ms/step - loss: 103499.4531\n",
      "Epoch 3/16\n",
      "10/10 [==============================] - 1s 108ms/step - loss: 86740.9766\n",
      "Epoch 4/16\n",
      "10/10 [==============================] - 1s 103ms/step - loss: 85782.8516\n",
      "Epoch 5/16\n",
      "10/10 [==============================] - 1s 104ms/step - loss: 94066.6484\n",
      "Epoch 6/16\n",
      "10/10 [==============================] - 1s 103ms/step - loss: 94428.6875\n",
      "Epoch 7/16\n",
      "10/10 [==============================] - 1s 105ms/step - loss: 94634.2422\n",
      "Epoch 8/16\n",
      "10/10 [==============================] - 1s 105ms/step - loss: 94693.7578\n",
      "Epoch 9/16\n",
      "10/10 [==============================] - 1s 106ms/step - loss: 92059.9688\n",
      "Epoch 10/16\n",
      "10/10 [==============================] - 1s 107ms/step - loss: 97397.2969\n",
      "Epoch 11/16\n",
      "10/10 [==============================] - 1s 106ms/step - loss: 103658.1719\n",
      "Epoch 12/16\n",
      "10/10 [==============================] - 1s 105ms/step - loss: 94023.7891\n",
      "Epoch 13/16\n",
      "10/10 [==============================] - 1s 104ms/step - loss: 90110.9922\n",
      "Epoch 14/16\n",
      "10/10 [==============================] - 1s 108ms/step - loss: 84787.6016\n",
      "Epoch 15/16\n",
      "10/10 [==============================] - 1s 106ms/step - loss: 168216.8750\n",
      "Epoch 16/16\n",
      "10/10 [==============================] - 1s 104ms/step - loss: 99976.2891\n"
     ]
    },
    {
     "data": {
      "text/plain": [
       "<tensorflow.python.keras.callbacks.History at 0x7f0cd450b2b0>"
      ]
     },
     "execution_count": 1,
     "metadata": {},
     "output_type": "execute_result"
    }
   ],
   "source": [
    "import tensorflow as tf\n",
    "import numpy as np\n",
    "import matrix_decompositions_tf as fctr\n",
    "import post_process_grad as ppg\n",
    "\n",
    "\n",
    "fltrSz = (3,3)\n",
    "fftSz = (8,8)\n",
    "noc = 3\n",
    "nof = 8\n",
    "rho = 1.0\n",
    "dtype = tf.complex128\n",
    "\n",
    "AInv = fctr.dictionary_object2D(fltrSz=fltrSz,fftSz=fftSz,noc = noc,nof = nof,rho = rho,dtype=dtype)\n",
    "\n",
    "#x = tf.keras.layers.Input(shape=fftSz + (noc,1))\n",
    "# This throws error because the fft exploits symmetry, and this input is not in the same form.\n",
    "w = tf.complex(tf.random.normal((100,) + fftSz + (noc,1),dtype=dtype.real_dtype),tf.random.normal((100,) + fftSz + (noc,1),dtype = dtype.real_dtype))\n",
    "w = w + tf.math.conj(tf.reverse(w,axis=(2,3)))\n",
    "w = w[slice(None),slice(None),slice(0,5,1),slice(None),slice(None)]\n",
    "\n",
    "B = tf.complex(tf.random.normal((1,) + fftSz + (noc,nof),dtype=dtype.real_dtype),tf.random.normal((1,) + fftSz + (noc,nof),dtype = dtype.real_dtype))\n",
    "B = B + tf.math.conj(tf.reverse(B,axis=(2,3)))\n",
    "B = B[slice(None),slice(None),slice(0,5,1),slice(None),slice(None)]\n",
    "\n",
    "x = tf.linalg.matmul(B,w,adjoint_a=True)\n",
    "xi = tf.keras.layers.Input(x.shape[1:],dtype=dtype)\n",
    "y = rho*xi + tf.linalg.matmul(B,tf.linalg.matmul(B,xi),adjoint_a=True)\n",
    "z = AInv.qinv(y)\n",
    "\n",
    "my_model = ppg.Model_PostProcess(xi,z)\n",
    "\n",
    "my_model.compile(optimizer=tf.keras.optimizers.SGD(),loss=tf.keras.losses.MSE,run_eagerly=True)\n",
    "\n",
    "my_model.fit(x=x,y=x,batch_size=10,epochs=16)"
   ]
  },
  {
   "cell_type": "code",
   "execution_count": 3,
   "metadata": {},
   "outputs": [
    {
     "data": {
      "text/plain": [
       "0.0"
      ]
     },
     "execution_count": 3,
     "metadata": {},
     "output_type": "execute_result"
    }
   ],
   "source": [
    "np.float64(0)"
   ]
  },
  {
   "cell_type": "code",
   "execution_count": null,
   "metadata": {
    "collapsed": true
   },
   "outputs": [],
   "source": []
  }
 ],
 "metadata": {
  "kernelspec": {
   "display_name": "Python 3",
   "language": "python",
   "name": "python3"
  },
  "language_info": {
   "codemirror_mode": {
    "name": "ipython",
    "version": 3
   },
   "file_extension": ".py",
   "mimetype": "text/x-python",
   "name": "python",
   "nbconvert_exporter": "python",
   "pygments_lexer": "ipython3",
   "version": "3.6.1"
  }
 },
 "nbformat": 4,
 "nbformat_minor": 2
}
