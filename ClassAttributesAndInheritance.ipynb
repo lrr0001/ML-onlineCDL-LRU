{
 "cells": [
  {
   "cell_type": "markdown",
   "metadata": {},
   "source": [
    "Class attributes are inherited and can be accessed via the super() function. The child class also has its own version of the same attribute that updates with the parent attribute unless it is overwritten. The child attribute can be overwritten without affecting the corresponding parent attribute.\n",
    "\n",
    "For code readability and to avoid a debugging nightmare, it is probably best to stick to using the super() function for assignment."
   ]
  },
  {
   "cell_type": "code",
   "execution_count": 1,
   "metadata": {
    "collapsed": true
   },
   "outputs": [],
   "source": [
    "class parentClass:\n",
    "    count = 0\n",
    "    def __init__(self):\n",
    "        parentClass.count += 1\n"
   ]
  },
  {
   "cell_type": "code",
   "execution_count": 2,
   "metadata": {
    "collapsed": true
   },
   "outputs": [],
   "source": [
    "class childClassA(parentClass):\n",
    "    def __init__(self,*args,**kwargs):\n",
    "        super().__init__(*args,**kwargs)\n",
    "        print(super().count)\n",
    "\n",
    "class childClassB(parentClass):\n",
    "    def __init__(self):\n",
    "        childClassB.count += 1\n",
    "        print(super().count)"
   ]
  },
  {
   "cell_type": "code",
   "execution_count": 3,
   "metadata": {},
   "outputs": [
    {
     "name": "stdout",
     "output_type": "stream",
     "text": [
      "1\n",
      "1\n",
      "2\n",
      "2\n",
      "2\n",
      "3\n",
      "3\n"
     ]
    }
   ],
   "source": [
    "xA = childClassA()\n",
    "xB = childClassB()\n",
    "print(childClassB.count)\n",
    "xA2 = childClassA()\n",
    "xp = parentClass()\n",
    "print(childClassB.count)\n",
    "print(childClassA.count)\n",
    "print(parentClass.count)"
   ]
  },
  {
   "cell_type": "code",
   "execution_count": 1,
   "metadata": {
    "collapsed": true
   },
   "outputs": [],
   "source": [
    "class parentClass2:\n",
    "    count = 0\n",
    "    f = {}\n",
    "    def __init__(self):\n",
    "        self.ii = parentClass2.count\n",
    "        parentClass2.count += 1\n",
    "        parentClass2.f[self.ii] = self.update\n",
    "    def update(self):\n",
    "        NotImplementedError\n",
    "\n",
    "class childClass2(parentClass2):\n",
    "    def __init__(self,a,*args,**kwargs):\n",
    "        self.a = a\n",
    "        super().__init__(*args,**kwargs)\n",
    "        \n",
    "    def update(self):\n",
    "        self.a += 1"
   ]
  },
  {
   "cell_type": "code",
   "execution_count": 2,
   "metadata": {},
   "outputs": [
    {
     "name": "stdout",
     "output_type": "stream",
     "text": [
      "0\n",
      "0\n",
      "1\n"
     ]
    }
   ],
   "source": [
    "x2 = childClass2(0)\n",
    "print(x2.a)\n",
    "print(x2.ii)\n",
    "parentClass2.f[0]()\n",
    "print(x2.a)\n"
   ]
  },
  {
   "cell_type": "markdown",
   "metadata": {},
   "source": [
    "What if the instantiation of the child class is no longer in scope?"
   ]
  },
  {
   "cell_type": "code",
   "execution_count": 1,
   "metadata": {
    "collapsed": true
   },
   "outputs": [],
   "source": [
    "class parentClass2:\n",
    "    count = 0\n",
    "    f = {}\n",
    "    def __init__(self):\n",
    "        self.ii = parentClass2.count\n",
    "        parentClass2.count += 1\n",
    "        parentClass2.f[self.ii] = self.update\n",
    "    def update(self):\n",
    "        NotImplementedError\n",
    "\n",
    "class childClass2(parentClass2):\n",
    "    def __init__(self,a,*args,**kwargs):\n",
    "        self.a = a\n",
    "        super().__init__(*args,**kwargs)\n",
    "        \n",
    "    def update(self):\n",
    "        self.a += 1\n",
    "        print(self.a)"
   ]
  },
  {
   "cell_type": "code",
   "execution_count": 2,
   "metadata": {
    "collapsed": true
   },
   "outputs": [],
   "source": [
    "def myFun(a):\n",
    "    temp = childClass2(a)\n",
    "    return None"
   ]
  },
  {
   "cell_type": "code",
   "execution_count": 3,
   "metadata": {},
   "outputs": [
    {
     "name": "stdout",
     "output_type": "stream",
     "text": [
      "1\n"
     ]
    }
   ],
   "source": [
    "myFun(0)\n",
    "parentClass2.f[0]()"
   ]
  },
  {
   "cell_type": "markdown",
   "metadata": {},
   "source": [
    "What if the dictionary is accessed from inside a function or class?"
   ]
  },
  {
   "cell_type": "code",
   "execution_count": 4,
   "metadata": {
    "collapsed": true
   },
   "outputs": [],
   "source": [
    "class parentClass2:\n",
    "    count = 0\n",
    "    f = {}\n",
    "    def __init__(self):\n",
    "        self.ii = parentClass2.count\n",
    "        parentClass2.count += 1\n",
    "        parentClass2.f[self.ii] = self.update\n",
    "    def update(self):\n",
    "        NotImplementedError\n",
    "\n",
    "class childClass2(parentClass2):\n",
    "    def __init__(self,a,*args,**kwargs):\n",
    "        self.a = a\n",
    "        super().__init__(*args,**kwargs)\n",
    "        \n",
    "    def update(self):\n",
    "        self.a += 1\n",
    "        print(self.a)"
   ]
  },
  {
   "cell_type": "code",
   "execution_count": 6,
   "metadata": {},
   "outputs": [
    {
     "name": "stdout",
     "output_type": "stream",
     "text": [
      "1\n"
     ]
    }
   ],
   "source": [
    "temp = childClass2(0)\n",
    "def myFun(a):\n",
    "    parentClass2.f[a]()\n",
    "myFun(0)\n"
   ]
  },
  {
   "cell_type": "code",
   "execution_count": 7,
   "metadata": {},
   "outputs": [
    {
     "name": "stdout",
     "output_type": "stream",
     "text": [
      "2\n"
     ]
    }
   ],
   "source": [
    "class myClass:\n",
    "    def __init__(self,a):\n",
    "        parentClass2.f[a]()\n",
    "\n",
    "temp = myClass(0)"
   ]
  },
  {
   "cell_type": "code",
   "execution_count": null,
   "metadata": {
    "collapsed": true
   },
   "outputs": [],
   "source": []
  }
 ],
 "metadata": {
  "kernelspec": {
   "display_name": "Python 3",
   "language": "python",
   "name": "python3"
  },
  "language_info": {
   "codemirror_mode": {
    "name": "ipython",
    "version": 3
   },
   "file_extension": ".py",
   "mimetype": "text/x-python",
   "name": "python",
   "nbconvert_exporter": "python",
   "pygments_lexer": "ipython3",
   "version": "3.6.1"
  }
 },
 "nbformat": 4,
 "nbformat_minor": 2
}
