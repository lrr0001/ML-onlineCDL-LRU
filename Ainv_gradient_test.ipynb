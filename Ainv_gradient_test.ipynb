{
 "cells": [
  {
   "cell_type": "markdown",
   "metadata": {},
   "source": [
    "This test demonstrates the methods inside the dictionary object function as intended. The first test uses 64-bit complex numbers and the Woodbury form."
   ]
  },
  {
   "cell_type": "code",
   "execution_count": 1,
   "metadata": {},
   "outputs": [
    {
     "name": "stdout",
     "output_type": "stream",
     "text": [
      "tf.Tensor(0.00876935, shape=(), dtype=float32)\n"
     ]
    }
   ],
   "source": [
    "import tensorflow as tf\n",
    "import numpy as np\n",
    "import matrix_decompositions_tf as fctr\n",
    "\n",
    "\n",
    "fltrSz = (3,3)\n",
    "fftSz = (8,8)\n",
    "noc = 3\n",
    "nof = 8\n",
    "rho = 1.0\n",
    "dtype = tf.complex64\n",
    "\n",
    "AInv = fctr.dictionary_object2D(fltrSz=fltrSz,fftSz=fftSz,noc = noc,nof = nof,rho = rho,dtype=dtype)\n",
    "\n",
    "#x = tf.keras.layers.Input(shape=fftSz + (noc,1))\n",
    "# This throws error because the fft exploits symmetry, and this input is not in the same form.\n",
    "w = tf.complex(tf.random.normal((100,) + fftSz + (noc,1),dtype=tf.float32),tf.random.normal((100,) + fftSz + (noc,1),dtype = tf.float32))\n",
    "w = w + tf.math.conj(tf.reverse(w,axis=(2,3)))\n",
    "w = w[slice(None),slice(None),slice(0,5,1),slice(None),slice(None)]\n",
    "\n",
    "x = AInv.dhmul(w)\n",
    "\n",
    "y = rho*x + AInv.dhmul(AInv.dmul(x))\n",
    "z = AInv.qinv(y)\n",
    "print(tf.math.reduce_max(tf.math.abs(x - z)))"
   ]
  },
  {
   "cell_type": "markdown",
   "metadata": {},
   "source": [
    "The second test uses 128-bit complex numbers and the Woodbury form.  Note the rounding error is substantially improved (by approximately 8 orders of magnitude)."
   ]
  },
  {
   "cell_type": "code",
   "execution_count": 1,
   "metadata": {},
   "outputs": [
    {
     "name": "stdout",
     "output_type": "stream",
     "text": [
      "Epoch 1/8\n",
      "10/10 [==============================] - 0s 14ms/step - loss: 76.8408 - val_loss: 80.4892\n",
      "Epoch 2/8\n",
      "10/10 [==============================] - 0s 14ms/step - loss: 76.1562 - val_loss: 79.7579\n",
      "Epoch 3/8\n",
      "10/10 [==============================] - 0s 15ms/step - loss: 75.4548 - val_loss: 79.0100\n",
      "Epoch 4/8\n",
      "10/10 [==============================] - 0s 14ms/step - loss: 74.7383 - val_loss: 78.2479\n",
      "Epoch 5/8\n",
      "10/10 [==============================] - 0s 17ms/step - loss: 74.0086 - val_loss: 77.4740\n",
      "Epoch 6/8\n",
      "10/10 [==============================] - 0s 16ms/step - loss: 73.2676 - val_loss: 76.6908\n",
      "Epoch 7/8\n",
      "10/10 [==============================] - 0s 15ms/step - loss: 72.5178 - val_loss: 75.9011\n",
      "Epoch 8/8\n",
      "10/10 [==============================] - 0s 16ms/step - loss: 71.7612 - val_loss: 75.1078\n",
      "Epoch 1/8\n",
      "10/10 [==============================] - 0s 22ms/step - loss: 76.8397 - val_loss: 80.4861\n",
      "Epoch 2/8\n",
      "10/10 [==============================] - 0s 20ms/step - loss: 76.1520 - val_loss: 79.7509\n",
      "Epoch 3/8\n",
      "10/10 [==============================] - 0s 19ms/step - loss: 75.4469 - val_loss: 78.9982\n",
      "Epoch 4/8\n",
      "10/10 [==============================] - 0s 21ms/step - loss: 74.7258 - val_loss: 78.2301\n",
      "Epoch 5/8\n",
      "10/10 [==============================] - 0s 22ms/step - loss: 73.9905 - val_loss: 77.4491\n",
      "Epoch 6/8\n",
      "10/10 [==============================] - 0s 21ms/step - loss: 73.2430 - val_loss: 76.6577\n",
      "Epoch 7/8\n",
      "10/10 [==============================] - 0s 22ms/step - loss: 72.4854 - val_loss: 75.8586\n",
      "Epoch 8/8\n",
      "10/10 [==============================] - 0s 23ms/step - loss: 71.7200 - val_loss: 75.0546\n",
      "tf.Tensor(0.13221433892728288, shape=(), dtype=float64)\n",
      "tf.Tensor(1.092399270760449, shape=(), dtype=float64)\n"
     ]
    }
   ],
   "source": [
    "import tensorflow as tf\n",
    "import numpy as np\n",
    "import matrix_decompositions_tf as fctr\n",
    "import transforms as transf\n",
    "import math\n",
    "import post_process_grad as ppg\n",
    "\n",
    "fltrSz = (3,3)\n",
    "fftSz = (8,8)\n",
    "noc = 3\n",
    "nof = 8\n",
    "rho = 1.0\n",
    "dtype = tf.complex128\n",
    "nots = 100\n",
    "novs = 100\n",
    "\n",
    "AInv = fctr.dictionary_object2D_full(fltrSz=fltrSz,fftSz=fftSz,noc = noc,nof = nof,rho = rho,dtype=dtype)\n",
    "\n",
    "wt = tf.complex(tf.random.normal((nots,) + fftSz + (noc,1),dtype=dtype.real_dtype),tf.random.normal((nots,) + fftSz + (noc,1),dtype = dtype.real_dtype))\n",
    "wt = wt + tf.math.conj(tf.reverse(wt,axis=(2,3)))\n",
    "wt = wt[slice(None),slice(None),slice(0,5,1),slice(None),slice(None)]\n",
    "wv = tf.complex(tf.random.normal((novs,) + fftSz + (noc,1),dtype=dtype.real_dtype),tf.random.normal((novs,) + fftSz + (noc,1),dtype = dtype.real_dtype))\n",
    "wv = wv + tf.math.conj(tf.reverse(wv,axis=(2,3)))\n",
    "wv = wv[slice(None),slice(None),slice(0,5,1),slice(None),slice(None)]\n",
    "\n",
    "B = transf.fft2d_inner(fftSz)(tf.random.normal((1,) + fltrSz + (noc,nof,),dtype=dtype.real_dtype))\n",
    "\n",
    "\n",
    "xt = tf.linalg.matmul(B,wt,adjoint_a = True)\n",
    "xv = tf.linalg.matmul(B,wv,adjoint_a = True)\n",
    "idmat = tf.eye(nof,dtype=dtype,batch_shape = (int(tf.rank(B)) - 2)*(1,))\n",
    "yt = tf.linalg.matmul(tf.linalg.inv(rho*idmat + tf.linalg.matmul(B,B,adjoint_a=True)),xt)\n",
    "yv = tf.linalg.matmul(tf.linalg.inv(rho*idmat + tf.linalg.matmul(B,B,adjoint_a=True)),xv)\n",
    "\n",
    "w = tf.keras.layers.Input(shape=(fftSz[0],math.floor(fftSz[1]/2.) + 1,) + (noc,1,),dtype=dtype)\n",
    "x = tf.linalg.matmul(B,w,adjoint_a = True)\n",
    "y1 = AInv.qinv(x)\n",
    "y2 = fctr.QInv_auto(AInv.dhmul,rho)(x)\n",
    "\n",
    "model1 = ppg.Model_record_grad(w,y2)\n",
    "model1.compile(loss = tf.keras.losses.MSE,run_eagerly=True,optimizer=tf.keras.optimizers.SGD())\n",
    "model1.fit(x=wt,y=yt,batch_size=10,epochs=8,shuffle=False,validation_data = (wv,yv))\n",
    "model2 = ppg.Model_passenger(model1.gradient_record,w,y1)\n",
    "model2.compile(loss = tf.keras.losses.MSE,run_eagerly=True,optimizer=tf.keras.optimizers.SGD())\n",
    "model2.fit(x=wt,y=yt,batch_size=10,epochs=8,shuffle=False,validation_data = (wv,yv))\n",
    "maxError = 0.\n",
    "maxGrad = 0.\n",
    "for grad1,grad2 in zip(model1.gradient_record,model2.gradient_record):\n",
    "    for gradval1,gradval2 in zip(grad1,grad2):\n",
    "        maxError = max(maxError,tf.math.reduce_max(tf.math.abs((gradval1 - gradval2)*tf.math.conj(gradval1 - gradval2))))\n",
    "        maxGrad = max(maxGrad,tf.math.reduce_max(tf.math.abs(gradval1*tf.math.conj(gradval1))),tf.math.reduce_max(tf.math.abs(gradval2*tf.math.conj(gradval2))))\n",
    "print(maxError)\n",
    "print(maxGrad)"
   ]
  },
  {
   "cell_type": "markdown",
   "metadata": {
    "collapsed": true
   },
   "source": [
    "This test uses 64-bit complex numbers with standard formulation (no Woodbury)."
   ]
  },
  {
   "cell_type": "code",
   "execution_count": 1,
   "metadata": {},
   "outputs": [
    {
     "name": "stdout",
     "output_type": "stream",
     "text": [
      "tf.Tensor(3.7482743e-05, shape=(), dtype=float32)\n"
     ]
    }
   ],
   "source": [
    "import tensorflow as tf\n",
    "import numpy as np\n",
    "import matrix_decompositions_tf as fctr\n",
    "\n",
    "\n",
    "fltrSz = (3,3)\n",
    "fftSz = (8,8)\n",
    "noc = 8\n",
    "nof = 3\n",
    "rho = 1.0\n",
    "dtype = tf.complex64\n",
    "\n",
    "AInv = fctr.dictionary_object2D(fltrSz=fltrSz,fftSz=fftSz,noc = noc,nof = nof,rho = rho,dtype=dtype)\n",
    "\n",
    "#x = tf.keras.layers.Input(shape=fftSz + (noc,1))\n",
    "# This throws error because the fft exploits symmetry, and this input is not in the same form.\n",
    "w = tf.complex(tf.random.normal((100,) + fftSz + (noc,1),dtype=tf.float32),tf.random.normal((100,) + fftSz + (noc,1),dtype = tf.float32))\n",
    "w = w + tf.math.conj(tf.reverse(w,axis=(2,3)))\n",
    "w = w[slice(None),slice(None),slice(0,5,1),slice(None),slice(None)]\n",
    "\n",
    "x = AInv.dhmul(w)\n",
    "\n",
    "y = rho*x + AInv.dhmul(AInv.dmul(x))\n",
    "z = AInv.qinv(y)\n",
    "print(tf.math.reduce_max(tf.math.abs(x - z)))"
   ]
  },
  {
   "cell_type": "markdown",
   "metadata": {},
   "source": [
    "This final test uses 128-bit complex numbers with standard formulation (no woodbury)."
   ]
  },
  {
   "cell_type": "code",
   "execution_count": 1,
   "metadata": {},
   "outputs": [
    {
     "name": "stdout",
     "output_type": "stream",
     "text": [
      "tf.Tensor(1.1008039046578624e-13, shape=(), dtype=float64)\n"
     ]
    }
   ],
   "source": [
    "import tensorflow as tf\n",
    "import numpy as np\n",
    "import matrix_decompositions_tf as fctr\n",
    "\n",
    "\n",
    "fltrSz = (3,3)\n",
    "fftSz = (8,8)\n",
    "noc = 8\n",
    "nof = 3\n",
    "rho = 1.0\n",
    "dtype = tf.complex128\n",
    "\n",
    "AInv = fctr.dictionary_object2D(fltrSz=fltrSz,fftSz=fftSz,noc = noc,nof = nof,rho = rho,dtype=dtype)\n",
    "\n",
    "#x = tf.keras.layers.Input(shape=fftSz + (noc,1))\n",
    "# This throws error because the fft exploits symmetry, and this input is not in the same form.\n",
    "w = tf.complex(tf.random.normal((100,) + fftSz + (noc,1),dtype=tf.float64),tf.random.normal((100,) + fftSz + (noc,1),dtype = tf.float64))\n",
    "w = w + tf.math.conj(tf.reverse(w,axis=(2,3)))\n",
    "w = w[slice(None),slice(None),slice(0,5,1),slice(None),slice(None)]\n",
    "\n",
    "x = AInv.dhmul(w)\n",
    "\n",
    "y = rho*x + AInv.dhmul(AInv.dmul(x))\n",
    "z = AInv.qinv(y)\n",
    "print(tf.math.reduce_max(tf.math.abs(x - z)))"
   ]
  },
  {
   "cell_type": "code",
   "execution_count": null,
   "metadata": {
    "collapsed": true
   },
   "outputs": [],
   "source": []
  }
 ],
 "metadata": {
  "kernelspec": {
   "display_name": "Python 3",
   "language": "python",
   "name": "python3"
  },
  "language_info": {
   "codemirror_mode": {
    "name": "ipython",
    "version": 3
   },
   "file_extension": ".py",
   "mimetype": "text/x-python",
   "name": "python",
   "nbconvert_exporter": "python",
   "pygments_lexer": "ipython3",
   "version": "3.6.1"
  }
 },
 "nbformat": 4,
 "nbformat_minor": 2
}
