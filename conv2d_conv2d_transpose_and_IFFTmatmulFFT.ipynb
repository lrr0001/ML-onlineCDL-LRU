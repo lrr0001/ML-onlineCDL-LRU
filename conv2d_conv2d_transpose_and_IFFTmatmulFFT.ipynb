{
 "cells": [
  {
   "cell_type": "code",
   "execution_count": 1,
   "metadata": {
    "collapsed": true
   },
   "outputs": [],
   "source": [
    "import tensorflow as tf\n",
    "import matrix_decompositions_tf as fctr"
   ]
  },
  {
   "cell_type": "code",
   "execution_count": null,
   "metadata": {
    "collapsed": true
   },
   "outputs": [],
   "source": []
  },
  {
   "cell_type": "code",
   "execution_count": 2,
   "metadata": {
    "collapsed": true
   },
   "outputs": [],
   "source": [
    "import transforms as transf\n",
    "sigSz = (43,43)\n",
    "noc = 3\n",
    "nof = 4\n",
    "fltrSz = (11,11)\n",
    "batchSz = 5"
   ]
  },
  {
   "cell_type": "code",
   "execution_count": 3,
   "metadata": {
    "collapsed": true
   },
   "outputs": [],
   "source": [
    "y = tf.random.uniform(shape = (batchSz,sigSz[0],sigSz[1],nof,1),minval=0,maxval=1.0,dtype = 'float64')\n",
    "fft = transf.fft2d_inner(fftSz=sigSz,dtype = 'float64')\n",
    "ifft = transf.ifft2d_inner(fftSz=sigSz,dtype='complex128')\n",
    "D = tf.random.uniform(shape=(fltrSz[0],fltrSz[1],noc,nof),minval=0.,maxval=1.0,dtype = 'float64')\n",
    "divide_by_R = fctr.Coef_Divide_By_R(tf.expand_dims(D,axis=0),noc = D.shape[2])\n",
    "D = tf.reshape(divide_by_R.D,divide_by_R.D.shape[1:])\n",
    "Df = fft(tf.expand_dims(D,axis = 0))\n",
    "Dy = ifft(tf.matmul(Df,fft(y)))"
   ]
  },
  {
   "cell_type": "code",
   "execution_count": 4,
   "metadata": {},
   "outputs": [
    {
     "name": "stdout",
     "output_type": "stream",
     "text": [
      "(5, 43, 43, 4, 1)\n",
      "(5, 43, 43, 3, 1)\n"
     ]
    }
   ],
   "source": [
    "muld_sp = fctr.MulD_Sp(divide_by_R,dtype = 'float64')\n",
    "print(y.shape)\n",
    "Dy_sp = muld_sp(y)\n",
    "print(Dy_sp.shape)"
   ]
  },
  {
   "cell_type": "code",
   "execution_count": 5,
   "metadata": {},
   "outputs": [
    {
     "name": "stdout",
     "output_type": "stream",
     "text": [
      "tf.Tensor(1.5916157281026244e-12, shape=(), dtype=float64)\n"
     ]
    }
   ],
   "source": [
    "print(tf.reduce_max(tf.math.abs(Dy - Dy_sp)))"
   ]
  },
  {
   "cell_type": "code",
   "execution_count": 6,
   "metadata": {},
   "outputs": [
    {
     "name": "stdout",
     "output_type": "stream",
     "text": [
      "(11, 11, 3, 4)\n",
      "(5, 43, 43, 4, 1)\n"
     ]
    }
   ],
   "source": [
    "print(D.shape)\n",
    "print(y.shape)\n"
   ]
  },
  {
   "cell_type": "markdown",
   "metadata": {
    "collapsed": true
   },
   "source": [
    "\n"
   ]
  },
  {
   "cell_type": "code",
   "execution_count": 7,
   "metadata": {},
   "outputs": [
    {
     "name": "stdout",
     "output_type": "stream",
     "text": [
      "ypad2_shape:  (5, 53, 53, 4)\n",
      "Dflipped_shape:  (11, 11, 3, 4)\n"
     ]
    }
   ],
   "source": [
    "Dflipped = tf.reverse(D,axis=(0,1))\n",
    "#ypad1 = tf.concat([y[slice(None),slice(-tf.cast((fltrSz[0] - 1)/2,'int32') - 1,None)],y,y[slice(None),slice(tf.cast((fltrSz[0] - 1)/2 - 1,'int32'),0,-1)]],axis = 1)\n",
    "ypad1 = tf.concat([y[slice(None),slice(-(fltrSz[0] - 1),None)],y],axis = 1)\n",
    "\n",
    "#ypad2 = tf.concat([ypad1[slice(None),slice(None),slice(-tf.cast((fltrSz[1] - 1)/2 ,'int32')- 1,None)],ypad1,ypad1[slice(None),slice(None),slice(tf.cast((fltrSz[1] - 1)/2 - 1,'int32'),0,-1)]],axis = 2)\n",
    "ypad2 = tf.concat([ypad1[slice(None),slice(None),slice(-(fltrSz[1] - 1),None)],ypad1],axis = 2)\n",
    "ypad2 = tf.reshape(ypad2,ypad2.shape[:-1])\n",
    "\n",
    "print('ypad2_shape: ',ypad2.shape)\n",
    "print('Dflipped_shape: ',Dflipped.shape)\n",
    "outputs = tf.nn.conv2d(input = ypad2,filters = tf.transpose(Dflipped,perm=(0,1,3,2)),strides = 1,padding='VALID',dilations=1)\n",
    "Dy_sp = tf.expand_dims(outputs,axis = -1)"
   ]
  },
  {
   "cell_type": "code",
   "execution_count": 8,
   "metadata": {
    "collapsed": true
   },
   "outputs": [],
   "source": [
    "#print(Dtx.shape)\n",
    "#print(Dtx_sp.shape)"
   ]
  },
  {
   "cell_type": "code",
   "execution_count": 9,
   "metadata": {},
   "outputs": [
    {
     "name": "stdout",
     "output_type": "stream",
     "text": [
      "(5, 43, 43, 3, 1)\n",
      "(5, 43, 43, 3, 1)\n",
      "tf.Tensor(1.5916157281026244e-12, shape=(), dtype=float64)\n"
     ]
    }
   ],
   "source": [
    "print(Dy.shape)\n",
    "print(Dy_sp.shape)\n",
    "\n",
    "#print(tf.reduce_max(tf.math.abs(Dy[slice(None),slice(fltrSz[0] - 1,None),slice(fltrSz[1] -1,None)] - Dy_sp[slice(None),slice(1,-(fltrSz[0] - 2)),slice(1,-(fltrSz[1] - 2))])))\n",
    "#Dy_shift = tf.roll(tf.roll(Dy,shift = -1,axis = 1),shift = -1,axis = 2)\n",
    "print(tf.reduce_max(tf.math.abs(Dy - Dy_sp)))"
   ]
  },
  {
   "cell_type": "code",
   "execution_count": 10,
   "metadata": {
    "collapsed": true
   },
   "outputs": [],
   "source": [
    "x = tf.random.uniform(shape = (batchSz,sigSz[0],sigSz[1],noc,1),minval=0.,maxval=1.0,dtype='float64')\n",
    "Dtx = ifft(tf.matmul(Df,fft(x),adjoint_a = True))\n"
   ]
  },
  {
   "cell_type": "code",
   "execution_count": 11,
   "metadata": {
    "collapsed": true
   },
   "outputs": [],
   "source": [
    "Dflipped = tf.reverse(D,axis=(0,1))\n",
    "xpad1 = tf.concat([x,x[slice(None),slice(0,(fltrSz[0] - 1))]],axis = 1)\n",
    "xpad2 = tf.concat([xpad1,xpad1[slice(None),slice(None),slice(fltrSz[1] - 1)]],axis = 2)\n",
    "\n",
    "outputs = tf.nn.conv2d_transpose(input = tf.reshape(xpad2,xpad2.shape[:-1]),filters = tf.transpose(Dflipped,perm=(0,1,3,2)),output_shape = (batchSz,sigSz[0] + fltrSz[0] - 1,sigSz[1] + fltrSz[0] - 1,nof),strides = 1,padding='SAME',dilations=1)\n",
    "Dtx_sp = tf.expand_dims(outputs,axis=-1)\n",
    "#Dtx_sp = Dtx_sp[slice(None),slice(3,-3),slice(3,-3)]"
   ]
  },
  {
   "cell_type": "code",
   "execution_count": 12,
   "metadata": {},
   "outputs": [
    {
     "name": "stdout",
     "output_type": "stream",
     "text": [
      "(5, 53, 53, 4, 1)\n",
      "(5, 43, 43, 4, 1)\n",
      "tf.Tensor(1.1795009413617663e-12, shape=(), dtype=float64)\n"
     ]
    }
   ],
   "source": [
    "print(Dtx_sp.shape)\n",
    "print(Dtx.shape)\n",
    "temp_int = [tf.cast((fltrSz[ii] - 1)/2,'int32') for ii in range(2)]\n",
    "print(tf.reduce_max(tf.math.abs(Dtx_sp[slice(None),slice(temp_int[0],-temp_int[0]),slice(temp_int[1],-temp_int[1])] - Dtx)))"
   ]
  },
  {
   "cell_type": "code",
   "execution_count": 13,
   "metadata": {},
   "outputs": [
    {
     "name": "stdout",
     "output_type": "stream",
     "text": [
      "tf.Tensor(\n",
      "[[91.32629484 89.24625988 87.62192315 87.77430716 89.85091798 84.47329084]\n",
      " [85.08813723 87.02146019 85.99388984 88.53570207 85.6072492  85.44089484]\n",
      " [89.07810908 88.84574621 85.12278335 85.16859639 89.5360646  82.51883406]\n",
      " [87.4974313  90.25091964 83.55356735 85.56073482 89.41528729 88.56017958]\n",
      " [86.60785413 86.81892368 83.27389834 85.36236757 84.39084045 85.83779845]\n",
      " [89.53126316 89.45001263 87.84361076 84.12851208 83.48652541 83.30112097]], shape=(6, 6), dtype=float64)\n"
     ]
    }
   ],
   "source": [
    "print(tf.reshape(Dtx[slice(0,1),slice(-6,None),slice(-6,None),slice(0,1)],shape = (6,6)))"
   ]
  },
  {
   "cell_type": "code",
   "execution_count": 14,
   "metadata": {},
   "outputs": [
    {
     "name": "stdout",
     "output_type": "stream",
     "text": [
      "tf.Tensor(\n",
      "[[85.12278335 85.16859639 89.5360646  82.51883406 80.64763712 68.90605887]\n",
      " [83.55356735 85.56073482 89.41528729 88.56017958 80.53263609 73.85650604]\n",
      " [83.27389834 85.36236757 84.39084045 85.83779845 80.00647167 68.30240413]\n",
      " [87.84361076 84.12851208 83.48652541 83.30112097 79.65434817 70.89426138]\n",
      " [78.94676207 76.92079425 77.53451357 76.83131386 70.84114637 66.65242369]\n",
      " [68.84864781 72.72888565 69.09069986 71.445119   65.53894062 58.77933589]], shape=(6, 6), dtype=float64)\n"
     ]
    }
   ],
   "source": [
    "print(tf.reshape(Dtx_sp[slice(0,1),slice(-9,-3),slice(-9,-3),slice(0,1)],shape = (6,6)))"
   ]
  },
  {
   "cell_type": "code",
   "execution_count": 15,
   "metadata": {
    "collapsed": true
   },
   "outputs": [],
   "source": [
    "#print(tf.reduce_max(tf.math.abs(Dtx - Dtx_sp)))"
   ]
  },
  {
   "cell_type": "markdown",
   "metadata": {},
   "source": [
    "Dy is a shifted version of Dy_sp."
   ]
  },
  {
   "cell_type": "code",
   "execution_count": 16,
   "metadata": {
    "collapsed": true
   },
   "outputs": [],
   "source": [
    "#print(tf.reshape(Dy[slice(0,1),slice(None),slice(None),slice(0,1)],shape = (6,6)))"
   ]
  },
  {
   "cell_type": "code",
   "execution_count": 17,
   "metadata": {
    "collapsed": true
   },
   "outputs": [],
   "source": [
    "#print(tf.reshape(Dy_sp[slice(0,1),slice(None),slice(None),slice(0,1)],shape = (6,6)))"
   ]
  },
  {
   "cell_type": "code",
   "execution_count": 18,
   "metadata": {},
   "outputs": [
    {
     "name": "stdout",
     "output_type": "stream",
     "text": [
      "(1, 43, 22, 3, 4)\n"
     ]
    }
   ],
   "source": [
    "import matrix_decompositions_tf as fctr\n",
    "\n",
    "print(Df.shape)"
   ]
  },
  {
   "cell_type": "code",
   "execution_count": 19,
   "metadata": {
    "collapsed": true
   },
   "outputs": [],
   "source": [
    "divide_by_R = fctr.Coef_Divide_By_R(tf.expand_dims(D,axis=0),noc = D.shape[2])"
   ]
  },
  {
   "cell_type": "code",
   "execution_count": 20,
   "metadata": {
    "collapsed": true
   },
   "outputs": [],
   "source": [
    "dhmul = fctr.DhMul(fft(divide_by_R.D),dtype = tf.complex128)"
   ]
  },
  {
   "cell_type": "code",
   "execution_count": 21,
   "metadata": {
    "collapsed": true
   },
   "outputs": [],
   "source": [
    "dmul = fctr.DMul(dhmul,dtype = tf.complex128)"
   ]
  },
  {
   "cell_type": "code",
   "execution_count": 22,
   "metadata": {},
   "outputs": [
    {
     "name": "stdout",
     "output_type": "stream",
     "text": [
      "(5, 43, 43, 3, 1)\n"
     ]
    }
   ],
   "source": [
    "print(x.shape)"
   ]
  },
  {
   "cell_type": "code",
   "execution_count": null,
   "metadata": {
    "collapsed": true
   },
   "outputs": [],
   "source": []
  },
  {
   "cell_type": "code",
   "execution_count": null,
   "metadata": {
    "collapsed": true
   },
   "outputs": [],
   "source": []
  },
  {
   "cell_type": "code",
   "execution_count": 23,
   "metadata": {
    "collapsed": true
   },
   "outputs": [],
   "source": [
    "Dhx = ifft(dhmul(fft(x)))"
   ]
  },
  {
   "cell_type": "code",
   "execution_count": 24,
   "metadata": {
    "collapsed": true
   },
   "outputs": [],
   "source": [
    "Dy = ifft(dmul(fft(y)))"
   ]
  },
  {
   "cell_type": "code",
   "execution_count": 25,
   "metadata": {},
   "outputs": [
    {
     "name": "stdout",
     "output_type": "stream",
     "text": [
      "(5, 43, 43, 4, 1)\n"
     ]
    }
   ],
   "source": [
    "print(Dhx.shape)"
   ]
  },
  {
   "cell_type": "code",
   "execution_count": 26,
   "metadata": {},
   "outputs": [
    {
     "name": "stdout",
     "output_type": "stream",
     "text": [
      "(5, 43, 43, 3, 1)\n"
     ]
    }
   ],
   "source": [
    "print(Dy.shape)"
   ]
  },
  {
   "cell_type": "code",
   "execution_count": 27,
   "metadata": {
    "collapsed": true
   },
   "outputs": [],
   "source": [
    "Dconv = fctr.MulD_Sp(divide_by_R,dtype = 'float64')"
   ]
  },
  {
   "cell_type": "code",
   "execution_count": 28,
   "metadata": {
    "collapsed": true
   },
   "outputs": [],
   "source": [
    "Dtconv = fctr.MulDT_Sp(divide_by_R,dtype = 'float64')"
   ]
  },
  {
   "cell_type": "code",
   "execution_count": 29,
   "metadata": {},
   "outputs": [
    {
     "name": "stdout",
     "output_type": "stream",
     "text": [
      "(5, 43, 43, 3, 1)\n"
     ]
    }
   ],
   "source": [
    "print(x.shape)"
   ]
  },
  {
   "cell_type": "code",
   "execution_count": 30,
   "metadata": {
    "collapsed": true
   },
   "outputs": [],
   "source": [
    "Dhx_sp = Dtconv(x)"
   ]
  },
  {
   "cell_type": "code",
   "execution_count": 31,
   "metadata": {
    "collapsed": true
   },
   "outputs": [],
   "source": [
    "Dy_sp = Dconv(y)"
   ]
  },
  {
   "cell_type": "code",
   "execution_count": 32,
   "metadata": {},
   "outputs": [
    {
     "name": "stdout",
     "output_type": "stream",
     "text": [
      "tf.Tensor(1.1795009413617663e-12, shape=(), dtype=float64)\n"
     ]
    }
   ],
   "source": [
    "print(tf.reduce_max(tf.math.abs(Dhx_sp - Dhx)))"
   ]
  },
  {
   "cell_type": "code",
   "execution_count": null,
   "metadata": {
    "collapsed": true
   },
   "outputs": [],
   "source": []
  },
  {
   "cell_type": "code",
   "execution_count": null,
   "metadata": {
    "collapsed": true
   },
   "outputs": [],
   "source": []
  }
 ],
 "metadata": {
  "kernelspec": {
   "display_name": "Python 3",
   "language": "python",
   "name": "python3"
  },
  "language_info": {
   "codemirror_mode": {
    "name": "ipython",
    "version": 3
   },
   "file_extension": ".py",
   "mimetype": "text/x-python",
   "name": "python",
   "nbconvert_exporter": "python",
   "pygments_lexer": "ipython3",
   "version": "3.6.1"
  }
 },
 "nbformat": 4,
 "nbformat_minor": 2
}
