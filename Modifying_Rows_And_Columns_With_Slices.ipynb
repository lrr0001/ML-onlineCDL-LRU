{
 "cells": [
  {
   "cell_type": "code",
   "execution_count": 1,
   "metadata": {},
   "outputs": [
    {
     "name": "stdout",
     "output_type": "stream",
     "text": [
      "tf.Tensor(\n",
      "[[0. 0. 0. 0. 0. 0. 0. 0. 0. 0. 0. 0.]\n",
      " [0. 0. 0. 0. 0. 0. 0. 0. 0. 0. 0. 0.]\n",
      " [0. 0. 0. 0. 0. 0. 0. 0. 0. 0. 0. 0.]\n",
      " [0. 0. 0. 0. 0. 0. 0. 0. 0. 0. 0. 0.]\n",
      " [0. 0. 0. 0. 0. 0. 0. 0. 0. 0. 0. 0.]\n",
      " [0. 0. 0. 0. 0. 0. 0. 0. 0. 0. 0. 0.]\n",
      " [0. 0. 0. 0. 0. 0. 0. 0. 0. 0. 0. 0.]\n",
      " [0. 0. 0. 0. 0. 0. 0. 0. 0. 0. 0. 0.]\n",
      " [0. 0. 0. 0. 0. 0. 0. 0. 0. 0. 0. 0.]\n",
      " [0. 0. 0. 0. 0. 0. 0. 0. 0. 0. 0. 0.]\n",
      " [0. 0. 0. 0. 0. 0. 0. 0. 0. 0. 0. 0.]\n",
      " [0. 0. 0. 0. 0. 0. 0. 0. 0. 0. 0. 0.]], shape=(12, 12), dtype=float32)\n"
     ]
    }
   ],
   "source": [
    "import tensorflow as tf\n",
    "\n",
    "\n",
    "x = tf.zeros((12,12))\n",
    "print(x)"
   ]
  },
  {
   "cell_type": "code",
   "execution_count": 5,
   "metadata": {},
   "outputs": [
    {
     "name": "stdout",
     "output_type": "stream",
     "text": [
      "tf.Tensor([ 0  1  2  3  4  5  6  7  8  9 10 11], shape=(12,), dtype=int32)\n"
     ]
    }
   ],
   "source": [
    "print(tf.convert_to_tensor(range(12)))"
   ]
  },
  {
   "cell_type": "code",
   "execution_count": 7,
   "metadata": {},
   "outputs": [
    {
     "name": "stdout",
     "output_type": "stream",
     "text": [
      "tf.Tensor(\n",
      "[[ 0  0  0  0  0  0  0  0  0  0  0  0]\n",
      " [ 1  1  1  1  1  1  1  1  1  1  1  1]\n",
      " [ 2  2  2  2  2  2  2  2  2  2  2  2]\n",
      " [ 3  3  3  3  3  3  3  3  3  3  3  3]\n",
      " [ 4  4  4  4  4  4  4  4  4  4  4  4]\n",
      " [ 5  5  5  5  5  5  5  5  5  5  5  5]\n",
      " [ 6  6  6  6  6  6  6  6  6  6  6  6]\n",
      " [ 7  7  7  7  7  7  7  7  7  7  7  7]\n",
      " [ 8  8  8  8  8  8  8  8  8  8  8  8]\n",
      " [ 9  9  9  9  9  9  9  9  9  9  9  9]\n",
      " [10 10 10 10 10 10 10 10 10 10 10 10]\n",
      " [11 11 11 11 11 11 11 11 11 11 11 11]], shape=(12, 12), dtype=int32)\n"
     ]
    }
   ],
   "source": [
    "x = tf.reshape(tf.convert_to_tensor(range(12)),(12,1))\n",
    "x = tf.tile(x,[1,12])\n",
    "print(x)"
   ]
  },
  {
   "cell_type": "code",
   "execution_count": 12,
   "metadata": {},
   "outputs": [
    {
     "name": "stdout",
     "output_type": "stream",
     "text": [
      "tf.Tensor(\n",
      "[[[0 0 0 0 0 0 0 0 0 0 0 0]]\n",
      "\n",
      " [[4 4 4 4 4 4 4 4 4 4 4 4]]\n",
      "\n",
      " [[8 8 8 8 8 8 8 8 8 8 8 8]]], shape=(3, 1, 12), dtype=int32)\n"
     ]
    }
   ],
   "source": [
    "y = tf.reshape(x,(3,4,12))\n",
    "print(y[slice(None),slice(0,1),slice(None)])"
   ]
  },
  {
   "cell_type": "code",
   "execution_count": 46,
   "metadata": {},
   "outputs": [
    {
     "name": "stdout",
     "output_type": "stream",
     "text": [
      "tf.Tensor(\n",
      "[[ 0.  1.  2.  3.  4.  5.  6.  7.  8.  9. 10. 11.]\n",
      " [ 0.  1.  2.  3.  4.  5.  6.  7.  8.  9. 10. 11.]\n",
      " [ 0.  1.  2.  3.  4.  5.  6.  7.  8.  9. 10. 11.]\n",
      " [ 0.  1.  2.  3.  4.  5.  6.  7.  8.  9. 10. 11.]\n",
      " [ 0.  1.  2.  3.  4.  5.  6.  7.  8.  9. 10. 11.]\n",
      " [ 0.  1.  2.  3.  4.  5.  6.  7.  8.  9. 10. 11.]\n",
      " [ 0.  1.  2.  3.  4.  5.  6.  7.  8.  9. 10. 11.]\n",
      " [ 0.  1.  2.  3.  4.  5.  6.  7.  8.  9. 10. 11.]\n",
      " [ 0.  1.  2.  3.  4.  5.  6.  7.  8.  9. 10. 11.]\n",
      " [ 0.  1.  2.  3.  4.  5.  6.  7.  8.  9. 10. 11.]\n",
      " [ 0.  1.  2.  3.  4.  5.  6.  7.  8.  9. 10. 11.]\n",
      " [ 0.  1.  2.  3.  4.  5.  6.  7.  8.  9. 10. 11.]], shape=(12, 12), dtype=float32)\n"
     ]
    }
   ],
   "source": [
    "x = tf.reshape(tf.convert_to_tensor(range(12),dtype='float32'),(1,12))\n",
    "x = tf.tile(x,[12,1])\n",
    "print(x)"
   ]
  },
  {
   "cell_type": "code",
   "execution_count": 19,
   "metadata": {},
   "outputs": [
    {
     "name": "stdout",
     "output_type": "stream",
     "text": [
      "tf.Tensor(\n",
      "[[0]\n",
      " [0]\n",
      " [0]\n",
      " [0]\n",
      " [0]\n",
      " [0]\n",
      " [0]\n",
      " [0]\n",
      " [0]\n",
      " [0]\n",
      " [0]\n",
      " [0]], shape=(12, 1), dtype=int32)\n"
     ]
    }
   ],
   "source": [
    "print(x[slice(None),slice(0,1)])"
   ]
  },
  {
   "cell_type": "code",
   "execution_count": 21,
   "metadata": {},
   "outputs": [
    {
     "name": "stdout",
     "output_type": "stream",
     "text": [
      "tf.Tensor(\n",
      "[[0 4 8]\n",
      " [0 4 8]\n",
      " [0 4 8]\n",
      " [0 4 8]\n",
      " [0 4 8]\n",
      " [0 4 8]\n",
      " [0 4 8]\n",
      " [0 4 8]\n",
      " [0 4 8]\n",
      " [0 4 8]\n",
      " [0 4 8]\n",
      " [0 4 8]], shape=(12, 3), dtype=int32)\n"
     ]
    }
   ],
   "source": [
    "y = tf.reshape(x,(12,3,4))\n",
    "print(tf.reshape(y[slice(None),slice(None),slice(0,1)],(12,3)))"
   ]
  },
  {
   "cell_type": "code",
   "execution_count": 24,
   "metadata": {},
   "outputs": [
    {
     "name": "stdout",
     "output_type": "stream",
     "text": [
      "tf.Tensor(\n",
      "[[0 4 8]\n",
      " [0 4 8]\n",
      " [0 4 8]], shape=(3, 3), dtype=int32)\n"
     ]
    }
   ],
   "source": [
    "z = tf.reshape(x,(3,4,3,4))\n",
    "print(tf.reshape(z[slice(None),slice(0,1),slice(None),slice(0,1)],(3,3)))\n"
   ]
  },
  {
   "cell_type": "code",
   "execution_count": 54,
   "metadata": {},
   "outputs": [
    {
     "name": "stdout",
     "output_type": "stream",
     "text": [
      "tf.Tensor(\n",
      "[[ 0.  0.  0.  0.  0.  0.  0.  0.  0.  0.  0.  0.]\n",
      " [ 1.  1.  1.  1.  1.  1.  1.  1.  1.  1.  1.  1.]\n",
      " [ 2.  2.  2.  2.  2.  2.  2.  2.  2.  2.  2.  2.]\n",
      " [ 3.  3.  3.  3.  3.  3.  3.  3.  3.  3.  3.  3.]\n",
      " [ 4.  4.  4.  4.  4.  4.  4.  4.  4.  4.  4.  4.]\n",
      " [ 5.  5.  5.  5.  5.  5.  5.  5.  5.  5.  5.  5.]\n",
      " [ 6.  6.  6.  6.  6.  6.  6.  6.  6.  6.  6.  6.]\n",
      " [ 7.  7.  7.  7.  7.  7.  7.  7.  7.  7.  7.  7.]\n",
      " [ 8.  8.  8.  8.  8.  8.  8.  8.  8.  8.  8.  8.]\n",
      " [ 9.  9.  9.  9.  9.  9.  9.  9.  9.  9.  9.  9.]\n",
      " [10. 10. 10. 10. 10. 10. 10. 10. 10. 10. 10. 10.]\n",
      " [11. 11. 11. 11. 11. 11. 11. 11. 11. 11. 11. 11.]], shape=(12, 12), dtype=float32)\n"
     ]
    }
   ],
   "source": [
    "x = tf.reshape(tf.convert_to_tensor(range(12),dtype='float32'),(12,1))\n",
    "x = tf.tile(x,[1,12])\n",
    "print(x)"
   ]
  },
  {
   "cell_type": "code",
   "execution_count": 55,
   "metadata": {},
   "outputs": [
    {
     "name": "stdout",
     "output_type": "stream",
     "text": [
      "tf.Tensor(\n",
      "[[0. 0. 0.]\n",
      " [4. 4. 4.]\n",
      " [8. 8. 8.]], shape=(3, 3), dtype=float32)\n"
     ]
    }
   ],
   "source": [
    "z = tf.reshape(x,(3,4,3,4))\n",
    "print(tf.reshape(z[slice(None),slice(0,1),slice(None),slice(0,1)],(3,3)))"
   ]
  },
  {
   "cell_type": "markdown",
   "metadata": {},
   "source": [
    "Add Rows"
   ]
  },
  {
   "cell_type": "code",
   "execution_count": 40,
   "metadata": {},
   "outputs": [
    {
     "name": "stdout",
     "output_type": "stream",
     "text": [
      "tf.Tensor(\n",
      "[[ 1.  1.  1.  1.  1.  1.  1.  1.  1.  1.  1.  1.]\n",
      " [ 9.  9.  9.  9.  9.  9.  9.  9.  9.  9.  9.  9.]\n",
      " [17. 17. 17. 17. 17. 17. 17. 17. 17. 17. 17. 17.]], shape=(3, 12), dtype=float32)\n"
     ]
    }
   ],
   "source": [
    "z = tf.reshape(x,(3,4,3,4))\n",
    "z_sum = z[slice(None),slice(0,1),slice(None),slice(None)] + z[slice(None),slice(1,2),slice(None),slice(None)]\n",
    "print(tf.reshape(z_sum,(3,12)))"
   ]
  },
  {
   "cell_type": "code",
   "execution_count": 43,
   "metadata": {},
   "outputs": [
    {
     "name": "stdout",
     "output_type": "stream",
     "text": [
      "tf.Tensor(\n",
      "[[ 0  1  2  3  4  5  6  7  8  9 10 11]\n",
      " [ 0  1  2  3  4  5  6  7  8  9 10 11]\n",
      " [ 0  1  2  3  4  5  6  7  8  9 10 11]\n",
      " [ 0  1  2  3  4  5  6  7  8  9 10 11]\n",
      " [ 0  1  2  3  4  5  6  7  8  9 10 11]\n",
      " [ 0  1  2  3  4  5  6  7  8  9 10 11]\n",
      " [ 0  1  2  3  4  5  6  7  8  9 10 11]\n",
      " [ 0  1  2  3  4  5  6  7  8  9 10 11]\n",
      " [ 0  1  2  3  4  5  6  7  8  9 10 11]\n",
      " [ 0  1  2  3  4  5  6  7  8  9 10 11]\n",
      " [ 0  1  2  3  4  5  6  7  8  9 10 11]\n",
      " [ 0  1  2  3  4  5  6  7  8  9 10 11]], shape=(12, 12), dtype=int32)\n"
     ]
    }
   ],
   "source": [
    "x = tf.reshape(tf.convert_to_tensor(range(12)),(1,12))\n",
    "x = tf.tile(x,[12,1])\n",
    "print(x)"
   ]
  },
  {
   "cell_type": "markdown",
   "metadata": {},
   "source": [
    "Add Cols"
   ]
  },
  {
   "cell_type": "code",
   "execution_count": 47,
   "metadata": {},
   "outputs": [
    {
     "name": "stdout",
     "output_type": "stream",
     "text": [
      "tf.Tensor(\n",
      "[[ 1.  9. 17.]\n",
      " [ 1.  9. 17.]\n",
      " [ 1.  9. 17.]\n",
      " [ 1.  9. 17.]\n",
      " [ 1.  9. 17.]\n",
      " [ 1.  9. 17.]\n",
      " [ 1.  9. 17.]\n",
      " [ 1.  9. 17.]\n",
      " [ 1.  9. 17.]\n",
      " [ 1.  9. 17.]\n",
      " [ 1.  9. 17.]\n",
      " [ 1.  9. 17.]], shape=(12, 3), dtype=float32)\n"
     ]
    }
   ],
   "source": [
    "z = tf.reshape(x,(3,4,3,4))\n",
    "z_sum = z[slice(None),slice(None),slice(None),slice(0,1)] + z[slice(None),slice(None),slice(None),slice(1,2)]\n",
    "print(tf.reshape(z_sum,(12,3)))"
   ]
  },
  {
   "cell_type": "code",
   "execution_count": 42,
   "metadata": {},
   "outputs": [
    {
     "name": "stdout",
     "output_type": "stream",
     "text": [
      "tf.Tensor(\n",
      "[[ 0.375  0.375  0.375  0.375  0.375  0.375  0.375  0.375  0.375  0.375\n",
      "   0.375  0.375]\n",
      " [ 0.625  0.625  0.625  0.625  0.625  0.625  0.625  0.625  0.625  0.625\n",
      "   0.625  0.625]\n",
      " [ 2.     2.     2.     2.     2.     2.     2.     2.     2.     2.\n",
      "   2.     2.   ]\n",
      " [ 3.     3.     3.     3.     3.     3.     3.     3.     3.     3.\n",
      "   3.     3.   ]\n",
      " [ 4.375  4.375  4.375  4.375  4.375  4.375  4.375  4.375  4.375  4.375\n",
      "   4.375  4.375]\n",
      " [ 4.625  4.625  4.625  4.625  4.625  4.625  4.625  4.625  4.625  4.625\n",
      "   4.625  4.625]\n",
      " [ 6.     6.     6.     6.     6.     6.     6.     6.     6.     6.\n",
      "   6.     6.   ]\n",
      " [ 7.     7.     7.     7.     7.     7.     7.     7.     7.     7.\n",
      "   7.     7.   ]\n",
      " [ 8.375  8.375  8.375  8.375  8.375  8.375  8.375  8.375  8.375  8.375\n",
      "   8.375  8.375]\n",
      " [ 8.625  8.625  8.625  8.625  8.625  8.625  8.625  8.625  8.625  8.625\n",
      "   8.625  8.625]\n",
      " [10.    10.    10.    10.    10.    10.    10.    10.    10.    10.\n",
      "  10.    10.   ]\n",
      " [11.    11.    11.    11.    11.    11.    11.    11.    11.    11.\n",
      "  11.    11.   ]], shape=(12, 12), dtype=float32)\n"
     ]
    }
   ],
   "source": [
    "a = 2.\n",
    "b = 3.\n",
    "row_sum1 = ((a + b)*z[slice(None),slice(0,1),slice(None),slice(None)] + b*z[slice(None),slice(1,2),slice(None),slice(None)])/(a + 2*b)\n",
    "row_sum2 = (b*z[slice(None),slice(0,1),slice(None),slice(None)] + (a + b)*z[slice(None),slice(1,2),slice(None),slice(None)])/(a + 2*b)\n",
    "newz = tf.concat([row_sum1,row_sum2,z[slice(None),slice(2,4),slice(None),slice(None)]],axis=1)\n",
    "print(tf.reshape(newz,(12,12)))"
   ]
  },
  {
   "cell_type": "code",
   "execution_count": 56,
   "metadata": {},
   "outputs": [
    {
     "name": "stdout",
     "output_type": "stream",
     "text": [
      "tf.Tensor(\n",
      "[[ 0.  0.  0.  0.  0.  0.  0.  0.  0.  0.  0.  0.]\n",
      " [ 8.  8.  8.  8.  8.  8.  8.  8.  8.  8.  8.  8.]\n",
      " [16. 16. 16. 16. 16. 16. 16. 16. 16. 16. 16. 16.]\n",
      " [24. 24. 24. 24. 24. 24. 24. 24. 24. 24. 24. 24.]\n",
      " [32. 32. 32. 32. 32. 32. 32. 32. 32. 32. 32. 32.]\n",
      " [40. 40. 40. 40. 40. 40. 40. 40. 40. 40. 40. 40.]\n",
      " [48. 48. 48. 48. 48. 48. 48. 48. 48. 48. 48. 48.]\n",
      " [56. 56. 56. 56. 56. 56. 56. 56. 56. 56. 56. 56.]\n",
      " [64. 64. 64. 64. 64. 64. 64. 64. 64. 64. 64. 64.]\n",
      " [72. 72. 72. 72. 72. 72. 72. 72. 72. 72. 72. 72.]\n",
      " [80. 80. 80. 80. 80. 80. 80. 80. 80. 80. 80. 80.]\n",
      " [88. 88. 88. 88. 88. 88. 88. 88. 88. 88. 88. 88.]], shape=(12, 12), dtype=float32)\n"
     ]
    }
   ],
   "source": [
    "a = 2.\n",
    "b = 3.\n",
    "col_sum1 = ((a + b)*z[slice(None),slice(None),slice(None),slice(0,1)] + b*z[slice(None),slice(None),slice(None),slice(1,2)])/(a + 2*b)\n",
    "col_sum2 = (b*z[slice(None),slice(None),slice(None),slice(0,1)] + (a + b)*z[slice(None),slice(None),slice(None),slice(1,2)])/(a + 2*b)\n",
    "newz = tf.concat([8. *col_sum1,8. *col_sum2,8. *z[slice(None),slice(None),slice(None),slice(2,4)]],axis=3)\n",
    "print(tf.reshape(newz,(12,12)))"
   ]
  },
  {
   "cell_type": "code",
   "execution_count": null,
   "metadata": {
    "collapsed": true
   },
   "outputs": [],
   "source": [
    "tl_corner = newz[slice(None),slice(0,1),slice(None),slice(0,1)]"
   ]
  },
  {
   "cell_type": "code",
   "execution_count": 60,
   "metadata": {},
   "outputs": [
    {
     "name": "stdout",
     "output_type": "stream",
     "text": [
      "tf.Tensor(\n",
      "[[ 0.  0.  0.  0.  0.  0.  0.  0.  0.  0.  0.  0.]\n",
      " [ 8.  8.  8.  8.  8.  8.  8.  8.  8.  8.  8.  8.]\n",
      " [16. 16. 16. 16. 16. 16. 16. 16. 16. 16. 16. 16.]\n",
      " [24. 24. 24. 24. 24. 24. 24. 24. 24. 24. 24. 24.]\n",
      " [ 0. 32. 32. 32.  0. 32. 32. 32.  0. 32. 32. 32.]\n",
      " [40. 40. 40. 40. 40. 40. 40. 40. 40. 40. 40. 40.]\n",
      " [48. 48. 48. 48. 48. 48. 48. 48. 48. 48. 48. 48.]\n",
      " [56. 56. 56. 56. 56. 56. 56. 56. 56. 56. 56. 56.]\n",
      " [ 0. 64. 64. 64.  0. 64. 64. 64.  0. 64. 64. 64.]\n",
      " [72. 72. 72. 72. 72. 72. 72. 72. 72. 72. 72. 72.]\n",
      " [80. 80. 80. 80. 80. 80. 80. 80. 80. 80. 80. 80.]\n",
      " [88. 88. 88. 88. 88. 88. 88. 88. 88. 88. 88. 88.]], shape=(12, 12), dtype=float32)\n"
     ]
    }
   ],
   "source": [
    "temp1 = tf.one_hot(indices = [[[0]]], depth = 4, on_value=1., off_value=0., axis=1, dtype='float32')\n",
    "temp2 = tf.one_hot(indices = [[[0]]], depth = 4, on_value = 1., off_value= 0., axis = 3,dtype = 'float32')\n",
    "selector = temp1*temp2\n",
    "\n",
    "print(tf.reshape((1.0 - selector)*newz,(12,12)))"
   ]
  },
  {
   "cell_type": "code",
   "execution_count": 62,
   "metadata": {},
   "outputs": [
    {
     "name": "stdout",
     "output_type": "stream",
     "text": [
      "(3, 2, 3, 1)\n"
     ]
    }
   ],
   "source": [
    "print(newz[slice(None),slice(1,-1),slice(None),slice(0,1)].shape)"
   ]
  },
  {
   "cell_type": "code",
   "execution_count": 65,
   "metadata": {},
   "outputs": [
    {
     "name": "stdout",
     "output_type": "stream",
     "text": [
      "(3, 2, 3, 4)\n"
     ]
    }
   ],
   "source": [
    "print(newz[slice(None),slice(1,-1)].shape)"
   ]
  },
  {
   "cell_type": "code",
   "execution_count": 73,
   "metadata": {},
   "outputs": [
    {
     "name": "stdout",
     "output_type": "stream",
     "text": [
      "4\n"
     ]
    }
   ],
   "source": [
    "print(len(tf.one_hot(indices = tf.zeros((1,)*3,dtype='int32'), depth = 4, on_value=1., off_value=0., axis=1, dtype='float32').shape))"
   ]
  },
  {
   "cell_type": "code",
   "execution_count": 69,
   "metadata": {},
   "outputs": [
    {
     "data": {
      "text/plain": [
       "<tf.Tensor: shape=(4,), dtype=int32, numpy=array([0, 0, 0, 0], dtype=int32)>"
      ]
     },
     "execution_count": 69,
     "metadata": {},
     "output_type": "execute_result"
    }
   ],
   "source": [
    "tf.zeros(4,dtype='int32')"
   ]
  },
  {
   "cell_type": "code",
   "execution_count": 75,
   "metadata": {},
   "outputs": [
    {
     "name": "stdout",
     "output_type": "stream",
     "text": [
      "(3, 1, 3, 4)\n"
     ]
    }
   ],
   "source": [
    "slices = [slice(None),slice(-1,None)]\n",
    "print(newz[slices[:]].shape)"
   ]
  },
  {
   "cell_type": "code",
   "execution_count": null,
   "metadata": {
    "collapsed": true
   },
   "outputs": [],
   "source": []
  }
 ],
 "metadata": {
  "kernelspec": {
   "display_name": "Python 3",
   "language": "python",
   "name": "python3"
  },
  "language_info": {
   "codemirror_mode": {
    "name": "ipython",
    "version": 3
   },
   "file_extension": ".py",
   "mimetype": "text/x-python",
   "name": "python",
   "nbconvert_exporter": "python",
   "pygments_lexer": "ipython3",
   "version": "3.6.1"
  }
 },
 "nbformat": 4,
 "nbformat_minor": 2
}
