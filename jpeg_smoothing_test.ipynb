{
 "cells": [
  {
   "cell_type": "code",
   "execution_count": 1,
   "metadata": {},
   "outputs": [],
   "source": [
    "import tensorflow as tf\n",
    "import jpeg_related_functions as jrf\n",
    "from PIL import Image"
   ]
  },
  {
   "cell_type": "code",
   "execution_count": 2,
   "metadata": {
    "collapsed": true
   },
   "outputs": [],
   "source": [
    "import numpy as np\n",
    "q = np.array([[16, 11, 10, 16, 24, 40, 51, 61],\n",
    "              [12, 12, 14, 19, 26, 58, 60, 55],\n",
    "              [14, 13, 16, 24, 40, 57, 69, 56],\n",
    "              [14, 17, 22, 29, 51, 87, 80, 62],\n",
    "              [18, 22, 37, 56, 68, 109, 103, 77],\n",
    "              [24, 35, 55, 64, 81, 104, 113, 92],\n",
    "              [49, 64, 78, 87, 103, 121, 120, 101],\n",
    "              [72, 92, 95, 98, 112, 100, 103, 99]])\n",
    "q = q.astype('float64')/255."
   ]
  },
  {
   "cell_type": "code",
   "execution_count": 3,
   "metadata": {},
   "outputs": [],
   "source": [
    "\n",
    "lmbda = 4.\n",
    "rho = 0.1\n",
    "alpha = 1.\n",
    "noi = 10\n",
    "image = Image.open(\"20190728_matthewdruincom_SLE_0033.jpg\")\n",
    "s = np.asarray(image).astype('float64')/255.\n",
    "s = s[slice(0,1600),slice(0,2800),slice(None)]\n",
    "s = np.reshape(s,(1,) + s.shape)\n",
    "fftSz = s.shape[1:3]\n",
    "smooth_jpeg = jrf.Smooth_JPEG(q,lmbda,rho,alpha,noi,fftSz,dtype=tf.float64)\n",
    "#y,u,By,negC = smooth_jpeg.init_vars(s)\n",
    "#outputs = smooth_jpeg(s)\n"
   ]
  },
  {
   "cell_type": "code",
   "execution_count": 4,
   "metadata": {
    "collapsed": true
   },
   "outputs": [],
   "source": [
    "outputs = smooth_jpeg(s)"
   ]
  },
  {
   "cell_type": "code",
   "execution_count": 6,
   "metadata": {
    "collapsed": true
   },
   "outputs": [],
   "source": [
    "highpass,lowpass = outputs"
   ]
  },
  {
   "cell_type": "code",
   "execution_count": 5,
   "metadata": {},
   "outputs": [],
   "source": [
    "x,y,u = outputs"
   ]
  },
  {
   "cell_type": "code",
   "execution_count": 6,
   "metadata": {},
   "outputs": [
    {
     "name": "stdout",
     "output_type": "stream",
     "text": [
      "tf.Tensor(2.039646333059423, shape=(), dtype=float64)\n",
      "tf.Tensor(2.1151680018556487, shape=(), dtype=float64)\n",
      "tf.Tensor(0.8840874549355658, shape=(), dtype=float64)\n",
      "tf.Tensor(0.8297288644681492, shape=(), dtype=float64)\n",
      "tf.Tensor(1.3342601848054017, shape=(), dtype=float64)\n",
      "tf.Tensor(1.3342601848058462, shape=(), dtype=float64)\n"
     ]
    }
   ],
   "source": [
    "print(tf.math.reduce_max(x))\n",
    "print(tf.math.reduce_max(y))\n",
    "print(tf.math.reduce_min(x))\n",
    "print(tf.math.reduce_min(y))\n",
    "print(tf.math.reduce_mean(x))\n",
    "print(tf.math.reduce_mean(y))"
   ]
  },
  {
   "cell_type": "code",
   "execution_count": 4,
   "metadata": {},
   "outputs": [],
   "source": [
    "y_init,u_init,By_init,negC,itstats = smooth_jpeg.init_vars(s)"
   ]
  },
  {
   "cell_type": "code",
   "execution_count": 5,
   "metadata": {},
   "outputs": [
    {
     "name": "stdout",
     "output_type": "stream",
     "text": [
      "tf.Tensor(1.1837382249200323, shape=(), dtype=float64)\n",
      "tf.Tensor(-0.21214950634511898, shape=(), dtype=float64)\n",
      "tf.Tensor(0.3588879588149992, shape=(), dtype=float64)\n"
     ]
    }
   ],
   "source": [
    "print(tf.reduce_max(y_init))\n",
    "print(tf.reduce_min(y_init))\n",
    "print(tf.reduce_mean(y_init))"
   ]
  },
  {
   "cell_type": "code",
   "execution_count": 6,
   "metadata": {},
   "outputs": [
    {
     "name": "stdout",
     "output_type": "stream",
     "text": [
      "tf.Tensor(1.1837382249200323, shape=(), dtype=float64)\n",
      "tf.Tensor(-0.21214950634511898, shape=(), dtype=float64)\n",
      "tf.Tensor(0.3588879588149992, shape=(), dtype=float64)\n"
     ]
    }
   ],
   "source": [
    "print(tf.reduce_max(smooth_jpeg.Wt(negC)))\n",
    "print(tf.reduce_min(smooth_jpeg.Wt(negC)))\n",
    "print(tf.reduce_mean(smooth_jpeg.Wt(negC)))"
   ]
  },
  {
   "cell_type": "code",
   "execution_count": 7,
   "metadata": {},
   "outputs": [
    {
     "name": "stdout",
     "output_type": "stream",
     "text": [
      "tf.Tensor(1.1837382249200323, shape=(), dtype=float64)\n",
      "tf.Tensor(-0.21214950634511898, shape=(), dtype=float64)\n",
      "tf.Tensor(0.3588879588149992, shape=(), dtype=float64)\n"
     ]
    }
   ],
   "source": [
    "print(tf.reduce_max(smooth_jpeg.Wt(By_init)))\n",
    "print(tf.reduce_min(smooth_jpeg.Wt(By_init)))\n",
    "print(tf.reduce_mean(smooth_jpeg.Wt(By_init)))"
   ]
  },
  {
   "cell_type": "code",
   "execution_count": 8,
   "metadata": {
    "collapsed": true
   },
   "outputs": [],
   "source": [
    "x,Ax = smooth_jpeg.xstep(y_init,u_init,By_init)"
   ]
  },
  {
   "cell_type": "code",
   "execution_count": 49,
   "metadata": {},
   "outputs": [
    {
     "name": "stdout",
     "output_type": "stream",
     "text": [
      "tf.Tensor(1.0390829950833103, shape=(), dtype=float64)\n",
      "tf.Tensor(-0.03794457125802076, shape=(), dtype=float64)\n",
      "tf.Tensor(0.3596462283896552, shape=(), dtype=float64)\n"
     ]
    }
   ],
   "source": [
    "print(tf.reduce_max(x))\n",
    "print(tf.reduce_min(x))\n",
    "print(tf.reduce_mean(x))"
   ]
  },
  {
   "cell_type": "code",
   "execution_count": 10,
   "metadata": {},
   "outputs": [],
   "source": [
    "AxplusC = smooth_jpeg.relax(Ax,By_init,negC)"
   ]
  },
  {
   "cell_type": "code",
   "execution_count": 11,
   "metadata": {},
   "outputs": [
    {
     "name": "stdout",
     "output_type": "stream",
     "text": [
      "tf.Tensor(0.0, shape=(), dtype=float64)\n",
      "tf.Tensor(0.0, shape=(), dtype=float64)\n",
      "tf.Tensor(0.0, shape=(), dtype=float64)\n",
      "tf.Tensor(0.0, shape=(), dtype=float64)\n"
     ]
    }
   ],
   "source": [
    "print(tf.reduce_max(AxplusC[0] + negC[0]))\n",
    "print(tf.reduce_min(AxplusC[0] + negC[0]))\n",
    "print(tf.reduce_max(AxplusC[1] + negC[1]))\n",
    "print(tf.reduce_min(AxplusC[1] + negC[1]))"
   ]
  },
  {
   "cell_type": "code",
   "execution_count": 12,
   "metadata": {},
   "outputs": [],
   "source": [
    "y,By = smooth_jpeg.ystep(x,u_init,AxplusC)"
   ]
  },
  {
   "cell_type": "code",
   "execution_count": 50,
   "metadata": {},
   "outputs": [
    {
     "name": "stdout",
     "output_type": "stream",
     "text": [
      "tf.Tensor(1.095376683391678, shape=(), dtype=float64)\n",
      "tf.Tensor(1.1340443007804173, shape=(), dtype=float64)\n",
      "tf.Tensor(-0.07691133243708641, shape=(), dtype=float64)\n",
      "tf.Tensor(-0.11176080134176089, shape=(), dtype=float64)\n",
      "tf.Tensor(0.3598486538373756, shape=(), dtype=float64)\n",
      "tf.Tensor(0.3601107598790794, shape=(), dtype=float64)\n"
     ]
    }
   ],
   "source": [
    "print(tf.reduce_max(y))\n",
    "print(tf.reduce_max(smooth_jpeg.Wt(By)))\n",
    "print(tf.reduce_min(y))\n",
    "print(tf.reduce_min(smooth_jpeg.Wt(By)))\n",
    "print(tf.reduce_mean(y))\n",
    "print(tf.reduce_mean(smooth_jpeg.Wt(By)))"
   ]
  },
  {
   "cell_type": "code",
   "execution_count": 14,
   "metadata": {
    "collapsed": true
   },
   "outputs": [],
   "source": [
    "u = smooth_jpeg.ustep(u_init,AxplusC,By)"
   ]
  },
  {
   "cell_type": "code",
   "execution_count": 45,
   "metadata": {
    "collapsed": true
   },
   "outputs": [],
   "source": [
    "x,Ax = smooth_jpeg.xstep(y,u,By)"
   ]
  },
  {
   "cell_type": "code",
   "execution_count": 46,
   "metadata": {
    "collapsed": true
   },
   "outputs": [],
   "source": [
    "AxplusC = smooth_jpeg.relax(Ax,By,negC)"
   ]
  },
  {
   "cell_type": "code",
   "execution_count": 47,
   "metadata": {
    "collapsed": true
   },
   "outputs": [],
   "source": [
    "y,By = smooth_jpeg.ystep(x,u,AxplusC)"
   ]
  },
  {
   "cell_type": "code",
   "execution_count": 48,
   "metadata": {
    "collapsed": true
   },
   "outputs": [],
   "source": [
    "u = smooth_jpeg.ustep(u,AxplusC,By)"
   ]
  },
  {
   "cell_type": "code",
   "execution_count": null,
   "metadata": {
    "collapsed": true
   },
   "outputs": [],
   "source": []
  },
  {
   "cell_type": "code",
   "execution_count": 11,
   "metadata": {
    "collapsed": true
   },
   "outputs": [],
   "source": [
    "x,Ax = smooth_jpeg.xstep(s,u_init,By_init)"
   ]
  },
  {
   "cell_type": "code",
   "execution_count": 15,
   "metadata": {},
   "outputs": [
    {
     "name": "stdout",
     "output_type": "stream",
     "text": [
      "(1, 1600, 2800, 3)\n",
      "(1, 1600, 2800, 3)\n",
      "tf.Tensor(1.0, shape=(), dtype=float64)\n",
      "tf.Tensor(1.0000000000006473, shape=(), dtype=float64)\n",
      "tf.Tensor(0.0, shape=(), dtype=float64)\n",
      "tf.Tensor(-4.956660487039716e-13, shape=(), dtype=float64)\n",
      "tf.Tensor(0.3588261461251168, shape=(), dtype=float64)\n",
      "tf.Tensor(0.3588261461249889, shape=(), dtype=float64)\n"
     ]
    }
   ],
   "source": [
    "import transforms as transf\n",
    "fft = transf.fft2d_multichannel(s.shape[1:3])\n",
    "ifft = transf.ifft2d_multichannel(s.shape[1:3])\n",
    "s_still = ifft(fft(s))\n",
    "print(s.shape)\n",
    "print(s_still.shape)\n",
    "\n",
    "print(tf.reduce_max(s))\n",
    "print(tf.reduce_max(s_still))\n",
    "print(tf.reduce_min(s))\n",
    "print(tf.reduce_min(s_still))\n",
    "print(tf.reduce_mean(s))\n",
    "print(tf.reduce_mean(s_still))"
   ]
  },
  {
   "cell_type": "code",
   "execution_count": 6,
   "metadata": {
    "collapsed": true
   },
   "outputs": [],
   "source": [
    "x_new = tf.where(x < 0,0.,x)\n",
    "x_new = tf.where(x_new > 1.0,1.0,x_new)\n",
    "smoothImage = Image.fromarray((255.*np.asarray(tf.reshape(x_new,x_new.shape[1:]))).astype('uint8'),'RGB')\n",
    "smoothImage.show()"
   ]
  },
  {
   "cell_type": "code",
   "execution_count": 8,
   "metadata": {},
   "outputs": [],
   "source": [
    "y_new = tf.where(lowpass < 0,0.,lowpass)\n",
    "y_new = tf.where(y_new > 1.0,1.0,y_new)\n",
    "smoothImage = Image.fromarray((255.*np.asarray(tf.reshape(y_new,y_new.shape[1:]))).astype('uint8'),'RGB')\n",
    "smoothImage.show()"
   ]
  },
  {
   "cell_type": "code",
   "execution_count": 4,
   "metadata": {},
   "outputs": [
    {
     "name": "stdout",
     "output_type": "stream",
     "text": [
      "tf.Tensor(0.2570130949512816, shape=(), dtype=float64)\n",
      "tf.Tensor(0.2570130949512816, shape=(), dtype=float64)\n",
      "tf.Tensor(0.04323715026838358, shape=(), dtype=float64)\n",
      "tf.Tensor(0.04323715026838358, shape=(), dtype=float64)\n",
      "tf.Tensor(0.07887996586296282, shape=(), dtype=float64)\n",
      "tf.Tensor(0.07887996586296282, shape=(), dtype=float64)\n",
      "tf.Tensor(-0.03274309150125233, shape=(), dtype=float64)\n",
      "tf.Tensor(-0.03274309150125233, shape=(), dtype=float64)\n",
      "tf.Tensor(-0.033754955995817404, shape=(), dtype=float64)\n",
      "tf.Tensor(-0.033754955995817404, shape=(), dtype=float64)\n",
      "tf.Tensor(-0.05825989553795034, shape=(), dtype=float64)\n",
      "tf.Tensor(-0.05825989553795034, shape=(), dtype=float64)\n",
      "tf.Tensor(0.06513041623543925, shape=(), dtype=float64)\n",
      "tf.Tensor(0.06513041623543925, shape=(), dtype=float64)\n",
      "tf.Tensor(-0.0011787114132774982, shape=(), dtype=float64)\n",
      "tf.Tensor(-0.0011787114132774982, shape=(), dtype=float64)\n",
      "tf.Tensor(0.007870027512006482, shape=(), dtype=float64)\n",
      "tf.Tensor(0.007870027512006482, shape=(), dtype=float64)\n"
     ]
    }
   ],
   "source": [
    "wtBy_yuv = tf.image.rgb_to_yuv(wtBy)\n",
    "wtBY_y,wtBY_u,wtBY_v = tf.split(wtBy_yuv,axis=3,num_or_size_splits=3)\n",
    "\n",
    "wtqwy = smooth_jpeg.Wt([smooth_jpeg.q*tf.math.round(smooth_jpeg.W(y)[channel]/smooth_jpeg.q) for channel in range(3)])\n",
    "wtqwy_yuv = tf.image.rgb_to_yuv(wtqwy)\n",
    "wtqwy_y,wtqwy_u,wtqwy_v = tf.split(wtqwy_yuv,axis=3,num_or_size_splits=3)\n",
    "\n",
    "print(tf.math.reduce_max(wtBY_y))\n",
    "print(tf.math.reduce_max(wtqwy_y))\n",
    "print(tf.math.reduce_max(wtBY_u))\n",
    "print(tf.math.reduce_max(wtqwy_u))\n",
    "print(tf.math.reduce_max(wtBY_v))\n",
    "print(tf.math.reduce_max(wtBY_v))\n",
    "print(tf.math.reduce_min(wtBY_y))\n",
    "print(tf.math.reduce_min(wtqwy_y))\n",
    "print(tf.math.reduce_min(wtBY_u))\n",
    "print(tf.math.reduce_min(wtqwy_u))\n",
    "print(tf.math.reduce_min(wtBY_v))\n",
    "print(tf.math.reduce_min(wtBY_v))\n",
    "print(tf.math.reduce_mean(wtBY_y))\n",
    "print(tf.math.reduce_mean(wtqwy_y))\n",
    "print(tf.math.reduce_mean(wtBY_u))\n",
    "print(tf.math.reduce_mean(wtqwy_u))\n",
    "print(tf.math.reduce_mean(wtBY_v))\n",
    "print(tf.math.reduce_mean(wtBY_v))\n"
   ]
  },
  {
   "cell_type": "code",
   "execution_count": 4,
   "metadata": {},
   "outputs": [
    {
     "data": {
      "text/plain": [
       "1"
      ]
     },
     "execution_count": 4,
     "metadata": {},
     "output_type": "execute_result"
    }
   ],
   "source": [
    "len(lowpass)"
   ]
  },
  {
   "cell_type": "code",
   "execution_count": 4,
   "metadata": {
    "collapsed": true
   },
   "outputs": [],
   "source": [
    "x = tf.cast(lowpass,tf.float32)\n",
    "x_small = x[slice(None),slice(0,256),slice(0,256),slice(None)]\n",
    "smoothImage = Image.fromarray(np.asarray(tf.reshape(x_small,x_small.shape[1:])),'RGB')\n",
    "smoothImage.show()"
   ]
  },
  {
   "cell_type": "code",
   "execution_count": 5,
   "metadata": {},
   "outputs": [
    {
     "data": {
      "text/plain": [
       "<tf.Tensor: shape=(), dtype=float32, numpy=0.92229486>"
      ]
     },
     "execution_count": 5,
     "metadata": {},
     "output_type": "execute_result"
    }
   ],
   "source": [
    "tf.reduce_max(x_small)"
   ]
  },
  {
   "cell_type": "code",
   "execution_count": 6,
   "metadata": {},
   "outputs": [
    {
     "data": {
      "text/plain": [
       "<tf.Tensor: shape=(), dtype=float32, numpy=0.8896151>"
      ]
     },
     "execution_count": 6,
     "metadata": {},
     "output_type": "execute_result"
    }
   ],
   "source": [
    "tf.reduce_min(x_small)"
   ]
  },
  {
   "cell_type": "code",
   "execution_count": 7,
   "metadata": {},
   "outputs": [
    {
     "data": {
      "text/plain": [
       "<tf.Tensor: shape=(), dtype=float64, numpy=1.0>"
      ]
     },
     "execution_count": 7,
     "metadata": {},
     "output_type": "execute_result"
    }
   ],
   "source": [
    "tf.reduce_max(s)"
   ]
  },
  {
   "cell_type": "code",
   "execution_count": 8,
   "metadata": {
    "scrolled": true
   },
   "outputs": [
    {
     "data": {
      "text/plain": [
       "<tf.Tensor: shape=(), dtype=float64, numpy=0.0>"
      ]
     },
     "execution_count": 8,
     "metadata": {},
     "output_type": "execute_result"
    }
   ],
   "source": [
    "tf.reduce_min(s)"
   ]
  },
  {
   "cell_type": "code",
   "execution_count": 9,
   "metadata": {
    "collapsed": true
   },
   "outputs": [],
   "source": [
    "x_new,Ax_new = smooth_jpeg.xstep(s)"
   ]
  },
  {
   "cell_type": "code",
   "execution_count": 10,
   "metadata": {},
   "outputs": [
    {
     "data": {
      "text/plain": [
       "<tf.Tensor: shape=(), dtype=float64, numpy=0.9259259259265392>"
      ]
     },
     "execution_count": 10,
     "metadata": {},
     "output_type": "execute_result"
    }
   ],
   "source": [
    "tf.reduce_max(x_new)"
   ]
  },
  {
   "cell_type": "code",
   "execution_count": 11,
   "metadata": {},
   "outputs": [
    {
     "data": {
      "text/plain": [
       "<tf.Tensor: shape=(), dtype=float64, numpy=-4.566629576338341e-13>"
      ]
     },
     "execution_count": 11,
     "metadata": {},
     "output_type": "execute_result"
    }
   ],
   "source": [
    "tf.reduce_min(x_new)"
   ]
  },
  {
   "cell_type": "code",
   "execution_count": 4,
   "metadata": {
    "collapsed": true
   },
   "outputs": [],
   "source": [
    "lowpass = y"
   ]
  },
  {
   "cell_type": "code",
   "execution_count": 6,
   "metadata": {
    "collapsed": true
   },
   "outputs": [],
   "source": [
    "lowpass = wtBy"
   ]
  },
  {
   "cell_type": "code",
   "execution_count": 4,
   "metadata": {
    "collapsed": true
   },
   "outputs": [],
   "source": [
    "x_new = tf.where(lowpass < 0,0.,lowpass)\n",
    "x_new = tf.where(x_new > 1.0,1.0,x_new)\n",
    "smoothImage = Image.fromarray((255.*np.asarray(tf.reshape(x_new,x_new.shape[1:]))).astype('uint8'),'RGB')\n",
    "smoothImage.show()"
   ]
  },
  {
   "cell_type": "code",
   "execution_count": 4,
   "metadata": {},
   "outputs": [
    {
     "name": "stdout",
     "output_type": "stream",
     "text": [
      "tf.Tensor(0.025259007677445326, shape=(), dtype=float64)\n",
      "tf.Tensor(-0.004116784037421037, shape=(), dtype=float64)\n",
      "tf.Tensor(0.007235759263040731, shape=(), dtype=float64)\n"
     ]
    }
   ],
   "source": [
    "print(tf.reduce_max(lowpass))\n",
    "print(tf.reduce_min(lowpass))\n",
    "print(tf.reduce_mean(lowpass))"
   ]
  },
  {
   "cell_type": "code",
   "execution_count": 5,
   "metadata": {},
   "outputs": [
    {
     "data": {
      "text/plain": [
       "<tf.Tensor: shape=(), dtype=float64, numpy=0.5130693627046149>"
      ]
     },
     "execution_count": 5,
     "metadata": {},
     "output_type": "execute_result"
    }
   ],
   "source": [
    "tf.reduce_min(y)"
   ]
  },
  {
   "cell_type": "code",
   "execution_count": 6,
   "metadata": {},
   "outputs": [
    {
     "data": {
      "text/plain": [
       "<tf.Tensor: shape=(), dtype=float64, numpy=0.6106675396815834>"
      ]
     },
     "execution_count": 6,
     "metadata": {},
     "output_type": "execute_result"
    }
   ],
   "source": [
    "tf.reduce_mean(y)"
   ]
  },
  {
   "cell_type": "code",
   "execution_count": 4,
   "metadata": {},
   "outputs": [
    {
     "data": {
      "text/plain": [
       "<tf.Tensor: shape=(), dtype=float64, numpy=0.7188945327525801>"
      ]
     },
     "execution_count": 4,
     "metadata": {},
     "output_type": "execute_result"
    }
   ],
   "source": [
    "tf.reduce_max(wtBy)"
   ]
  },
  {
   "cell_type": "code",
   "execution_count": 5,
   "metadata": {},
   "outputs": [
    {
     "data": {
      "text/plain": [
       "<tf.Tensor: shape=(), dtype=float64, numpy=0.4095120582383085>"
      ]
     },
     "execution_count": 5,
     "metadata": {},
     "output_type": "execute_result"
    }
   ],
   "source": [
    "tf.reduce_min(wtBy)"
   ]
  },
  {
   "cell_type": "code",
   "execution_count": 6,
   "metadata": {},
   "outputs": [
    {
     "data": {
      "text/plain": [
       "<tf.Tensor: shape=(), dtype=float64, numpy=0.5205163330596897>"
      ]
     },
     "execution_count": 6,
     "metadata": {},
     "output_type": "execute_result"
    }
   ],
   "source": [
    "tf.reduce_mean(wtBy)"
   ]
  },
  {
   "cell_type": "code",
   "execution_count": 6,
   "metadata": {},
   "outputs": [
    {
     "data": {
      "text/plain": [
       "TensorShape([1, 200, 350, 64])"
      ]
     },
     "execution_count": 6,
     "metadata": {},
     "output_type": "execute_result"
    }
   ],
   "source": [
    "smooth_jpeg.W(wtBy)[0].shape"
   ]
  },
  {
   "cell_type": "code",
   "execution_count": 10,
   "metadata": {},
   "outputs": [
    {
     "data": {
      "text/plain": [
       "<tf.Tensor: shape=(), dtype=float64, numpy=0.613012462000272>"
      ]
     },
     "execution_count": 10,
     "metadata": {},
     "output_type": "execute_result"
    }
   ],
   "source": [
    "tf.reduce_mean(smooth_jpeg.Wt([smooth_jpeg.q*tf.math.round(smooth_jpeg.W(y)[channel]/smooth_jpeg.q) for channel in range(3)]))"
   ]
  },
  {
   "cell_type": "code",
   "execution_count": 5,
   "metadata": {},
   "outputs": [
    {
     "data": {
      "text/plain": [
       "<tf.Tensor: shape=(), dtype=float64, numpy=0.09169928799980395>"
      ]
     },
     "execution_count": 5,
     "metadata": {},
     "output_type": "execute_result"
    }
   ],
   "source": [
    "tf.reduce_max(x_new)"
   ]
  },
  {
   "cell_type": "code",
   "execution_count": 6,
   "metadata": {},
   "outputs": [
    {
     "data": {
      "text/plain": [
       "<tf.Tensor: shape=(), dtype=float64, numpy=0.05429964236971775>"
      ]
     },
     "execution_count": 6,
     "metadata": {},
     "output_type": "execute_result"
    }
   ],
   "source": [
    "tf.reduce_min(x_new)"
   ]
  },
  {
   "cell_type": "code",
   "execution_count": 16,
   "metadata": {},
   "outputs": [
    {
     "data": {
      "text/plain": [
       "TensorShape([1, 1600, 2800, 3])"
      ]
     },
     "execution_count": 16,
     "metadata": {},
     "output_type": "execute_result"
    }
   ],
   "source": [
    "x_new.shape"
   ]
  },
  {
   "cell_type": "code",
   "execution_count": null,
   "metadata": {
    "collapsed": true
   },
   "outputs": [],
   "source": [
    "smoothImage = Image.fromarray(np.asarray(tf.reshape(x_new,x_new.shape[1:]))*255)"
   ]
  },
  {
   "cell_type": "code",
   "execution_count": 3,
   "metadata": {
    "collapsed": true
   },
   "outputs": [],
   "source": [
    "from PIL import Image\n",
    "image = Image.open(\"20190728_matthewdruincom_SLE_0033.jpg\")\n",
    "#image = Image.open(\"20200202_matthewdruincom_SLW_0085.jpg\")\n",
    "#image.show()\n",
    "import numpy as np\n",
    "x_orig = np.asarray(image).astype('float64')\n",
    "\n",
    "x_batch = np.reshape(x_orig.astype('float64')/255.,(1,)+x_orig.shape)\n",
    "x_batch = x_batch[slice(None),slice(0,1600),slice(0,2800),slice(None)]\n",
    "x = (np.reshape(x_batch,x_batch.shape[1:])*255.).astype('uint8')\n",
    "x_orig = Image.fromarray(x)\n",
    "x_cmprss = tf.image.adjust_jpeg_quality(x,25)\n",
    "image_cmprss = Image.fromarray(np.asarray(x_cmprss),'RGB')\n",
    "image_cmprss.show()\n",
    "x_cmprss_batch = np.reshape(np.asarray(x_cmprss).astype('float64')/255.,(1,)+x_cmprss.shape)\n",
    "#x_cmprss_apprx = jrf.Linear_JPEG_Compression_Approx(x_cmprss_batch)(x_batch)\n",
    "#image_cmprss_apprx = Image.fromarray(np.asarray(x_cmprss_apprx*255).astype('uint8'),'RGB')\n",
    "#image_cmprss_apprx.show\n",
    "\n",
    "#y = jpeg_coef2rgb(rgb2jpeg_coef(x))\n",
    "#z = jpeg_coef2rgb(rgb2jpeg_coef(x))"
   ]
  },
  {
   "cell_type": "code",
   "execution_count": 4,
   "metadata": {},
   "outputs": [
    {
     "name": "stdout",
     "output_type": "stream",
     "text": [
      "(1, 1600, 2800, 3)\n",
      "(1, 1600, 2800, 3)\n"
     ]
    }
   ],
   "source": [
    "print(x_batch.shape)\n",
    "print(x_cmprss_batch.shape)"
   ]
  },
  {
   "cell_type": "code",
   "execution_count": 4,
   "metadata": {},
   "outputs": [
    {
     "name": "stdout",
     "output_type": "stream",
     "text": [
      "WARNING:tensorflow:Layer rg_b2jpeg__coef_1 is casting an input tensor from dtype float64 to the layer's dtype of float32, which is new behavior in TensorFlow 2.  The layer has dtype float32 because its dtype defaults to floatx.\n",
      "\n",
      "If you intended to run this layer in float32, you can safely ignore this warning. If in doubt, this warning is likely only an issue if you are porting a TensorFlow 1.X model to TensorFlow 2.\n",
      "\n",
      "To change all layers to have dtype float64 by default, call `tf.keras.backend.set_floatx('float64')`. To change just this layer, pass dtype='float64' to the layer constructor. If you are the author of this layer, you can disable autocasting by passing autocast=False to the base Layer constructor.\n",
      "\n",
      "WARNING:tensorflow:Layer linear_jpeg__compression__approx is casting an input tensor from dtype float64 to the layer's dtype of float32, which is new behavior in TensorFlow 2.  The layer has dtype float32 because its dtype defaults to floatx.\n",
      "\n",
      "If you intended to run this layer in float32, you can safely ignore this warning. If in doubt, this warning is likely only an issue if you are porting a TensorFlow 1.X model to TensorFlow 2.\n",
      "\n",
      "To change all layers to have dtype float64 by default, call `tf.keras.backend.set_floatx('float64')`. To change just this layer, pass dtype='float64' to the layer constructor. If you are the author of this layer, you can disable autocasting by passing autocast=False to the base Layer constructor.\n",
      "\n"
     ]
    }
   ],
   "source": [
    "x_cmprss_apprx = jrf.Linear_JPEG_Compression_Approx(x_cmprss_batch,epsilon=1e-3)(x_batch)\n",
    "#print(tf.math.reduce_min(tf.where(jrf.Linear_JPEG_Compression_Approx(x_cmprss_batch).masky,1.0,0.0)))"
   ]
  },
  {
   "cell_type": "code",
   "execution_count": 5,
   "metadata": {
    "collapsed": true
   },
   "outputs": [],
   "source": [
    "image_cmprss_apprx = Image.fromarray(np.asarray(tf.reshape(x_cmprss_apprx,x_cmprss_apprx.shape[1:])*255).astype('uint8'),'RGB')\n",
    "image_cmprss_apprx.show()"
   ]
  },
  {
   "cell_type": "code",
   "execution_count": 6,
   "metadata": {},
   "outputs": [
    {
     "name": "stdout",
     "output_type": "stream",
     "text": [
      "tf.Tensor(1.0698118, shape=(), dtype=float32)\n"
     ]
    }
   ],
   "source": [
    "print(tf.math.reduce_max(x_cmprss_apprx))"
   ]
  },
  {
   "cell_type": "code",
   "execution_count": 7,
   "metadata": {},
   "outputs": [
    {
     "data": {
      "text/plain": [
       "<tf.Tensor: shape=(), dtype=float64, numpy=0.0>"
      ]
     },
     "execution_count": 7,
     "metadata": {},
     "output_type": "execute_result"
    }
   ],
   "source": [
    "tf.math.reduce_min(y)"
   ]
  },
  {
   "cell_type": "code",
   "execution_count": 4,
   "metadata": {},
   "outputs": [
    {
     "name": "stdout",
     "output_type": "stream",
     "text": [
      "tf.Tensor(0.21713108, shape=(), dtype=float32)\n",
      "tf.Tensor(0.0, shape=(), dtype=float32)\n"
     ]
    }
   ],
   "source": [
    "print(tf.math.reduce_max(tf.math.abs(x - y)))\n",
    "print(tf.math.reduce_max(tf.math.abs(z - y)))"
   ]
  },
  {
   "cell_type": "code",
   "execution_count": 5,
   "metadata": {},
   "outputs": [
    {
     "data": {
      "text/plain": [
       "TensorShape([5, 128, 128, 3])"
      ]
     },
     "execution_count": 5,
     "metadata": {},
     "output_type": "execute_result"
    }
   ],
   "source": [
    "x.shape"
   ]
  },
  {
   "cell_type": "code",
   "execution_count": 5,
   "metadata": {},
   "outputs": [
    {
     "data": {
      "text/plain": [
       "<tf.Tensor: shape=(), dtype=float32, numpy=0.22571766>"
      ]
     },
     "execution_count": 5,
     "metadata": {},
     "output_type": "execute_result"
    }
   ],
   "source": [
    "x[0,0,0,0]"
   ]
  },
  {
   "cell_type": "code",
   "execution_count": 6,
   "metadata": {},
   "outputs": [
    {
     "data": {
      "text/plain": [
       "<tf.Tensor: shape=(), dtype=float32, numpy=0.4955484>"
      ]
     },
     "execution_count": 6,
     "metadata": {},
     "output_type": "execute_result"
    }
   ],
   "source": [
    "y[0,0,0,0]"
   ]
  },
  {
   "cell_type": "code",
   "execution_count": 7,
   "metadata": {
    "collapsed": true
   },
   "outputs": [],
   "source": [
    "x = tf.one_hot(indices=[[[0]]],depth=64,on_value=2.,dtype=tf.float64)"
   ]
  },
  {
   "cell_type": "code",
   "execution_count": 8,
   "metadata": {},
   "outputs": [
    {
     "data": {
      "text/plain": [
       "TensorShape([1, 1, 1, 64])"
      ]
     },
     "execution_count": 8,
     "metadata": {},
     "output_type": "execute_result"
    }
   ],
   "source": [
    "x.shape"
   ]
  },
  {
   "cell_type": "code",
   "execution_count": 9,
   "metadata": {},
   "outputs": [
    {
     "data": {
      "text/plain": [
       "<tf.Tensor: shape=(), dtype=float64, numpy=2.0>"
      ]
     },
     "execution_count": 9,
     "metadata": {},
     "output_type": "execute_result"
    }
   ],
   "source": [
    "x[0,0,0,0]"
   ]
  },
  {
   "cell_type": "code",
   "execution_count": null,
   "metadata": {
    "collapsed": true
   },
   "outputs": [],
   "source": []
  }
 ],
 "metadata": {
  "kernelspec": {
   "display_name": "Python 3",
   "language": "python",
   "name": "python3"
  },
  "language_info": {
   "codemirror_mode": {
    "name": "ipython",
    "version": 3
   },
   "file_extension": ".py",
   "mimetype": "text/x-python",
   "name": "python",
   "nbconvert_exporter": "python",
   "pygments_lexer": "ipython3",
   "version": "3.6.1"
  }
 },
 "nbformat": 4,
 "nbformat_minor": 2
}
