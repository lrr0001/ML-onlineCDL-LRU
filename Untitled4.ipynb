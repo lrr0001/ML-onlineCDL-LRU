{
 "cells": [
  {
   "cell_type": "code",
   "execution_count": 1,
   "metadata": {
    "collapsed": true
   },
   "outputs": [],
   "source": [
    "import tensorflow as tf"
   ]
  },
  {
   "cell_type": "code",
   "execution_count": 2,
   "metadata": {
    "collapsed": true
   },
   "outputs": [],
   "source": [
    "dataset = tf.data.Dataset.from_tensor_slices([8, 3, 0, 8, 2, 1])\n"
   ]
  },
  {
   "cell_type": "code",
   "execution_count": 3,
   "metadata": {
    "collapsed": true
   },
   "outputs": [],
   "source": [
    "dataset2 = dataset.map(lambda x: x + 1)"
   ]
  },
  {
   "cell_type": "code",
   "execution_count": 4,
   "metadata": {
    "collapsed": true
   },
   "outputs": [],
   "source": [
    "dataset3 = dataset.map(lambda x: x - 1)"
   ]
  },
  {
   "cell_type": "code",
   "execution_count": 5,
   "metadata": {
    "collapsed": true
   },
   "outputs": [],
   "source": [
    "dataset4 = tf.data.Dataset.zip((dataset2.batch(2),dataset3.batch(2)))"
   ]
  },
  {
   "cell_type": "code",
   "execution_count": 8,
   "metadata": {},
   "outputs": [
    {
     "name": "stdout",
     "output_type": "stream",
     "text": [
      "[8, 3, 0, 8, 2, 1]\n",
      "[9, 4, 1, 9, 3, 2]\n",
      "[7, 2, -1, 7, 1, 0]\n",
      "[(array([9, 4], dtype=int32), array([7, 2], dtype=int32)), (array([1, 9], dtype=int32), array([-1,  7], dtype=int32)), (array([3, 2], dtype=int32), array([1, 0], dtype=int32))]\n"
     ]
    }
   ],
   "source": [
    "print(list(dataset.as_numpy_iterator()))\n",
    "print(list(dataset2.as_numpy_iterator()))\n",
    "print(list(dataset3.as_numpy_iterator()))\n",
    "print(list(dataset4.as_numpy_iterator()))"
   ]
  },
  {
   "cell_type": "code",
   "execution_count": 9,
   "metadata": {
    "collapsed": true
   },
   "outputs": [],
   "source": [
    "def addOne(x):\n",
    "    print('Running addOne')\n",
    "    return x + 1\n",
    "def minusOne(x):\n",
    "    print('Running minusOne')\n",
    "    return x - 1"
   ]
  },
  {
   "cell_type": "code",
   "execution_count": 10,
   "metadata": {},
   "outputs": [
    {
     "name": "stdout",
     "output_type": "stream",
     "text": [
      "Running addOne\n",
      "Running minusOne\n"
     ]
    }
   ],
   "source": [
    "dataset2 = dataset.map(addOne)\n",
    "dataset3 = dataset.map(minusOne)"
   ]
  },
  {
   "cell_type": "code",
   "execution_count": 11,
   "metadata": {
    "collapsed": true
   },
   "outputs": [],
   "source": [
    "datasetA = dataset2.batch(2)\n",
    "datasetB = dataset3.batch(2)"
   ]
  },
  {
   "cell_type": "code",
   "execution_count": 12,
   "metadata": {
    "collapsed": true
   },
   "outputs": [],
   "source": [
    "datasetAB = tf.data.Dataset.zip((datasetA,datasetB))"
   ]
  },
  {
   "cell_type": "code",
   "execution_count": 13,
   "metadata": {},
   "outputs": [
    {
     "name": "stdout",
     "output_type": "stream",
     "text": [
      "[(array([9, 4], dtype=int32), array([7, 2], dtype=int32)), (array([1, 9], dtype=int32), array([-1,  7], dtype=int32)), (array([3, 2], dtype=int32), array([1, 0], dtype=int32))]\n"
     ]
    }
   ],
   "source": [
    "print(list(datasetAB.as_numpy_iterator()))"
   ]
  },
  {
   "cell_type": "code",
   "execution_count": null,
   "metadata": {
    "collapsed": true
   },
   "outputs": [],
   "source": []
  }
 ],
 "metadata": {
  "kernelspec": {
   "display_name": "Python 3",
   "language": "python",
   "name": "python3"
  },
  "language_info": {
   "codemirror_mode": {
    "name": "ipython",
    "version": 3
   },
   "file_extension": ".py",
   "mimetype": "text/x-python",
   "name": "python",
   "nbconvert_exporter": "python",
   "pygments_lexer": "ipython3",
   "version": "3.6.1"
  }
 },
 "nbformat": 4,
 "nbformat_minor": 2
}
