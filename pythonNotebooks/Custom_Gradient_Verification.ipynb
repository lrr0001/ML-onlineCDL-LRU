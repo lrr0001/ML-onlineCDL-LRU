{
 "cells": [
  {
   "cell_type": "markdown",
   "metadata": {
    "collapsed": true
   },
   "source": [
    "This Python Notebook demonstrates a verification process for custom gradients, if a corresponding gradient can be accurately computed through automatic differentiation."
   ]
  },
  {
   "cell_type": "markdown",
   "metadata": {},
   "source": [
    "This next code cell defines the operation with the custom gradient. The sign of the gradient is flipped."
   ]
  },
  {
   "cell_type": "code",
   "execution_count": 1,
   "metadata": {
    "collapsed": true
   },
   "outputs": [],
   "source": [
    "import tensorflow as tf\n",
    "class FlipGrad(tf.keras.layers.Layer):\n",
    "    def __init__(self,*args,**kwargs):\n",
    "        @tf.custom_gradient\n",
    "        def flip_grad2(x):\n",
    "            def grad(dy):\n",
    "                return -dy\n",
    "            return tf.identity(x), grad\n",
    "        super().__init__(*args,**kwargs)\n",
    "        self.f = lambda x: flip_grad2(x)\n",
    "    def call(self,inputs):\n",
    "        return self.f(inputs)"
   ]
  },
  {
   "cell_type": "code",
   "execution_count": 2,
   "metadata": {},
   "outputs": [
    {
     "name": "stdout",
     "output_type": "stream",
     "text": [
      "Epoch 1/8\n",
      "100/100 [==============================] - 1s 7ms/step - loss: 4.0691 - val_loss: 0.2641\n",
      "Epoch 2/8\n",
      "100/100 [==============================] - 1s 9ms/step - loss: 0.0696 - val_loss: 0.0047\n",
      "Epoch 3/8\n",
      "100/100 [==============================] - 1s 12ms/step - loss: 0.0012 - val_loss: 8.3079e-05\n",
      "Epoch 4/8\n",
      "100/100 [==============================] - 1s 14ms/step - loss: 2.0840e-05 - val_loss: 1.4970e-06\n",
      "Epoch 5/8\n",
      "100/100 [==============================] - 2s 16ms/step - loss: 3.6579e-07 - val_loss: 2.7383e-08\n",
      "Epoch 6/8\n",
      "100/100 [==============================] - 2s 19ms/step - loss: 6.5070e-09 - val_loss: 4.8928e-10\n",
      "Epoch 7/8\n",
      "100/100 [==============================] - 2s 21ms/step - loss: 1.2054e-10 - val_loss: 3.2076e-11\n",
      "Epoch 8/8\n",
      "100/100 [==============================] - 2s 23ms/step - loss: 2.8321e-11 - val_loss: 3.0622e-11\n",
      "Epoch 1/16\n",
      "100/100 [==============================] - 4s 45ms/step - loss: 6.3124 - val_loss: 11.3625\n",
      "Epoch 2/16\n",
      "100/100 [==============================] - 5s 47ms/step - loss: 14.6828 - val_loss: 14.5633\n",
      "Epoch 3/16\n",
      "100/100 [==============================] - 5s 49ms/step - loss: 16.2308 - val_loss: 15.0170\n",
      "Epoch 4/16\n",
      "100/100 [==============================] - 5s 52ms/step - loss: 16.4412 - val_loss: 15.0778\n",
      "Epoch 5/16\n",
      "100/100 [==============================] - 6s 56ms/step - loss: 16.4689 - val_loss: 15.0859\n",
      "Epoch 6/16\n",
      "100/100 [==============================] - 6s 58ms/step - loss: 16.4725 - val_loss: 15.0870\n",
      "Epoch 7/16\n",
      "100/100 [==============================] - 6s 61ms/step - loss: 16.4730 - val_loss: 15.0871\n",
      "Epoch 8/16\n",
      "100/100 [==============================] - 6s 64ms/step - loss: 16.4731 - val_loss: 15.0872\n",
      "Epoch 9/16\n",
      "100/100 [==============================] - 7s 66ms/step - loss: 4.0691 - val_loss: 0.2641\n",
      "Epoch 10/16\n",
      "100/100 [==============================] - 7s 68ms/step - loss: 0.0697 - val_loss: 0.0047\n",
      "Epoch 11/16\n",
      "100/100 [==============================] - 7s 73ms/step - loss: 0.0012 - val_loss: 8.3332e-05\n",
      "Epoch 12/16\n",
      "100/100 [==============================] - 7s 75ms/step - loss: 2.0946e-05 - val_loss: 1.5314e-06\n",
      "Epoch 13/16\n",
      "100/100 [==============================] - 8s 78ms/step - loss: 3.8006e-07 - val_loss: 3.2223e-08\n",
      "Epoch 14/16\n",
      "100/100 [==============================] - 8s 79ms/step - loss: 8.5792e-09 - val_loss: 1.3077e-09\n",
      "Epoch 15/16\n",
      "100/100 [==============================] - 8s 79ms/step - loss: 5.6600e-10 - val_loss: 3.8846e-10\n",
      "Epoch 16/16\n",
      "100/100 [==============================] - 8s 82ms/step - loss: 3.5271e-10 - val_loss: 3.8520e-10\n",
      "tf.Tensor([[6.4228203e-07]], shape=(1, 1), dtype=float32)\n"
     ]
    }
   ],
   "source": [
    "import numpy as np\n",
    "import post_process_grad as ppg\n",
    "inputs = tf.keras.layers.Input(shape=(1,))\n",
    "output1 = tf.keras.layers.Dense(units=1,use_bias=True)(inputs)\n",
    "output2 = FlipGrad()(output1)\n",
    "model1 = ppg.Model_record_grad(inputs,output1)\n",
    "model1.compile(loss = tf.keras.losses.MSE,run_eagerly=True,optimizer=tf.keras.optimizers.SGD())\n",
    "x = np.random.randn(1000,1)\n",
    "y = -2*x + 4\n",
    "xval = np.random.randn(100,1)\n",
    "yval = -2*xval + 4\n",
    "model1.fit(x=x,y=y,batch_size=10,epochs=8,shuffle=False,validation_data = (xval,yval))\n",
    "\n",
    "gradients = []\n",
    "for grad in model1.gradient_record:\n",
    "    gradients.append([-elem for elem in grad])\n",
    "for grad in model1.gradient_record:\n",
    "    gradients.append(grad)\n",
    "\n",
    "model2 = ppg.Model_passenger(gradients,inputs,output2)\n",
    "model2.compile(loss = tf.keras.losses.MSE,run_eagerly=True,optimizer=tf.keras.optimizers.SGD())\n",
    "model2.fit(x=x,y=y,batch_size=10,epochs=16,shuffle=False,validation_data = (xval,yval))\n",
    "\n",
    "sumError = 0\n",
    "for grad1,grad2 in zip(model1.gradient_record,model2.gradient_record[800:]):\n",
    "    for gradval1,gradval2 in zip(grad1,grad2):\n",
    "        sumError += (gradval1 + gradval2)**2\n",
    "print(sumError)"
   ]
  },
  {
   "cell_type": "code",
   "execution_count": null,
   "metadata": {
    "collapsed": true
   },
   "outputs": [],
   "source": []
  }
 ],
 "metadata": {
  "kernelspec": {
   "display_name": "Python 3",
   "language": "python",
   "name": "python3"
  },
  "language_info": {
   "codemirror_mode": {
    "name": "ipython",
    "version": 3
   },
   "file_extension": ".py",
   "mimetype": "text/x-python",
   "name": "python",
   "nbconvert_exporter": "python",
   "pygments_lexer": "ipython3",
   "version": "3.6.1"
  }
 },
 "nbformat": 4,
 "nbformat_minor": 2
}
