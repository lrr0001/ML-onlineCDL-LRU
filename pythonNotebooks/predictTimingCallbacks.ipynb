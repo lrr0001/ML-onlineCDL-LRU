{
 "cells": [
  {
   "cell_type": "code",
   "execution_count": 1,
   "metadata": {
    "collapsed": true
   },
   "outputs": [],
   "source": [
    "import tensorflow as tf\n",
    "import time\n",
    "class TimeHistory(tf.keras.callbacks.Callback):\n",
    "    def on_predict_begin(self,logs={}):\n",
    "        self.predict_times = []\n",
    "        \n",
    "    def on_predict_batch_begin(self,batch,logs={}):\n",
    "        self.predict_batch_start_time = time.time()\n",
    "        \n",
    "    def on_predict_batch_end(self,batch,logs = {}):\n",
    "        self.predict_times.append(time.time() - self.predict_batch_start_time)"
   ]
  },
  {
   "cell_type": "code",
   "execution_count": 2,
   "metadata": {
    "collapsed": true
   },
   "outputs": [],
   "source": [
    "import numpy as np\n",
    "def custom_loss(y_actual, y_pred):\n",
    "    pred_rank = tf.rank(y_pred)\n",
    "    if pred_rank > 1:\n",
    "        return tf.math.reduce_sum(1/((y_actual - y_pred - 1)**2 + 0.6) - 1/((y_actual - y_pred + 1)**2 + 0.6),axis=tf.range(1,tf.rank(y_pred)))\n",
    "    else:\n",
    "        return 1/((y_actual - y_pred - 1)**2 + 0.6) - 1/((y_actual - y_pred + 1)**2 + 0.6)\n",
    "class AddVar(tf.keras.layers.Layer):\n",
    "    def __init__(*args,**kwargs):\n",
    "        tf.keras.layers.Layer.__init__(*args,**kwargs)\n",
    "    def build(self,input_shape):\n",
    "        self.bias = tf.Variable(initial_value=tf.zeros(input_shape[-1]),trainable=True,dtype=self.dtype)\n",
    "    def call(self,inputs):\n",
    "        return inputs + self.bias\n",
    "\n",
    "inputs = tf.keras.layers.Input(shape=(1,))\n",
    "outputs = AddVar()(inputs)\n",
    "model = tf.keras.Model(inputs,outputs)\n",
    "model.compile(loss = custom_loss)\n",
    "x = np.random.randn(1000,1)\n",
    "#y = x\n",
    "#xval = np.random.randn(100,1)\n",
    "#yval = xval\n",
    "times = TimeHistory()\n",
    "y = model.predict(x = x, batch_size=100, verbose=0, steps=None, callbacks=times)"
   ]
  },
  {
   "cell_type": "code",
   "execution_count": 3,
   "metadata": {},
   "outputs": [
    {
     "data": {
      "text/plain": [
       "[0.04623699188232422,\n",
       " 0.0005965232849121094,\n",
       " 0.00042057037353515625,\n",
       " 0.0004055500030517578,\n",
       " 0.0003859996795654297,\n",
       " 0.0003478527069091797,\n",
       " 0.0003826618194580078,\n",
       " 0.00036454200744628906,\n",
       " 0.0003452301025390625,\n",
       " 0.0003666877746582031]"
      ]
     },
     "execution_count": 3,
     "metadata": {},
     "output_type": "execute_result"
    }
   ],
   "source": [
    "times.predict_times"
   ]
  },
  {
   "cell_type": "code",
   "execution_count": 4,
   "metadata": {},
   "outputs": [
    {
     "data": {
      "text/plain": [
       "(1000, 1)"
      ]
     },
     "execution_count": 4,
     "metadata": {},
     "output_type": "execute_result"
    }
   ],
   "source": [
    "y.shape"
   ]
  },
  {
   "cell_type": "code",
   "execution_count": null,
   "metadata": {
    "collapsed": true
   },
   "outputs": [],
   "source": []
  }
 ],
 "metadata": {
  "kernelspec": {
   "display_name": "Python 3",
   "language": "python",
   "name": "python3"
  },
  "language_info": {
   "codemirror_mode": {
    "name": "ipython",
    "version": 3
   },
   "file_extension": ".py",
   "mimetype": "text/x-python",
   "name": "python",
   "nbconvert_exporter": "python",
   "pygments_lexer": "ipython3",
   "version": "3.6.1"
  }
 },
 "nbformat": 4,
 "nbformat_minor": 2
}
