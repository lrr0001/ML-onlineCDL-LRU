{
 "cells": [
  {
   "cell_type": "code",
   "execution_count": 1,
   "metadata": {},
   "outputs": [],
   "source": [
    "import pickle as pkl\n",
    "f_admm = []\n",
    "t_admm = []\n",
    "f_fista = []\n",
    "t_fista = []\n",
    "for ii in range(0,48,4):\n",
    "    fid = open('data/experiment/simpleTest/experiment1/times/ML_ADMM_iter' + str(ii) + '_times.pkl','rb')\n",
    "    outputs_admm = pkl.load(fid)\n",
    "    times_admm = pkl.load(fid)\n",
    "    fid.close()\n",
    "    f_admm.append(sum(outputs_admm[1:])/(len(outputs_admm) - 1))\n",
    "    t_admm.append(sum(times_admm[1:])/(len(times_admm) - 1))\n",
    "    fid = open('data/experiment/simpleTest/experiment1/times/ML_FISTA_iter' + str(ii) + '_times.pkl','rb')\n",
    "    outputs_fista = pkl.load(fid)\n",
    "    times_fista = pkl.load(fid)\n",
    "    fid.close()\n",
    "    f_fista.append(sum(outputs_fista[1:])/(len(outputs_fista) - 1))\n",
    "    t_fista.append(sum(times_fista[1:])/(len(outputs_fista) - 1))"
   ]
  },
  {
   "cell_type": "code",
   "execution_count": 2,
   "metadata": {},
   "outputs": [
    {
     "data": {
      "image/png": "[encoded data removed]",
      "text/plain": [
       "<matplotlib.figure.Figure at 0x7f5aa810a630>"
      ]
     },
     "metadata": {},
     "output_type": "display_data"
    }
   ],
   "source": [
    "import matplotlib.pyplot as plt\n",
    "import numpy as np\n",
    "%matplotlib inline\n",
    "plt.plot(np.array(t_admm), np.array(f_admm))\n",
    "plt.plot(np.array(t_fista),np.array(f_fista))\n",
    "plt.yscale('log')\n",
    "plt.show()"
   ]
  },
  {
   "cell_type": "code",
   "execution_count": null,
   "metadata": {
    "collapsed": true
   },
   "outputs": [],
   "source": []
  }
 ],
 "metadata": {
  "kernelspec": {
   "display_name": "Python 3",
   "language": "python",
   "name": "python3"
  },
  "language_info": {
   "codemirror_mode": {
    "name": "ipython",
    "version": 3
   },
   "file_extension": ".py",
   "mimetype": "text/x-python",
   "name": "python",
   "nbconvert_exporter": "python",
   "pygments_lexer": "ipython3",
   "version": "3.6.1"
  }
 },
 "nbformat": 4,
 "nbformat_minor": 2
}
