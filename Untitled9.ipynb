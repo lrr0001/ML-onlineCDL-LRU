{
 "cells": [
  {
   "cell_type": "code",
   "execution_count": 4,
   "metadata": {},
   "outputs": [
    {
     "name": "stdout",
     "output_type": "stream",
     "text": [
      "[]\n",
      "0.009906643070280552\n"
     ]
    }
   ],
   "source": [
    "import tensorflow as tf\n",
    "import pickle as pkl\n",
    "\n",
    "fid = open('data/experiment/BSDS500/experiment1/times/ML_LRA_checkpoint_epoch_10.ckpt.pklML_ADMM_rho1_iter32_times.pkl','rb')\n",
    "output = pkl.load(fid)\n",
    "output2 = pkl.load(fid)\n",
    "fid.close()\n",
    "print(output)\n",
    "print(output2)"
   ]
  },
  {
   "cell_type": "code",
   "execution_count": 5,
   "metadata": {},
   "outputs": [
    {
     "name": "stdout",
     "output_type": "stream",
     "text": [
      "[]\n",
      "0.010065815411508083\n"
     ]
    }
   ],
   "source": [
    "fid = open('data/experiment/BSDS500/experiment1/times/ML_LRA_checkpoint_epoch_26.ckpt.pklML_ADMM_rho1_iter32_times.pkl','rb')\n",
    "output = pkl.load(fid)\n",
    "output2 = pkl.load(fid)\n",
    "fid.close()\n",
    "print(output)\n",
    "print(output2)"
   ]
  },
  {
   "cell_type": "code",
   "execution_count": 6,
   "metadata": {},
   "outputs": [
    {
     "name": "stdout",
     "output_type": "stream",
     "text": [
      "[]\n",
      "0.009877257980406284\n"
     ]
    }
   ],
   "source": [
    "fid = open('data/experiment/BSDS500/experiment1/times/ML_LRA_checkpoint_epoch_42.ckpt.pklML_ADMM_rho1_iter32_times.pkl','rb')\n",
    "output = pkl.load(fid)\n",
    "output2 = pkl.load(fid)\n",
    "fid.close()\n",
    "print(output)\n",
    "print(output2)"
   ]
  },
  {
   "cell_type": "code",
   "execution_count": null,
   "metadata": {
    "collapsed": true
   },
   "outputs": [],
   "source": []
  }
 ],
 "metadata": {
  "kernelspec": {
   "display_name": "Python 3",
   "language": "python",
   "name": "python3"
  },
  "language_info": {
   "codemirror_mode": {
    "name": "ipython",
    "version": 3
   },
   "file_extension": ".py",
   "mimetype": "text/x-python",
   "name": "python",
   "nbconvert_exporter": "python",
   "pygments_lexer": "ipython3",
   "version": "3.6.1"
  }
 },
 "nbformat": 4,
 "nbformat_minor": 2
}
