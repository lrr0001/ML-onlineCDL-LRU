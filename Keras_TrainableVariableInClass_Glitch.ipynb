{
 "cells": [
  {
   "cell_type": "code",
   "execution_count": 1,
   "metadata": {
    "collapsed": true
   },
   "outputs": [],
   "source": [
    "import tensorflow as tf\n",
    "\n"
   ]
  },
  {
   "cell_type": "code",
   "execution_count": 2,
   "metadata": {
    "collapsed": true
   },
   "outputs": [],
   "source": [
    "class add_layer(tf.keras.layers.Layer):\n",
    "    def __init__(self,a,*args,**kwargs):\n",
    "        self.a = tf.Variable(initial_value = a,trainable=True)\n",
    "        super().__init__(*args,**kwargs)\n",
    "    def call(self,inputs):\n",
    "        return inputs + a\n",
    "\n",
    "class layer_container:\n",
    "    def __init__(self,a,*args,**kwargs):\n",
    "        self.add = add_layer(a,*args,**kwargs)\n",
    "    def my_add(self,x):\n",
    "        return self.add(x)\n",
    "\n",
    "class multiply_and_add(tf.keras.layers.Layer):\n",
    "    def __init__(self,a,b,*args,**kwargs):\n",
    "        self.b = tf.Variable(initial_value=b,trainable=True)\n",
    "        self.layer_container_object = layer_container(a)\n",
    "        super().__init__(*args,**kwargs)\n",
    "    def call(self,inputs):\n",
    "        return self.layer_container_object.add.a + self.b*inputs"
   ]
  },
  {
   "cell_type": "code",
   "execution_count": 3,
   "metadata": {},
   "outputs": [
    {
     "name": "stdout",
     "output_type": "stream",
     "text": [
      "[<tf.Variable 'Variable:0' shape=() dtype=float32, numpy=2.0>]\n"
     ]
    }
   ],
   "source": [
    "a = 1.\n",
    "b = 2.\n",
    "inputs = tf.keras.Input(shape=(1,))\n",
    "outputs = multiply_and_add(a,b)(inputs)\n",
    "model = tf.keras.Model(inputs,outputs)\n",
    "print(model.trainable_variables)"
   ]
  },
  {
   "cell_type": "code",
   "execution_count": null,
   "metadata": {
    "collapsed": true
   },
   "outputs": [],
   "source": []
  }
 ],
 "metadata": {
  "kernelspec": {
   "display_name": "Python 3",
   "language": "python",
   "name": "python3"
  },
  "language_info": {
   "codemirror_mode": {
    "name": "ipython",
    "version": 3
   },
   "file_extension": ".py",
   "mimetype": "text/x-python",
   "name": "python",
   "nbconvert_exporter": "python",
   "pygments_lexer": "ipython3",
   "version": "3.6.1"
  }
 },
 "nbformat": 4,
 "nbformat_minor": 2
}
