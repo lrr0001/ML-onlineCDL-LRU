{
 "cells": [
  {
   "cell_type": "code",
   "execution_count": 2,
   "metadata": {},
   "outputs": [
    {
     "name": "stdout",
     "output_type": "stream",
     "text": [
      "tf.Tensor(5.134781488891349e-16, shape=(), dtype=float64)\n",
      "tf.Tensor(8.604228440844963e-16, shape=(), dtype=float64)\n",
      "tf.Tensor(7.381248390281314e-16, shape=(), dtype=float64)\n",
      "tf.Tensor(5.195496810550537e-16, shape=(), dtype=float64)\n"
     ]
    }
   ],
   "source": [
    "import tensorflow as tf\n",
    "import jpeg_related_functions as jrf\n",
    "\n",
    "a = tf.random.uniform(shape=(4,5),dtype='float64')\n",
    "\n",
    "x1 = tf.random.uniform(shape=(4,5),dtype='float64')\n",
    "x2 = tf.random.uniform(shape=(4,5),dtype='float64')\n",
    "x3 = tf.random.uniform(shape=(4,5),dtype='float64')\n",
    "x4 = tf.random.uniform(shape=(4,5),dtype='float64')\n",
    "\n",
    "temp1,temp2 = jrf.smoothPair(x1,x2,a)\n",
    "temp3,temp4 = jrf.smoothPair(x3,x4,a)\n",
    "z1,z3 = jrf.smoothPair(temp1,temp3,a)\n",
    "z2,z4 = jrf.smoothPair(temp2,temp4,a)\n",
    "\n",
    "y1,y2,y3,y4 = jrf.smoothFour(z1,z2,z3,z4,a)\n",
    "\n",
    "print(tf.reduce_max(tf.math.abs(y1 - x1 + a*(y1 - y2) + a*(y1 - y3))))\n",
    "print(tf.reduce_max(tf.math.abs(y2 - x2 + a*(y2 - y1) + a*(y2 - y4))))\n",
    "print(tf.reduce_max(tf.math.abs(y3 - x3 + a*(y3 - y1) + a*(y3 - y4))))\n",
    "print(tf.reduce_max(tf.math.abs(y4 - x4 + a*(y4 - y2) + a*(y4 - y3))))"
   ]
  },
  {
   "cell_type": "code",
   "execution_count": null,
   "metadata": {
    "collapsed": true
   },
   "outputs": [],
   "source": []
  }
 ],
 "metadata": {
  "kernelspec": {
   "display_name": "Python 3",
   "language": "python",
   "name": "python3"
  },
  "language_info": {
   "codemirror_mode": {
    "name": "ipython",
    "version": 3
   },
   "file_extension": ".py",
   "mimetype": "text/x-python",
   "name": "python",
   "nbconvert_exporter": "python",
   "pygments_lexer": "ipython3",
   "version": "3.6.1"
  }
 },
 "nbformat": 4,
 "nbformat_minor": 2
}
