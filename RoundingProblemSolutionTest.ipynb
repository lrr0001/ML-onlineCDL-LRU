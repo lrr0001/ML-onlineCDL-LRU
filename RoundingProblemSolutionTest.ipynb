{
 "cells": [
  {
   "cell_type": "code",
   "execution_count": 1,
   "metadata": {
    "collapsed": true
   },
   "outputs": [],
   "source": [
    "import numpy as np\n",
    "import random\n",
    "\n",
    "coef_num = 20\n",
    "residual_num = 20\n",
    "y_num = 50\n",
    "shift_check = 100\n",
    "q = 1e-3\n",
    "\n",
    "a = np.random.rand(coef_num,1,1,1,1)\n",
    "b = np.random.rand(1,coef_num,1,1,1)\n",
    "r = np.random.randn(1,1,residual_num,1,1)\n",
    "y = np.random.randn(1,1,1,y_num,1)\n",
    "\n",
    "shift = q*np.reshape(np.arange(-shift_check,shift_check + 1,1,dtype=np.float64),(1,1,1,1,2*shift_check + 1))/10\n",
    "\n",
    "fx1 = lambda x: a/2*np.square(b/(a + b)*r + x)\n",
    "fx2 = lambda x: b/2*np.square(-a/(a + b)*r + q*np.round((y + x)/q) - y)\n",
    "fx = lambda x: fx1(x) + fx2(x)\n",
    "\n",
    "\n",
    "x1 = -np.sign(r)*np.minimum(b/(a + b)*np.abs(r),np.abs(y - (q*np.round(y/q) - np.sign(r)*0.4999*q)))\n",
    "x2 = (q*np.round(y/q) - np.sign(-a/(a + b)*r + y - q*np.round(y/q))*0.5001*q) - y\n",
    "x3 = -np.sign(r)*np.minimum(b/(a + b)*np.abs(r),np.abs(y - (q*np.round(y/q) + np.sign(r)*1.4999*q)))\n",
    "\n",
    "best_solution = np.minimum(fx(x1),fx(x2))\n",
    "best_solution = np.minimum(best_solution,fx(x3))"
   ]
  },
  {
   "cell_type": "markdown",
   "metadata": {},
   "source": [
    "These assertions show that the choice of x1 reduces the first term of the objective, but does not alter the second objective (this assumes of course that r, a, and b are all nonzero, lest the first objective also remain unchanged)."
   ]
  },
  {
   "cell_type": "code",
   "execution_count": 2,
   "metadata": {
    "collapsed": true
   },
   "outputs": [],
   "source": [
    "assert(np.all(np.abs(fx2(x1) - fx2(0)) < 1e-4))\n",
    "assert(np.all(fx1(0) - fx1(x1) > 0))"
   ]
  },
  {
   "cell_type": "markdown",
   "metadata": {},
   "source": [
    "These assertions verify that the solution is in fact the minimizer."
   ]
  },
  {
   "cell_type": "code",
   "execution_count": 3,
   "metadata": {
    "collapsed": true
   },
   "outputs": [],
   "source": [
    "assert(np.all(np.greater_equal(fx(x1 + shift),best_solution-1e-7)))\n",
    "assert(np.all(np.greater_equal(fx(x2 + shift),best_solution-1e-7)))\n",
    "assert(np.all(np.greater_equal(fx(x3 + shift),best_solution - 1e-7)))"
   ]
  },
  {
   "cell_type": "code",
   "execution_count": null,
   "metadata": {
    "collapsed": true
   },
   "outputs": [],
   "source": []
  },
  {
   "cell_type": "code",
   "execution_count": null,
   "metadata": {
    "collapsed": true
   },
   "outputs": [],
   "source": []
  }
 ],
 "metadata": {
  "kernelspec": {
   "display_name": "Python 3",
   "language": "python",
   "name": "python3"
  },
  "language_info": {
   "codemirror_mode": {
    "name": "ipython",
    "version": 3
   },
   "file_extension": ".py",
   "mimetype": "text/x-python",
   "name": "python",
   "nbconvert_exporter": "python",
   "pygments_lexer": "ipython3",
   "version": "3.6.1"
  }
 },
 "nbformat": 4,
 "nbformat_minor": 2
}
