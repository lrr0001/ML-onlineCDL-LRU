{
 "cells": [
  {
   "cell_type": "code",
   "execution_count": 1,
   "metadata": {
    "collapsed": true
   },
   "outputs": [],
   "source": [
    "import pickle\n",
    "import tensorflow as tf\n",
    "import numpy as np\n",
    "import matrix_decompositions_tf as fctr"
   ]
  },
  {
   "cell_type": "code",
   "execution_count": 2,
   "metadata": {
    "collapsed": true
   },
   "outputs": [],
   "source": [
    "fid = open('iter_1074_weights.pkl','rb')\n",
    "output = pickle.load(fid)\n",
    "fid.close()\n",
    "dictObj = fctr.dictionary_object2D_init(fftSz = output['fftSz'],D = output['D'],rho = output['rho'],objname = 'dictObj1',n_components = output['n_components'])"
   ]
  },
  {
   "cell_type": "code",
   "execution_count": 3,
   "metadata": {},
   "outputs": [
    {
     "data": {
      "text/plain": [
       "<tf.Tensor: shape=(), dtype=float64, numpy=7.29338156769531e-15>"
      ]
     },
     "execution_count": 3,
     "metadata": {},
     "output_type": "execute_result"
    }
   ],
   "source": [
    "tf.reduce_max(tf.math.abs(tf.complex(dictObj.dhmul.Dfreal,dictObj.dhmul.Dfimag) - output['Dfprev']))"
   ]
  },
  {
   "cell_type": "code",
   "execution_count": 4,
   "metadata": {},
   "outputs": [
    {
     "data": {
      "text/plain": [
       "<tf.Tensor: shape=(), dtype=float64, numpy=5.7731597291583e-15>"
      ]
     },
     "execution_count": 4,
     "metadata": {},
     "output_type": "execute_result"
    }
   ],
   "source": [
    "tf.reduce_max(tf.math.abs(dictObj.qinv.L - output['L']))"
   ]
  },
  {
   "cell_type": "code",
   "execution_count": 5,
   "metadata": {},
   "outputs": [
    {
     "name": "stdout",
     "output_type": "stream",
     "text": [
      "tf.Tensor(1.8758866506294804e-13, shape=(), dtype=float64)\n"
     ]
    }
   ],
   "source": [
    "print(output['shift'])"
   ]
  },
  {
   "cell_type": "code",
   "execution_count": 6,
   "metadata": {
    "collapsed": true
   },
   "outputs": [],
   "source": [
    "fid = open('iter_1075_weights.pkl','rb')\n",
    "output2 = pickle.load(fid)\n",
    "fid.close()\n",
    "dictObj2 = fctr.dictionary_object2D_init(fftSz = output2['fftSz'],D = output2['D'],rho = output2['rho'],objname = 'dictObj2',n_components = output2['n_components'])"
   ]
  },
  {
   "cell_type": "code",
   "execution_count": 7,
   "metadata": {},
   "outputs": [
    {
     "data": {
      "text/plain": [
       "<tf.Tensor: shape=(), dtype=float64, numpy=7.30071889589687e-15>"
      ]
     },
     "execution_count": 7,
     "metadata": {},
     "output_type": "execute_result"
    }
   ],
   "source": [
    "tf.reduce_max(tf.math.abs(tf.complex(dictObj2.dhmul.Dfreal,dictObj2.dhmul.Dfimag) - output2['Dfprev']))"
   ]
  },
  {
   "cell_type": "code",
   "execution_count": 8,
   "metadata": {},
   "outputs": [
    {
     "data": {
      "text/plain": [
       "<tf.Tensor: shape=(), dtype=float64, numpy=5.773160419064828e-15>"
      ]
     },
     "execution_count": 8,
     "metadata": {},
     "output_type": "execute_result"
    }
   ],
   "source": [
    "tf.reduce_max(tf.math.abs(dictObj2.qinv.L - output2['L']))"
   ]
  },
  {
   "cell_type": "code",
   "execution_count": 9,
   "metadata": {},
   "outputs": [
    {
     "name": "stdout",
     "output_type": "stream",
     "text": [
      "tf.Tensor(1.7098299666192163e-13, shape=(), dtype=float64)\n"
     ]
    }
   ],
   "source": [
    "print(output2['shift'])"
   ]
  },
  {
   "cell_type": "code",
   "execution_count": 8,
   "metadata": {},
   "outputs": [],
   "source": [
    "dictObj.dhmul.Dfreal = dictObj.dhmul.Dfreal.assign(dictObj2.dhmul.Dfreal)\n",
    "dictObj.dhmul.Dfimag = dictObj.dhmul.Dfimag.assign(dictObj2.dhmul.Dfimag)\n",
    "dictObj._dict_update()\n",
    "y = dictObj.rho*dictObj.constx + dictObj.dhmul(dictObj.dmul(dictObj.constx))\n",
    "z = dictObj.qinv(y)\n",
    "shift = tf.math.abs(dictObj.constx - z)\n"
   ]
  },
  {
   "cell_type": "code",
   "execution_count": 13,
   "metadata": {},
   "outputs": [
    {
     "name": "stdout",
     "output_type": "stream",
     "text": [
      "(5, 43, 22, 64, 1)\n"
     ]
    }
   ],
   "source": [
    "print(shift.shape)"
   ]
  },
  {
   "cell_type": "code",
   "execution_count": 18,
   "metadata": {},
   "outputs": [],
   "source": [
    "best_filter_shift = tf.reduce_min(shift,axis=1)\n",
    "best_filter_shift = tf.reduce_min(best_filter_shift,axis=2)"
   ]
  },
  {
   "cell_type": "code",
   "execution_count": 19,
   "metadata": {},
   "outputs": [
    {
     "data": {
      "text/plain": [
       "<tf.Tensor: shape=(), dtype=float64, numpy=2.193878801300176e-09>"
      ]
     },
     "execution_count": 19,
     "metadata": {},
     "output_type": "execute_result"
    }
   ],
   "source": [
    "tf.reduce_max(best_filter_shift)"
   ]
  },
  {
   "cell_type": "code",
   "execution_count": null,
   "metadata": {
    "collapsed": true
   },
   "outputs": [],
   "source": []
  },
  {
   "cell_type": "code",
   "execution_count": 8,
   "metadata": {},
   "outputs": [],
   "source": [
    "Dfdiff = tf.complex(dictObj2.dhmul.Dfreal,dictObj2.dhmul.Dfimag) - tf.complex(dictObj.dhmul.Dfreal,dictObj.dhmul.Dfimag)"
   ]
  },
  {
   "cell_type": "code",
   "execution_count": 9,
   "metadata": {},
   "outputs": [
    {
     "data": {
      "text/plain": [
       "<tf.Tensor: shape=(), dtype=float64, numpy=6.222527893682096e-06>"
      ]
     },
     "execution_count": 9,
     "metadata": {},
     "output_type": "execute_result"
    }
   ],
   "source": [
    "tf.reduce_max(tf.math.abs(Dfdiff))"
   ]
  },
  {
   "cell_type": "code",
   "execution_count": 16,
   "metadata": {},
   "outputs": [],
   "source": [
    "import transforms as transf\n",
    "U,V,approx = fctr.stack_svd(transf.ifft2d_inner(output['fftSz'])(Dfdiff),5,n_components=output['n_components'])"
   ]
  },
  {
   "cell_type": "code",
   "execution_count": 17,
   "metadata": {},
   "outputs": [
    {
     "data": {
      "text/plain": [
       "<tf.Tensor: shape=(), dtype=float64, numpy=8.04253943257098e-09>"
      ]
     },
     "execution_count": 17,
     "metadata": {},
     "output_type": "execute_result"
    }
   ],
   "source": [
    "tf.reduce_max(tf.math.abs(approx - transf.ifft2d_inner(output['fftSz'])(Dfdiff)))"
   ]
  },
  {
   "cell_type": "code",
   "execution_count": 9,
   "metadata": {},
   "outputs": [
    {
     "name": "stdout",
     "output_type": "stream",
     "text": [
      "<tf.Variable 'dictObj1div_by_R/R:0' shape=(1, 1, 1, 1, 64) dtype=float64, numpy=\n",
      "array([[[[[1.        , 1.        , 1.        , 1.00000005, 1.        ,\n",
      "           1.        , 1.        , 1.        , 1.        , 1.        ,\n",
      "           1.00000006, 0.99999998, 1.        , 1.        , 1.00000008,\n",
      "           1.        , 1.        , 1.        , 1.        , 1.        ,\n",
      "           1.00000007, 1.        , 1.        , 1.        , 1.        ,\n",
      "           1.        , 1.        , 1.        , 1.        , 1.        ,\n",
      "           1.        , 1.        , 1.        , 1.        , 1.        ,\n",
      "           1.        , 1.        , 1.        , 1.        , 1.        ,\n",
      "           1.        , 1.        , 1.        , 1.        , 1.        ,\n",
      "           1.        , 1.        , 1.        , 1.        , 1.00000002,\n",
      "           1.        , 1.00000003, 1.        , 1.        , 1.        ,\n",
      "           1.        , 1.        , 1.        , 1.        , 1.        ,\n",
      "           1.        , 1.        , 1.        , 1.        ]]]]])>\n",
      "<tf.Variable 'dictObj2div_by_R/R:0' shape=(1, 1, 1, 1, 64) dtype=float64, numpy=\n",
      "array([[[[[1., 1., 1., 1., 1., 1., 1., 1., 1., 1., 1., 1., 1., 1., 1.,\n",
      "           1., 1., 1., 1., 1., 1., 1., 1., 1., 1., 1., 1., 1., 1., 1.,\n",
      "           1., 1., 1., 1., 1., 1., 1., 1., 1., 1., 1., 1., 1., 1., 1.,\n",
      "           1., 1., 1., 1., 1., 1., 1., 1., 1., 1., 1., 1., 1., 1., 1.,\n",
      "           1., 1., 1., 1.]]]]])>\n"
     ]
    }
   ],
   "source": [
    "print(dictObj.divide_by_R.R)\n",
    "print(dictObj2.divide_by_R.R)"
   ]
  },
  {
   "cell_type": "code",
   "execution_count": null,
   "metadata": {
    "collapsed": true
   },
   "outputs": [],
   "source": []
  }
 ],
 "metadata": {
  "kernelspec": {
   "display_name": "Python 3",
   "language": "python",
   "name": "python3"
  },
  "language_info": {
   "codemirror_mode": {
    "name": "ipython",
    "version": 3
   },
   "file_extension": ".py",
   "mimetype": "text/x-python",
   "name": "python",
   "nbconvert_exporter": "python",
   "pygments_lexer": "ipython3",
   "version": "3.6.1"
  }
 },
 "nbformat": 4,
 "nbformat_minor": 2
}
