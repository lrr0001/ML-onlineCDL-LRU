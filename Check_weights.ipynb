{
 "cells": [
  {
   "cell_type": "code",
   "execution_count": 1,
   "metadata": {
    "collapsed": true
   },
   "outputs": [],
   "source": [
    "import pickle\n",
    "import tensorflow as tf\n",
    "import numpy as np\n",
    "import matrix_decompositions_tf as fctr"
   ]
  },
  {
   "cell_type": "code",
   "execution_count": 3,
   "metadata": {},
   "outputs": [],
   "source": [
    "fid = open('iter_2_weights.pkl','rb')\n",
    "output = pickle.load(fid)\n",
    "fid.close()\n",
    "dictObj = fctr.dictionary_object2D_init(fftSz = output['fftSz'],D = output['D'],rho = output['rho'],objname = 'dictObj1',n_components = output['n_components'])"
   ]
  },
  {
   "cell_type": "code",
   "execution_count": 4,
   "metadata": {},
   "outputs": [
    {
     "data": {
      "text/plain": [
       "<tf.Tensor: shape=(), dtype=float64, numpy=6.708414106516358e-15>"
      ]
     },
     "execution_count": 4,
     "metadata": {},
     "output_type": "execute_result"
    }
   ],
   "source": [
    "tf.reduce_max(tf.math.abs(tf.complex(dictObj.dhmul.Dfreal,dictObj.dhmul.Dfimag) - output['Dfprev']))"
   ]
  },
  {
   "cell_type": "code",
   "execution_count": 5,
   "metadata": {},
   "outputs": [
    {
     "data": {
      "text/plain": [
       "<tf.Tensor: shape=(), dtype=float64, numpy=5.995206116204792e-15>"
      ]
     },
     "execution_count": 5,
     "metadata": {},
     "output_type": "execute_result"
    }
   ],
   "source": [
    "tf.reduce_max(tf.math.abs(dictObj.qinv.L - output['L']))"
   ]
  },
  {
   "cell_type": "code",
   "execution_count": 6,
   "metadata": {},
   "outputs": [
    {
     "name": "stdout",
     "output_type": "stream",
     "text": [
      "tf.Tensor(1.9065862296939058e-13, shape=(), dtype=float64)\n"
     ]
    }
   ],
   "source": [
    "print(output['shift'])"
   ]
  },
  {
   "cell_type": "code",
   "execution_count": 7,
   "metadata": {
    "collapsed": true
   },
   "outputs": [],
   "source": [
    "fid = open('iter_3_weights.pkl','rb')\n",
    "output2 = pickle.load(fid)\n",
    "fid.close()\n",
    "dictObj2 = fctr.dictionary_object2D_init(fftSz = output2['fftSz'],D = output2['D'],rho = output2['rho'],objname = 'dictObj2',n_components = output2['n_components'])"
   ]
  },
  {
   "cell_type": "code",
   "execution_count": 8,
   "metadata": {},
   "outputs": [
    {
     "data": {
      "text/plain": [
       "<tf.Tensor: shape=(), dtype=float64, numpy=6.7030864401088325e-15>"
      ]
     },
     "execution_count": 8,
     "metadata": {},
     "output_type": "execute_result"
    }
   ],
   "source": [
    "tf.reduce_max(tf.math.abs(tf.complex(dictObj2.dhmul.Dfreal,dictObj2.dhmul.Dfimag) - output2['Dfprev']))"
   ]
  },
  {
   "cell_type": "code",
   "execution_count": 9,
   "metadata": {},
   "outputs": [
    {
     "data": {
      "text/plain": [
       "<tf.Tensor: shape=(), dtype=float64, numpy=5.995207174922142e-15>"
      ]
     },
     "execution_count": 9,
     "metadata": {},
     "output_type": "execute_result"
    }
   ],
   "source": [
    "tf.reduce_max(tf.math.abs(dictObj2.qinv.L - output2['L']))"
   ]
  },
  {
   "cell_type": "code",
   "execution_count": 10,
   "metadata": {},
   "outputs": [
    {
     "name": "stdout",
     "output_type": "stream",
     "text": [
      "tf.Tensor(1.8812616950290428e-13, shape=(), dtype=float64)\n"
     ]
    }
   ],
   "source": [
    "print(output2['shift'])"
   ]
  },
  {
   "cell_type": "code",
   "execution_count": 12,
   "metadata": {},
   "outputs": [
    {
     "name": "stdout",
     "output_type": "stream",
     "text": [
      "tf.Tensor(1.7763568394002505e-13, shape=(), dtype=float64)\n"
     ]
    }
   ],
   "source": [
    "dictObj.dhmul.Dfreal = dictObj.dhmul.Dfreal.assign(dictObj2.dhmul.Dfreal)\n",
    "dictObj.dhmul.Dfimag = dictObj.dhmul.Dfimag.assign(dictObj2.dhmul.Dfimag)\n",
    "dictObj._dict_update()\n",
    "print(dictObj.shift_test())"
   ]
  },
  {
   "cell_type": "code",
   "execution_count": null,
   "metadata": {
    "collapsed": true
   },
   "outputs": [],
   "source": []
  }
 ],
 "metadata": {
  "kernelspec": {
   "display_name": "Python 3",
   "language": "python",
   "name": "python3"
  },
  "language_info": {
   "codemirror_mode": {
    "name": "ipython",
    "version": 3
   },
   "file_extension": ".py",
   "mimetype": "text/x-python",
   "name": "python",
   "nbconvert_exporter": "python",
   "pygments_lexer": "ipython3",
   "version": "3.6.1"
  }
 },
 "nbformat": 4,
 "nbformat_minor": 2
}
