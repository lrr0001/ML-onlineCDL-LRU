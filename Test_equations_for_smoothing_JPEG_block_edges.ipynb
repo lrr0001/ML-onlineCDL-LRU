{
 "cells": [
  {
   "cell_type": "code",
   "execution_count": 1,
   "metadata": {
    "collapsed": true
   },
   "outputs": [],
   "source": [
    "a = 3.0\n",
    "b = 2.0\n",
    "x1 = 3.0\n",
    "x2 = 4.0\n",
    "x3 = 2.0\n",
    "x4 = 3.0"
   ]
  },
  {
   "cell_type": "markdown",
   "metadata": {},
   "source": [
    "Commented out lines use inverse to solve for z using x. Executed lines work \"in place\", relying on z for earlier indices, but x for current and future indices. This is more memory efficient, but allows less parallel computation."
   ]
  },
  {
   "cell_type": "code",
   "execution_count": 2,
   "metadata": {
    "collapsed": true
   },
   "outputs": [],
   "source": [
    "z1 = 1./(a + 4*b)*((a**2 + 4*a*b + 2*b**2)/(a + 2*b)*x1 + b*x2 + b*x3 + 2*b**2/(a + 2*b)*x4)\n",
    "#z2 = 1./(a + 4*b)*((a**2 + 4*a*b + 2*b**2)/(a + 2*b)*x2 + b*x1 + b*x4 + 2*b**2/(a + 2*b)*x3)\n",
    "z2 = 1./(a**3 + 6*a**2*b + 10*a*b**2 + 4*b**3)*(b*(a+2*b)**2*z1 + a*(a + b)*(a + 3*b)*x2 +a*b**2*x3 + a*b*(a + 2*b)*x4)\n",
    "#z3 = 1./(a + 4*b)*((a**2 + 4*a*b + 2*b**2)/(a + 2*b)*x3 + b*x1 + b*x4 + 2*b**2/(a + 2*b)*x2)\n",
    "z3= 1./((a + b)*(a + 3*b))*(b*(a + 2*b)*z1 + b**2*z2 + a*(a + 2*b)*x3 + a*b*x4)\n",
    "#z4 = 1./(a + 4*b)*((a**2 + 4*a*b + 2*b**2)/(a + 2*b)*x4 + b*x2 + b*x3 + 2*b**2/(a + 2*b)*x1)\n",
    "z4 = 1./(a + 2*b)*(b*z2 + b*z3 + a*x4)"
   ]
  },
  {
   "cell_type": "markdown",
   "metadata": {},
   "source": [
    "Same formulas, but pulling from jpeg_related_functions."
   ]
  },
  {
   "cell_type": "code",
   "execution_count": 3,
   "metadata": {
    "collapsed": true
   },
   "outputs": [],
   "source": [
    "import jpeg_related_functions as jrf\n",
    "fun_obj = jrf.I_dont_know_what_to_call_this(a,b)\n",
    "z1 = fun_obj.get_TL(x1,x2,x3,x4)\n",
    "z2 = fun_obj.get_TR(z1,x2,x3,x4)\n",
    "z3 = fun_obj.get_BL(z1,z2,x3,x4)\n",
    "z4 = fun_obj.get_BR(z1,z2,z3,x4)"
   ]
  },
  {
   "cell_type": "markdown",
   "metadata": {},
   "source": [
    "All these expressions should be zero, if the above solution is correct."
   ]
  },
  {
   "cell_type": "code",
   "execution_count": 4,
   "metadata": {},
   "outputs": [
    {
     "name": "stdout",
     "output_type": "stream",
     "text": [
      "0.0\n",
      "0.0\n",
      "0.0\n",
      "0.0\n"
     ]
    }
   ],
   "source": [
    "print((a + 2*b)*z1 - a*x1 - b*z2 - b*z3)\n",
    "print((a + 2*b)*z2 - a*x2 - b*z1 - b*z4)\n",
    "print((a + 2*b)*z3 - a*x3 - b*z1 - b*z4)\n",
    "print((a + 2*b)*z4 - a*x4 - b*z2 - b*z3)"
   ]
  },
  {
   "cell_type": "code",
   "execution_count": 5,
   "metadata": {
    "collapsed": true
   },
   "outputs": [],
   "source": [
    "z1 = ((a + b)*x1 + b*x2)/(a + 2*b)\n",
    "z2 = (b*z1 + a*x2)/(a + b)\n",
    "#z2 = (b*x1 + (a + b)*x2)/(a + 2*b)"
   ]
  },
  {
   "cell_type": "code",
   "execution_count": 6,
   "metadata": {},
   "outputs": [
    {
     "name": "stdout",
     "output_type": "stream",
     "text": [
      "0.0\n",
      "-1.7763568394002505e-15\n"
     ]
    }
   ],
   "source": [
    "print((a + b)*z1 -b*z2 - a*x1)\n",
    "print(-b*z1 + (a + b)*z2 - a*x2)"
   ]
  },
  {
   "cell_type": "code",
   "execution_count": 7,
   "metadata": {},
   "outputs": [
    {
     "name": "stdout",
     "output_type": "stream",
     "text": [
      "tf.Tensor(\n",
      "[[0. 0. 0. 0. 0. 0. 0. 0. 0. 0. 0. 0.]\n",
      " [0. 0. 0. 0. 0. 0. 0. 0. 0. 0. 0. 0.]\n",
      " [0. 0. 0. 0. 0. 0. 0. 0. 0. 0. 0. 0.]\n",
      " [0. 0. 0. 0. 0. 0. 0. 0. 0. 0. 0. 0.]\n",
      " [0. 0. 0. 0. 0. 0. 0. 0. 0. 0. 0. 0.]\n",
      " [0. 0. 0. 0. 0. 0. 0. 0. 0. 0. 0. 0.]\n",
      " [0. 0. 0. 0. 0. 0. 0. 0. 0. 0. 0. 0.]\n",
      " [0. 0. 0. 0. 0. 0. 0. 0. 0. 0. 0. 0.]\n",
      " [0. 0. 0. 0. 0. 0. 0. 0. 0. 0. 0. 0.]\n",
      " [0. 0. 0. 0. 0. 0. 0. 0. 0. 0. 0. 0.]\n",
      " [0. 0. 0. 0. 0. 0. 0. 0. 0. 0. 0. 0.]\n",
      " [0. 0. 0. 0. 0. 0. 0. 0. 0. 0. 0. 0.]], shape=(12, 12), dtype=float32)\n"
     ]
    }
   ],
   "source": [
    "import tensorflow as tf\n",
    "x = tf.zeros((12,12),dtype='float32')\n",
    "print(x)"
   ]
  },
  {
   "cell_type": "code",
   "execution_count": 8,
   "metadata": {},
   "outputs": [
    {
     "ename": "TypeError",
     "evalue": "'tensorflow.python.framework.ops.EagerTensor' object does not support item assignment",
     "output_type": "error",
     "traceback": [
      "\u001b[0;31m---------------------------------------------------------------------------\u001b[0m",
      "\u001b[0;31mTypeError\u001b[0m                                 Traceback (most recent call last)",
      "\u001b[0;32m<ipython-input-8-4dfd52738312>\u001b[0m in \u001b[0;36m<module>\u001b[0;34m()\u001b[0m\n\u001b[0;32m----> 1\u001b[0;31m \u001b[0mx\u001b[0m\u001b[0;34m[\u001b[0m\u001b[0mslice\u001b[0m\u001b[0;34m(\u001b[0m\u001b[0;36m0\u001b[0m\u001b[0;34m,\u001b[0m\u001b[0;36m12\u001b[0m\u001b[0;34m,\u001b[0m\u001b[0;36m4\u001b[0m\u001b[0;34m)\u001b[0m\u001b[0;34m,\u001b[0m\u001b[0mslice\u001b[0m\u001b[0;34m(\u001b[0m\u001b[0;36m0\u001b[0m\u001b[0;34m,\u001b[0m\u001b[0;36m12\u001b[0m\u001b[0;34m,\u001b[0m\u001b[0;36m2\u001b[0m\u001b[0;34m)\u001b[0m\u001b[0;34m]\u001b[0m \u001b[0;34m=\u001b[0m \u001b[0;36m1.\u001b[0m\u001b[0;34m\u001b[0m\u001b[0m\n\u001b[0m\u001b[1;32m      2\u001b[0m \u001b[0mprint\u001b[0m\u001b[0;34m(\u001b[0m\u001b[0mx\u001b[0m\u001b[0;34m)\u001b[0m\u001b[0;34m\u001b[0m\u001b[0m\n",
      "\u001b[0;31mTypeError\u001b[0m: 'tensorflow.python.framework.ops.EagerTensor' object does not support item assignment"
     ]
    }
   ],
   "source": [
    "x[slice(0,12,4),slice(0,12,2)] = 1.\n",
    "print(x)"
   ]
  },
  {
   "cell_type": "code",
   "execution_count": null,
   "metadata": {
    "collapsed": true
   },
   "outputs": [],
   "source": []
  }
 ],
 "metadata": {
  "kernelspec": {
   "display_name": "Python 3",
   "language": "python",
   "name": "python3"
  },
  "language_info": {
   "codemirror_mode": {
    "name": "ipython",
    "version": 3
   },
   "file_extension": ".py",
   "mimetype": "text/x-python",
   "name": "python",
   "nbconvert_exporter": "python",
   "pygments_lexer": "ipython3",
   "version": "3.6.1"
  }
 },
 "nbformat": 4,
 "nbformat_minor": 2
}
