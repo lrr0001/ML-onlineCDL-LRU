{
 "cells": [
  {
   "cell_type": "code",
   "execution_count": 1,
   "metadata": {
    "collapsed": true
   },
   "outputs": [],
   "source": [
    "import tensorflow as tf\n",
    "import jpeg_related_functions as jrf\n",
    "import pickle as pkl\n",
    "import jpeg_arch_test3 as jat\n"
   ]
  },
  {
   "cell_type": "code",
   "execution_count": 2,
   "metadata": {
    "collapsed": true
   },
   "outputs": [],
   "source": [
    "# Set parameters\n",
    "jpeg_quality = 20\n",
    "rho = 1.\n",
    "alpha = 1.5\n",
    "noi = 2\n",
    "lmbda = 0.001\n",
    "dtype = 'float64'\n",
    "\n",
    "# Obtain quantization matrices from chosen quality factor\n",
    "import PIL\n",
    "import PIL.Image\n",
    "import numpy as np\n",
    "randImgPath = 'data/scratchwork/example/randImg.jpeg'\n",
    "randimg = np.random.randint(0,256,size=(32,32,3))\n",
    "encoded_jpeg = tf.image.encode_jpeg(randimg,quality = jpeg_quality)\n",
    "tf.io.write_file(randImgPath,encoded_jpeg)\n",
    "loadedRandImg = PIL.Image.open(randImgPath)\n",
    "qY = np.asarray(loadedRandImg.quantization[0]).astype('uint8')\n",
    "qUV = np.asarray(loadedRandImg.quantization[1]).astype('uint8')\n",
    "qY = qY.astype(dtype)/255.\n",
    "qUV = qUV.astype(dtype)/255.\n",
    "import os\n",
    "os.remove(randImgPath)\n",
    "\n",
    "# setup smoothing layer\n",
    "fftSz = (320,480)\n",
    "smooth_jpeg = jat.Smooth_JPEG_Layer(rho,alpha,noi,qY,qUV,np.asarray(lmbda).astype('complex128'),fftSz,dtype=dtype)\n",
    "# Loop through images\n",
    "dataPath = 'data/original/TestA/'\n",
    "datatype = 'train/'\n",
    "filelist = os.listdir(dataPath + datatype)\n",
    "imgs = []\n",
    "for filename in filelist:\n",
    "    loadedImg = PIL.Image.open(dataPath + datatype + filename)\n",
    "    loadedImg = np.asarray(loadedImg).astype(dtype)/255.\n",
    "    loadedImgShape = loadedImg.shape\n",
    "    loadedImg = loadedImg[slice(0,loadedImgShape[0] - (loadedImgShape[0] % 8)),slice(0,loadedImgShape[1] - (loadedImgShape[1] % 8)),slice(None)]\n",
    "    imgs.append(loadedImg)\n"
   ]
  },
  {
   "cell_type": "code",
   "execution_count": 3,
   "metadata": {},
   "outputs": [
    {
     "name": "stdout",
     "output_type": "stream",
     "text": [
      "Epoch 1/3\n",
      "6/6 [==============================] - 24s 4s/step - loss: 0.0020\n",
      "Epoch 2/3\n",
      "6/6 [==============================] - 24s 4s/step - loss: 0.0018\n",
      "Epoch 3/3\n",
      "6/6 [==============================] - 25s 4s/step - loss: 0.0018\n"
     ]
    },
    {
     "data": {
      "text/plain": [
       "<tensorflow.python.keras.callbacks.History at 0x7f33a80a19b0>"
      ]
     },
     "execution_count": 3,
     "metadata": {},
     "output_type": "execute_result"
    }
   ],
   "source": [
    "def double(x):\n",
    "    return (x,x)\n",
    "dataset = tf.data.Dataset.from_tensor_slices(imgs)\n",
    "dataset_with_output = dataset.map(double)\n",
    "dataset_batch = dataset_with_output.batch(2)\n",
    "\n",
    "inputs = tf.keras.layers.Input((320,480,3))\n",
    "outputs,negC = smooth_jpeg(inputs)\n",
    "model=tf.keras.Model(inputs,outputs)\n",
    "model.compile(optimizer = tf.keras.optimizers.Adam(0.1),loss = tf.keras.losses.MSE)\n",
    "model.fit(x=dataset_batch,epochs=3)\n"
   ]
  },
  {
   "cell_type": "code",
   "execution_count": 4,
   "metadata": {},
   "outputs": [
    {
     "name": "stdout",
     "output_type": "stream",
     "text": [
      "WARNING:tensorflow:From /home/lrr/anaconda3/lib/python3.6/site-packages/tensorflow/python/training/tracking/tracking.py:111: Model.state_updates (from tensorflow.python.keras.engine.training) is deprecated and will be removed in a future version.\n",
      "Instructions for updating:\n",
      "This property should not be used in TensorFlow 2.0, as updates are applied automatically.\n",
      "WARNING:tensorflow:From /home/lrr/anaconda3/lib/python3.6/site-packages/tensorflow/python/training/tracking/tracking.py:111: Layer.updates (from tensorflow.python.keras.engine.base_layer) is deprecated and will be removed in a future version.\n",
      "Instructions for updating:\n",
      "This property should not be used in TensorFlow 2.0, as updates are applied automatically.\n",
      "INFO:tensorflow:Assets written to: saveModelTest.pb/assets\n"
     ]
    }
   ],
   "source": [
    "model.save('saveModelTest.pb')"
   ]
  },
  {
   "cell_type": "code",
   "execution_count": 4,
   "metadata": {},
   "outputs": [
    {
     "name": "stdout",
     "output_type": "stream",
     "text": [
      "tf.Tensor((0.001+0j), shape=(), dtype=complex128)\n"
     ]
    }
   ],
   "source": [
    "print(smooth_jpeg.xupdate.lmbda)"
   ]
  },
  {
   "cell_type": "code",
   "execution_count": 4,
   "metadata": {},
   "outputs": [
    {
     "name": "stdout",
     "output_type": "stream",
     "text": [
      "[<tf.Variable 'Variable:0' shape=() dtype=float64, numpy=0.001>]\n"
     ]
    }
   ],
   "source": [
    "print(model.trainable_variables)"
   ]
  },
  {
   "cell_type": "code",
   "execution_count": null,
   "metadata": {
    "collapsed": true
   },
   "outputs": [],
   "source": []
  }
 ],
 "metadata": {
  "kernelspec": {
   "display_name": "Python 3",
   "language": "python",
   "name": "python3"
  },
  "language_info": {
   "codemirror_mode": {
    "name": "ipython",
    "version": 3
   },
   "file_extension": ".py",
   "mimetype": "text/x-python",
   "name": "python",
   "nbconvert_exporter": "python",
   "pygments_lexer": "ipython3",
   "version": "3.6.1"
  }
 },
 "nbformat": 4,
 "nbformat_minor": 2
}
